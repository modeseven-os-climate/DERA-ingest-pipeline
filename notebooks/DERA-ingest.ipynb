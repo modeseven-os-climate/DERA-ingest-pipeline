{
 "cells": [
  {
   "cell_type": "markdown",
   "id": "6abf0869-f139-411a-9b34-51945c12cade",
   "metadata": {},
   "source": [
    "# Ingest SEC DERA data into Trino pipeline\n",
    "\n",
    "Copyright (C) 2021 OS-Climate\n",
    "\n",
    "Permission is hereby granted, free of charge, to any person obtaining a copy of this software and associated documentation files (the \"Software\"), to deal in the Software without restriction, including without limitation the rights to use, copy, modify, merge, publish, distribute, sublicense, and/or sell copies of the Software, and to permit persons to whom the Software is furnished to do so, subject to the following conditions:\n",
    "\n",
    "The above copyright notice and this permission notice shall be included in all copies or substantial portions of the Software.\n",
    "\n",
    "THE SOFTWARE IS PROVIDED \"AS IS\", WITHOUT WARRANTY OF ANY KIND, EXPRESS OR IMPLIED, INCLUDING BUT NOT LIMITED TO THE WARRANTIES OF MERCHANTABILITY, FITNESS FOR A PARTICULAR PURPOSE AND NONINFRINGEMENT. IN NO EVENT SHALL THE AUTHORS OR COPYRIGHT HOLDERS BE LIABLE FOR ANY CLAIM, DAMAGES OR OTHER LIABILITY, WHETHER IN AN ACTION OF CONTRACT, TORT OR OTHERWISE, ARISING FROM, OUT OF OR IN CONNECTION WITH THE SOFTWARE OR THE USE OR OTHER DEALINGS IN THE SOFTWARE.\n",
    "\n",
    "Contributed by Michael Tiemann (Github: MichaelTiemannOSC)"
   ]
  },
  {
   "cell_type": "raw",
   "id": "76b85dac-b2d6-4277-b899-3a2413d12804",
   "metadata": {},
   "source": [
    "%%capture pipoutput\n",
    "%pip install boto3 python-dotenv\n",
    "%pip install --upgrade sqlalchemy==1.3 sqlalchemy-trino\n",
    "%pip install pandas pyarrow fastparquet\n",
    "%pip install anytree\n",
    "%pip install osc-ingest-tools"
   ]
  },
  {
   "cell_type": "code",
   "execution_count": null,
   "id": "789567ff-268c-45e8-8f6f-e768ba62f327",
   "metadata": {},
   "outputs": [],
   "source": [
    "from dotenv import dotenv_values, load_dotenv\n",
    "from osc_ingest_trino import *\n",
    "import os\n",
    "import pathlib\n",
    "import pandas as pd\n",
    "import uuid\n",
    "import trino\n",
    "from sqlalchemy.engine import create_engine"
   ]
  },
  {
   "cell_type": "markdown",
   "id": "f7692120-2f4f-48be-9847-0f78a3359bc1",
   "metadata": {},
   "source": [
    "Load Environment Variables"
   ]
  },
  {
   "cell_type": "code",
   "execution_count": null,
   "id": "a2ba14b4-0746-4ce6-9c0f-ff680221bdc9",
   "metadata": {},
   "outputs": [],
   "source": [
    "dotenv_dir = os.environ.get('CREDENTIAL_DOTENV_DIR', os.environ.get('PWD', '/opt/app-root/src'))\n",
    "dotenv_path = pathlib.Path(dotenv_dir) / 'credentials.env'\n",
    "if os.path.exists(dotenv_path):\n",
    "    load_dotenv(dotenv_path=dotenv_path,override=True)"
   ]
  },
  {
   "cell_type": "code",
   "execution_count": null,
   "id": "e84fa84b-d4c0-4dd6-99da-2cab1641ac57",
   "metadata": {},
   "outputs": [],
   "source": [
    "import boto3\n",
    "\n",
    "s3_resource = boto3.resource(\n",
    "    service_name=\"s3\",\n",
    "    endpoint_url=os.environ['S3_LANDING_ENDPOINT'],\n",
    "    aws_access_key_id=os.environ['S3_LANDING_ACCESS_KEY'],\n",
    "    aws_secret_access_key=os.environ['S3_LANDING_SECRET_KEY'],\n",
    ")"
   ]
  },
  {
   "cell_type": "code",
   "execution_count": null,
   "id": "5da3310c-218e-47b1-b12b-8d2c4fb3fdf1",
   "metadata": {},
   "outputs": [],
   "source": [
    "s3 = boto3.resource(\n",
    "    service_name=\"s3\",\n",
    "    endpoint_url=os.environ[\"S3_DEV_ENDPOINT\"],\n",
    "    aws_access_key_id=os.environ[\"S3_DEV_ACCESS_KEY\"],\n",
    "    aws_secret_access_key=os.environ[\"S3_DEV_SECRET_KEY\"],\n",
    ")\n",
    "bucket = s3.Bucket(os.environ[\"S3_DEV_BUCKET\"])\n",
    "bucket.name"
   ]
  },
  {
   "cell_type": "markdown",
   "id": "3b94102c-8c8e-450a-b95e-ea5a368fe09f",
   "metadata": {},
   "source": [
    "Create custom meta data and declare variable for schema and table for the data set"
   ]
  },
  {
   "cell_type": "code",
   "execution_count": null,
   "id": "d0dc3dea-79c1-4ed6-a21a-b89032981fcd",
   "metadata": {},
   "outputs": [],
   "source": [
    "sub_meta_content = {\n",
    "    'dataset_key': 'SEC-DERA-SUB',\n",
    "    'title': 'SEC DERA Submission Dataset',\n",
    "    'description': \n",
    "    '''The DERA Financial Statement Data Sets provide numeric information from the face financials of all financial statements.\n",
    "    \n",
    "    This data is extracted from exhibits to corporate financial reports filed with the Commission using eXtensible Business Reporting Language (XBRL).  As compared to the more extensive Financial Statement and Notes Data Sets, which provide the numeric and narrative disclosures from all financial statements and their notes, the Financial Statement Data Sets are more compact.''',\n",
    "    'version': '2020q4',\n",
    "    'release_date': '20201231',\n",
    "    'fields': [\n",
    "    {\n",
    "        'adsh':'Accession Number. The 20-character string formed from the 18-digit number assigned by the SEC to each EDGAR submission.',\n",
    "        'cik':'Central Index Key (CIK). Ten digit number assigned by the SEC to each registrant that submits filings.',\n",
    "        'name':'Name of registrant. This corresponds to the name of the legal entity as recorded in EDGAR as of the filing date.',\n",
    "        'sic':'Standard Industrial Classification (SIC). Four digit code assigned by the SEC as of the filing date, indicating the registrant’s type of business.',\n",
    "        'countryba':'The ISO 3166-1 country of the registrant’s business address.',\n",
    "        'stprba':'The state or province of the registrant’s business address, if field countryba is US or CA.',\n",
    "        'cityba':'The city of the registrant’s business address.',\n",
    "        'zipba':'The zip code of the registrant’s business address.',\n",
    "        'bas1':'The first line of the street of the registrant’s business address.',\n",
    "        'bas2':'The second line of the street of the registrant’s business address.',\n",
    "        'baph':'The phone number of the registrant’s business address.',\n",
    "        'countryma':'The ISO 3166-1 country of the registrant’s mailing address.',\n",
    "        'stprma':'The state or province of the registrant’s mailing address, if field countryma is US or CA.',\n",
    "        'cityma':'The city of the registrant’s mailing address.',\n",
    "        'zipma':'The zip code of the registrant’s mailing address.',\n",
    "        'mas1':'The first line of the street of the registrant’s mailing address.',\n",
    "        'mas2':'The second line of the street of the registrant’s mailing address.',\n",
    "        'countryinc':'The country of incorporation for the registrant.',\n",
    "        'stprinc':'The state or province of incorporation for the registrant, if countryinc is US or CA.',\n",
    "        'ein':'Employee Identification Number, 9 digit identification number assigned by the Internal Revenue Service to business entities operating in the United States.',\n",
    "        'former':'Most recent former name of the registrant, if any.',\n",
    "        'changed':'Date of change from the former name, if any.',\n",
    "        'afs':'Filer status with the SEC at the time of submission:\\n\\\n",
    "1-LAF=Large Accelerated,\\n\\\n",
    "2-ACC=Accelerated,\\n\\\n",
    "3-SRA=Smaller Reporting Accelerated,\\n\\\n",
    "4-NON=Non-Accelerated,\\n\\\n",
    "5-SML=Smaller Reporting Filer,\\n\\\n",
    "NULL=not assigned.',\n",
    "        'wksi':'Well Known Seasoned Issuer (WKSI). An issuer that meets specific SEC requirements at some point during a 60-day period preceding the date the issuer satisfies its obligation to update its shelf registration statement.',\n",
    "        'fye':'Fiscal Year End Date, rounded to nearest month-end.',\n",
    "        'form':'The submission type of the registrant’s filing.',\n",
    "        'period':'Balance Sheet Date, rounded to nearest month-end.',\n",
    "        'fy':'Fiscal Year Focus (as defined in EFM Ch. 6).',\n",
    "        'fp':'Fiscal Period Focus (as defined in EFM Ch. 6) within Fiscal Year. The 10-Q for the 1st, 2nd and 3rd quarters would have a fiscal period focus of Q1, Q2 (or H1), and Q3 (or M9) respectively, and a 10-K would have a fiscal period focus of FY.',\n",
    "        'filed':'The date of the registrant’s filing with the Commission.',\n",
    "        'accepted':'The acceptance date and time of the registrant’s filing with the Commission. Filings accepted after 5:30pm EST are considered filed on the following business day.',\n",
    "        'prevrpt':'Previous Report –TRUE indicates that the submission information was subsequently amended.',\n",
    "        'detail':'TRUE indicates that the XBRL submission contains quantitative disclosures within the footnotes and schedules at the required detail level (e.g., each amount).',\n",
    "        'instance':'The name of the submitted XBRL Instance Document (EX-101.INS) type data file. The name often begins with the company ticker symbol.',\n",
    "        'nciks':'Number of Central Index Keys (CIK) of registrants (i.e., business units) included in the consolidating entity’s submitted filing.',\n",
    "        'aciks':'Additional CIKs of co-registrants included in  a consolidating entity’s EDGAR submission, separated by spaces. If there are no other co-registrants (i.e., nciks=1), the value of aciks is NULL.  For a very small number of filers, the list of co-registrants is too long to fit in the field.  Where this is the case, PARTIAL will appear at the end of the list indicating that not all co-registrants’ CIKs are included in the field; users should refer to the complete submission file for all CIK information.'\n",
    "    }]\n",
    "}\n",
    "num_meta_content = {\n",
    "    'dataset_key': 'SEC-DERA-NUM',\n",
    "    'title': 'SEC DERA Number Dataset',\n",
    "    'description': \n",
    "    '''The DERA Financial Statement Data Sets provide numeric information from the face financials of all financial statements.\n",
    "    \n",
    "    This data is extracted from exhibits to corporate financial reports filed with the Commission using eXtensible Business Reporting Language (XBRL).  As compared to the more extensive Financial Statement and Notes Data Sets, which provide the numeric and narrative disclosures from all financial statements and their notes, the Financial Statement Data Sets are more compact.''',\n",
    "    'version': '2020q4',\n",
    "    'release_date': '20201231',\n",
    "    'fields': [\n",
    "    {\n",
    "        'adsh':'Accession Number. The 20-character string formed from the 18-digit number assigned by the SEC to each EDGAR submission.',\n",
    "        'tag':'The unique identifier (name) for a tag in a specific taxonomy release.',\n",
    "        'version':'For a standard tag, an identifier for the taxonomy; otherwise the accession number where the tag was defined.',\n",
    "        'coreg':'If specified, indicates a specific co-registrant, the parent company, or other entity (e.g., guarantor). NULL indicates the consolidated entity.',\n",
    "        'ddate':'The end date for the data value, rounded to the nearest month end.',\n",
    "        'qtrs':'The count of the number of quarters represented by the data value, rounded to the nearest whole number. “0” indicates it is a point-in-time value.',\n",
    "        'uom':'The unit of measure for the value.',\n",
    "        'value':'The value. This is not scaled, it is as found in the Interactive Data file, but is limited to four digits to the right of the decimal point.',\n",
    "        'footnote':'The text of any superscripted footnotes on the value, as shown on the statement page, truncated to 512 characters, or if there is no footnote, then this field will be blank.'\n",
    "    }]\n",
    "}\n",
    "schemaname = 'sec_dera'"
   ]
  },
  {
   "cell_type": "markdown",
   "id": "f80c9a40-2fdb-40c0-9dd5-7e7bf53db3da",
   "metadata": {},
   "source": [
    "Convert custom metadata content in json format into Pandas DataFrame"
   ]
  },
  {
   "cell_type": "code",
   "execution_count": null,
   "id": "fcf5ef1b-05d4-4319-9b6e-073816e2dde1",
   "metadata": {},
   "outputs": [],
   "source": [
    "df_meta_fields = pd.json_normalize(sub_meta_content, record_path =['fields'], meta=['dataset_key']).convert_dtypes()\n",
    "df_meta_fields"
   ]
  },
  {
   "cell_type": "code",
   "execution_count": null,
   "id": "7f89670f-677f-4a2c-a258-259c671ea99c",
   "metadata": {},
   "outputs": [],
   "source": [
    "df_meta_fields.info(verbose=True)"
   ]
  },
  {
   "cell_type": "code",
   "execution_count": null,
   "id": "6fdf1950-cd9c-4b61-b4d2-12a8d8fe4ace",
   "metadata": {},
   "outputs": [],
   "source": [
    "df_meta_table = pd.json_normalize(sub_meta_content, max_level=0)\n",
    "df_meta_table.drop('fields', inplace=True, axis=1)\n",
    "df_meta_table['schema'] = schemaname\n",
    "df_meta_table = df_meta_table.convert_dtypes()\n",
    "df_meta_table"
   ]
  },
  {
   "cell_type": "code",
   "execution_count": null,
   "id": "d1da3217-69e2-45cf-bc89-07898eee4ff0",
   "metadata": {},
   "outputs": [],
   "source": [
    "df_meta_table.info(verbose=True)"
   ]
  },
  {
   "cell_type": "markdown",
   "id": "15efe080-b4eb-4713-8fd0-7f1d2e1fd966",
   "metadata": {},
   "source": [
    "Open a Trino connection using JWT for authentication"
   ]
  },
  {
   "cell_type": "code",
   "execution_count": null,
   "id": "790b5e63-8d67-4314-844c-ae42266070b3",
   "metadata": {},
   "outputs": [],
   "source": [
    "sqlstring = 'trino://{user}@{host}:{port}/'.format(\n",
    "    user = os.environ['TRINO_USER'],\n",
    "    host = os.environ['TRINO_HOST'],\n",
    "    port = os.environ['TRINO_PORT']\n",
    ")\n",
    "sqlargs = {\n",
    "    'auth': trino.auth.JWTAuthentication(os.environ['TRINO_PASSWD']),\n",
    "    'http_scheme': 'https'\n",
    "}\n",
    "engine = create_engine(sqlstring, connect_args = sqlargs)\n",
    "print(\"connecting with engine \" + str(engine))\n",
    "connection = engine.connect()"
   ]
  },
  {
   "cell_type": "code",
   "execution_count": null,
   "id": "bb96687d-74a7-46d8-9944-b63fddf11bd1",
   "metadata": {},
   "outputs": [],
   "source": [
    "catalogname = 'osc_datacommons_dev'\n",
    "\n",
    "# Show available schemas to ensure trino connection is set correctly\n",
    "schema_read = engine.execute(f'show schemas in {catalogname}')\n",
    "for row in schema_read.fetchall():\n",
    "    print(row)"
   ]
  },
  {
   "cell_type": "markdown",
   "id": "2c0e2635-ac17-4dda-bc41-a5a18c61c44d",
   "metadata": {},
   "source": [
    "Create ingestion schema based on source data name and remove old tables if necessary"
   ]
  },
  {
   "cell_type": "code",
   "execution_count": null,
   "id": "4aa21228-ec3d-4506-820a-bb071b56fc07",
   "metadata": {},
   "outputs": [],
   "source": [
    "schema_check = engine.execute(f'create schema if not exists {catalogname}.{schemaname}')\n",
    "for row in schema_check.fetchall():\n",
    "    print(row)"
   ]
  },
  {
   "cell_type": "code",
   "execution_count": null,
   "id": "6cbfcb2e-e07b-4b44-8868-1d1fde967bd7",
   "metadata": {
    "tags": []
   },
   "outputs": [],
   "source": [
    "engine.execute(f'show tables in {catalogname}.{schemaname}').fetchall()"
   ]
  },
  {
   "cell_type": "markdown",
   "id": "0fd9374b-114d-42e8-8eaa-14f67426b141",
   "metadata": {},
   "source": [
    "Prepare GLEIF matching data"
   ]
  },
  {
   "cell_type": "code",
   "execution_count": null,
   "id": "6e8fae7f-ac39-4b37-9c82-4971c1daf649",
   "metadata": {},
   "outputs": [],
   "source": [
    "gleif_file = s3_resource.Object(os.environ['S3_LANDING_BUCKET'],f'mtiemann-GLEIF/DERA-matches.csv')\n",
    "gleif_file.download_file(f'/tmp/dera-gleif.csv')\n",
    "gleif_df = pd.read_csv(f'/tmp/dera-gleif.csv', header=0, sep=',', dtype=str, engine='c')\n",
    "gleif_dict = { k:v for k, v in zip(gleif_df.name, gleif_df.LEI) }"
   ]
  },
  {
   "cell_type": "markdown",
   "id": "902df315-a8f2-43e3-9d1c-f1bdddeae1a9",
   "metadata": {},
   "source": [
    "Load the SUB and NUM tables into Trino"
   ]
  },
  {
   "cell_type": "code",
   "execution_count": null,
   "id": "408dc1fb-9249-465d-98b1-5280c4e3ecf0",
   "metadata": {},
   "outputs": [],
   "source": [
    "import re\n",
    "import io\n",
    "\n",
    "# Add a unique identifier to the data set\n",
    "uid = str(uuid.uuid4())\n",
    "\n",
    "dera_regex = re.compile(r' ?/.*$')\n",
    "\n",
    "for tablename in [ 'sub', 'num' ]:\n",
    "    src_file = s3_resource.Object(os.environ['S3_LANDING_BUCKET'],f'SEC-DERA/2020q4/{tablename}.txt')\n",
    "    timestamp = src_file.last_modified.isoformat()\n",
    "    src_file.download_file(f'/tmp/dera-{tablename}-{timestamp}.csv')\n",
    "    df = pd.read_csv(f'/tmp/dera-{tablename}-{timestamp}.csv', header=0, sep='\\t', dtype=str, nrows = 10, engine='c')\n",
    "\n",
    "    df['uuid'] = uid\n",
    "    # Print the output\n",
    "    \n",
    "    if tablename=='sub':\n",
    "        df.name = df.name.map(lambda x: re.sub(dera_regex, '', x))\n",
    "        df['LEI'] = df.name.map(gleif_dict)\n",
    "        df.cik = df.cik.astype('int32')\n",
    "        df.sic = df.sic.astype('int32')\n",
    "        df.ein = df.ein.astype('int64')\n",
    "        # df.wksi = df.wksi.astype('bool')\n",
    "        df.wksi = df.wksi.astype('int32')\n",
    "        df.period = pd.to_datetime(df.period, format='%Y%m%d')\n",
    "        df.fy = pd.to_datetime(df.fy, format='%Y')\n",
    "        df.filed = pd.to_datetime(df.filed, format='%Y%m%d')\n",
    "        df.accepted = pd.to_datetime(df.accepted, format='%Y-%m-%d %H:%M:%S')\n",
    "        # df.prevrpt = df.prevrpt.astype('bool')\n",
    "        # df.detail = df.detail.astype('bool')\n",
    "        df.prevrpt = df.prevrpt.astype('int32')\n",
    "        df.detail = df.detail.astype('int32')\n",
    "        df.nciks = df.nciks.astype('int32')\n",
    "        \n",
    "        cols = df.columns.tolist()\n",
    "        cols = cols[0:3] + [cols[-1]] + cols[3:-1]\n",
    "        df = df[cols]\n",
    "    elif tablename=='num':\n",
    "        # documentation wrongly lists coreg as NUMERIC length 256.  It is ALPHANUMERIC.\n",
    "        df.ddate = pd.to_datetime(df.ddate, format='%Y%m%d')\n",
    "        df.qtrs = df.qtrs.astype('int32')\n",
    "        df.value = df.value.astype('float64')\n",
    "    print(df.dtypes)\n",
    "    display(df.head())\n",
    "\n",
    "    buf = io.BytesIO()\n",
    "    df.to_parquet(path=buf)\n",
    "    buf.seek(0)\n",
    "    bucket.upload_fileobj(Fileobj=buf,\n",
    "                          Key=f'trino/{schemaname}/{tablename}/data.parquet')\n",
    "\n",
    "    table_check = engine.execute(f'drop table if exists {catalogname}.{schemaname}.{tablename}')\n",
    "    for row in table_check.fetchall():\n",
    "        print(row)\n",
    "\n",
    "    schema = create_table_schema_pairs(df)\n",
    "    tabledef = f\"\"\"\n",
    "    create table if not exists {catalogname}.{schemaname}.{tablename} (\n",
    "    {schema}\n",
    "    ) with (\n",
    "        format = 'parquet',\n",
    "        external_location = 's3a://{bucket.name}/trino/{schemaname}/{tablename}/'\n",
    "    )\n",
    "    \"\"\"\n",
    "    print(tabledef)\n",
    "\n",
    "    table_create = engine.execute(tabledef)\n",
    "    for row in table_create.fetchall():\n",
    "        print(row)\n",
    "\n",
    "    dataset_query = ('SELECT * FROM {cname}.{sname}.{tname} limit 10').format(cname=catalogname,sname=schemaname,tname=tablename)\n",
    "    print(dataset_query)\n",
    "    dataset = engine.execute(dataset_query)\n",
    "    for row in dataset.fetchall():\n",
    "        print(row)"
   ]
  },
  {
   "cell_type": "code",
   "execution_count": null,
   "id": "cb72450a-11ed-403a-a43a-496571347529",
   "metadata": {},
   "outputs": [],
   "source": []
  },
  {
   "cell_type": "code",
   "execution_count": null,
   "id": "1375a547-4e34-484b-8ff4-b40416be315b",
   "metadata": {},
   "outputs": [],
   "source": []
  }
 ],
 "metadata": {
  "kernelspec": {
   "display_name": "Python 3",
   "language": "python",
   "name": "python3"
  },
  "language_info": {
   "codemirror_mode": {
    "name": "ipython",
    "version": 3
   },
   "file_extension": ".py",
   "mimetype": "text/x-python",
   "name": "python",
   "nbconvert_exporter": "python",
   "pygments_lexer": "ipython3",
   "version": "3.8.3"
  }
 },
 "nbformat": 4,
 "nbformat_minor": 5
}
