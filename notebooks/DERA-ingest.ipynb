{
 "cells": [
  {
   "cell_type": "markdown",
   "id": "6abf0869-f139-411a-9b34-51945c12cade",
   "metadata": {},
   "source": [
    "# Ingest SEC DERA data into Trino pipeline\n",
    "\n",
    "Copyright (C) 2021 OS-Climate\n",
    "\n",
    "This sample shows:\n",
    "* How to create schemas and tables via the Trino / SQLAlchemy on an underlying Iceberg data volume\n",
    "* Apache Iceberg ACID transaction and time travel capabilities used for data set versioning\n",
    "\n",
    "\n",
    "Permission is hereby granted, free of charge, to any person obtaining a copy of this software and associated documentation files (the \"Software\"), to deal in the Software without restriction, including without limitation the rights to use, copy, modify, merge, publish, distribute, sublicense, and/or sell copies of the Software, and to permit persons to whom the Software is furnished to do so, subject to the following conditions:\n",
    "\n",
    "The above copyright notice and this permission notice shall be included in all copies or substantial portions of the Software.\n",
    "\n",
    "THE SOFTWARE IS PROVIDED \"AS IS\", WITHOUT WARRANTY OF ANY KIND, EXPRESS OR IMPLIED, INCLUDING BUT NOT LIMITED TO THE WARRANTIES OF MERCHANTABILITY, FITNESS FOR A PARTICULAR PURPOSE AND NONINFRINGEMENT. IN NO EVENT SHALL THE AUTHORS OR COPYRIGHT HOLDERS BE LIABLE FOR ANY CLAIM, DAMAGES OR OTHER LIABILITY, WHETHER IN AN ACTION OF CONTRACT, TORT OR OTHERWISE, ARISING FROM, OUT OF OR IN CONNECTION WITH THE SOFTWARE OR THE USE OR OTHER DEALINGS IN THE SOFTWARE.\n",
    "\n",
    "Contributed by Michael Tiemann (Github: MichaelTiemannOSC)"
   ]
  },
  {
   "cell_type": "code",
   "execution_count": 2,
   "id": "d6875d86-4d96-4344-8051-76cad8b5aed0",
   "metadata": {},
   "outputs": [],
   "source": [
    "%%capture pipoutput\n",
    "%pip install boto3 python-dotenv\n",
    "%pip install --upgrade sqlalchemy==1.3 sqlalchemy-trino\n",
    "%pip install pandas pyarrow fastparquet\n",
    "%pip install anytree\n",
    "%pip install osc-ingest-tools"
   ]
  },
  {
   "cell_type": "code",
   "execution_count": 3,
   "id": "789567ff-268c-45e8-8f6f-e768ba62f327",
   "metadata": {},
   "outputs": [],
   "source": [
    "from dotenv import dotenv_values, load_dotenv\n",
    "from osc_ingest_trino import *\n",
    "import os\n",
    "import pathlib\n",
    "import pandas as pd\n",
    "import uuid\n",
    "import trino\n",
    "from sqlalchemy.engine import create_engine"
   ]
  },
  {
   "cell_type": "markdown",
   "id": "f7692120-2f4f-48be-9847-0f78a3359bc1",
   "metadata": {},
   "source": [
    "Load Environment Variables"
   ]
  },
  {
   "cell_type": "code",
   "execution_count": 18,
   "id": "a2ba14b4-0746-4ce6-9c0f-ff680221bdc9",
   "metadata": {},
   "outputs": [],
   "source": [
    "dotenv_dir = os.environ.get('CREDENTIAL_DOTENV_DIR', os.environ.get('PWD', '/opt/app-root/src'))\n",
    "dotenv_path = pathlib.Path(dotenv_dir) / 'credentials.env'\n",
    "if os.path.exists(dotenv_path):\n",
    "    load_dotenv(dotenv_path=dotenv_path,override=True)"
   ]
  },
  {
   "cell_type": "code",
   "execution_count": 19,
   "id": "e84fa84b-d4c0-4dd6-99da-2cab1641ac57",
   "metadata": {},
   "outputs": [],
   "source": [
    "import boto3\n",
    "\n",
    "s3_resource = boto3.resource(\n",
    "    service_name=\"s3\",\n",
    "    endpoint_url=os.environ['S3_LANDING_ENDPOINT'],\n",
    "    aws_access_key_id=os.environ['S3_LANDING_ACCESS_KEY'],\n",
    "    aws_secret_access_key=os.environ['S3_LANDING_SECRET_KEY'],\n",
    ")"
   ]
  },
  {
   "cell_type": "markdown",
   "id": "9cb78b98-863c-4626-adab-8c5d9dd6b094",
   "metadata": {},
   "source": [
    "Create a simple data frame for testing"
   ]
  },
  {
   "cell_type": "code",
   "execution_count": 23,
   "id": "c97d2fb6-75b5-488b-b4ac-8c2186517c16",
   "metadata": {},
   "outputs": [
    {
     "data": {
      "text/html": [
       "<div>\n",
       "<style scoped>\n",
       "    .dataframe tbody tr th:only-of-type {\n",
       "        vertical-align: middle;\n",
       "    }\n",
       "\n",
       "    .dataframe tbody tr th {\n",
       "        vertical-align: top;\n",
       "    }\n",
       "\n",
       "    .dataframe thead th {\n",
       "        text-align: right;\n",
       "    }\n",
       "</style>\n",
       "<table border=\"1\" class=\"dataframe\">\n",
       "  <thead>\n",
       "    <tr style=\"text-align: right;\">\n",
       "      <th></th>\n",
       "      <th>adsh</th>\n",
       "      <th>cik</th>\n",
       "      <th>name</th>\n",
       "      <th>sic</th>\n",
       "      <th>countryba</th>\n",
       "      <th>stprba</th>\n",
       "      <th>cityba</th>\n",
       "      <th>zipba</th>\n",
       "      <th>bas1</th>\n",
       "      <th>bas2</th>\n",
       "      <th>...</th>\n",
       "      <th>period</th>\n",
       "      <th>fy</th>\n",
       "      <th>fp</th>\n",
       "      <th>filed</th>\n",
       "      <th>accepted</th>\n",
       "      <th>prevrpt</th>\n",
       "      <th>detail</th>\n",
       "      <th>instance</th>\n",
       "      <th>nciks</th>\n",
       "      <th>aciks</th>\n",
       "    </tr>\n",
       "  </thead>\n",
       "  <tbody>\n",
       "    <tr>\n",
       "      <th>0</th>\n",
       "      <td>0000010254-20-000105</td>\n",
       "      <td>10254</td>\n",
       "      <td>EARTHSTONE ENERGY INC</td>\n",
       "      <td>1311</td>\n",
       "      <td>US</td>\n",
       "      <td>TX</td>\n",
       "      <td>THE WOODLANDS</td>\n",
       "      <td>77380</td>\n",
       "      <td>1400 WOODLOCH FOREST DRIVE</td>\n",
       "      <td>SUITE 300</td>\n",
       "      <td>...</td>\n",
       "      <td>20200930</td>\n",
       "      <td>NaN</td>\n",
       "      <td>NaN</td>\n",
       "      <td>20201001</td>\n",
       "      <td>2020-10-01 16:05:00.0</td>\n",
       "      <td>0</td>\n",
       "      <td>0</td>\n",
       "      <td>form8-kxbbredeterminat_htm.xml</td>\n",
       "      <td>1</td>\n",
       "      <td>NaN</td>\n",
       "    </tr>\n",
       "    <tr>\n",
       "      <th>1</th>\n",
       "      <td>0000016918-20-000236</td>\n",
       "      <td>16918</td>\n",
       "      <td>CONSTELLATION BRANDS, INC.</td>\n",
       "      <td>2080</td>\n",
       "      <td>US</td>\n",
       "      <td>NY</td>\n",
       "      <td>VICTOR</td>\n",
       "      <td>14564</td>\n",
       "      <td>207 HIGH POINT DRIVE</td>\n",
       "      <td>BUILDING 100</td>\n",
       "      <td>...</td>\n",
       "      <td>20200930</td>\n",
       "      <td>NaN</td>\n",
       "      <td>NaN</td>\n",
       "      <td>20201001</td>\n",
       "      <td>2020-10-01 08:04:00.0</td>\n",
       "      <td>0</td>\n",
       "      <td>0</td>\n",
       "      <td>stz-20200930_htm.xml</td>\n",
       "      <td>1</td>\n",
       "      <td>NaN</td>\n",
       "    </tr>\n",
       "    <tr>\n",
       "      <th>2</th>\n",
       "      <td>0000016918-20-000237</td>\n",
       "      <td>16918</td>\n",
       "      <td>CONSTELLATION BRANDS, INC.</td>\n",
       "      <td>2080</td>\n",
       "      <td>US</td>\n",
       "      <td>NY</td>\n",
       "      <td>VICTOR</td>\n",
       "      <td>14564</td>\n",
       "      <td>207 HIGH POINT DRIVE</td>\n",
       "      <td>BUILDING 100</td>\n",
       "      <td>...</td>\n",
       "      <td>20200831</td>\n",
       "      <td>2021.0</td>\n",
       "      <td>Q2</td>\n",
       "      <td>20201001</td>\n",
       "      <td>2020-10-01 14:33:00.0</td>\n",
       "      <td>0</td>\n",
       "      <td>1</td>\n",
       "      <td>stz-20200831_htm.xml</td>\n",
       "      <td>1</td>\n",
       "      <td>NaN</td>\n",
       "    </tr>\n",
       "    <tr>\n",
       "      <th>3</th>\n",
       "      <td>0000022444-20-000035</td>\n",
       "      <td>22444</td>\n",
       "      <td>COMMERCIAL METALS CO</td>\n",
       "      <td>3312</td>\n",
       "      <td>US</td>\n",
       "      <td>TX</td>\n",
       "      <td>IRVING</td>\n",
       "      <td>75039</td>\n",
       "      <td>6565 N. MACARTHUR BLVD., SUITE 800</td>\n",
       "      <td>P O BOX 1046</td>\n",
       "      <td>...</td>\n",
       "      <td>20200930</td>\n",
       "      <td>NaN</td>\n",
       "      <td>NaN</td>\n",
       "      <td>20201001</td>\n",
       "      <td>2020-10-01 09:45:00.0</td>\n",
       "      <td>0</td>\n",
       "      <td>0</td>\n",
       "      <td>cmc-20201001_htm.xml</td>\n",
       "      <td>1</td>\n",
       "      <td>NaN</td>\n",
       "    </tr>\n",
       "    <tr>\n",
       "      <th>4</th>\n",
       "      <td>0000034088-20-000081</td>\n",
       "      <td>34088</td>\n",
       "      <td>EXXON MOBIL CORP</td>\n",
       "      <td>2911</td>\n",
       "      <td>US</td>\n",
       "      <td>TX</td>\n",
       "      <td>IRVING</td>\n",
       "      <td>75039-2298</td>\n",
       "      <td>5959 LAS COLINAS BLVD</td>\n",
       "      <td>NaN</td>\n",
       "      <td>...</td>\n",
       "      <td>20200930</td>\n",
       "      <td>NaN</td>\n",
       "      <td>NaN</td>\n",
       "      <td>20201001</td>\n",
       "      <td>2020-10-01 07:02:00.0</td>\n",
       "      <td>0</td>\n",
       "      <td>0</td>\n",
       "      <td>r8k100120_htm.xml</td>\n",
       "      <td>1</td>\n",
       "      <td>NaN</td>\n",
       "    </tr>\n",
       "    <tr>\n",
       "      <th>...</th>\n",
       "      <td>...</td>\n",
       "      <td>...</td>\n",
       "      <td>...</td>\n",
       "      <td>...</td>\n",
       "      <td>...</td>\n",
       "      <td>...</td>\n",
       "      <td>...</td>\n",
       "      <td>...</td>\n",
       "      <td>...</td>\n",
       "      <td>...</td>\n",
       "      <td>...</td>\n",
       "      <td>...</td>\n",
       "      <td>...</td>\n",
       "      <td>...</td>\n",
       "      <td>...</td>\n",
       "      <td>...</td>\n",
       "      <td>...</td>\n",
       "      <td>...</td>\n",
       "      <td>...</td>\n",
       "      <td>...</td>\n",
       "      <td>...</td>\n",
       "    </tr>\n",
       "    <tr>\n",
       "      <th>95</th>\n",
       "      <td>0001193125-20-260523</td>\n",
       "      <td>811532</td>\n",
       "      <td>CEDAR FAIR L P</td>\n",
       "      <td>7990</td>\n",
       "      <td>US</td>\n",
       "      <td>OH</td>\n",
       "      <td>SANDUSKY</td>\n",
       "      <td>44870</td>\n",
       "      <td>ONE CEDAR POINT DRIVE</td>\n",
       "      <td>NaN</td>\n",
       "      <td>...</td>\n",
       "      <td>20200930</td>\n",
       "      <td>NaN</td>\n",
       "      <td>NaN</td>\n",
       "      <td>20201001</td>\n",
       "      <td>2020-10-01 07:52:00.0</td>\n",
       "      <td>0</td>\n",
       "      <td>0</td>\n",
       "      <td>d69635d8k_htm.xml</td>\n",
       "      <td>1</td>\n",
       "      <td>NaN</td>\n",
       "    </tr>\n",
       "    <tr>\n",
       "      <th>96</th>\n",
       "      <td>0001193125-20-260538</td>\n",
       "      <td>700564</td>\n",
       "      <td>FULTON FINANCIAL CORP</td>\n",
       "      <td>6021</td>\n",
       "      <td>US</td>\n",
       "      <td>PA</td>\n",
       "      <td>LANCASTER</td>\n",
       "      <td>17604</td>\n",
       "      <td>ONE PENN SQ</td>\n",
       "      <td>PO BOX 4887</td>\n",
       "      <td>...</td>\n",
       "      <td>20200930</td>\n",
       "      <td>NaN</td>\n",
       "      <td>NaN</td>\n",
       "      <td>20201001</td>\n",
       "      <td>2020-10-01 08:01:00.0</td>\n",
       "      <td>0</td>\n",
       "      <td>0</td>\n",
       "      <td>d22517d8k_htm.xml</td>\n",
       "      <td>1</td>\n",
       "      <td>NaN</td>\n",
       "    </tr>\n",
       "    <tr>\n",
       "      <th>97</th>\n",
       "      <td>0001193125-20-260540</td>\n",
       "      <td>816956</td>\n",
       "      <td>CONMED CORP</td>\n",
       "      <td>3845</td>\n",
       "      <td>US</td>\n",
       "      <td>NY</td>\n",
       "      <td>UTICA</td>\n",
       "      <td>13502</td>\n",
       "      <td>525 FRENCH ROAD</td>\n",
       "      <td>NaN</td>\n",
       "      <td>...</td>\n",
       "      <td>20200930</td>\n",
       "      <td>NaN</td>\n",
       "      <td>NaN</td>\n",
       "      <td>20201001</td>\n",
       "      <td>2020-10-01 08:01:00.0</td>\n",
       "      <td>0</td>\n",
       "      <td>0</td>\n",
       "      <td>d934719d8k_htm.xml</td>\n",
       "      <td>1</td>\n",
       "      <td>NaN</td>\n",
       "    </tr>\n",
       "    <tr>\n",
       "      <th>98</th>\n",
       "      <td>0001193125-20-260541</td>\n",
       "      <td>1158172</td>\n",
       "      <td>COMSCORE, INC.</td>\n",
       "      <td>7389</td>\n",
       "      <td>US</td>\n",
       "      <td>VA</td>\n",
       "      <td>RESTON</td>\n",
       "      <td>20190</td>\n",
       "      <td>11950 DEMOCRACY DRIVE</td>\n",
       "      <td>SUITE 600</td>\n",
       "      <td>...</td>\n",
       "      <td>20200930</td>\n",
       "      <td>NaN</td>\n",
       "      <td>NaN</td>\n",
       "      <td>20201001</td>\n",
       "      <td>2020-10-01 08:01:00.0</td>\n",
       "      <td>0</td>\n",
       "      <td>0</td>\n",
       "      <td>d153918d8k_htm.xml</td>\n",
       "      <td>1</td>\n",
       "      <td>NaN</td>\n",
       "    </tr>\n",
       "    <tr>\n",
       "      <th>99</th>\n",
       "      <td>0001193125-20-260543</td>\n",
       "      <td>1631574</td>\n",
       "      <td>WAVE LIFE SCIENCES LTD.</td>\n",
       "      <td>2834</td>\n",
       "      <td>SG</td>\n",
       "      <td>NaN</td>\n",
       "      <td>SINGAPORE</td>\n",
       "      <td>018936</td>\n",
       "      <td>7 STRAITS VIEW</td>\n",
       "      <td>#12-00, MARINA ONE EAST TOWER</td>\n",
       "      <td>...</td>\n",
       "      <td>20200930</td>\n",
       "      <td>NaN</td>\n",
       "      <td>NaN</td>\n",
       "      <td>20201001</td>\n",
       "      <td>2020-10-01 08:02:00.0</td>\n",
       "      <td>0</td>\n",
       "      <td>0</td>\n",
       "      <td>d153983d8k_htm.xml</td>\n",
       "      <td>1</td>\n",
       "      <td>NaN</td>\n",
       "    </tr>\n",
       "  </tbody>\n",
       "</table>\n",
       "<p>100 rows × 36 columns</p>\n",
       "</div>"
      ],
      "text/plain": [
       "                    adsh      cik                        name   sic countryba  \\\n",
       "0   0000010254-20-000105    10254       EARTHSTONE ENERGY INC  1311        US   \n",
       "1   0000016918-20-000236    16918  CONSTELLATION BRANDS, INC.  2080        US   \n",
       "2   0000016918-20-000237    16918  CONSTELLATION BRANDS, INC.  2080        US   \n",
       "3   0000022444-20-000035    22444        COMMERCIAL METALS CO  3312        US   \n",
       "4   0000034088-20-000081    34088            EXXON MOBIL CORP  2911        US   \n",
       "..                   ...      ...                         ...   ...       ...   \n",
       "95  0001193125-20-260523   811532              CEDAR FAIR L P  7990        US   \n",
       "96  0001193125-20-260538   700564       FULTON FINANCIAL CORP  6021        US   \n",
       "97  0001193125-20-260540   816956                 CONMED CORP  3845        US   \n",
       "98  0001193125-20-260541  1158172              COMSCORE, INC.  7389        US   \n",
       "99  0001193125-20-260543  1631574     WAVE LIFE SCIENCES LTD.  2834        SG   \n",
       "\n",
       "   stprba         cityba       zipba                                bas1  \\\n",
       "0      TX  THE WOODLANDS       77380          1400 WOODLOCH FOREST DRIVE   \n",
       "1      NY         VICTOR       14564                207 HIGH POINT DRIVE   \n",
       "2      NY         VICTOR       14564                207 HIGH POINT DRIVE   \n",
       "3      TX         IRVING       75039  6565 N. MACARTHUR BLVD., SUITE 800   \n",
       "4      TX         IRVING  75039-2298               5959 LAS COLINAS BLVD   \n",
       "..    ...            ...         ...                                 ...   \n",
       "95     OH       SANDUSKY       44870               ONE CEDAR POINT DRIVE   \n",
       "96     PA      LANCASTER       17604                         ONE PENN SQ   \n",
       "97     NY          UTICA       13502                     525 FRENCH ROAD   \n",
       "98     VA         RESTON       20190               11950 DEMOCRACY DRIVE   \n",
       "99    NaN      SINGAPORE      018936                      7 STRAITS VIEW   \n",
       "\n",
       "                             bas2  ...    period      fy   fp     filed  \\\n",
       "0                       SUITE 300  ...  20200930     NaN  NaN  20201001   \n",
       "1                    BUILDING 100  ...  20200930     NaN  NaN  20201001   \n",
       "2                    BUILDING 100  ...  20200831  2021.0   Q2  20201001   \n",
       "3                    P O BOX 1046  ...  20200930     NaN  NaN  20201001   \n",
       "4                             NaN  ...  20200930     NaN  NaN  20201001   \n",
       "..                            ...  ...       ...     ...  ...       ...   \n",
       "95                            NaN  ...  20200930     NaN  NaN  20201001   \n",
       "96                    PO BOX 4887  ...  20200930     NaN  NaN  20201001   \n",
       "97                            NaN  ...  20200930     NaN  NaN  20201001   \n",
       "98                      SUITE 600  ...  20200930     NaN  NaN  20201001   \n",
       "99  #12-00, MARINA ONE EAST TOWER  ...  20200930     NaN  NaN  20201001   \n",
       "\n",
       "                 accepted prevrpt detail                        instance  \\\n",
       "0   2020-10-01 16:05:00.0       0      0  form8-kxbbredeterminat_htm.xml   \n",
       "1   2020-10-01 08:04:00.0       0      0            stz-20200930_htm.xml   \n",
       "2   2020-10-01 14:33:00.0       0      1            stz-20200831_htm.xml   \n",
       "3   2020-10-01 09:45:00.0       0      0            cmc-20201001_htm.xml   \n",
       "4   2020-10-01 07:02:00.0       0      0               r8k100120_htm.xml   \n",
       "..                    ...     ...    ...                             ...   \n",
       "95  2020-10-01 07:52:00.0       0      0               d69635d8k_htm.xml   \n",
       "96  2020-10-01 08:01:00.0       0      0               d22517d8k_htm.xml   \n",
       "97  2020-10-01 08:01:00.0       0      0              d934719d8k_htm.xml   \n",
       "98  2020-10-01 08:01:00.0       0      0              d153918d8k_htm.xml   \n",
       "99  2020-10-01 08:02:00.0       0      0              d153983d8k_htm.xml   \n",
       "\n",
       "   nciks  aciks  \n",
       "0      1    NaN  \n",
       "1      1    NaN  \n",
       "2      1    NaN  \n",
       "3      1    NaN  \n",
       "4      1    NaN  \n",
       "..   ...    ...  \n",
       "95     1    NaN  \n",
       "96     1    NaN  \n",
       "97     1    NaN  \n",
       "98     1    NaN  \n",
       "99     1    NaN  \n",
       "\n",
       "[100 rows x 36 columns]"
      ]
     },
     "execution_count": 23,
     "metadata": {},
     "output_type": "execute_result"
    }
   ],
   "source": [
    "import io\n",
    "\n",
    "buffer = io.BytesIO()\n",
    "sub_file = s3_resource.Object(os.environ['S3_LANDING_BUCKET'],'SEC-DERA/2020q4/sub.txt')\n",
    "sub_file.download_fileobj(buffer)\n",
    "buffer.seek(0)\n",
    "df = pd.read_csv(buffer, header=0, sep='\\t', nrows=100, engine='c')\n",
    "df"
   ]
  },
  {
   "cell_type": "markdown",
   "id": "3b94102c-8c8e-450a-b95e-ea5a368fe09f",
   "metadata": {},
   "source": [
    "Create custom meta data and declare variable for schema and table for the data set"
   ]
  },
  {
   "cell_type": "code",
   "execution_count": 24,
   "id": "cb738ec4-a29c-411a-aaa4-bed1afd9955d",
   "metadata": {},
   "outputs": [
    {
     "data": {
      "text/plain": [
       "Index(['adsh', 'cik', 'name', 'sic', 'countryba', 'stprba', 'cityba', 'zipba',\n",
       "       'bas1', 'bas2', 'baph', 'countryma', 'stprma', 'cityma', 'zipma',\n",
       "       'mas1', 'mas2', 'countryinc', 'stprinc', 'ein', 'former', 'changed',\n",
       "       'afs', 'wksi', 'fye', 'form', 'period', 'fy', 'fp', 'filed', 'accepted',\n",
       "       'prevrpt', 'detail', 'instance', 'nciks', 'aciks'],\n",
       "      dtype='object')"
      ]
     },
     "execution_count": 24,
     "metadata": {},
     "output_type": "execute_result"
    }
   ],
   "source": [
    "df.columns"
   ]
  },
  {
   "cell_type": "code",
   "execution_count": 27,
   "id": "d0dc3dea-79c1-4ed6-a21a-b89032981fcd",
   "metadata": {},
   "outputs": [],
   "source": [
    "custom_meta_content = {\n",
    "    'dataset_key': 'SEC-DERA',\n",
    "    'title': 'SEC DERA Disclosures',\n",
    "    'description': \n",
    "    '''The DERA Financial Statement Data Sets provide numeric information from the face financials of all financial statements.\n",
    "    \n",
    "    This data is extracted from exhibits to corporate financial reports filed with the Commission using eXtensible Business Reporting Language (XBRL).  As compared to the more extensive Financial Statement and Notes Data Sets, which provide the numeric and narrative disclosures from all financial statements and their notes, the Financial Statement Data Sets are more compact.''',\n",
    "    'version': '2020q4',\n",
    "    'release_date': '20201231',\n",
    "    'fields': [\n",
    "    {\n",
    "        'adsh':'Accession Number. The 20-character string formed from the 18-digit number assigned by the SEC to each EDGAR submission.',\n",
    "        'cik':'Central Index Key (CIK). Ten digit number assigned by the SEC to each registrant that submits filings.',\n",
    "        'name':'Name of registrant. This corresponds to the name of the legal entity as recorded in EDGAR as of the filing date.',\n",
    "        'sic':'Standard Industrial Classification (SIC). Four digit code assigned by the SEC as of the filing date, indicating the registrant’s type of business.',\n",
    "        'countryba':'The ISO 3166-1 country of the registrant’s business address.',\n",
    "        'stprba':'The state or province of the registrant’s business address, if field countryba is US or CA.',\n",
    "        'cityba':'The city of the registrant’s business address.',\n",
    "        'zipba':'The zip code of the registrant’s business address.',\n",
    "        'bas1':'The first line of the street of the registrant’s business address.',\n",
    "        'bas2':'The second line of the street of the registrant’s business address.',\n",
    "        'baph':'The phone number of the registrant’s business address.',\n",
    "        'countryma':'The ISO 3166-1 country of the registrant’s mailing address.',\n",
    "        'stprma':'The state or province of the registrant’s mailing address, if field countryma is US or CA.',\n",
    "        'cityma':'The city of the registrant’s mailing address.',\n",
    "        'zipma':'The zip code of the registrant’s mailing address.',\n",
    "        'mas1':'The first line of the street of the registrant’s mailing address.',\n",
    "        'mas2':'The second line of the street of the registrant’s mailing address.',\n",
    "        'countryinc':'The country of incorporation for the registrant.',\n",
    "        'stprinc':'The state or province of incorporation for the registrant, if countryinc is US or CA.',\n",
    "        'ein':'Employee Identification Number, 9 digit identification number assigned by the Internal Revenue Service to business entities operating in the United States.',\n",
    "        'former':'Most recent former name of the registrant, if any.',\n",
    "        'changed':'Date of change from the former name, if any.',\n",
    "        'afs':'Filer status with the SEC at the time of submission:\\n\\\n",
    "1-LAF=Large Accelerated,\\n\\\n",
    "2-ACC=Accelerated,\\n\\\n",
    "3-SRA=Smaller Reporting Accelerated,\\n\\\n",
    "4-NON=Non-Accelerated,\\n\\\n",
    "5-SML=Smaller Reporting Filer,\\n\\\n",
    "NULL=not assigned.',\n",
    "        'wksi':'Well Known Seasoned Issuer (WKSI). An issuer that meets specific SEC requirements at some point during a 60-day period preceding the date the issuer satisfies its obligation to update its shelf registration statement.',\n",
    "        'fye':'Fiscal Year End Date, rounded to nearest month-end.',\n",
    "        'form':'The submission type of the registrant’s filing.',\n",
    "        'period':'Balance Sheet Date, rounded to nearest month-end.',\n",
    "        'fy':'Fiscal Year Focus (as defined in EFM Ch. 6).',\n",
    "        'fp':'Fiscal Period Focus (as defined in EFM Ch. 6) within Fiscal Year. The 10-Q for the 1st, 2nd and 3rd quarters would have a fiscal period focus of Q1, Q2 (or H1), and Q3 (or M9) respectively, and a 10-K would have a fiscal period focus of FY.',\n",
    "        'filed':'The date of the registrant’s filing with the Commission.',\n",
    "        'accepted':'The acceptance date and time of the registrant’s filing with the Commission. Filings accepted after 5:30pm EST are considered filed on the following business day.',\n",
    "        'prevrpt':'Previous Report –TRUE indicates that the submission information was subsequently amended.',\n",
    "        'detail':'TRUE indicates that the XBRL submission contains quantitative disclosures within the footnotes and schedules at the required detail level (e.g., each amount).',\n",
    "        'instance':'The name of the submitted XBRL Instance Document (EX-101.INS) type data file. The name often begins with the company ticker symbol.',\n",
    "        'nciks':'Number of Central Index Keys (CIK) of registrants (i.e., business units) included in the consolidating entity’s submitted filing.',\n",
    "        'aciks':'Additional CIKs of co-registrants included in  a consolidating entity’s EDGAR submission, separated by spaces. If there are no other co-registrants (i.e., nciks=1), the value of aciks is NULL.  For a very small number of filers, the list of co-registrants is too long to fit in the field.  Where this is the case, PARTIAL will appear at the end of the list indicating that not all co-registrants’ CIKs are included in the field; users should refer to the complete submission file for all CIK information.'\n",
    "    }]\n",
    "}\n",
    "schemaname = 'sec_dera'\n",
    "tablename = 'sub'"
   ]
  },
  {
   "cell_type": "markdown",
   "id": "f80c9a40-2fdb-40c0-9dd5-7e7bf53db3da",
   "metadata": {},
   "source": [
    "Convert custom metadata content in json format into Pandas DataFrame"
   ]
  },
  {
   "cell_type": "code",
   "execution_count": 28,
   "id": "fcf5ef1b-05d4-4319-9b6e-073816e2dde1",
   "metadata": {},
   "outputs": [
    {
     "data": {
      "text/html": [
       "<div>\n",
       "<style scoped>\n",
       "    .dataframe tbody tr th:only-of-type {\n",
       "        vertical-align: middle;\n",
       "    }\n",
       "\n",
       "    .dataframe tbody tr th {\n",
       "        vertical-align: top;\n",
       "    }\n",
       "\n",
       "    .dataframe thead th {\n",
       "        text-align: right;\n",
       "    }\n",
       "</style>\n",
       "<table border=\"1\" class=\"dataframe\">\n",
       "  <thead>\n",
       "    <tr style=\"text-align: right;\">\n",
       "      <th></th>\n",
       "      <th>adsh</th>\n",
       "      <th>cik</th>\n",
       "      <th>name</th>\n",
       "      <th>sic</th>\n",
       "      <th>countryba</th>\n",
       "      <th>stprba</th>\n",
       "      <th>cityba</th>\n",
       "      <th>zipba</th>\n",
       "      <th>bas1</th>\n",
       "      <th>bas2</th>\n",
       "      <th>...</th>\n",
       "      <th>fy</th>\n",
       "      <th>fp</th>\n",
       "      <th>filed</th>\n",
       "      <th>accepted</th>\n",
       "      <th>prevrpt</th>\n",
       "      <th>detail</th>\n",
       "      <th>instance</th>\n",
       "      <th>nciks</th>\n",
       "      <th>aciks</th>\n",
       "      <th>dataset_key</th>\n",
       "    </tr>\n",
       "  </thead>\n",
       "  <tbody>\n",
       "    <tr>\n",
       "      <th>0</th>\n",
       "      <td>Accession Number. The 20-character string form...</td>\n",
       "      <td>Central Index Key (CIK). Ten digit number assi...</td>\n",
       "      <td>Name of registrant. This corresponds to the na...</td>\n",
       "      <td>Standard Industrial Classification (SIC). Four...</td>\n",
       "      <td>The ISO 3166-1 country of the registrant’s bus...</td>\n",
       "      <td>The state or province of the registrant’s busi...</td>\n",
       "      <td>The city of the registrant’s business address.</td>\n",
       "      <td>The zip code of the registrant’s business addr...</td>\n",
       "      <td>The first line of the street of the registrant...</td>\n",
       "      <td>The second line of the street of the registran...</td>\n",
       "      <td>...</td>\n",
       "      <td>Fiscal Year Focus (as defined in EFM Ch. 6).</td>\n",
       "      <td>Fiscal Period Focus (as defined in EFM Ch. 6) ...</td>\n",
       "      <td>The date of the registrant’s filing with the C...</td>\n",
       "      <td>The acceptance date and time of the registrant...</td>\n",
       "      <td>Previous Report –TRUE indicates that the submi...</td>\n",
       "      <td>TRUE indicates that the XBRL submission contai...</td>\n",
       "      <td>The name of the submitted XBRL Instance Docume...</td>\n",
       "      <td>Number of Central Index Keys (CIK) of registra...</td>\n",
       "      <td>Additional CIKs of co-registrants included in ...</td>\n",
       "      <td>SEC-DERA</td>\n",
       "    </tr>\n",
       "  </tbody>\n",
       "</table>\n",
       "<p>1 rows × 37 columns</p>\n",
       "</div>"
      ],
      "text/plain": [
       "                                                adsh  \\\n",
       "0  Accession Number. The 20-character string form...   \n",
       "\n",
       "                                                 cik  \\\n",
       "0  Central Index Key (CIK). Ten digit number assi...   \n",
       "\n",
       "                                                name  \\\n",
       "0  Name of registrant. This corresponds to the na...   \n",
       "\n",
       "                                                 sic  \\\n",
       "0  Standard Industrial Classification (SIC). Four...   \n",
       "\n",
       "                                           countryba  \\\n",
       "0  The ISO 3166-1 country of the registrant’s bus...   \n",
       "\n",
       "                                              stprba  \\\n",
       "0  The state or province of the registrant’s busi...   \n",
       "\n",
       "                                           cityba  \\\n",
       "0  The city of the registrant’s business address.   \n",
       "\n",
       "                                               zipba  \\\n",
       "0  The zip code of the registrant’s business addr...   \n",
       "\n",
       "                                                bas1  \\\n",
       "0  The first line of the street of the registrant...   \n",
       "\n",
       "                                                bas2  ...  \\\n",
       "0  The second line of the street of the registran...  ...   \n",
       "\n",
       "                                             fy  \\\n",
       "0  Fiscal Year Focus (as defined in EFM Ch. 6).   \n",
       "\n",
       "                                                  fp  \\\n",
       "0  Fiscal Period Focus (as defined in EFM Ch. 6) ...   \n",
       "\n",
       "                                               filed  \\\n",
       "0  The date of the registrant’s filing with the C...   \n",
       "\n",
       "                                            accepted  \\\n",
       "0  The acceptance date and time of the registrant...   \n",
       "\n",
       "                                             prevrpt  \\\n",
       "0  Previous Report –TRUE indicates that the submi...   \n",
       "\n",
       "                                              detail  \\\n",
       "0  TRUE indicates that the XBRL submission contai...   \n",
       "\n",
       "                                            instance  \\\n",
       "0  The name of the submitted XBRL Instance Docume...   \n",
       "\n",
       "                                               nciks  \\\n",
       "0  Number of Central Index Keys (CIK) of registra...   \n",
       "\n",
       "                                               aciks dataset_key  \n",
       "0  Additional CIKs of co-registrants included in ...    SEC-DERA  \n",
       "\n",
       "[1 rows x 37 columns]"
      ]
     },
     "execution_count": 28,
     "metadata": {},
     "output_type": "execute_result"
    }
   ],
   "source": [
    "df_meta_fields = pd.json_normalize(custom_meta_content, record_path =['fields'], meta=['dataset_key']).convert_dtypes()\n",
    "df_meta_fields"
   ]
  },
  {
   "cell_type": "code",
   "execution_count": 29,
   "id": "7f89670f-677f-4a2c-a258-259c671ea99c",
   "metadata": {},
   "outputs": [
    {
     "name": "stdout",
     "output_type": "stream",
     "text": [
      "<class 'pandas.core.frame.DataFrame'>\n",
      "RangeIndex: 1 entries, 0 to 0\n",
      "Data columns (total 37 columns):\n",
      " #   Column       Non-Null Count  Dtype \n",
      "---  ------       --------------  ----- \n",
      " 0   adsh         1 non-null      string\n",
      " 1   cik          1 non-null      string\n",
      " 2   name         1 non-null      string\n",
      " 3   sic          1 non-null      string\n",
      " 4   countryba    1 non-null      string\n",
      " 5   stprba       1 non-null      string\n",
      " 6   cityba       1 non-null      string\n",
      " 7   zipba        1 non-null      string\n",
      " 8   bas1         1 non-null      string\n",
      " 9   bas2         1 non-null      string\n",
      " 10  baph         1 non-null      string\n",
      " 11  countryma    1 non-null      string\n",
      " 12  stprma       1 non-null      string\n",
      " 13  cityma       1 non-null      string\n",
      " 14  zipma        1 non-null      string\n",
      " 15  mas1         1 non-null      string\n",
      " 16  mas2         1 non-null      string\n",
      " 17  countryinc   1 non-null      string\n",
      " 18  stprinc      1 non-null      string\n",
      " 19  ein          1 non-null      string\n",
      " 20  former       1 non-null      string\n",
      " 21  changed      1 non-null      string\n",
      " 22  afs          1 non-null      string\n",
      " 23  wksi         1 non-null      string\n",
      " 24  fye          1 non-null      string\n",
      " 25  form         1 non-null      string\n",
      " 26  period       1 non-null      string\n",
      " 27  fy           1 non-null      string\n",
      " 28  fp           1 non-null      string\n",
      " 29  filed        1 non-null      string\n",
      " 30  accepted     1 non-null      string\n",
      " 31  prevrpt      1 non-null      string\n",
      " 32  detail       1 non-null      string\n",
      " 33  instance     1 non-null      string\n",
      " 34  nciks        1 non-null      string\n",
      " 35  aciks        1 non-null      string\n",
      " 36  dataset_key  1 non-null      string\n",
      "dtypes: string(37)\n",
      "memory usage: 424.0 bytes\n"
     ]
    }
   ],
   "source": [
    "df_meta_fields.info(verbose=True)"
   ]
  },
  {
   "cell_type": "code",
   "execution_count": 30,
   "id": "6fdf1950-cd9c-4b61-b4d2-12a8d8fe4ace",
   "metadata": {},
   "outputs": [
    {
     "data": {
      "text/html": [
       "<div>\n",
       "<style scoped>\n",
       "    .dataframe tbody tr th:only-of-type {\n",
       "        vertical-align: middle;\n",
       "    }\n",
       "\n",
       "    .dataframe tbody tr th {\n",
       "        vertical-align: top;\n",
       "    }\n",
       "\n",
       "    .dataframe thead th {\n",
       "        text-align: right;\n",
       "    }\n",
       "</style>\n",
       "<table border=\"1\" class=\"dataframe\">\n",
       "  <thead>\n",
       "    <tr style=\"text-align: right;\">\n",
       "      <th></th>\n",
       "      <th>dataset_key</th>\n",
       "      <th>title</th>\n",
       "      <th>description</th>\n",
       "      <th>version</th>\n",
       "      <th>release_date</th>\n",
       "      <th>schema</th>\n",
       "    </tr>\n",
       "  </thead>\n",
       "  <tbody>\n",
       "    <tr>\n",
       "      <th>0</th>\n",
       "      <td>SEC-DERA</td>\n",
       "      <td>SEC DERA Disclosures</td>\n",
       "      <td>The DERA Financial Statement Data Sets provide...</td>\n",
       "      <td>2020q4</td>\n",
       "      <td>20201231</td>\n",
       "      <td>sec_dera</td>\n",
       "    </tr>\n",
       "  </tbody>\n",
       "</table>\n",
       "</div>"
      ],
      "text/plain": [
       "  dataset_key                 title  \\\n",
       "0    SEC-DERA  SEC DERA Disclosures   \n",
       "\n",
       "                                         description version release_date  \\\n",
       "0  The DERA Financial Statement Data Sets provide...  2020q4     20201231   \n",
       "\n",
       "     schema  \n",
       "0  sec_dera  "
      ]
     },
     "execution_count": 30,
     "metadata": {},
     "output_type": "execute_result"
    }
   ],
   "source": [
    "df_meta_table = pd.json_normalize(custom_meta_content, max_level=0)\n",
    "df_meta_table.drop('fields', inplace=True, axis=1)\n",
    "df_meta_table['schema'] = schemaname\n",
    "df_meta_table = df_meta_table.convert_dtypes()\n",
    "df_meta_table"
   ]
  },
  {
   "cell_type": "code",
   "execution_count": 31,
   "id": "d1da3217-69e2-45cf-bc89-07898eee4ff0",
   "metadata": {},
   "outputs": [
    {
     "name": "stdout",
     "output_type": "stream",
     "text": [
      "<class 'pandas.core.frame.DataFrame'>\n",
      "RangeIndex: 1 entries, 0 to 0\n",
      "Data columns (total 6 columns):\n",
      " #   Column        Non-Null Count  Dtype \n",
      "---  ------        --------------  ----- \n",
      " 0   dataset_key   1 non-null      string\n",
      " 1   title         1 non-null      string\n",
      " 2   description   1 non-null      string\n",
      " 3   version       1 non-null      string\n",
      " 4   release_date  1 non-null      string\n",
      " 5   schema        1 non-null      string\n",
      "dtypes: string(6)\n",
      "memory usage: 176.0 bytes\n"
     ]
    }
   ],
   "source": [
    "df_meta_table.info(verbose=True)"
   ]
  },
  {
   "cell_type": "markdown",
   "id": "15efe080-b4eb-4713-8fd0-7f1d2e1fd966",
   "metadata": {},
   "source": [
    "Open a Trino connection using JWT for authentication"
   ]
  },
  {
   "cell_type": "code",
   "execution_count": 32,
   "id": "790b5e63-8d67-4314-844c-ae42266070b3",
   "metadata": {},
   "outputs": [
    {
     "name": "stdout",
     "output_type": "stream",
     "text": [
      "connecting with engine Engine(trino://MichaelTiemannOSC@trino-secure-odh-trino.apps.odh-cl1.apps.os-climate.org:443/)\n"
     ]
    }
   ],
   "source": [
    "sqlstring = 'trino://{user}@{host}:{port}/'.format(\n",
    "    user = os.environ['TRINO_USER'],\n",
    "    host = os.environ['TRINO_HOST'],\n",
    "    port = os.environ['TRINO_PORT']\n",
    ")\n",
    "sqlargs = {\n",
    "    'auth': trino.auth.JWTAuthentication(os.environ['TRINO_PASSWD']),\n",
    "    'http_scheme': 'https'\n",
    "}\n",
    "engine = create_engine(sqlstring, connect_args = sqlargs)\n",
    "print(\"connecting with engine \" + str(engine))\n",
    "connection = engine.connect()"
   ]
  },
  {
   "cell_type": "code",
   "execution_count": 41,
   "id": "bb96687d-74a7-46d8-9944-b63fddf11bd1",
   "metadata": {},
   "outputs": [
    {
     "name": "stdout",
     "output_type": "stream",
     "text": [
      "('aicoe_osc_demo',)\n",
      "('company_data',)\n",
      "('default',)\n",
      "('defaultschema1',)\n",
      "('demo',)\n",
      "('eje_test_iceberg',)\n",
      "('epacems',)\n",
      "('epacems_y95_al',)\n",
      "('essd',)\n",
      "('gleif',)\n",
      "('information_schema',)\n",
      "('metastore',)\n",
      "('metastore_iceberg',)\n",
      "('osc_corp_data',)\n",
      "('physical_risk_project',)\n",
      "('pudl',)\n",
      "('rmi_utility_transition_hub',)\n",
      "('sec_dera',)\n",
      "('team1',)\n",
      "('team2',)\n",
      "('testaccessschema1',)\n",
      "('testdb',)\n",
      "('urgentem',)\n",
      "('wri',)\n",
      "('wri_gppd',)\n",
      "('wri_gppd_md',)\n",
      "('wri_test',)\n"
     ]
    }
   ],
   "source": [
    "# Show available schemas to ensure trino connection is set correctly\n",
    "schema_read = engine.execute('show schemas in osc_datacommons_dev')\n",
    "for row in schema_read.fetchall():\n",
    "    print(row)"
   ]
  },
  {
   "cell_type": "markdown",
   "id": "2c0e2635-ac17-4dda-bc41-a5a18c61c44d",
   "metadata": {},
   "source": [
    "Create ingestion schema based on source data name and remove old tables if necessary"
   ]
  },
  {
   "cell_type": "code",
   "execution_count": 42,
   "id": "4aa21228-ec3d-4506-820a-bb071b56fc07",
   "metadata": {},
   "outputs": [
    {
     "name": "stdout",
     "output_type": "stream",
     "text": [
      "(True,)\n"
     ]
    }
   ],
   "source": [
    "schema_check = engine.execute('create schema if not exists osc_datacommons_dev.' + schemaname)\n",
    "for row in schema_check.fetchall():\n",
    "    print(row)"
   ]
  },
  {
   "cell_type": "code",
   "execution_count": 43,
   "id": "06e809a5-85eb-4879-86ed-1b1c01e4104b",
   "metadata": {},
   "outputs": [
    {
     "name": "stdout",
     "output_type": "stream",
     "text": [
      "(True,)\n"
     ]
    }
   ],
   "source": [
    "table_check = engine.execute('drop table if exists osc_datacommons_dev.' + schemaname + '.' + tablename)\n",
    "for row in table_check.fetchall():\n",
    "    print(row)"
   ]
  },
  {
   "cell_type": "code",
   "execution_count": 46,
   "id": "726c7d8e-45f9-48e7-a0db-66b103d5b25f",
   "metadata": {},
   "outputs": [
    {
     "name": "stdout",
     "output_type": "stream",
     "text": [
      "\n",
      "create table if not exists osc_datacommons_dev.sec_dera.sub (\n",
      "    adsh varchar,\n",
      "    cik bigint,\n",
      "    name varchar,\n",
      "    sic bigint,\n",
      "    countryba varchar,\n",
      "    stprba varchar,\n",
      "    cityba varchar,\n",
      "    zipba varchar,\n",
      "    bas1 varchar,\n",
      "    bas2 varchar,\n",
      "    baph varchar,\n",
      "    countryma varchar,\n",
      "    stprma varchar,\n",
      "    cityma varchar,\n",
      "    zipma varchar,\n",
      "    mas1 varchar,\n",
      "    mas2 varchar,\n",
      "    countryinc varchar,\n",
      "    stprinc varchar,\n",
      "    ein bigint,\n",
      "    former varchar,\n",
      "    changed double,\n",
      "    afs varchar,\n",
      "    wksi bigint,\n",
      "    fye bigint,\n",
      "    form varchar,\n",
      "    period bigint,\n",
      "    fy double,\n",
      "    fp varchar,\n",
      "    filed bigint,\n",
      "    accepted varchar,\n",
      "    prevrpt bigint,\n",
      "    detail bigint,\n",
      "    instance varchar,\n",
      "    nciks bigint,\n",
      "    aciks double\n",
      ") with (\n",
      "    format = 'parquet'\n",
      "    -- partitioning = ARRAY['uuid']\n",
      ")\n",
      "\n"
     ]
    }
   ],
   "source": [
    "schema = create_table_schema_pairs(df)\n",
    "tabledef = \"\"\"\n",
    "create table if not exists osc_datacommons_dev.{sname}.{tname} (\n",
    "{schema}\n",
    ") with (\n",
    "    format = 'parquet'\n",
    "    -- partitioning = ARRAY['uuid']\n",
    ")\n",
    "\"\"\".format(schema=schema, sname=schemaname, tname=tablename)\n",
    "print(tabledef)"
   ]
  },
  {
   "cell_type": "code",
   "execution_count": 47,
   "id": "eef7ff81-b20b-436c-bdc1-9be72b536076",
   "metadata": {},
   "outputs": [
    {
     "name": "stdout",
     "output_type": "stream",
     "text": [
      "(True,)\n"
     ]
    }
   ],
   "source": [
    "table_create = engine.execute(tabledef)\n",
    "for row in table_create.fetchall():\n",
    "    print(row)"
   ]
  },
  {
   "cell_type": "code",
   "execution_count": 48,
   "id": "1e6849aa-9841-46e1-84ee-a5448d29a0fe",
   "metadata": {},
   "outputs": [],
   "source": [
    "# Append data frame to new Trino table \n",
    "# this statement should work but receives a TrinoUserError: \"This connector does not support creating tables\"\n",
    "# df.to_sql('gppd', con=engine, schema='wri_test', if_exists='append')"
   ]
  },
  {
   "cell_type": "code",
   "execution_count": 49,
   "id": "d5217f55-c15b-4eed-ae0d-0c6a0c51a539",
   "metadata": {},
   "outputs": [
    {
     "data": {
      "text/plain": [
       "['0000010254-20-000105',\n",
       " 10254,\n",
       " 'EARTHSTONE ENERGY INC',\n",
       " 1311,\n",
       " 'US',\n",
       " 'TX',\n",
       " 'THE WOODLANDS',\n",
       " '77380',\n",
       " '1400 WOODLOCH FOREST DRIVE',\n",
       " 'SUITE 300',\n",
       " '281-298-4246',\n",
       " 'US',\n",
       " 'TX',\n",
       " 'THE WOODLANDS',\n",
       " '77380',\n",
       " '1400 WOODLOCH FOREST DRIVE',\n",
       " 'SUITE 300',\n",
       " 'US',\n",
       " 'DE',\n",
       " 840592823,\n",
       " 'BASIC EARTH SCIENCE SYSTEMS INC',\n",
       " 19920703.0,\n",
       " '2-ACC',\n",
       " 0,\n",
       " 1231,\n",
       " '8-K',\n",
       " 20200930,\n",
       " nan,\n",
       " nan,\n",
       " 20201001,\n",
       " '2020-10-01 16:05:00.0',\n",
       " 0,\n",
       " 0,\n",
       " 'form8-kxbbredeterminat_htm.xml',\n",
       " 1,\n",
       " nan]"
      ]
     },
     "execution_count": 49,
     "metadata": {},
     "output_type": "execute_result"
    }
   ],
   "source": [
    "list_values = df.values.tolist()\n",
    "list_values[0]"
   ]
  },
  {
   "cell_type": "code",
   "execution_count": 51,
   "id": "2ea871be-8ae0-402a-8f8c-241b6700cd81",
   "metadata": {},
   "outputs": [
    {
     "name": "stdout",
     "output_type": "stream",
     "text": [
      "INSERT INTO osc_datacommons_dev.sec_dera.sub \n",
      "    VALUES ('0000010254-20-000105', 10254, 'EARTHSTONE ENERGY INC')\n"
     ]
    },
    {
     "ename": "TrinoUserError",
     "evalue": "TrinoUserError(type=USER_ERROR, name=TYPE_MISMATCH, message=\"Insert query has mismatched column types: Table: [varchar, bigint, varchar, bigint, varchar, varchar, varchar, varchar, varchar, varchar, varchar, varchar, varchar, varchar, varchar, varchar, varchar, varchar, varchar, bigint, varchar, double, varchar, bigint, bigint, varchar, bigint, double, varchar, bigint, varchar, bigint, bigint, varchar, bigint, double], Query: [varchar(20), integer, varchar(21)]\", query_id=20211121_181359_00021_adxr6)",
     "output_type": "error",
     "traceback": [
      "\u001b[0;31m---------------------------------------------------------------------------\u001b[0m",
      "\u001b[0;31mTrinoUserError\u001b[0m                            Traceback (most recent call last)",
      "\u001b[0;32m<ipython-input-51-f74b94c29dd8>\u001b[0m in \u001b[0;36m<module>\u001b[0;34m\u001b[0m\n\u001b[1;32m      5\u001b[0m     VALUES \"\"\".format(sname=schemaname, tname=tablename) + joined_values\n\u001b[1;32m      6\u001b[0m     \u001b[0mprint\u001b[0m\u001b[0;34m(\u001b[0m\u001b[0minsert_statement\u001b[0m\u001b[0;34m)\u001b[0m\u001b[0;34m\u001b[0m\u001b[0;34m\u001b[0m\u001b[0m\n\u001b[0;32m----> 7\u001b[0;31m     \u001b[0mrun_statement\u001b[0m \u001b[0;34m=\u001b[0m \u001b[0mengine\u001b[0m\u001b[0;34m.\u001b[0m\u001b[0mexecute\u001b[0m\u001b[0;34m(\u001b[0m\u001b[0minsert_statement\u001b[0m\u001b[0;34m)\u001b[0m\u001b[0;34m\u001b[0m\u001b[0;34m\u001b[0m\u001b[0m\n\u001b[0m\u001b[1;32m      8\u001b[0m     \u001b[0;32mfor\u001b[0m \u001b[0mrow\u001b[0m \u001b[0;32min\u001b[0m \u001b[0mrun_statement\u001b[0m\u001b[0;34m.\u001b[0m\u001b[0mfetchall\u001b[0m\u001b[0;34m(\u001b[0m\u001b[0;34m)\u001b[0m\u001b[0;34m:\u001b[0m\u001b[0;34m\u001b[0m\u001b[0;34m\u001b[0m\u001b[0m\n\u001b[1;32m      9\u001b[0m         \u001b[0mprint\u001b[0m\u001b[0;34m(\u001b[0m\u001b[0mrow\u001b[0m\u001b[0;34m)\u001b[0m\u001b[0;34m\u001b[0m\u001b[0;34m\u001b[0m\u001b[0m\n",
      "\u001b[0;32m/opt/app-root/lib64/python3.8/site-packages/sqlalchemy/engine/base.py\u001b[0m in \u001b[0;36mexecute\u001b[0;34m(self, statement, *multiparams, **params)\u001b[0m\n\u001b[1;32m   2164\u001b[0m \u001b[0;34m\u001b[0m\u001b[0m\n\u001b[1;32m   2165\u001b[0m         \u001b[0mconnection\u001b[0m \u001b[0;34m=\u001b[0m \u001b[0mself\u001b[0m\u001b[0;34m.\u001b[0m\u001b[0m_contextual_connect\u001b[0m\u001b[0;34m(\u001b[0m\u001b[0mclose_with_result\u001b[0m\u001b[0;34m=\u001b[0m\u001b[0;32mTrue\u001b[0m\u001b[0;34m)\u001b[0m\u001b[0;34m\u001b[0m\u001b[0;34m\u001b[0m\u001b[0m\n\u001b[0;32m-> 2166\u001b[0;31m         \u001b[0;32mreturn\u001b[0m \u001b[0mconnection\u001b[0m\u001b[0;34m.\u001b[0m\u001b[0mexecute\u001b[0m\u001b[0;34m(\u001b[0m\u001b[0mstatement\u001b[0m\u001b[0;34m,\u001b[0m \u001b[0;34m*\u001b[0m\u001b[0mmultiparams\u001b[0m\u001b[0;34m,\u001b[0m \u001b[0;34m**\u001b[0m\u001b[0mparams\u001b[0m\u001b[0;34m)\u001b[0m\u001b[0;34m\u001b[0m\u001b[0;34m\u001b[0m\u001b[0m\n\u001b[0m\u001b[1;32m   2167\u001b[0m \u001b[0;34m\u001b[0m\u001b[0m\n\u001b[1;32m   2168\u001b[0m     \u001b[0;32mdef\u001b[0m \u001b[0mscalar\u001b[0m\u001b[0;34m(\u001b[0m\u001b[0mself\u001b[0m\u001b[0;34m,\u001b[0m \u001b[0mstatement\u001b[0m\u001b[0;34m,\u001b[0m \u001b[0;34m*\u001b[0m\u001b[0mmultiparams\u001b[0m\u001b[0;34m,\u001b[0m \u001b[0;34m**\u001b[0m\u001b[0mparams\u001b[0m\u001b[0;34m)\u001b[0m\u001b[0;34m:\u001b[0m\u001b[0;34m\u001b[0m\u001b[0;34m\u001b[0m\u001b[0m\n",
      "\u001b[0;32m/opt/app-root/lib64/python3.8/site-packages/sqlalchemy/engine/base.py\u001b[0m in \u001b[0;36mexecute\u001b[0;34m(self, object_, *multiparams, **params)\u001b[0m\n\u001b[1;32m    980\u001b[0m         \"\"\"\n\u001b[1;32m    981\u001b[0m         \u001b[0;32mif\u001b[0m \u001b[0misinstance\u001b[0m\u001b[0;34m(\u001b[0m\u001b[0mobject_\u001b[0m\u001b[0;34m,\u001b[0m \u001b[0mutil\u001b[0m\u001b[0;34m.\u001b[0m\u001b[0mstring_types\u001b[0m\u001b[0;34m[\u001b[0m\u001b[0;36m0\u001b[0m\u001b[0;34m]\u001b[0m\u001b[0;34m)\u001b[0m\u001b[0;34m:\u001b[0m\u001b[0;34m\u001b[0m\u001b[0;34m\u001b[0m\u001b[0m\n\u001b[0;32m--> 982\u001b[0;31m             \u001b[0;32mreturn\u001b[0m \u001b[0mself\u001b[0m\u001b[0;34m.\u001b[0m\u001b[0m_execute_text\u001b[0m\u001b[0;34m(\u001b[0m\u001b[0mobject_\u001b[0m\u001b[0;34m,\u001b[0m \u001b[0mmultiparams\u001b[0m\u001b[0;34m,\u001b[0m \u001b[0mparams\u001b[0m\u001b[0;34m)\u001b[0m\u001b[0;34m\u001b[0m\u001b[0;34m\u001b[0m\u001b[0m\n\u001b[0m\u001b[1;32m    983\u001b[0m         \u001b[0;32mtry\u001b[0m\u001b[0;34m:\u001b[0m\u001b[0;34m\u001b[0m\u001b[0;34m\u001b[0m\u001b[0m\n\u001b[1;32m    984\u001b[0m             \u001b[0mmeth\u001b[0m \u001b[0;34m=\u001b[0m \u001b[0mobject_\u001b[0m\u001b[0;34m.\u001b[0m\u001b[0m_execute_on_connection\u001b[0m\u001b[0;34m\u001b[0m\u001b[0;34m\u001b[0m\u001b[0m\n",
      "\u001b[0;32m/opt/app-root/lib64/python3.8/site-packages/sqlalchemy/engine/base.py\u001b[0m in \u001b[0;36m_execute_text\u001b[0;34m(self, statement, multiparams, params)\u001b[0m\n\u001b[1;32m   1147\u001b[0m         \u001b[0mdialect\u001b[0m \u001b[0;34m=\u001b[0m \u001b[0mself\u001b[0m\u001b[0;34m.\u001b[0m\u001b[0mdialect\u001b[0m\u001b[0;34m\u001b[0m\u001b[0;34m\u001b[0m\u001b[0m\n\u001b[1;32m   1148\u001b[0m         \u001b[0mparameters\u001b[0m \u001b[0;34m=\u001b[0m \u001b[0m_distill_params\u001b[0m\u001b[0;34m(\u001b[0m\u001b[0mmultiparams\u001b[0m\u001b[0;34m,\u001b[0m \u001b[0mparams\u001b[0m\u001b[0;34m)\u001b[0m\u001b[0;34m\u001b[0m\u001b[0;34m\u001b[0m\u001b[0m\n\u001b[0;32m-> 1149\u001b[0;31m         ret = self._execute_context(\n\u001b[0m\u001b[1;32m   1150\u001b[0m             \u001b[0mdialect\u001b[0m\u001b[0;34m,\u001b[0m\u001b[0;34m\u001b[0m\u001b[0;34m\u001b[0m\u001b[0m\n\u001b[1;32m   1151\u001b[0m             \u001b[0mdialect\u001b[0m\u001b[0;34m.\u001b[0m\u001b[0mexecution_ctx_cls\u001b[0m\u001b[0;34m.\u001b[0m\u001b[0m_init_statement\u001b[0m\u001b[0;34m,\u001b[0m\u001b[0;34m\u001b[0m\u001b[0;34m\u001b[0m\u001b[0m\n",
      "\u001b[0;32m/opt/app-root/lib64/python3.8/site-packages/sqlalchemy/engine/base.py\u001b[0m in \u001b[0;36m_execute_context\u001b[0;34m(self, dialect, constructor, statement, parameters, *args)\u001b[0m\n\u001b[1;32m   1245\u001b[0m                     )\n\u001b[1;32m   1246\u001b[0m         \u001b[0;32mexcept\u001b[0m \u001b[0mBaseException\u001b[0m \u001b[0;32mas\u001b[0m \u001b[0me\u001b[0m\u001b[0;34m:\u001b[0m\u001b[0;34m\u001b[0m\u001b[0;34m\u001b[0m\u001b[0m\n\u001b[0;32m-> 1247\u001b[0;31m             self._handle_dbapi_exception(\n\u001b[0m\u001b[1;32m   1248\u001b[0m                 \u001b[0me\u001b[0m\u001b[0;34m,\u001b[0m \u001b[0mstatement\u001b[0m\u001b[0;34m,\u001b[0m \u001b[0mparameters\u001b[0m\u001b[0;34m,\u001b[0m \u001b[0mcursor\u001b[0m\u001b[0;34m,\u001b[0m \u001b[0mcontext\u001b[0m\u001b[0;34m\u001b[0m\u001b[0;34m\u001b[0m\u001b[0m\n\u001b[1;32m   1249\u001b[0m             )\n",
      "\u001b[0;32m/opt/app-root/lib64/python3.8/site-packages/sqlalchemy/engine/base.py\u001b[0m in \u001b[0;36m_handle_dbapi_exception\u001b[0;34m(self, e, statement, parameters, cursor, context)\u001b[0m\n\u001b[1;32m   1466\u001b[0m                 \u001b[0mutil\u001b[0m\u001b[0;34m.\u001b[0m\u001b[0mraise_from_cause\u001b[0m\u001b[0;34m(\u001b[0m\u001b[0msqlalchemy_exception\u001b[0m\u001b[0;34m,\u001b[0m \u001b[0mexc_info\u001b[0m\u001b[0;34m)\u001b[0m\u001b[0;34m\u001b[0m\u001b[0;34m\u001b[0m\u001b[0m\n\u001b[1;32m   1467\u001b[0m             \u001b[0;32melse\u001b[0m\u001b[0;34m:\u001b[0m\u001b[0;34m\u001b[0m\u001b[0;34m\u001b[0m\u001b[0m\n\u001b[0;32m-> 1468\u001b[0;31m                 \u001b[0mutil\u001b[0m\u001b[0;34m.\u001b[0m\u001b[0mreraise\u001b[0m\u001b[0;34m(\u001b[0m\u001b[0;34m*\u001b[0m\u001b[0mexc_info\u001b[0m\u001b[0;34m)\u001b[0m\u001b[0;34m\u001b[0m\u001b[0;34m\u001b[0m\u001b[0m\n\u001b[0m\u001b[1;32m   1469\u001b[0m \u001b[0;34m\u001b[0m\u001b[0m\n\u001b[1;32m   1470\u001b[0m         \u001b[0;32mfinally\u001b[0m\u001b[0;34m:\u001b[0m\u001b[0;34m\u001b[0m\u001b[0;34m\u001b[0m\u001b[0m\n",
      "\u001b[0;32m/opt/app-root/lib64/python3.8/site-packages/sqlalchemy/util/compat.py\u001b[0m in \u001b[0;36mreraise\u001b[0;34m(tp, value, tb, cause)\u001b[0m\n\u001b[1;32m    127\u001b[0m         \u001b[0;32mif\u001b[0m \u001b[0mvalue\u001b[0m\u001b[0;34m.\u001b[0m\u001b[0m__traceback__\u001b[0m \u001b[0;32mis\u001b[0m \u001b[0;32mnot\u001b[0m \u001b[0mtb\u001b[0m\u001b[0;34m:\u001b[0m\u001b[0;34m\u001b[0m\u001b[0;34m\u001b[0m\u001b[0m\n\u001b[1;32m    128\u001b[0m             \u001b[0;32mraise\u001b[0m \u001b[0mvalue\u001b[0m\u001b[0;34m.\u001b[0m\u001b[0mwith_traceback\u001b[0m\u001b[0;34m(\u001b[0m\u001b[0mtb\u001b[0m\u001b[0;34m)\u001b[0m\u001b[0;34m\u001b[0m\u001b[0;34m\u001b[0m\u001b[0m\n\u001b[0;32m--> 129\u001b[0;31m         \u001b[0;32mraise\u001b[0m \u001b[0mvalue\u001b[0m\u001b[0;34m\u001b[0m\u001b[0;34m\u001b[0m\u001b[0m\n\u001b[0m\u001b[1;32m    130\u001b[0m \u001b[0;34m\u001b[0m\u001b[0m\n\u001b[1;32m    131\u001b[0m     \u001b[0;32mdef\u001b[0m \u001b[0mu\u001b[0m\u001b[0;34m(\u001b[0m\u001b[0ms\u001b[0m\u001b[0;34m)\u001b[0m\u001b[0;34m:\u001b[0m\u001b[0;34m\u001b[0m\u001b[0;34m\u001b[0m\u001b[0m\n",
      "\u001b[0;32m/opt/app-root/lib64/python3.8/site-packages/sqlalchemy/engine/base.py\u001b[0m in \u001b[0;36m_execute_context\u001b[0;34m(self, dialect, constructor, statement, parameters, *args)\u001b[0m\n\u001b[1;32m   1241\u001b[0m                             \u001b[0;32mbreak\u001b[0m\u001b[0;34m\u001b[0m\u001b[0;34m\u001b[0m\u001b[0m\n\u001b[1;32m   1242\u001b[0m                 \u001b[0;32mif\u001b[0m \u001b[0;32mnot\u001b[0m \u001b[0mevt_handled\u001b[0m\u001b[0;34m:\u001b[0m\u001b[0;34m\u001b[0m\u001b[0;34m\u001b[0m\u001b[0m\n\u001b[0;32m-> 1243\u001b[0;31m                     self.dialect.do_execute(\n\u001b[0m\u001b[1;32m   1244\u001b[0m                         \u001b[0mcursor\u001b[0m\u001b[0;34m,\u001b[0m \u001b[0mstatement\u001b[0m\u001b[0;34m,\u001b[0m \u001b[0mparameters\u001b[0m\u001b[0;34m,\u001b[0m \u001b[0mcontext\u001b[0m\u001b[0;34m\u001b[0m\u001b[0;34m\u001b[0m\u001b[0m\n\u001b[1;32m   1245\u001b[0m                     )\n",
      "\u001b[0;32m/opt/app-root/lib64/python3.8/site-packages/sqlalchemy_trino/dialect.py\u001b[0m in \u001b[0;36mdo_execute\u001b[0;34m(self, cursor, statement, parameters, context)\u001b[0m\n\u001b[1;32m    273\u001b[0m             \u001b[0;31m# For DDL (CREATE/ALTER/DROP) and DML (INSERT/UPDATE/DELETE) statement, call cursor.description\u001b[0m\u001b[0;34m\u001b[0m\u001b[0;34m\u001b[0m\u001b[0;34m\u001b[0m\u001b[0m\n\u001b[1;32m    274\u001b[0m             \u001b[0;31m# to force submit statement immediately.\u001b[0m\u001b[0;34m\u001b[0m\u001b[0;34m\u001b[0m\u001b[0;34m\u001b[0m\u001b[0m\n\u001b[0;32m--> 275\u001b[0;31m             \u001b[0mcursor\u001b[0m\u001b[0;34m.\u001b[0m\u001b[0mdescription\u001b[0m  \u001b[0;31m# noqa\u001b[0m\u001b[0;34m\u001b[0m\u001b[0;34m\u001b[0m\u001b[0m\n\u001b[0m\u001b[1;32m    276\u001b[0m \u001b[0;34m\u001b[0m\u001b[0m\n\u001b[1;32m    277\u001b[0m     \u001b[0;32mdef\u001b[0m \u001b[0mdo_rollback\u001b[0m\u001b[0;34m(\u001b[0m\u001b[0mself\u001b[0m\u001b[0;34m,\u001b[0m \u001b[0mdbapi_connection\u001b[0m\u001b[0;34m:\u001b[0m \u001b[0mtrino_dbapi\u001b[0m\u001b[0;34m.\u001b[0m\u001b[0mConnection\u001b[0m\u001b[0;34m)\u001b[0m\u001b[0;34m:\u001b[0m\u001b[0;34m\u001b[0m\u001b[0;34m\u001b[0m\u001b[0m\n",
      "\u001b[0;32m/opt/app-root/lib64/python3.8/site-packages/trino/dbapi.py\u001b[0m in \u001b[0;36mdescription\u001b[0;34m(self)\u001b[0m\n\u001b[1;32m    200\u001b[0m     \u001b[0;34m@\u001b[0m\u001b[0mproperty\u001b[0m\u001b[0;34m\u001b[0m\u001b[0;34m\u001b[0m\u001b[0m\n\u001b[1;32m    201\u001b[0m     \u001b[0;32mdef\u001b[0m \u001b[0mdescription\u001b[0m\u001b[0;34m(\u001b[0m\u001b[0mself\u001b[0m\u001b[0;34m)\u001b[0m\u001b[0;34m:\u001b[0m\u001b[0;34m\u001b[0m\u001b[0;34m\u001b[0m\u001b[0m\n\u001b[0;32m--> 202\u001b[0;31m         \u001b[0;32mif\u001b[0m \u001b[0mself\u001b[0m\u001b[0;34m.\u001b[0m\u001b[0m_query\u001b[0m\u001b[0;34m.\u001b[0m\u001b[0mcolumns\u001b[0m \u001b[0;32mis\u001b[0m \u001b[0;32mNone\u001b[0m\u001b[0;34m:\u001b[0m\u001b[0;34m\u001b[0m\u001b[0;34m\u001b[0m\u001b[0m\n\u001b[0m\u001b[1;32m    203\u001b[0m             \u001b[0;32mreturn\u001b[0m \u001b[0;32mNone\u001b[0m\u001b[0;34m\u001b[0m\u001b[0;34m\u001b[0m\u001b[0m\n\u001b[1;32m    204\u001b[0m \u001b[0;34m\u001b[0m\u001b[0m\n",
      "\u001b[0;32m/opt/app-root/lib64/python3.8/site-packages/trino/client.py\u001b[0m in \u001b[0;36mcolumns\u001b[0;34m(self)\u001b[0m\n\u001b[1;32m    478\u001b[0m                 \u001b[0;31m# Columns don't return immediate after query is summited.\u001b[0m\u001b[0;34m\u001b[0m\u001b[0;34m\u001b[0m\u001b[0;34m\u001b[0m\u001b[0m\n\u001b[1;32m    479\u001b[0m                 \u001b[0;31m# Continue fetching data until columns are available and push fetched rows into buffer.\u001b[0m\u001b[0;34m\u001b[0m\u001b[0;34m\u001b[0m\u001b[0;34m\u001b[0m\u001b[0m\n\u001b[0;32m--> 480\u001b[0;31m                 \u001b[0mself\u001b[0m\u001b[0;34m.\u001b[0m\u001b[0m_result\u001b[0m\u001b[0;34m.\u001b[0m\u001b[0m_rows\u001b[0m \u001b[0;34m+=\u001b[0m \u001b[0mself\u001b[0m\u001b[0;34m.\u001b[0m\u001b[0mfetch\u001b[0m\u001b[0;34m(\u001b[0m\u001b[0;34m)\u001b[0m\u001b[0;34m\u001b[0m\u001b[0;34m\u001b[0m\u001b[0m\n\u001b[0m\u001b[1;32m    481\u001b[0m         \u001b[0;32mreturn\u001b[0m \u001b[0mself\u001b[0m\u001b[0;34m.\u001b[0m\u001b[0m_columns\u001b[0m\u001b[0;34m\u001b[0m\u001b[0;34m\u001b[0m\u001b[0m\n\u001b[1;32m    482\u001b[0m \u001b[0;34m\u001b[0m\u001b[0m\n",
      "\u001b[0;32m/opt/app-root/lib64/python3.8/site-packages/trino/client.py\u001b[0m in \u001b[0;36mfetch\u001b[0;34m(self)\u001b[0m\n\u001b[1;32m    518\u001b[0m         \u001b[0;34m\"\"\"Continue fetching data for the current query_id\"\"\"\u001b[0m\u001b[0;34m\u001b[0m\u001b[0;34m\u001b[0m\u001b[0m\n\u001b[1;32m    519\u001b[0m         \u001b[0mresponse\u001b[0m \u001b[0;34m=\u001b[0m \u001b[0mself\u001b[0m\u001b[0;34m.\u001b[0m\u001b[0m_request\u001b[0m\u001b[0;34m.\u001b[0m\u001b[0mget\u001b[0m\u001b[0;34m(\u001b[0m\u001b[0mself\u001b[0m\u001b[0;34m.\u001b[0m\u001b[0m_request\u001b[0m\u001b[0;34m.\u001b[0m\u001b[0mnext_uri\u001b[0m\u001b[0;34m)\u001b[0m\u001b[0;34m\u001b[0m\u001b[0;34m\u001b[0m\u001b[0m\n\u001b[0;32m--> 520\u001b[0;31m         \u001b[0mstatus\u001b[0m \u001b[0;34m=\u001b[0m \u001b[0mself\u001b[0m\u001b[0;34m.\u001b[0m\u001b[0m_request\u001b[0m\u001b[0;34m.\u001b[0m\u001b[0mprocess\u001b[0m\u001b[0;34m(\u001b[0m\u001b[0mresponse\u001b[0m\u001b[0;34m)\u001b[0m\u001b[0;34m\u001b[0m\u001b[0;34m\u001b[0m\u001b[0m\n\u001b[0m\u001b[1;32m    521\u001b[0m         \u001b[0;32mif\u001b[0m \u001b[0mstatus\u001b[0m\u001b[0;34m.\u001b[0m\u001b[0mcolumns\u001b[0m\u001b[0;34m:\u001b[0m\u001b[0;34m\u001b[0m\u001b[0;34m\u001b[0m\u001b[0m\n\u001b[1;32m    522\u001b[0m             \u001b[0mself\u001b[0m\u001b[0;34m.\u001b[0m\u001b[0m_columns\u001b[0m \u001b[0;34m=\u001b[0m \u001b[0mstatus\u001b[0m\u001b[0;34m.\u001b[0m\u001b[0mcolumns\u001b[0m\u001b[0;34m\u001b[0m\u001b[0;34m\u001b[0m\u001b[0m\n",
      "\u001b[0;32m/opt/app-root/lib64/python3.8/site-packages/trino/client.py\u001b[0m in \u001b[0;36mprocess\u001b[0;34m(self, http_response)\u001b[0m\n\u001b[1;32m    388\u001b[0m         \u001b[0mlogger\u001b[0m\u001b[0;34m.\u001b[0m\u001b[0mdebug\u001b[0m\u001b[0;34m(\u001b[0m\u001b[0;34m\"HTTP %s: %s\"\u001b[0m\u001b[0;34m,\u001b[0m \u001b[0mhttp_response\u001b[0m\u001b[0;34m.\u001b[0m\u001b[0mstatus_code\u001b[0m\u001b[0;34m,\u001b[0m \u001b[0mresponse\u001b[0m\u001b[0;34m)\u001b[0m\u001b[0;34m\u001b[0m\u001b[0;34m\u001b[0m\u001b[0m\n\u001b[1;32m    389\u001b[0m         \u001b[0;32mif\u001b[0m \u001b[0;34m\"error\"\u001b[0m \u001b[0;32min\u001b[0m \u001b[0mresponse\u001b[0m\u001b[0;34m:\u001b[0m\u001b[0;34m\u001b[0m\u001b[0;34m\u001b[0m\u001b[0m\n\u001b[0;32m--> 390\u001b[0;31m             \u001b[0;32mraise\u001b[0m \u001b[0mself\u001b[0m\u001b[0;34m.\u001b[0m\u001b[0m_process_error\u001b[0m\u001b[0;34m(\u001b[0m\u001b[0mresponse\u001b[0m\u001b[0;34m[\u001b[0m\u001b[0;34m\"error\"\u001b[0m\u001b[0;34m]\u001b[0m\u001b[0;34m,\u001b[0m \u001b[0mresponse\u001b[0m\u001b[0;34m.\u001b[0m\u001b[0mget\u001b[0m\u001b[0;34m(\u001b[0m\u001b[0;34m\"id\"\u001b[0m\u001b[0;34m)\u001b[0m\u001b[0;34m)\u001b[0m\u001b[0;34m\u001b[0m\u001b[0;34m\u001b[0m\u001b[0m\n\u001b[0m\u001b[1;32m    391\u001b[0m \u001b[0;34m\u001b[0m\u001b[0m\n\u001b[1;32m    392\u001b[0m         \u001b[0;32mif\u001b[0m \u001b[0mconstants\u001b[0m\u001b[0;34m.\u001b[0m\u001b[0mHEADER_CLEAR_SESSION\u001b[0m \u001b[0;32min\u001b[0m \u001b[0mhttp_response\u001b[0m\u001b[0;34m.\u001b[0m\u001b[0mheaders\u001b[0m\u001b[0;34m:\u001b[0m\u001b[0;34m\u001b[0m\u001b[0;34m\u001b[0m\u001b[0m\n",
      "\u001b[0;31mTrinoUserError\u001b[0m: TrinoUserError(type=USER_ERROR, name=TYPE_MISMATCH, message=\"Insert query has mismatched column types: Table: [varchar, bigint, varchar, bigint, varchar, varchar, varchar, varchar, varchar, varchar, varchar, varchar, varchar, varchar, varchar, varchar, varchar, varchar, varchar, bigint, varchar, double, varchar, bigint, bigint, varchar, bigint, double, varchar, bigint, varchar, bigint, bigint, varchar, bigint, double], Query: [varchar(20), integer, varchar(21)]\", query_id=20211121_181359_00021_adxr6)"
     ]
    }
   ],
   "source": [
    "list_length = len(list_values)\n",
    "for i in range(list_length):\n",
    "    joined_values = '(\\'' + list_values[i][0] + '\\', ' + str(list_values[i][1]) + ', \\'' + list_values[i][2] + '\\')'\n",
    "    insert_statement = \"\"\"INSERT INTO osc_datacommons_dev.{sname}.{tname} \n",
    "    VALUES \"\"\".format(sname=schemaname, tname=tablename) + joined_values\n",
    "    print(insert_statement)\n",
    "    run_statement = engine.execute(insert_statement)\n",
    "    for row in run_statement.fetchall():\n",
    "        print(row)"
   ]
  },
  {
   "cell_type": "code",
   "execution_count": 20,
   "id": "9359dac5-4b68-4873-98f0-46e231fb5a16",
   "metadata": {},
   "outputs": [
    {
     "name": "stdout",
     "output_type": "stream",
     "text": [
      "SELECT * FROM osc_datacommons_iceberg_dev.wri_test.gppd_new limit 10\n",
      "('Albas', 1.8, '32a98e7e-0f8e-4c76-86bb-7e598928d859')\n",
      "('Albi', 6.70448, '32a98e7e-0f8e-4c76-86bb-7e598928d859')\n",
      "('Albias', 2.41, '32a98e7e-0f8e-4c76-86bb-7e598928d859')\n",
      "('Allaire', 8.2, '32a98e7e-0f8e-4c76-86bb-7e598928d859')\n"
     ]
    }
   ],
   "source": [
    "dataset_query = ('SELECT * FROM osc_datacommons_dev.{sname}.{tname} limit 10').format(sname=schemaname,tname=tablename)\n",
    "print(dataset_query)\n",
    "dataset = engine.execute(dataset_query)\n",
    "for row in dataset.fetchall():\n",
    "    print(row)"
   ]
  },
  {
   "cell_type": "markdown",
   "id": "596f5c13-c5df-4f0c-b2e1-866782bb6263",
   "metadata": {},
   "source": [
    "Query Iceberg snapshots for WRI GPPD data set. Snapshots allow having an immutable set of the data at a given time. They are automatically created on every append or removal of data."
   ]
  },
  {
   "cell_type": "code",
   "execution_count": 21,
   "id": "97b9a5da-9cc2-414c-add9-0e8d32f913e7",
   "metadata": {},
   "outputs": [
    {
     "name": "stdout",
     "output_type": "stream",
     "text": [
      "SELECT committed_at, snapshot_id, parent_id FROM osc_datacommons_iceberg_dev.wri_test.\"gppd_new$snapshots\"\n",
      "('2021-11-17 15:09:12.459 UTC', 9025854779685413976, None)\n",
      "('2021-11-17 15:09:21.143 UTC', 4181945915156604382, 9025854779685413976)\n",
      "('2021-11-17 15:09:22.030 UTC', 302793385755985542, 4181945915156604382)\n",
      "('2021-11-17 15:09:22.874 UTC', 4237598940379949314, 302793385755985542)\n",
      "('2021-11-17 15:09:23.879 UTC', 7161852363068757534, 4237598940379949314)\n"
     ]
    }
   ],
   "source": [
    "snapshot_query = ('SELECT committed_at, snapshot_id, parent_id FROM osc_datacommons_iceberg_dev.{sname}.\\\"{tname}$snapshots\\\"').format(sname=schemaname,tname=tablename)\n",
    "print(snapshot_query)\n",
    "dataset = engine.execute(snapshot_query)\n",
    "for row in dataset.fetchall():\n",
    "    print(row)"
   ]
  },
  {
   "cell_type": "markdown",
   "id": "1f87b7dd-d925-4eac-a5d4-edb831d3756f",
   "metadata": {},
   "source": [
    "Create metadata table for schema / dataset level information"
   ]
  },
  {
   "cell_type": "code",
   "execution_count": 22,
   "id": "28f2dc67-842b-4b9e-98ed-64e1261b2c64",
   "metadata": {},
   "outputs": [],
   "source": [
    "# declare variable names for metadata structure in Trino\n",
    "meta_schema_name = 'metastore_iceberg'\n",
    "meta_table_name_dataset = 'meta_tables_iceberg'\n",
    "meta_table_name_fields = 'meta_fields_iceberg'"
   ]
  },
  {
   "cell_type": "code",
   "execution_count": 23,
   "id": "9b792868-2a2b-474a-bbb6-b5c7f1f576d3",
   "metadata": {},
   "outputs": [
    {
     "name": "stdout",
     "output_type": "stream",
     "text": [
      "(True,)\n"
     ]
    }
   ],
   "source": [
    "schema_check = engine.execute('create schema if not exists osc_datacommons_iceberg_dev.' + meta_schema_name)\n",
    "for row in schema_check.fetchall():\n",
    "    print(row)"
   ]
  },
  {
   "cell_type": "code",
   "execution_count": 24,
   "id": "e8863ecf-4352-4e5f-8b8d-69b577c9d131",
   "metadata": {},
   "outputs": [
    {
     "name": "stdout",
     "output_type": "stream",
     "text": [
      "(True,)\n"
     ]
    }
   ],
   "source": [
    "table_check = engine.execute('drop table if exists osc_datacommons_iceberg_dev.' + meta_schema_name + '.' + meta_table_name_dataset)\n",
    "for row in table_check.fetchall():\n",
    "    print(row)"
   ]
  },
  {
   "cell_type": "code",
   "execution_count": 25,
   "id": "72008b37-fada-47e2-9c92-7099a4a950e6",
   "metadata": {},
   "outputs": [
    {
     "name": "stdout",
     "output_type": "stream",
     "text": [
      "\n",
      "create table if not exists osc_datacommons_iceberg_dev.metastore_iceberg.meta_tables_iceberg (\n",
      "    dataset_key varchar,\n",
      "    title varchar,\n",
      "    description varchar,\n",
      "    version varchar,\n",
      "    release_date varchar,\n",
      "    schema varchar\n",
      ") with (\n",
      "    format = 'parquet',\n",
      "    partitioning = ARRAY['dataset_key']\n",
      ")\n",
      "\n"
     ]
    }
   ],
   "source": [
    "schema_meta_table = create_table_schema_pairs(df_meta_table)\n",
    "tabledef = \"\"\"\n",
    "create table if not exists osc_datacommons_iceberg_dev.{sname}.{tname} (\n",
    "{schema}\n",
    ") with (\n",
    "    format = 'parquet',\n",
    "    partitioning = ARRAY['dataset_key']\n",
    ")\n",
    "\"\"\".format(schema=schema_meta_table, sname=meta_schema_name, tname=meta_table_name_dataset)\n",
    "print(tabledef)"
   ]
  },
  {
   "cell_type": "code",
   "execution_count": 26,
   "id": "06f6a5ad-f8bb-44d0-8e87-34576d08c1c5",
   "metadata": {},
   "outputs": [
    {
     "name": "stdout",
     "output_type": "stream",
     "text": [
      "(True,)\n"
     ]
    }
   ],
   "source": [
    "meta_table_create = engine.execute(tabledef)\n",
    "for row in meta_table_create.fetchall():\n",
    "    print(row)"
   ]
  },
  {
   "cell_type": "code",
   "execution_count": 27,
   "id": "bf59ca47-dae8-4883-b616-531f85be9e6f",
   "metadata": {},
   "outputs": [
    {
     "data": {
      "text/plain": [
       "['gppd',\n",
       " 'Global Power Plant Database',\n",
       " 'A comprehensive, global, open source database of power plants',\n",
       " '1.3.0',\n",
       " '20210602',\n",
       " 'wri_test']"
      ]
     },
     "execution_count": 27,
     "metadata": {},
     "output_type": "execute_result"
    }
   ],
   "source": [
    "list_values_meta_table = df_meta_table.values.tolist()\n",
    "list_values_meta_table[0]"
   ]
  },
  {
   "cell_type": "code",
   "execution_count": 28,
   "id": "2c6ef261-d51c-40bf-a1a1-bad4a0cd2b71",
   "metadata": {},
   "outputs": [
    {
     "name": "stdout",
     "output_type": "stream",
     "text": [
      "INSERT INTO osc_datacommons_iceberg_dev.metastore_iceberg.meta_tables_iceberg \n",
      "VALUES ('gppd', 'Global Power Plant Database', 'A comprehensive, global, open source database of power plants', '1.3.0', '20210602', 'wri_test')\n",
      "(1,)\n"
     ]
    }
   ],
   "source": [
    "joined_values = '(\\'' + list_values_meta_table[0][0] + '\\', \\'' + list_values_meta_table[0][1] + '\\', \\'' + list_values_meta_table[0][2] + '\\', \\'' + list_values_meta_table[0][3] + '\\', \\'' + list_values_meta_table[0][4] + '\\', \\'' + list_values_meta_table[0][5] + '\\')'\n",
    "insert_statement = \"\"\"INSERT INTO osc_datacommons_iceberg_dev.{sname}.{tname} \n",
    "VALUES \"\"\".format(sname=meta_schema_name,tname=meta_table_name_dataset) + joined_values\n",
    "print(insert_statement)\n",
    "run_statement = engine.execute(insert_statement)\n",
    "for row in run_statement.fetchall():\n",
    "    print(row)"
   ]
  },
  {
   "cell_type": "code",
   "execution_count": 29,
   "id": "45c0c4ea-89c6-4ab7-895c-89217f8c962d",
   "metadata": {},
   "outputs": [
    {
     "name": "stdout",
     "output_type": "stream",
     "text": [
      "SELECT * FROM osc_datacommons_iceberg_dev.metastore_iceberg.meta_tables_iceberg limit 10\n",
      "('gppd', 'Global Power Plant Database', 'A comprehensive, global, open source database of power plants', '1.3.0', '20210602', 'wri_test')\n"
     ]
    }
   ],
   "source": [
    "meta_query_table = ('SELECT * FROM osc_datacommons_iceberg_dev.{sname}.{tname} limit 10').format(sname=meta_schema_name,tname=meta_table_name_dataset)\n",
    "print(meta_query_table)\n",
    "meta_table_query = engine.execute(meta_query_table)\n",
    "for row in meta_table_query.fetchall():\n",
    "    print(row)"
   ]
  },
  {
   "cell_type": "markdown",
   "id": "f0ac0007-d564-46e8-a111-a568b05355de",
   "metadata": {},
   "source": [
    "Create metadata table for fields information"
   ]
  },
  {
   "cell_type": "code",
   "execution_count": 30,
   "id": "cc1964ef-40f5-4285-b65d-c02ba2aa053a",
   "metadata": {},
   "outputs": [
    {
     "name": "stdout",
     "output_type": "stream",
     "text": [
      "(True,)\n"
     ]
    }
   ],
   "source": [
    "table_check = engine.execute('drop table if exists osc_datacommons_iceberg_dev.' + meta_schema_name + '.' + meta_table_name_fields)\n",
    "for row in table_check.fetchall():\n",
    "    print(row)"
   ]
  },
  {
   "cell_type": "code",
   "execution_count": 31,
   "id": "4de0d1d2-1125-4286-b92c-b463f430e340",
   "metadata": {},
   "outputs": [
    {
     "name": "stdout",
     "output_type": "stream",
     "text": [
      "\n",
      "create table if not exists osc_datacommons_iceberg_dev.metastore_iceberg.meta_fields_iceberg (\n",
      "    field_name varchar,\n",
      "    definition varchar,\n",
      "    type varchar,\n",
      "    dataset_key varchar\n",
      ") with (\n",
      "    format = 'parquet',\n",
      "    partitioning = ARRAY['dataset_key']\n",
      ")\n",
      "\n"
     ]
    }
   ],
   "source": [
    "schema_meta_fields = create_table_schema_pairs(df_meta_fields)\n",
    "tabledef = \"\"\"\n",
    "create table if not exists osc_datacommons_iceberg_dev.{sname}.{tname} (\n",
    "{schema}\n",
    ") with (\n",
    "    format = 'parquet',\n",
    "    partitioning = ARRAY['dataset_key']\n",
    ")\n",
    "\"\"\".format(schema=schema_meta_fields, sname=meta_schema_name, tname=meta_table_name_fields)\n",
    "print(tabledef)"
   ]
  },
  {
   "cell_type": "code",
   "execution_count": 32,
   "id": "220516ae-6987-483b-b7e2-4b8ebaed083f",
   "metadata": {},
   "outputs": [
    {
     "name": "stdout",
     "output_type": "stream",
     "text": [
      "(True,)\n"
     ]
    }
   ],
   "source": [
    "meta_fields_create = engine.execute(tabledef)\n",
    "for row in meta_fields_create.fetchall():\n",
    "    print(row)"
   ]
  },
  {
   "cell_type": "code",
   "execution_count": 33,
   "id": "0683526c-3dea-404c-81bb-ae8450c11d32",
   "metadata": {},
   "outputs": [
    {
     "data": {
      "text/plain": [
       "['name', 'name of the power plant', 'text', 'gppd']"
      ]
     },
     "execution_count": 33,
     "metadata": {},
     "output_type": "execute_result"
    }
   ],
   "source": [
    "list_values_meta_fields = df_meta_fields.values.tolist()\n",
    "list_values_meta_fields[0]"
   ]
  },
  {
   "cell_type": "code",
   "execution_count": 34,
   "id": "184ce467-1528-4428-8695-fd2705a30b98",
   "metadata": {},
   "outputs": [
    {
     "name": "stdout",
     "output_type": "stream",
     "text": [
      "INSERT INTO osc_datacommons_iceberg_dev.metastore_iceberg.meta_fields_iceberg \n",
      "    VALUES ('name', 'name of the power plant', 'text', 'gppd')\n",
      "(1,)\n",
      "INSERT INTO osc_datacommons_iceberg_dev.metastore_iceberg.meta_fields_iceberg \n",
      "    VALUES ('capacity_gwh', 'electricity generation in gigawatt-hours', 'number', 'gppd')\n",
      "(1,)\n"
     ]
    }
   ],
   "source": [
    "list_fields_length = len(list_values_meta_fields)\n",
    "for i in range(list_fields_length):\n",
    "    joined_values = '(\\'' + list_values_meta_fields[i][0] + '\\', \\'' + list_values_meta_fields[i][1] + '\\', \\'' + list_values_meta_fields[i][2] + '\\', \\'' + list_values_meta_fields[i][3] + '\\')'\n",
    "    insert_statement = \"\"\"INSERT INTO osc_datacommons_iceberg_dev.{sname}.{tname} \n",
    "    VALUES \"\"\".format(sname=meta_schema_name, tname=meta_table_name_fields) + joined_values\n",
    "    print(insert_statement)\n",
    "    run_statement = engine.execute(insert_statement)\n",
    "    for row in run_statement.fetchall():\n",
    "        print(row)"
   ]
  },
  {
   "cell_type": "code",
   "execution_count": 35,
   "id": "540bcf2a-834f-4caf-8e35-d05b2ca32001",
   "metadata": {},
   "outputs": [
    {
     "name": "stdout",
     "output_type": "stream",
     "text": [
      "SELECT * FROM osc_datacommons_iceberg_dev.metastore_iceberg.meta_fields_iceberg limit 10\n",
      "('name', 'name of the power plant', 'text', 'gppd')\n",
      "('capacity_gwh', 'electricity generation in gigawatt-hours', 'number', 'gppd')\n"
     ]
    }
   ],
   "source": [
    "meta_query_fields = ('SELECT * FROM osc_datacommons_iceberg_dev.{sname}.{tname} limit 10').format(sname=meta_schema_name, tname=meta_table_name_fields)\n",
    "print(meta_query_fields)\n",
    "meta_fields_query = engine.execute(meta_query_fields)\n",
    "for row in meta_fields_query.fetchall():\n",
    "    print(row)"
   ]
  },
  {
   "cell_type": "markdown",
   "id": "824c6984-a7a8-4c23-8a71-4003cf768e11",
   "metadata": {},
   "source": [
    "Update the source data to create a new data set for ingestion"
   ]
  },
  {
   "cell_type": "code",
   "execution_count": 36,
   "id": "a67a3f92-4176-47fe-a314-333c76de18a2",
   "metadata": {
    "tags": []
   },
   "outputs": [
    {
     "data": {
      "text/html": [
       "<div>\n",
       "<style scoped>\n",
       "    .dataframe tbody tr th:only-of-type {\n",
       "        vertical-align: middle;\n",
       "    }\n",
       "\n",
       "    .dataframe tbody tr th {\n",
       "        vertical-align: top;\n",
       "    }\n",
       "\n",
       "    .dataframe thead th {\n",
       "        text-align: right;\n",
       "    }\n",
       "</style>\n",
       "<table border=\"1\" class=\"dataframe\">\n",
       "  <thead>\n",
       "    <tr style=\"text-align: right;\">\n",
       "      <th></th>\n",
       "      <th>name</th>\n",
       "      <th>capacity_gwh</th>\n",
       "      <th>uuid</th>\n",
       "    </tr>\n",
       "  </thead>\n",
       "  <tbody>\n",
       "    <tr>\n",
       "      <th>0</th>\n",
       "      <td>Albas</td>\n",
       "      <td>2.8</td>\n",
       "      <td>62f65f0d-6dcc-4265-8be1-c181945de9c2</td>\n",
       "    </tr>\n",
       "    <tr>\n",
       "      <th>1</th>\n",
       "      <td>Albi</td>\n",
       "      <td>6.90448</td>\n",
       "      <td>62f65f0d-6dcc-4265-8be1-c181945de9c2</td>\n",
       "    </tr>\n",
       "    <tr>\n",
       "      <th>2</th>\n",
       "      <td>Albias</td>\n",
       "      <td>2.2</td>\n",
       "      <td>62f65f0d-6dcc-4265-8be1-c181945de9c2</td>\n",
       "    </tr>\n",
       "    <tr>\n",
       "      <th>3</th>\n",
       "      <td>Allaire</td>\n",
       "      <td>7.4</td>\n",
       "      <td>62f65f0d-6dcc-4265-8be1-c181945de9c2</td>\n",
       "    </tr>\n",
       "  </tbody>\n",
       "</table>\n",
       "</div>"
      ],
      "text/plain": [
       "      name  capacity_gwh                                  uuid\n",
       "0    Albas           2.8  62f65f0d-6dcc-4265-8be1-c181945de9c2\n",
       "1     Albi       6.90448  62f65f0d-6dcc-4265-8be1-c181945de9c2\n",
       "2   Albias           2.2  62f65f0d-6dcc-4265-8be1-c181945de9c2\n",
       "3  Allaire           7.4  62f65f0d-6dcc-4265-8be1-c181945de9c2"
      ]
     },
     "execution_count": 36,
     "metadata": {},
     "output_type": "execute_result"
    }
   ],
   "source": [
    "# initialise new data for powerplants and capacity\n",
    "new_data = {'name':['Albas', 'Albi', 'Albias', 'Allaire'],\n",
    "        'capacity_gwh':[2.8, 6.90448, 2.20, 7.4]}\n",
    "# Create DataFrame\n",
    "new_df = pd.DataFrame(new_data)\n",
    "# Add a unique identifier to the data set\n",
    "uid = str(uuid.uuid4())\n",
    "new_df['uuid'] = uid\n",
    "# Print the output\n",
    "new_df = new_df.convert_dtypes()\n",
    "new_df"
   ]
  },
  {
   "cell_type": "code",
   "execution_count": 37,
   "id": "7a6e285c-3210-409a-a538-14e51f32a625",
   "metadata": {},
   "outputs": [
    {
     "data": {
      "text/plain": [
       "['Albas', 2.8, '62f65f0d-6dcc-4265-8be1-c181945de9c2']"
      ]
     },
     "execution_count": 37,
     "metadata": {},
     "output_type": "execute_result"
    }
   ],
   "source": [
    "new_list_values = new_df.values.tolist()\n",
    "new_list_values[0]"
   ]
  },
  {
   "cell_type": "markdown",
   "id": "520b0137-23f7-41f8-9de4-ad22e25eb1b6",
   "metadata": {},
   "source": [
    "Ingest new data set"
   ]
  },
  {
   "cell_type": "code",
   "execution_count": 38,
   "id": "87c9ed92-0316-476b-bd29-d3dc6df02b19",
   "metadata": {},
   "outputs": [
    {
     "name": "stdout",
     "output_type": "stream",
     "text": [
      "INSERT INTO osc_datacommons_iceberg_dev.wri_test.gppd_new \n",
      "    VALUES ('Albas', 2.8, '62f65f0d-6dcc-4265-8be1-c181945de9c2')\n",
      "(1,)\n",
      "INSERT INTO osc_datacommons_iceberg_dev.wri_test.gppd_new \n",
      "    VALUES ('Albi', 6.90448, '62f65f0d-6dcc-4265-8be1-c181945de9c2')\n",
      "(1,)\n",
      "INSERT INTO osc_datacommons_iceberg_dev.wri_test.gppd_new \n",
      "    VALUES ('Albias', 2.2, '62f65f0d-6dcc-4265-8be1-c181945de9c2')\n",
      "(1,)\n",
      "INSERT INTO osc_datacommons_iceberg_dev.wri_test.gppd_new \n",
      "    VALUES ('Allaire', 7.4, '62f65f0d-6dcc-4265-8be1-c181945de9c2')\n",
      "(1,)\n"
     ]
    }
   ],
   "source": [
    "list_length = len(new_list_values)\n",
    "for i in range(list_length):\n",
    "    joined_values = '(\\'' + new_list_values[i][0] + '\\', ' + str(new_list_values[i][1]) + ', \\'' + new_list_values[i][2] + '\\')'\n",
    "    insert_statement = \"\"\"INSERT INTO osc_datacommons_iceberg_dev.{sname}.{tname} \n",
    "    VALUES \"\"\".format(sname=schemaname, tname=tablename) + joined_values\n",
    "    print(insert_statement)\n",
    "    run_statement = engine.execute(insert_statement)\n",
    "    for row in run_statement.fetchall():\n",
    "        print(row)"
   ]
  },
  {
   "cell_type": "markdown",
   "id": "0e6be9f4-39c0-4095-9de9-a3be6682a238",
   "metadata": {},
   "source": [
    "Query data and Iceberg snapshot"
   ]
  },
  {
   "cell_type": "code",
   "execution_count": 39,
   "id": "9b7c6e46-3db0-4d70-827a-7e4132ca8601",
   "metadata": {},
   "outputs": [
    {
     "name": "stdout",
     "output_type": "stream",
     "text": [
      "SELECT * FROM osc_datacommons_iceberg_dev.wri_test.gppd_new limit 10\n",
      "('Albi', 6.90448, '62f65f0d-6dcc-4265-8be1-c181945de9c2')\n",
      "('Allaire', 7.4, '62f65f0d-6dcc-4265-8be1-c181945de9c2')\n",
      "('Albi', 6.70448, '32a98e7e-0f8e-4c76-86bb-7e598928d859')\n",
      "('Albias', 2.41, '32a98e7e-0f8e-4c76-86bb-7e598928d859')\n",
      "('Allaire', 8.2, '32a98e7e-0f8e-4c76-86bb-7e598928d859')\n",
      "('Albas', 2.8, '62f65f0d-6dcc-4265-8be1-c181945de9c2')\n",
      "('Albas', 1.8, '32a98e7e-0f8e-4c76-86bb-7e598928d859')\n",
      "('Albias', 2.2, '62f65f0d-6dcc-4265-8be1-c181945de9c2')\n"
     ]
    }
   ],
   "source": [
    "print(dataset_query)\n",
    "dataset = engine.execute(dataset_query)\n",
    "for row in dataset.fetchall():\n",
    "    print(row)"
   ]
  },
  {
   "cell_type": "code",
   "execution_count": 40,
   "id": "30713642-2a35-4a3f-bd1e-c9af57beca55",
   "metadata": {},
   "outputs": [
    {
     "name": "stdout",
     "output_type": "stream",
     "text": [
      "SELECT committed_at, snapshot_id, parent_id FROM osc_datacommons_iceberg_dev.wri_test.\"gppd_new$snapshots\"\n",
      "('2021-11-17 15:09:12.459 UTC', 9025854779685413976, None)\n",
      "('2021-11-17 15:09:21.143 UTC', 4181945915156604382, 9025854779685413976)\n",
      "('2021-11-17 15:09:22.030 UTC', 302793385755985542, 4181945915156604382)\n",
      "('2021-11-17 15:09:22.874 UTC', 4237598940379949314, 302793385755985542)\n",
      "('2021-11-17 15:09:23.879 UTC', 7161852363068757534, 4237598940379949314)\n",
      "('2021-11-17 15:10:38.231 UTC', 4462538251865928736, 7161852363068757534)\n",
      "('2021-11-17 15:10:39.343 UTC', 419656586561256577, 4462538251865928736)\n",
      "('2021-11-17 15:10:40.250 UTC', 2845024834783547281, 419656586561256577)\n",
      "('2021-11-17 15:10:41.306 UTC', 3968975231154658376, 2845024834783547281)\n"
     ]
    }
   ],
   "source": [
    "print(snapshot_query)\n",
    "dataset = engine.execute(snapshot_query)\n",
    "for row in dataset.fetchall():\n",
    "    print(row)"
   ]
  },
  {
   "cell_type": "markdown",
   "id": "0edfb329-fb1a-40b3-a2c2-161b6ff76f0f",
   "metadata": {},
   "source": [
    "Query only the first data set (Iceberg time machine)"
   ]
  },
  {
   "cell_type": "code",
   "execution_count": 41,
   "id": "6db8789c-45b4-4d9d-b5b5-0a4b38dfddfb",
   "metadata": {},
   "outputs": [
    {
     "name": "stdout",
     "output_type": "stream",
     "text": [
      "SELECT * FROM osc_datacommons_iceberg_dev.wri_test.\"gppd_new@7161852363068757534\"\n",
      "('Albias', 2.41, '32a98e7e-0f8e-4c76-86bb-7e598928d859')\n",
      "('Albi', 6.70448, '32a98e7e-0f8e-4c76-86bb-7e598928d859')\n",
      "('Albas', 1.8, '32a98e7e-0f8e-4c76-86bb-7e598928d859')\n",
      "('Allaire', 8.2, '32a98e7e-0f8e-4c76-86bb-7e598928d859')\n"
     ]
    }
   ],
   "source": [
    "past_dataset_query = ('SELECT * FROM osc_datacommons_iceberg_dev.{sname}.\\\"{tname}@7161852363068757534\\\"').format(sname=schemaname,tname=tablename)\n",
    "print(past_dataset_query)\n",
    "dataset = engine.execute(past_dataset_query)\n",
    "for row in dataset.fetchall():\n",
    "    print(row)"
   ]
  },
  {
   "cell_type": "markdown",
   "id": "91817f08-9b03-4c38-8c63-34ab12e8c26b",
   "metadata": {},
   "source": [
    "Rollback the second data set "
   ]
  },
  {
   "cell_type": "code",
   "execution_count": 42,
   "id": "212f352a-949a-42af-952b-492ff301fdc4",
   "metadata": {},
   "outputs": [
    {
     "name": "stdout",
     "output_type": "stream",
     "text": [
      "CALL osc_datacommons_iceberg_dev.system.rollback_to_snapshot('wri_test', 'gppd_new', 7161852363068757534)\n",
      "(True,)\n"
     ]
    }
   ],
   "source": [
    "rollback_request = ('CALL osc_datacommons_iceberg_dev.system.rollback_to_snapshot(\\'{sname}\\', \\'{tname}\\', 7161852363068757534)').format(sname=schemaname,tname=tablename)\n",
    "print(rollback_request)\n",
    "dataset = engine.execute(rollback_request)\n",
    "for row in dataset.fetchall():\n",
    "    print(row)"
   ]
  },
  {
   "cell_type": "markdown",
   "id": "6037ebb3-e5bd-4bb4-9f0d-19f543c30778",
   "metadata": {},
   "source": [
    "Query the full table again, the second data set has been rolled back"
   ]
  },
  {
   "cell_type": "code",
   "execution_count": 43,
   "id": "140b0f52-dfce-4db8-9825-1d7643906d8d",
   "metadata": {},
   "outputs": [
    {
     "name": "stdout",
     "output_type": "stream",
     "text": [
      "SELECT * FROM osc_datacommons_iceberg_dev.wri_test.gppd_new limit 10\n",
      "('Albi', 6.70448, '32a98e7e-0f8e-4c76-86bb-7e598928d859')\n",
      "('Albias', 2.41, '32a98e7e-0f8e-4c76-86bb-7e598928d859')\n",
      "('Allaire', 8.2, '32a98e7e-0f8e-4c76-86bb-7e598928d859')\n",
      "('Albas', 1.8, '32a98e7e-0f8e-4c76-86bb-7e598928d859')\n"
     ]
    }
   ],
   "source": [
    "print(dataset_query)\n",
    "dataset = engine.execute(dataset_query)\n",
    "for row in dataset.fetchall():\n",
    "    print(row)"
   ]
  },
  {
   "cell_type": "code",
   "execution_count": null,
   "id": "ee3da6ac-66fc-4987-81a7-dd65fd58e4c2",
   "metadata": {},
   "outputs": [],
   "source": []
  }
 ],
 "metadata": {
  "kernelspec": {
   "display_name": "Python 3",
   "language": "python",
   "name": "python3"
  },
  "language_info": {
   "codemirror_mode": {
    "name": "ipython",
    "version": 3
   },
   "file_extension": ".py",
   "mimetype": "text/x-python",
   "name": "python",
   "nbconvert_exporter": "python",
   "pygments_lexer": "ipython3",
   "version": "3.8.3"
  }
 },
 "nbformat": 4,
 "nbformat_minor": 5
}
