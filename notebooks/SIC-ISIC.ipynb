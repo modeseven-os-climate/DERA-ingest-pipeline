{
 "cells": [
  {
   "cell_type": "markdown",
   "id": "a2b92125-628b-460a-ab68-a20d7e099288",
   "metadata": {},
   "source": [
    "Create an SIC <-> ISIC Crosswalk by hand.  This gets wiped every time the main DERA ingestion runs, but can be run after that any number of times"
   ]
  },
  {
   "cell_type": "code",
   "execution_count": null,
   "id": "153b3a7b-6abe-45bb-86fc-4599fa02f148",
   "metadata": {},
   "outputs": [],
   "source": [
    "import os\n",
    "from sqlalchemy import text\n",
    "import osc_ingest_trino as osc\n",
    "\n",
    "# For now...fix when _do_sql is exposed as public interface\n",
    "from osc_ingest_trino.trino_utils import _do_sql as osc_do_sql\n",
    "\n",
    "import pandas as pd"
   ]
  },
  {
   "cell_type": "markdown",
   "id": "67eb696d-e7cb-4f4b-b486-84a187d8292e",
   "metadata": {},
   "source": [
    "Load Credentials"
   ]
  },
  {
   "cell_type": "code",
   "execution_count": null,
   "id": "7b548af2-fe6f-453b-8b3d-0e328b0c672b",
   "metadata": {
    "tags": []
   },
   "outputs": [],
   "source": [
    "# From the AWS Account page, copy the export scripts from the appropriate role using the \"Command Line or Programmatic Access\" link\n",
    "# Paste the copied text into ~/credentials.env\n",
    "\n",
    "# Load environment variables from credentials.env\n",
    "osc.load_credentials_dotenv()"
   ]
  },
  {
   "cell_type": "markdown",
   "id": "402bded6-2292-428a-b07a-42adca0b1d4a",
   "metadata": {},
   "source": [
    "Open a Trino connection using JWT for authentication"
   ]
  },
  {
   "cell_type": "code",
   "execution_count": null,
   "id": "aeaacc26-b431-42ee-9587-fbcc3941f173",
   "metadata": {},
   "outputs": [],
   "source": [
    "iceberg_catalog = \"osc_datacommons_dev\"\n",
    "iceberg_schema = \"mdt_sandbox\"\n",
    "\n",
    "engine = osc.attach_trino_engine(verbose=True, catalog=iceberg_catalog, schema=iceberg_schema)\n",
    "cxn = engine.connect()"
   ]
  },
  {
   "cell_type": "code",
   "execution_count": null,
   "id": "3af246c5-408a-45f7-b9b7-f935cf3cc1f5",
   "metadata": {
    "tags": []
   },
   "outputs": [],
   "source": [
    "# bucket must be configured with credentials for trino, and accessible to the hive catalog\n",
    "# You may need to use a different prefix here depending on how you name your credentials.env variables\n",
    "hive_bucket = osc.attach_s3_bucket(\"S3_HIVE\")"
   ]
  },
  {
   "cell_type": "code",
   "execution_count": null,
   "id": "adfb4a52-b0c9-4299-b9ec-42eaafd23cf1",
   "metadata": {},
   "outputs": [],
   "source": [
    "# Show available schemas to ensure trino connection is set correctly\n",
    "schema_read = cxn.execute(text(f\"show schemas in {iceberg_catalog}\"))\n",
    "if schema_read.returns_rows:\n",
    "    for row in schema_read.fetchall():\n",
    "        print(row)"
   ]
  },
  {
   "cell_type": "markdown",
   "id": "04c29eef-6e48-4664-9323-79ba8907a029",
   "metadata": {},
   "source": [
    "For now, create SIC -> ISIC crosswalk by hand"
   ]
  },
  {
   "cell_type": "code",
   "execution_count": null,
   "id": "7d61ef14-6987-43c6-a407-61a90b4684e7",
   "metadata": {},
   "outputs": [],
   "source": [
    "sic_isic = {\n",
    "    1400: 1410,  # Mining\n",
    "    2911: 1920,  # Petroleum refining\n",
    "    3714: 2910,  # Motor Vehicle Manufacturing\n",
    "    3829: 3190,  # Measuring & Controlling Devices (Midwest Energy Emissions Corp (MEEC))\n",
    "    3310: 2410,  # STEEL WORKS, BLAST FURNACES & ROLLING & FINISHING MILLS\n",
    "    3311: 2410,  # ???\n",
    "    3312: 2410,  # STEEL WORKS, BLAST FURNACES & ROLLING MILLS (COKE OVENS)\n",
    "    3313: 2410,  # Iron and Steel Mills and Ferroalloy Mfg.\n",
    "    3315: 2410,  # Steel Wire Drawing\n",
    "    3316: 2410,  # Rolled Steel Shape Mfg.\n",
    "    3317: 2410,  # Iron and Steel Pipe and Tube Mfg. from Purchased Steel (should be relatively larger S3 emissions, lower S1+S2 emissions per ton)\n",
    "    4911: 4010,  # Electricity Generation\n",
    "    4931: 4010,  # Electricity Generation\n",
    "    4932: 4010,  # Electricity Generation\n",
    "    4991: 4010,  # Typo?\n",
    "}\n",
    "\n",
    "df = pd.DataFrame.from_dict(sic_isic, orient=\"index\", columns=[\"isic\"])\n",
    "df.reset_index(inplace=True)\n",
    "df.rename(columns={\"index\": \"sic\"}, inplace=True)\n",
    "df"
   ]
  },
  {
   "cell_type": "code",
   "execution_count": null,
   "id": "c8c7ffb3-9d44-4320-9ab6-1d08b8a85935",
   "metadata": {},
   "outputs": [],
   "source": [
    "iceberg_table = \"sic_isic\"\n",
    "drop_table = osc_do_sql(f\"drop table if exists {iceberg_schema}.{iceberg_table}\", engine, verbose=True)\n",
    "\n",
    "columnschema = osc.create_table_schema_pairs(df)\n",
    "tabledef = f\"\"\"\n",
    "create table if not exists {iceberg_catalog}.{iceberg_schema}.{iceberg_table}(\n",
    "{columnschema}\n",
    ") with (\n",
    "format = 'ORC'\n",
    ")\"\"\"\n",
    "print(tabledef)\n",
    "qres = osc_do_sql(tabledef, engine, verbose=True)\n",
    "\n",
    "df.to_sql(\n",
    "    iceberg_table,\n",
    "    con=engine,\n",
    "    schema=iceberg_schema,\n",
    "    if_exists=\"append\",\n",
    "    index=False,\n",
    "    method=osc.TrinoBatchInsert(batch_size=5000, verbose=True),\n",
    ")"
   ]
  },
  {
   "cell_type": "code",
   "execution_count": null,
   "id": "33f966fb-c16f-4f66-9777-6137d7eba4ea",
   "metadata": {},
   "outputs": [],
   "source": []
  }
 ],
 "metadata": {
  "kernelspec": {
   "display_name": "Python 3 (ipykernel)",
   "language": "python",
   "name": "python3"
  },
  "language_info": {
   "codemirror_mode": {
    "name": "ipython",
    "version": 3
   },
   "file_extension": ".py",
   "mimetype": "text/x-python",
   "name": "python",
   "nbconvert_exporter": "python",
   "pygments_lexer": "ipython3",
   "version": "3.11.4"
  }
 },
 "nbformat": 4,
 "nbformat_minor": 5
}
