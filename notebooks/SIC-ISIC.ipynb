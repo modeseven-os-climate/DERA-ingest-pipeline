{
 "cells": [
  {
   "cell_type": "markdown",
   "id": "a2b92125-628b-460a-ab68-a20d7e099288",
   "metadata": {},
   "source": [
    "Create an SIC <-> ISIC Crosswalk by hand.  This gets wiped every time the main DERA ingestion runs, but can be run after that any number of times"
   ]
  },
  {
   "cell_type": "code",
   "execution_count": 1,
   "id": "153b3a7b-6abe-45bb-86fc-4599fa02f148",
   "metadata": {},
   "outputs": [],
   "source": [
    "import osc_ingest_trino as osc\n",
    "# For now...fix when _do_sql is exposed as public interface\n",
    "from osc_ingest_trino.trino_utils import _do_sql as osc_do_sql\n",
    "import os"
   ]
  },
  {
   "cell_type": "markdown",
   "id": "67eb696d-e7cb-4f4b-b486-84a187d8292e",
   "metadata": {},
   "source": [
    "Load Credentials"
   ]
  },
  {
   "cell_type": "code",
   "execution_count": 2,
   "id": "7b548af2-fe6f-453b-8b3d-0e328b0c672b",
   "metadata": {
    "tags": []
   },
   "outputs": [],
   "source": [
    "# From the AWS Account page, copy the export scripts from the appropriate role using the \"Command Line or Programmatic Access\" link\n",
    "# Paste the copied text into ~/credentials.env\n",
    "\n",
    "# Load environment variables from credentials.env\n",
    "osc.load_credentials_dotenv()"
   ]
  },
  {
   "cell_type": "markdown",
   "id": "402bded6-2292-428a-b07a-42adca0b1d4a",
   "metadata": {},
   "source": [
    "Open a Trino connection using JWT for authentication"
   ]
  },
  {
   "cell_type": "code",
   "execution_count": 3,
   "id": "aeaacc26-b431-42ee-9587-fbcc3941f173",
   "metadata": {},
   "outputs": [
    {
     "name": "stdout",
     "output_type": "stream",
     "text": [
      "using connect string: trino://MichaelTiemannOSC@trino-secure-odh-trino.apps.odh-cl2.apps.os-climate.org:443/osc_datacommons_dev/mdt_sandbox\n"
     ]
    }
   ],
   "source": [
    "iceberg_catalog = 'osc_datacommons_dev'\n",
    "iceberg_schema = 'mdt_sandbox'\n",
    "\n",
    "engine = osc.attach_trino_engine(verbose=True, catalog=iceberg_catalog, schema=iceberg_schema)"
   ]
  },
  {
   "cell_type": "code",
   "execution_count": 4,
   "id": "3af246c5-408a-45f7-b9b7-f935cf3cc1f5",
   "metadata": {
    "tags": []
   },
   "outputs": [],
   "source": [
    "# bucket must be configured with credentials for trino, and accessible to the hive catalog\n",
    "# You may need to use a different prefix here depending on how you name your credentials.env variables\n",
    "hive_bucket = osc.attach_s3_bucket('S3_HIVE')"
   ]
  },
  {
   "cell_type": "code",
   "execution_count": 5,
   "id": "adfb4a52-b0c9-4299-b9ec-42eaafd23cf1",
   "metadata": {},
   "outputs": [
    {
     "name": "stdout",
     "output_type": "stream",
     "text": [
      "('aicoe_osc_demo_results',)\n",
      "('default',)\n",
      "('demo_dv',)\n",
      "('dera',)\n",
      "('essd',)\n",
      "('iceberg_demo',)\n",
      "('information_schema',)\n",
      "('ingest',)\n",
      "('mdt_sandbox',)\n",
      "('pcaf_sovereign_footprint',)\n",
      "('sandbox',)\n",
      "('wri_gppd',)\n"
     ]
    },
    {
     "name": "stderr",
     "output_type": "stream",
     "text": [
      "/tmp/ipykernel_1374/1667918786.py:2: RemovedIn20Warning: Deprecated API features detected! These feature(s) are not compatible with SQLAlchemy 2.0. To prevent incompatible upgrades prior to updating applications, ensure requirements files are pinned to \"sqlalchemy<2.0\". Set environment variable SQLALCHEMY_WARN_20=1 to show all deprecation warnings.  Set environment variable SQLALCHEMY_SILENCE_UBER_WARNING=1 to silence this message. (Background on SQLAlchemy 2.0 at: https://sqlalche.me/e/b8d9)\n",
      "  schema_read = engine.execute(f'show schemas in {iceberg_catalog}')\n"
     ]
    }
   ],
   "source": [
    "# Show available schemas to ensure trino connection is set correctly\n",
    "schema_read = engine.execute(f'show schemas in {iceberg_catalog}')\n",
    "for row in schema_read.fetchall():\n",
    "    print(row)"
   ]
  },
  {
   "cell_type": "markdown",
   "id": "28a53a70-a725-4e56-ba9a-3d7d6c2790d4",
   "metadata": {},
   "source": [
    "Enter the Pandas!"
   ]
  },
  {
   "cell_type": "code",
   "execution_count": 6,
   "id": "991fbe0f-96a7-4076-af17-5e52fce5a702",
   "metadata": {},
   "outputs": [],
   "source": [
    "import pandas as pd"
   ]
  },
  {
   "cell_type": "markdown",
   "id": "04c29eef-6e48-4664-9323-79ba8907a029",
   "metadata": {},
   "source": [
    "For now, create SIC -> ISIC crosswalk by hand"
   ]
  },
  {
   "cell_type": "code",
   "execution_count": 7,
   "id": "7d61ef14-6987-43c6-a407-61a90b4684e7",
   "metadata": {},
   "outputs": [
    {
     "data": {
      "text/html": [
       "<div>\n",
       "<style scoped>\n",
       "    .dataframe tbody tr th:only-of-type {\n",
       "        vertical-align: middle;\n",
       "    }\n",
       "\n",
       "    .dataframe tbody tr th {\n",
       "        vertical-align: top;\n",
       "    }\n",
       "\n",
       "    .dataframe thead th {\n",
       "        text-align: right;\n",
       "    }\n",
       "</style>\n",
       "<table border=\"1\" class=\"dataframe\">\n",
       "  <thead>\n",
       "    <tr style=\"text-align: right;\">\n",
       "      <th></th>\n",
       "      <th>sic</th>\n",
       "      <th>isic</th>\n",
       "    </tr>\n",
       "  </thead>\n",
       "  <tbody>\n",
       "    <tr>\n",
       "      <th>0</th>\n",
       "      <td>1400</td>\n",
       "      <td>1410</td>\n",
       "    </tr>\n",
       "    <tr>\n",
       "      <th>1</th>\n",
       "      <td>2911</td>\n",
       "      <td>1920</td>\n",
       "    </tr>\n",
       "    <tr>\n",
       "      <th>2</th>\n",
       "      <td>3714</td>\n",
       "      <td>2910</td>\n",
       "    </tr>\n",
       "    <tr>\n",
       "      <th>3</th>\n",
       "      <td>3829</td>\n",
       "      <td>3190</td>\n",
       "    </tr>\n",
       "    <tr>\n",
       "      <th>4</th>\n",
       "      <td>3310</td>\n",
       "      <td>2410</td>\n",
       "    </tr>\n",
       "    <tr>\n",
       "      <th>5</th>\n",
       "      <td>3311</td>\n",
       "      <td>2410</td>\n",
       "    </tr>\n",
       "    <tr>\n",
       "      <th>6</th>\n",
       "      <td>3312</td>\n",
       "      <td>2410</td>\n",
       "    </tr>\n",
       "    <tr>\n",
       "      <th>7</th>\n",
       "      <td>3313</td>\n",
       "      <td>2410</td>\n",
       "    </tr>\n",
       "    <tr>\n",
       "      <th>8</th>\n",
       "      <td>3315</td>\n",
       "      <td>2410</td>\n",
       "    </tr>\n",
       "    <tr>\n",
       "      <th>9</th>\n",
       "      <td>3316</td>\n",
       "      <td>2410</td>\n",
       "    </tr>\n",
       "    <tr>\n",
       "      <th>10</th>\n",
       "      <td>3317</td>\n",
       "      <td>2410</td>\n",
       "    </tr>\n",
       "    <tr>\n",
       "      <th>11</th>\n",
       "      <td>4911</td>\n",
       "      <td>4010</td>\n",
       "    </tr>\n",
       "    <tr>\n",
       "      <th>12</th>\n",
       "      <td>4931</td>\n",
       "      <td>4010</td>\n",
       "    </tr>\n",
       "    <tr>\n",
       "      <th>13</th>\n",
       "      <td>4932</td>\n",
       "      <td>4010</td>\n",
       "    </tr>\n",
       "    <tr>\n",
       "      <th>14</th>\n",
       "      <td>4991</td>\n",
       "      <td>4010</td>\n",
       "    </tr>\n",
       "  </tbody>\n",
       "</table>\n",
       "</div>"
      ],
      "text/plain": [
       "     sic  isic\n",
       "0   1400  1410\n",
       "1   2911  1920\n",
       "2   3714  2910\n",
       "3   3829  3190\n",
       "4   3310  2410\n",
       "5   3311  2410\n",
       "6   3312  2410\n",
       "7   3313  2410\n",
       "8   3315  2410\n",
       "9   3316  2410\n",
       "10  3317  2410\n",
       "11  4911  4010\n",
       "12  4931  4010\n",
       "13  4932  4010\n",
       "14  4991  4010"
      ]
     },
     "execution_count": 7,
     "metadata": {},
     "output_type": "execute_result"
    }
   ],
   "source": [
    "sic_isic = {\n",
    "    1400: 1410, # Mining\n",
    "    2911: 1920, # Petroleum refining\n",
    "    3714: 2910, # Motor Vehicle Manufacturing\n",
    "    3829: 3190, # Measuring & Controlling Devices (Midwest Energy Emissions Corp (MEEC))\n",
    "    3310: 2410, # STEEL WORKS, BLAST FURNACES & ROLLING & FINISHING MILLS\n",
    "    3311: 2410, # ???\n",
    "    3312: 2410, # STEEL WORKS, BLAST FURNACES & ROLLING MILLS (COKE OVENS)\n",
    "    3313: 2410, # Iron and Steel Mills and Ferroalloy Mfg.\n",
    "    3315: 2410, # Steel Wire Drawing\n",
    "    3316: 2410, # Rolled Steel Shape Mfg.\n",
    "    3317: 2410, # Iron and Steel Pipe and Tube Mfg. from Purchased Steel (should be relatively larger S3 emissions, lower S1+S2 emissions per ton)\n",
    "    4911: 4010, # Electricity Generation\n",
    "    4931: 4010, # Electricity Generation\n",
    "    4932: 4010, # Electricity Generation\n",
    "    4991: 4010, # Typo?\n",
    "}\n",
    "\n",
    "df = pd.DataFrame.from_dict(sic_isic, orient='index', columns=['isic'])\n",
    "df.reset_index(inplace=True)\n",
    "df.rename(columns={'index':'sic'}, inplace=True)\n",
    "df"
   ]
  },
  {
   "cell_type": "code",
   "execution_count": 8,
   "id": "c8c7ffb3-9d44-4320-9ab6-1d08b8a85935",
   "metadata": {},
   "outputs": [
    {
     "name": "stdout",
     "output_type": "stream",
     "text": [
      "drop table if exists mdt_sandbox.sic_isic\n",
      "\n",
      "create table if not exists osc_datacommons_dev.mdt_sandbox.sic_isic(\n",
      "    sic bigint,\n",
      "    isic bigint\n",
      ") with (\n",
      "format = 'ORC'\n",
      ")\n",
      "\n",
      "\n",
      "create table if not exists osc_datacommons_dev.mdt_sandbox.sic_isic(\n",
      "    sic bigint,\n",
      "    isic bigint\n",
      ") with (\n",
      "format = 'ORC'\n",
      ")\n",
      "\n",
      "constructed fully qualified table name as: \"mdt_sandbox.sic_isic\"\n",
      "inserting 15 records\n",
      "  (1400, 1410)\n",
      "  (2911, 1920)\n",
      "  (3714, 2910)\n",
      "  ...\n",
      "  (4991, 4010)\n",
      "batch insert result: [(15,)]\n"
     ]
    }
   ],
   "source": [
    "iceberg_table = 'sic_isic'\n",
    "drop_table = osc_do_sql(f\"drop table if exists {iceberg_schema}.{iceberg_table}\", engine, verbose=True)\n",
    "\n",
    "columnschema = osc.create_table_schema_pairs(df)\n",
    "tabledef = f\"\"\"\n",
    "create table if not exists {iceberg_catalog}.{iceberg_schema}.{iceberg_table}(\n",
    "{columnschema}\n",
    ") with (\n",
    "format = 'ORC'\n",
    ")\n",
    "\"\"\"\n",
    "print(tabledef)\n",
    "qres = osc_do_sql(tabledef, engine, verbose=True)\n",
    "\n",
    "df.to_sql(iceberg_table,\n",
    "          con=engine, schema=iceberg_schema, if_exists='append',\n",
    "          index=False,\n",
    "          method=osc.TrinoBatchInsert(batch_size=5000, verbose = True))"
   ]
  },
  {
   "cell_type": "code",
   "execution_count": null,
   "id": "33f966fb-c16f-4f66-9777-6137d7eba4ea",
   "metadata": {},
   "outputs": [],
   "source": []
  }
 ],
 "metadata": {
  "kernelspec": {
   "display_name": "Python 3 (ipykernel)",
   "language": "python",
   "name": "python3"
  },
  "language_info": {
   "codemirror_mode": {
    "name": "ipython",
    "version": 3
   },
   "file_extension": ".py",
   "mimetype": "text/x-python",
   "name": "python",
   "nbconvert_exporter": "python",
   "pygments_lexer": "ipython3",
   "version": "3.8.8"
  }
 },
 "nbformat": 4,
 "nbformat_minor": 5
}
