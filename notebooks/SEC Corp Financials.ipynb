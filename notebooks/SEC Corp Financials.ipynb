{
 "cells": [
  {
   "cell_type": "markdown",
   "id": "1ce1cf9f-2d20-460b-8d10-184e8af19c25",
   "metadata": {},
   "source": [
    "# Create VIEWs on SEC DERA data by LEI\n",
    "\n",
    "## Full-year FY REVENUES\n",
    "\n",
    "## Point-in-time FLOAT, DEBT, CASH, ASSETS, (EV = FLOAT + DEBT - CASH, EVIC = FLOAT + DEBT)"
   ]
  },
  {
   "cell_type": "code",
   "execution_count": 1,
   "id": "2e31920e-a97e-427d-9102-ac2d4e6898ca",
   "metadata": {},
   "outputs": [],
   "source": [
    "import os\n",
    "import pathlib\n",
    "from dotenv import load_dotenv\n",
    "\n",
    "# Load some standard environment variables from a dot-env file, if it exists.\n",
    "# If no such file can be found, does not fail, and so allows these environment vars to\n",
    "# be populated in some other way\n",
    "dotenv_dir = os.environ.get('CREDENTIAL_DOTENV_DIR', os.environ.get('PWD', '/opt/app-root/src'))\n",
    "dotenv_path = pathlib.Path(dotenv_dir) / 'credentials.env'\n",
    "if os.path.exists(dotenv_path):\n",
    "    load_dotenv(dotenv_path=dotenv_path,override=True)"
   ]
  },
  {
   "cell_type": "markdown",
   "id": "f0606067-d586-41b0-a7dd-c6d7727c6b1f",
   "metadata": {},
   "source": [
    "Set session variable CATALOG to make query terms much more compact"
   ]
  },
  {
   "cell_type": "code",
   "execution_count": 2,
   "id": "ab600994-3dc8-4b3c-943c-af43a29db1e6",
   "metadata": {},
   "outputs": [],
   "source": [
    "import trino\n",
    "from sqlalchemy.engine import create_engine\n",
    "\n",
    "env_var_prefix = 'TRINO'\n",
    "\n",
    "sqlstring = 'trino://{user}@{host}:{port}/'.format(\n",
    "    user = os.environ[f'{env_var_prefix}_USER'],\n",
    "    host = os.environ[f'{env_var_prefix}_HOST'],\n",
    "    port = os.environ[f'{env_var_prefix}_PORT']\n",
    ")\n",
    "sqlargs = {\n",
    "    'auth': trino.auth.JWTAuthentication(os.environ[f'{env_var_prefix}_PASSWD']),\n",
    "    'http_scheme': 'https',\n",
    "    'catalog': 'osc_datacommons_dev'\n",
    "}\n",
    "engine = create_engine(sqlstring, connect_args = sqlargs)\n",
    "connection = engine.connect()\n",
    "\n",
    "import pandas as pd"
   ]
  },
  {
   "cell_type": "code",
   "execution_count": 3,
   "id": "24ae6a0b-f082-42ed-9e84-1c89c228fa42",
   "metadata": {},
   "outputs": [],
   "source": [
    "from osc_ingest_trino import *\n",
    "\n",
    "trino_bucket = attach_s3_bucket(\"S3_DEV\")"
   ]
  },
  {
   "cell_type": "code",
   "execution_count": 4,
   "id": "e03bbfa1-046d-4dc3-9cee-02ba6a490d03",
   "metadata": {},
   "outputs": [
    {
     "name": "stdout",
     "output_type": "stream",
     "text": [
      "[(True,)]\n",
      "[(True,)]\n",
      "[(True,)]\n",
      "[(True,)]\n",
      "[(True,)]\n"
     ]
    }
   ],
   "source": [
    "for tbl in ['t_r', 't_f', 't_d', 't_c', 't_a']:\n",
    "    qres = engine.execute(f\"drop table if exists sec_dera.{tbl}\")\n",
    "    print(qres.fetchall())"
   ]
  },
  {
   "cell_type": "markdown",
   "id": "864d8afe-6053-4ab2-9418-42d089bb164c",
   "metadata": {},
   "source": [
    "### Revenue\n",
    "\n",
    "For this table and others, we do not yet implement a mechanism for prioritizing amended values over initially reported values.  That is a TODO."
   ]
  },
  {
   "cell_type": "raw",
   "id": "7a3e222a-b460-4859-9fd4-329330b1b1ae",
   "metadata": {},
   "source": [
    "# There are 56 of these and each one has a colorful explanation as to why the report data and the fiscal year are so misaligned\n",
    "\n",
    "engine.execute(\"select S.adsh, cik, fy, name from sec_dera.sub as S where S.form='10-K' and S.fy>=DATE('2018-01-01') and S.fy<DATE('2019-01-01')\").fetchall()"
   ]
  },
  {
   "cell_type": "markdown",
   "id": "713537b4-99e2-4bcc-8569-b6e682d94253",
   "metadata": {},
   "source": [
    "engine.execute(\"select *, if (fp='','fp should not be empty string', '') from sec_dera.sub as S where S.form='10-K' and S.fp!='FY'\").fetchall()"
   ]
  },
  {
   "cell_type": "code",
   "execution_count": 5,
   "id": "5d53b4d4-5f42-472a-aa0d-0f6c8341b796",
   "metadata": {},
   "outputs": [
    {
     "data": {
      "text/plain": [
       "[(True,)]"
      ]
     },
     "metadata": {},
     "output_type": "display_data"
    },
    {
     "data": {
      "text/plain": [
       "[(9598,)]"
      ]
     },
     "metadata": {},
     "output_type": "display_data"
    },
    {
     "data": {
      "text/plain": [
       "[(9598,)]"
      ]
     },
     "metadata": {},
     "output_type": "display_data"
    }
   ],
   "source": [
    "qres = engine.execute(\"drop table if exists sec_dera.t_r\").fetchall()\n",
    "qres = engine.execute(\"\"\"\n",
    "create or replace view sec_dera.fy_revenue_by_lei as\n",
    "select S.adsh, cik, name, lei, sic, fy, N.ddate, max(value) as revenue\n",
    "from sec_dera.sub as S join sec_dera.num as N on S.adsh=N.adsh and year(S.fy)=year(N.ddate)\n",
    "where (S.form='10-K' or S.form='20-F')\n",
    "        and S.fy>=DATE('2019-01-01')\n",
    "        and coreg is NULL\n",
    "        and qtrs=4\n",
    "        and uom='USD'\n",
    "        and (N.tag='Revenues'\n",
    "             or N.tag='RevenueFromContractWithCustomerIncludingAssessedTax'\n",
    "             or N.tag='RevenueFromContractWithCustomerExcludingAssessedTax'\n",
    "             or N.tag='RevenuesNetOfInterestExpense'\n",
    "             or N.tag='RegulatedAndUnregulatedOperatingRevenue'\n",
    "             or N.tag='RegulatedOperatingRevenuePipelines')\n",
    "group by S.adsh, cik, name, lei, sic, fy, N.ddate\n",
    "\"\"\")\n",
    "display(qres.fetchall())\n",
    "\n",
    "qres = engine.execute(\"\"\"\n",
    "create table sec_dera.t_r as\n",
    "select * from sec_dera.fy_revenue_by_lei order by fy asc, name asc\n",
    "\"\"\")\n",
    "display(qres.fetchall())"
   ]
  },
  {
   "cell_type": "raw",
   "id": "f4be2556-cee2-48da-849a-272758c208df",
   "metadata": {},
   "source": [
    "engine.execute(\"select * from sec_dera.t_r where name='INDEPENDENT BANK CORP'\").fetchall()"
   ]
  },
  {
   "cell_type": "markdown",
   "id": "fe80a6f7-32f7-4ecc-970d-580fd1bdb2b0",
   "metadata": {},
   "source": [
    "### Float (market cap)\n",
    "\n",
    "TODO: The float calculation reads the reported overall float without regard to share class.  For companies that have multiple associated tickers, this gives wrong results.  And probably very wrong results for BRK.A vs. BRK.B"
   ]
  },
  {
   "cell_type": "raw",
   "id": "36ccac7d-75ce-418a-a4a5-9283d587855c",
   "metadata": {},
   "source": [
    "engine.execute(\"select count (*), tag from sec_dera.num where tag like '%Float%' and tag not like '%Floating%' and tag not like '%Floater%' group by tag order by tag\").fetchall()"
   ]
  },
  {
   "cell_type": "raw",
   "id": "ce7c1afa-d29a-4a9c-8a51-33229cf0e801",
   "metadata": {},
   "source": [
    "engine.execute(\"select count (*) from sec_dera.sub as S join sec_dera.float_by_adsh_ddate as AD on S.adsh=AD.adsh where (S.form!='10-K' and S.form!='20-F')\").fetchall()"
   ]
  },
  {
   "cell_type": "code",
   "execution_count": 6,
   "id": "ab885e9c-d073-4493-8576-0a5bfe151df3",
   "metadata": {},
   "outputs": [
    {
     "name": "stdout",
     "output_type": "stream",
     "text": [
      "[(True,)]\n"
     ]
    },
    {
     "data": {
      "text/plain": [
       "[(True,)]"
      ]
     },
     "metadata": {},
     "output_type": "display_data"
    },
    {
     "data": {
      "text/plain": [
       "[(10786,)]"
      ]
     },
     "metadata": {},
     "output_type": "display_data"
    }
   ],
   "source": [
    "qres = engine.execute(\"drop table if exists sec_dera.t_f\").fetchall()\n",
    "qres = engine.execute(\"\"\"\n",
    "create or replace view sec_dera.float_by_adsh_ddate as\n",
    "select S.adsh, fy, max(ddate) as f_ddate\n",
    "from sec_dera.sub as S join sec_dera.num as N on S.adsh=N.adsh and year(S.fy)=year(N.ddate)\n",
    "where (S.form='10-K' or S.form='20-F')\n",
    "        and S.fy>=DATE('2019-01-01')\n",
    "        and coreg is NULL\n",
    "        and qtrs=0\n",
    "        and uom='USD'\n",
    "        and (tag='EntityPublicFloat'\n",
    "             or tag='EntitysPublicFloat'\n",
    "             or tag='FreeFloat'\n",
    "             or tag='PublicFloat'\n",
    "             or tag='PublicFloatValue')\n",
    "group by S.adsh, fy\n",
    "\"\"\")\n",
    "print(qres.fetchall())\n",
    "\n",
    "qres = engine.execute(\"\"\"\n",
    "create or replace view sec_dera.float_by_lei as\n",
    "select S.adsh, S.cik, name, lei, tname, sic, S.fy, N.ddate, max(value) as market_cap\n",
    "from sec_dera.sub as S\n",
    "     join sec_dera.float_by_adsh_ddate as AD on S.adsh=AD.adsh -- and S.fy=AD.fy\n",
    "     join sec_dera.num as N on AD.adsh=N.adsh and AD.f_ddate=N.ddate\n",
    "     left join sec_dera.ticker T on S.cik=T.cik\n",
    "     -- we already know we are looking at the correct S.form type\n",
    "where value>0\n",
    "      and coreg is NULL\n",
    "      and qtrs=0\n",
    "      and uom='USD'\n",
    "      and (tag='EntityPublicFloat'\n",
    "           or tag='EntitysPublicFloat'\n",
    "           or tag='FreeFloat'\n",
    "           or tag='PublicFloat'\n",
    "           or tag='PublicFloatValue')\n",
    "group by S.adsh, S.cik, name, lei, tname, sic, S.fy, N.ddate\n",
    "\"\"\")\n",
    "display(qres.fetchall())\n",
    "\n",
    "qres = engine.execute(\"\"\"\n",
    "create table sec_dera.t_f as select * from sec_dera.float_by_lei\n",
    "\"\"\")\n",
    "display(qres.fetchall())"
   ]
  },
  {
   "cell_type": "raw",
   "id": "578068b7-1b4d-4bc9-8fd8-ff25a1b1b186",
   "metadata": {},
   "source": [
    "engine.execute(\"select * from sec_dera.t_f where name='INDEPENDENT BANK CORP'\").fetchall()"
   ]
  },
  {
   "cell_type": "markdown",
   "id": "76fa3e45-b00b-4755-a1d7-04b3514ade2a",
   "metadata": {},
   "source": [
    "### Cash"
   ]
  },
  {
   "cell_type": "code",
   "execution_count": 7,
   "id": "f1291683-5a8e-4ae2-aa32-dc99f4eba8dd",
   "metadata": {},
   "outputs": [
    {
     "name": "stdout",
     "output_type": "stream",
     "text": [
      "[(True,)]\n"
     ]
    },
    {
     "data": {
      "text/plain": [
       "[(True,)]"
      ]
     },
     "metadata": {},
     "output_type": "display_data"
    },
    {
     "data": {
      "text/plain": [
       "[(11465,)]"
      ]
     },
     "metadata": {},
     "output_type": "display_data"
    }
   ],
   "source": [
    "qres = engine.execute(\"drop table if exists sec_dera.t_c\").fetchall()\n",
    "qres = engine.execute(\"\"\"\n",
    "create or replace view sec_dera.cash_by_adsh_ddate as\n",
    "select S.adsh, fy, max(ddate) as c_ddate\n",
    "from sec_dera.sub as S join sec_dera.num as N on S.adsh=N.adsh and year(S.fy)=year(N.ddate)\n",
    "where (S.form='10-K' or S.form='20-F')\n",
    "        and S.fy>=DATE('2019-01-01')\n",
    "        and coreg is NULL\n",
    "        and qtrs=0\n",
    "        and uom='USD'\n",
    "        and (tag='Cash'\n",
    "             or tag='CashAndDueFromBanks'\n",
    "             or tag='CashAndCashEquivalents'\n",
    "             or lower(tag)=lower('CashAndCashEquivalentsUnrestricted')\n",
    "             or tag='CashEquivalentsAtCarryingValue' \n",
    "             or tag='CashAndCashEquivalentsAtCarryingValue'\n",
    "             or tag='CashAndCashEquivalentsAtCarryingValueExcludingVariableInterestEntities')\n",
    "group by S.adsh, fy\n",
    "\"\"\")\n",
    "print(qres.fetchall())\n",
    "\n",
    "qres = engine.execute(\"\"\"\n",
    "create or replace view sec_dera.cash_by_lei as\n",
    "select S.adsh, S.cik, name, lei, sic, S.fy, N.ddate, max(value) as cash\n",
    "from sec_dera.sub as S\n",
    "     join sec_dera.cash_by_adsh_ddate as AD on S.adsh=AD.adsh -- and S.fy=AD.fy\n",
    "     join sec_dera.num as N on AD.adsh=N.adsh and AD.c_ddate=N.ddate\n",
    "where coreg is NULL\n",
    "      and qtrs=0\n",
    "      and uom='USD'\n",
    "      and (tag='Cash'\n",
    "             or tag='CashAndDueFromBanks'\n",
    "             or tag='CashAndCashEquivalents'\n",
    "             or lower(tag)=lower('CashAndCashEquivalentsUnrestricted')\n",
    "             or tag='CashEquivalentsAtCarryingValue' \n",
    "             or tag='CashAndCashEquivalentsAtCarryingValue'\n",
    "             or tag='CashAndCashEquivalentsAtCarryingValueExcludingVariableInterestEntities')\n",
    "group by S.adsh, S.cik, name, lei, sic, S.fy, N.ddate\n",
    "\"\"\")\n",
    "display(qres.fetchall())\n",
    "\n",
    "qres = engine.execute(\"\"\"\n",
    "create table sec_dera.t_c as select * from sec_dera.cash_by_lei\n",
    "\"\"\")\n",
    "display(qres.fetchall())"
   ]
  },
  {
   "cell_type": "raw",
   "id": "0a570cff-aa7c-40cf-a666-2bd03dcc1588",
   "metadata": {},
   "source": [
    "engine.execute(\"select * from sec_dera.t_c where name='INDEPENDENT BANK CORP'\").fetchall()"
   ]
  },
  {
   "cell_type": "raw",
   "id": "f45575b6-b66e-4ba8-80b4-3471f9b7e98c",
   "metadata": {},
   "source": [
    "engine.execute(\"\"\"\n",
    "select count (*), tag from sec_dera.num\n",
    "where tag='CashAndCashEquivalentsAtCarryingValue' or tag='Cash' or tag='CashEquivalentsAtCarryingValue' or tag='CashAndCashEquivalents'\n",
    "group by tag order by count (*) desc limit 20\n",
    "\"\"\").fetchall()"
   ]
  },
  {
   "cell_type": "markdown",
   "id": "1eb6140f-1d32-4c15-991b-94b5475efd7e",
   "metadata": {},
   "source": [
    "### Debt"
   ]
  },
  {
   "cell_type": "code",
   "execution_count": 8,
   "id": "28cead08-d929-4cef-925f-3cbf4ba61b1f",
   "metadata": {},
   "outputs": [
    {
     "name": "stdout",
     "output_type": "stream",
     "text": [
      "[(True,)]\n"
     ]
    },
    {
     "data": {
      "text/plain": [
       "[(True,)]"
      ]
     },
     "metadata": {},
     "output_type": "display_data"
    },
    {
     "data": {
      "text/plain": [
       "[(8729,)]"
      ]
     },
     "metadata": {},
     "output_type": "display_data"
    }
   ],
   "source": [
    "# Reiterating comment embedded below: we should sum 'LongTermDebtNoncurrent' and 'LongTermDebtCurrent' as one term we MAX with others\n",
    "qres = engine.execute(\"drop table if exists sec_dera.t_d\").fetchall()\n",
    "qres = engine.execute(\"\"\"\n",
    "create or replace view sec_dera.debt_by_adsh_ddate as\n",
    "select S.adsh, fy, max(ddate) as d_ddate\n",
    "from sec_dera.sub as S join sec_dera.num as N on S.adsh=N.adsh and year(S.fy)=year(N.ddate)\n",
    "where (S.form='10-K' or S.form='20-F')\n",
    "        and S.fy>=DATE('2019-01-01')\n",
    "        and coreg is NULL\n",
    "        and qtrs=0\n",
    "        and uom='USD'\n",
    "        and (tag='LongTermDebt' or tag='LongTermDebtFairValue'\n",
    "             or tag='LongTermDebtAndCapitalLeaseObligations' or tag='DebtAndCapitalLeaseObligations'\n",
    "             or tag='DebtLongtermAndShorttermCombinedAmount' or tag='SecuredDebt' or tag='UnsecuredDebt'\n",
    "             or tag='OperatingLeaseLiabilityNoncurrent'\n",
    "             or tag='SubordinatedDebt' or tag='ConvertibleDebt'\n",
    "             or tag='LongTermLineOfCredit' or tag='OtherBorrowings' or tag='NotesAndLoansReceivableNetNoncurrent'\n",
    "             -- NOTE: A MORE ACCURATE ANSWER COMES FROM SUMMING THESE TWO AND COMPARING WITH THE ABOVE (ALREADY-COMBINED) DEBT METRICS\n",
    "             or tag='LongTermDebtNoncurrent' or tag='LongTermDebtCurrent')\n",
    "group by S.adsh, fy\n",
    "\"\"\")\n",
    "print(qres.fetchall())\n",
    "\n",
    "qres = engine.execute(\"\"\"\n",
    "create or replace view sec_dera.debt_by_lei as\n",
    "select S.adsh, S.cik, name, lei, sic, S.fy, N.ddate, max(value) as debt\n",
    "from sec_dera.sub as S\n",
    "     join sec_dera.debt_by_adsh_ddate as AD on S.adsh=AD.adsh -- and S.fy=AD.fy\n",
    "     join sec_dera.num as N on AD.adsh=N.adsh and AD.d_ddate=N.ddate\n",
    "where coreg is NULL\n",
    "      and qtrs=0\n",
    "      and uom='USD'\n",
    "      and (tag='LongTermDebt' or tag='LongTermDebtFairValue'\n",
    "           or tag='LongTermDebtAndCapitalLeaseObligations' or tag='DebtAndCapitalLeaseObligations'\n",
    "           or tag='DebtLongtermAndShorttermCombinedAmount' or tag='SecuredDebt' or tag='UnsecuredDebt'\n",
    "           or tag='OperatingLeaseLiabilityNoncurrent'\n",
    "           or tag='SubordinatedDebt' or tag='ConvertibleDebt'\n",
    "           or tag='LongTermLineOfCredit' or tag='OtherBorrowings' or tag='NotesAndLoansReceivableNetNoncurrent'\n",
    "           -- NOTE: A MORE ACCURATE ANSWER COMES FROM SUMMING THESE TWO AND COMPARING WITH THE ABOVE (ALREADY-COMBINED) DEBT METRICS\n",
    "           or tag='LongTermDebtNoncurrent' or tag='LongTermDebtCurrent')\n",
    "group by S.adsh, S.cik, name, lei, sic, S.fy, N.ddate\n",
    "\"\"\")\n",
    "display(qres.fetchall())\n",
    "\n",
    "qres = engine.execute(\"\"\"\n",
    "create table sec_dera.t_d as select * from sec_dera.debt_by_lei\n",
    "\"\"\")\n",
    "display(qres.fetchall())"
   ]
  },
  {
   "cell_type": "raw",
   "id": "7744303e-8342-44ba-8e5b-d9a21af402a5",
   "metadata": {},
   "source": [
    "engine.execute(\"select * from sec_dera.t_d where name='INDEPENDENT BANK CORP'\").fetchall()"
   ]
  },
  {
   "cell_type": "raw",
   "id": "544f7563-8c36-4de9-b9d9-dfff6e66ce4f",
   "metadata": {},
   "source": [
    "engine.execute(\"\"\"\n",
    "select count (*), tag from sec_dera.num\n",
    "where tag='LongTermDebt' or tag='LongTermDebtFairValue' or tag='LongTermDebtAndCapitalLeaseObligations'\n",
    "or tag='DebtLongtermAndShorttermCombinedAmount' or tag='SecuredDebt' or tag='UnsecuredDebt' or tag='SubordinatedDebt' or tag='ConvertibleDebt'\n",
    "group by tag order by count (*) desc\n",
    "\"\"\").fetchall()"
   ]
  },
  {
   "cell_type": "raw",
   "id": "15e1c83d-c4ca-4747-aee9-b14b4234fcf9",
   "metadata": {},
   "source": [
    "l = engine.execute(\"\"\"\n",
    "select name, sic, round(value/1000000.0,1), uom, ddate, nciks, aciks\n",
    "from sec_dera.sub as S join sec_dera.num as N\n",
    "on S.adsh=N.adsh\n",
    "where form='10-K' and fy=DATE('2020-01-01') and tag='DebtLongtermAndShorttermCombinedAmount' order by value desc limit 20\n",
    "\"\"\").fetchall()"
   ]
  },
  {
   "cell_type": "raw",
   "id": "1789cde7-c148-4469-952c-f1d2acb27733",
   "metadata": {},
   "source": [
    "l = engine.execute(\"\"\"\n",
    "select name, form, tag, value, uom, fy, qtrs, coreg\n",
    "from sec_dera.sub S join sec_dera.num as N\n",
    "on S.adsh=N.adsh\n",
    "where (form='10-K' or form='20-F') and fy >= ddate and date_add('year', -1, fy) < ddate\n",
    "and (N.tag='Revenues'\n",
    "     or N.tag='RevenueFromContractWithCustomerIncludingAssessedTax'\n",
    "     or N.tag='RevenueFromContractWithCustomerExcludingAssessedTax'\n",
    "     or N.tag='RevenuesNetOfInterestExpense'\n",
    "     or N.tag='RegulatedAndUnregulatedOperatingRevenue'\n",
    "     or N.tag='RegulatedOperatingRevenuePipelines')\n",
    "order by name\n",
    "\"\"\").fetchall()\n",
    "len(l)"
   ]
  },
  {
   "cell_type": "markdown",
   "id": "d1748b64-52d4-4a58-8d5e-183e02eb68de",
   "metadata": {},
   "source": [
    "### Assets"
   ]
  },
  {
   "cell_type": "code",
   "execution_count": 9,
   "id": "4220baec-9485-4721-a4e9-bbe78487f2c7",
   "metadata": {},
   "outputs": [
    {
     "name": "stdout",
     "output_type": "stream",
     "text": [
      "[(True,)]\n"
     ]
    },
    {
     "data": {
      "text/plain": [
       "[(True,)]"
      ]
     },
     "metadata": {},
     "output_type": "display_data"
    },
    {
     "data": {
      "text/plain": [
       "[(11730,)]"
      ]
     },
     "metadata": {},
     "output_type": "display_data"
    }
   ],
   "source": [
    "qres = engine.execute(\"drop table if exists sec_dera.t_a\").fetchall()\n",
    "qres = engine.execute(\"\"\"\n",
    "create or replace view sec_dera.assets_by_adsh_ddate as\n",
    "select S.adsh, fy, max(ddate) as a_ddate\n",
    "from sec_dera.sub as S join sec_dera.num as N on S.adsh=N.adsh and year(S.fy)=year(N.ddate)\n",
    "where (S.form='10-K' or S.form='20-F')\n",
    "        and S.fy>=DATE('2019-01-01')\n",
    "        and coreg is NULL\n",
    "        and qtrs=0\n",
    "        and uom='USD'\n",
    "        and tag='Assets'\n",
    "group by S.adsh, fy\n",
    "\"\"\")\n",
    "print(qres.fetchall())\n",
    "\n",
    "qres = engine.execute(\"\"\"\n",
    "create or replace view sec_dera.assets_by_lei as\n",
    "select S.adsh, S.cik, name, lei, sic, S.fy, N.ddate, value as assets\n",
    "from sec_dera.sub as S\n",
    "     join sec_dera.assets_by_adsh_ddate as AD on S.adsh=AD.adsh -- and S.fy=AD.fy\n",
    "     join sec_dera.num as N on AD.adsh=N.adsh and AD.a_ddate=N.ddate\n",
    "where coreg is NULL\n",
    "      and qtrs=0\n",
    "      and uom='USD'\n",
    "      and tag='Assets'\n",
    "\"\"\")\n",
    "display(qres.fetchall())\n",
    "\n",
    "qres = engine.execute(\"\"\"\n",
    "create table sec_dera.t_a as select * from sec_dera.assets_by_lei\n",
    "\"\"\")\n",
    "display(qres.fetchall())"
   ]
  },
  {
   "cell_type": "raw",
   "id": "d25f594a-1846-48aa-982f-7ff41914b4be",
   "metadata": {},
   "source": [
    "engine.execute(\"select * from sec_dera.t_a where name='INDEPENDENT BANK CORP'\").fetchall()"
   ]
  },
  {
   "cell_type": "code",
   "execution_count": 10,
   "id": "adb025fa-9ee6-4b2d-9eeb-8cb6fb5f5f92",
   "metadata": {},
   "outputs": [
    {
     "data": {
      "text/plain": [
       "[(True,)]"
      ]
     },
     "metadata": {},
     "output_type": "display_data"
    },
    {
     "data": {
      "text/plain": [
       "[(7806,)]"
      ]
     },
     "metadata": {},
     "output_type": "display_data"
    }
   ],
   "source": [
    "qres = engine.execute(\"\"\"\n",
    "create or replace view sec_dera.financials_by_lei as\n",
    "select R.name, R.lei,\n",
    "       tname,\n",
    "       R.fy, R.ddate, R.sic, revenue, cash, debt, assets, market_cap\n",
    "       -- , C.ddate as c_d, D.ddate as d_d, A.ddate as a_d, F.ddate as f_d\n",
    "from sec_dera.t_r as R\n",
    "     left join sec_dera.t_c as C on R.cik=C.cik and R.adsh=C.adsh\n",
    "     left join sec_dera.t_d as D on R.cik=D.cik and R.adsh=D.adsh\n",
    "     left join sec_dera.t_a as A on R.cik=A.cik and R.adsh=A.adsh\n",
    "     left join sec_dera.t_f as F on R.cik=F.cik and R.adsh=F.adsh\n",
    "where tname not like '%-%'\n",
    "\"\"\")\n",
    "display(qres.fetchall())\n",
    "\n",
    "qres = engine.execute(\"\"\"\n",
    "select count (*) from sec_dera.financials_by_lei\n",
    "\"\"\")\n",
    "display(qres.fetchall())"
   ]
  },
  {
   "cell_type": "code",
   "execution_count": 11,
   "id": "53ac74c4-d86d-40c9-b9ff-fc9165f7eb8e",
   "metadata": {},
   "outputs": [
    {
     "ename": "SyntaxError",
     "evalue": "invalid syntax (<ipython-input-11-8c726f94684c>, line 1)",
     "output_type": "error",
     "traceback": [
      "\u001b[0;36m  File \u001b[0;32m\"<ipython-input-11-8c726f94684c>\"\u001b[0;36m, line \u001b[0;32m1\u001b[0m\n\u001b[0;31m    stop!\u001b[0m\n\u001b[0m        ^\u001b[0m\n\u001b[0;31mSyntaxError\u001b[0m\u001b[0;31m:\u001b[0m invalid syntax\n"
     ]
    }
   ],
   "source": [
    "stop!"
   ]
  },
  {
   "cell_type": "code",
   "execution_count": null,
   "id": "78185bbe-9151-4278-b985-f9a5022d5785",
   "metadata": {},
   "outputs": [],
   "source": [
    "qres = engine.execute(\"\"\"\n",
    "explain analyze\n",
    "select R.name, R.lei, R.tname, R.fy, R.sic, revenue, cash -- , debt --, assets, market_cap\n",
    "from sec_dera.fy_revenue_by_lei as R\n",
    "     join sec_dera.cash_by_lei as C on R.name=C.name and R.fy=C.fy\n",
    "     -- join sec_dera.debt_by_lei as D on R.name=D.name and R.fy=D.fy\n",
    "     -- join sec_dera.assets_by_lei as A on R.name=A.name and R.fy=A.fy\n",
    "     -- join sec_dera.float_by_lei as F on R.name=F.name and R.fy=F.fy\n",
    "\"\"\")\n",
    "l = qres.fetchall()"
   ]
  },
  {
   "cell_type": "code",
   "execution_count": null,
   "id": "f0375b49-82a3-49af-a93f-7f1227c8e800",
   "metadata": {},
   "outputs": [],
   "source": [
    "qres = engine.execute(\"\"\"\n",
    "explain analyze\n",
    "select R.name, R.lei, R.tname, R.fy, R.sic, revenue,\n",
    "    -- cash,\n",
    "    debt,\n",
    "    -- assets,\n",
    "    market_cap\n",
    "from sec_dera.fy_revenue_by_lei as R\n",
    "     -- join sec_dera.cash_by_lei as C on R.name=C.name and R.fy=C.fy\n",
    "     join sec_dera.debt_by_lei as D on R.name=D.name and R.fy=D.fy\n",
    "     -- join sec_dera.assets_by_lei as A on R.name=A.name and R.fy=A.fy\n",
    "     join sec_dera.float_by_lei as F on R.name=F.name and R.fy=F.fy\n",
    "\"\"\")\n",
    "l = qres.fetchall()"
   ]
  },
  {
   "cell_type": "code",
   "execution_count": null,
   "id": "28b73d39-ad28-4106-a75c-ba73b7d1b003",
   "metadata": {},
   "outputs": [],
   "source": [
    "qres = engine.execute(\"\"\"\n",
    "create or replace view sec_dera.financials_by_lei as\n",
    "select name, lei, fy, Nrevenue.ddate as r_ddate, sic,\n",
    "       max(Nrevenue.value) as revenue,\n",
    "       max(Ncash.value) as cash,\n",
    "       max(Ndebt.value) as debt,\n",
    "       max(Nassets.value) as assets,\n",
    "       max(Nfloat.value) as market_cap\n",
    "       -- max(Nfloat.value)+max(Ndebt.value)-max(Ncash.value) as ev,\n",
    "       -- max(Nfloat.value)+max(Ndebt.value) as evic\n",
    "from sec_dera.sub as S\n",
    "      join sec_dera.num as Nrevenue on S.adsh=Nrevenue.adsh\n",
    "            and Nrevenue.qtrs=4\n",
    "            and Nrevenue.ddate>=S.fy and date_add('year', 1, S.fy)>Nrevenue.ddate\n",
    "      join sec_dera.num as Nassets on S.adsh=Nassets.adsh and Nassets.ddate=Nrevenue.ddate\n",
    "      join sec_dera.num as Ndebt on S.adsh=Ndebt.adsh and Ndebt.ddate=Nrevenue.ddate\n",
    "      join sec_dera.num as Ncash on S.adsh=Ncash.adsh and Ncash.ddate=Nrevenue.ddate\n",
    "      join sec_dera.num as Nfloat on S.adsh=Nfloat.adsh\n",
    "where S.fp='FY' and (S.form='10-K' or S.form='20-F')\n",
    "      -- and S.lei='I1BZKREC126H0VB1BL91'\n",
    "and Nrevenue.coreg is NULL\n",
    "and Nrevenue.uom='USD'\n",
    "and (Nrevenue.tag='Revenues'\n",
    "     or Nrevenue.tag='RevenueFromContractWithCustomerIncludingAssessedTax'\n",
    "     or Nrevenue.tag='RevenueFromContractWithCustomerExcludingAssessedTax'\n",
    "     or Nrevenue.tag='RevenuesNetOfInterestExpense'\n",
    "     or Nrevenue.tag='RegulatedAndUnregulatedOperatingRevenue'\n",
    "     or Nrevenue.tag='RegulatedOperatingRevenuePipelines')\n",
    "and Nfloat.qtrs=0 and Nfloat.ddate>=fy and date_add('year', 1, fy)>Nfloat.ddate\n",
    "and Nfloat.coreg is NULL\n",
    "and Nfloat.uom='USD'\n",
    "and (Nfloat.tag='EntityPublicFloat'\n",
    "     or Nfloat.tag='EntitysPublicFloat'\n",
    "     or Nfloat.tag='FreeFloat'\n",
    "     or Nfloat.tag='PublicFloat'\n",
    "     or Nfloat.tag='PublicFloatValue')\n",
    "and Ncash.qtrs=0\n",
    "and Ncash.coreg is NULL\n",
    "and Ncash.uom='USD'\n",
    "and (Ncash.tag='CashAndCashEquivalentsAtCarryingValue'\n",
    "     or Ncash.tag='Cash'\n",
    "     or Ncash.tag='CashEquivalentsAtCarryingValue'\n",
    "     or Ncash.tag='CashAndCashEquivalents')\n",
    "and Ndebt.qtrs=0\n",
    "and Ndebt.coreg is NULL\n",
    "and Ndebt.uom='USD'\n",
    "and (Ndebt.tag='LongTermDebt'\n",
    "     or Ndebt.tag='LongTermDebtFairValue'\n",
    "     or Ndebt.tag='LongTermDebtAndCapitalLeaseObligations'\n",
    "     or Ndebt.tag='DebtLongtermAndShorttermCombinedAmount'\n",
    "     or Ndebt.tag='SecuredDebt'\n",
    "     or Ndebt.tag='UnsecuredDebt'\n",
    "     or Ndebt.tag='SubordinatedDebt'\n",
    "     or Ndebt.tag='ConvertibleDebt')\n",
    "and Nassets.qtrs=0\n",
    "and Nassets.coreg is NULL\n",
    "and Nassets.uom='USD'\n",
    "and Nassets.tag='Assets'\n",
    "group by name, lei, fy, Nrevenue.ddate, sic\n",
    "\"\"\")\n",
    "display(qres.fetchall())\n",
    "\n",
    "qres = engine.execute(\"\"\"\n",
    "select * from sec_dera.financials_by_lei\n",
    "\"\"\")\n",
    "l = qres.fetchall()\n",
    "\n",
    "print(len(l))"
   ]
  },
  {
   "cell_type": "code",
   "execution_count": null,
   "id": "349cfc8b-2d14-4b4c-9ebd-cca89b5b102e",
   "metadata": {},
   "outputs": [],
   "source": [
    "columns = [x[0] for x in engine.execute(\"describe sec_dera.financials_by_lei\").fetchall()]"
   ]
  },
  {
   "cell_type": "code",
   "execution_count": null,
   "id": "f9d564bf-9dfe-4689-a3d6-e50e2e73491f",
   "metadata": {},
   "outputs": [],
   "source": [
    "df = pd.DataFrame(data=l, columns=columns)"
   ]
  },
  {
   "cell_type": "code",
   "execution_count": null,
   "id": "87bc1cd5-a3d3-40e0-af59-45f3bee79b6f",
   "metadata": {},
   "outputs": [],
   "source": [
    "df"
   ]
  },
  {
   "cell_type": "code",
   "execution_count": null,
   "id": "b8722eaf-e68f-4ea7-adaa-df9ccf902513",
   "metadata": {
    "tags": []
   },
   "outputs": [],
   "source": [
    "df = df.convert_dtypes()\n",
    "\n",
    "drop_unmanaged_table(\"osc_datacommons_dev\", \"sec_dera\", \"corp_data_df\", engine, trino_bucket, verbose=True)\n",
    "\n",
    "drop_unmanaged_data(\"sec_dera\", \"corp_data_df\", trino_bucket, verbose=True)\n",
    "\n",
    "ingest_unmanaged_parquet(df, \"sec_dera\", \"corp_data_df\", trino_bucket, partition_columns=[],\n",
    "                         append=False, workdir='/tmp', verbose=True)\n",
    "\n",
    "sql = unmanaged_parquet_tabledef(df, \"osc_datacommons_dev\", \"sec_dera\", \"corp_data_df\", trino_bucket, partition_columns = [],\n",
    "                                 verbose=True)\n",
    "qres = engine.execute(sql)\n",
    "display(qres.fetchall())\n",
    "\n",
    "qres = engine.execute(\"select * from sec_dera.corp_data_df\")\n",
    "l = qres.fetchall()"
   ]
  },
  {
   "cell_type": "code",
   "execution_count": null,
   "id": "83f065db-4340-42eb-8400-5833051c6973",
   "metadata": {},
   "outputs": [],
   "source": [
    "qres = engine.execute(\"\"\"\n",
    "explain select * from sec_dera.financials_by_lei\n",
    "\"\"\")\n",
    "print(qres.fetchall()[0][0])"
   ]
  },
  {
   "cell_type": "code",
   "execution_count": null,
   "id": "b55a9940-16f3-4c34-acd4-dbd78a1c3de8",
   "metadata": {},
   "outputs": [],
   "source": []
  }
 ],
 "metadata": {
  "kernelspec": {
   "display_name": "Python 3",
   "language": "python",
   "name": "python3"
  },
  "language_info": {
   "codemirror_mode": {
    "name": "ipython",
    "version": 3
   },
   "file_extension": ".py",
   "mimetype": "text/x-python",
   "name": "python",
   "nbconvert_exporter": "python",
   "pygments_lexer": "ipython3",
   "version": "3.8.3"
  }
 },
 "nbformat": 4,
 "nbformat_minor": 5
}
