{
 "cells": [
  {
   "cell_type": "markdown",
   "id": "1ce1cf9f-2d20-460b-8d10-184e8af19c25",
   "metadata": {},
   "source": [
    "# Create VIEWs on SEC DERA data by LEI\n",
    "\n",
    "## Full-year FY REVENUES, INCOME\n",
    "\n",
    "## Point-in-time FLOAT, DEBT, CASH, ASSETS, (EV = FLOAT + DEBT - CASH, EVIC = FLOAT + DEBT)\n",
    "\n",
    "In this workflow we assume (and depend upon) the interesting NUM data coming only from the consolidated entity (NUM.COREG IS NULL) and not from co-registrants.  \n",
    "Please explore EXCELON (EXC) and DOMINION ENERGY (D) to see examples of reports with substantial co-registrant entities."
   ]
  },
  {
   "cell_type": "code",
   "execution_count": 1,
   "id": "2e31920e-a97e-427d-9102-ac2d4e6898ca",
   "metadata": {},
   "outputs": [],
   "source": [
    "import os\n",
    "import pathlib\n",
    "from dotenv import load_dotenv\n",
    "\n",
    "# Load some standard environment variables from a dot-env file, if it exists.\n",
    "# If no such file can be found, does not fail, and so allows these environment vars to\n",
    "# be populated in some other way\n",
    "dotenv_dir = os.environ.get('CREDENTIAL_DOTENV_DIR', os.environ.get('PWD', '/opt/app-root/src'))\n",
    "dotenv_path = pathlib.Path(dotenv_dir) / 'credentials.env'\n",
    "if os.path.exists(dotenv_path):\n",
    "    load_dotenv(dotenv_path=dotenv_path,override=True)"
   ]
  },
  {
   "cell_type": "markdown",
   "id": "f0606067-d586-41b0-a7dd-c6d7727c6b1f",
   "metadata": {},
   "source": [
    "Set session variable CATALOG to make query terms much more compact"
   ]
  },
  {
   "cell_type": "code",
   "execution_count": 2,
   "id": "ab600994-3dc8-4b3c-943c-af43a29db1e6",
   "metadata": {},
   "outputs": [],
   "source": [
    "import trino\n",
    "from sqlalchemy.engine import create_engine\n",
    "\n",
    "env_var_prefix = 'TRINO'\n",
    "\n",
    "sqlstring = 'trino://{user}@{host}:{port}/'.format(\n",
    "    user = os.environ[f'{env_var_prefix}_USER'],\n",
    "    host = os.environ[f'{env_var_prefix}_HOST'],\n",
    "    port = os.environ[f'{env_var_prefix}_PORT']\n",
    ")\n",
    "sqlargs = {\n",
    "    'auth': trino.auth.JWTAuthentication(os.environ[f'{env_var_prefix}_PASSWD']),\n",
    "    'http_scheme': 'https',\n",
    "    'catalog': 'osc_datacommons_dev'\n",
    "}\n",
    "engine = create_engine(sqlstring, connect_args = sqlargs)\n",
    "connection = engine.connect()\n",
    "\n",
    "import pandas as pd"
   ]
  },
  {
   "cell_type": "code",
   "execution_count": 3,
   "id": "24ae6a0b-f082-42ed-9e84-1c89c228fa42",
   "metadata": {},
   "outputs": [],
   "source": [
    "from osc_ingest_trino import *\n",
    "\n",
    "trino_bucket = attach_s3_bucket(\"S3_DEV\")"
   ]
  },
  {
   "cell_type": "code",
   "execution_count": 4,
   "id": "e03bbfa1-046d-4dc3-9cee-02ba6a490d03",
   "metadata": {},
   "outputs": [
    {
     "name": "stdout",
     "output_type": "stream",
     "text": [
      "[(True,)]\n",
      "[(True,)]\n",
      "[(True,)]\n",
      "[(True,)]\n",
      "[(True,)]\n",
      "[(True,)]\n"
     ]
    }
   ],
   "source": [
    "for tbl in ['t_r', 't_f', 't_d', 't_c', 't_a', 't_i']:\n",
    "    qres = engine.execute(f\"drop table if exists sec_dera.{tbl}\")\n",
    "    print(qres.fetchall())"
   ]
  },
  {
   "cell_type": "markdown",
   "id": "ce985e76-ed82-4408-b5cf-b79f86ed86d6",
   "metadata": {},
   "source": [
    "### FX\n",
    "\n",
    "Many public companies are non-US companies or report facts in units of measurement other than USD.  We build a small table of market knowledge so that we can do foreign exchange (FX) calculations."
   ]
  },
  {
   "cell_type": "code",
   "execution_count": 5,
   "id": "6e96e969-04ed-42f8-8e34-7410ba73d4f4",
   "metadata": {},
   "outputs": [],
   "source": [
    "sql = (\"\"\"\n",
    "select count (*) as count, uom, ddate, max(value) as maxval, min(value) as minval from sec_dera.num\n",
    "where ddate>=DATE('2019-01-01')\n",
    "      and (tag='ClosingForeignExchangeRate' or tag='ForeignCurrencyExchangeRateTranslation1')\n",
    "      and qtrs=0 and uom!= 'USD' and (uom like '%USD%' or length(uom)=3)\n",
    "group by uom, ddate, tag\n",
    "order by ddate, uom, tag\n",
    "\"\"\")\n",
    "df_closing_fx = pd.read_sql (sql, engine, parse_dates=['ddate'])\n",
    "# display(df_closing_fx)\n",
    "\n",
    "sql = (\"\"\"\n",
    "select count (*) as count, uom, ddate, max(value) as maxval, min(value) as minval from sec_dera.num\n",
    "where ddate>=DATE('2019-01-01')\n",
    "      and tag='AverageForeignExchangeRate'\n",
    "      and qtrs=4 and uom!= 'USD' and (uom like '%USD%' or length(uom)=3)\n",
    "group by uom, ddate, tag\n",
    "order by ddate, uom, tag\n",
    "\"\"\")\n",
    "df_average_fx = pd.read_sql (sql, engine, parse_dates=['ddate'])\n",
    "# display(df_average_fx)"
   ]
  },
  {
   "cell_type": "code",
   "execution_count": 6,
   "id": "805b7970-6217-46ec-bb93-fc8bcf9dea0b",
   "metadata": {},
   "outputs": [],
   "source": [
    "import re\n",
    "\n",
    "def create_fx_dict(df):\n",
    "    \"\"\"From a list of FX pairs or non-USD (presumed to convert to USD) FX rates by dates, return a dictionary of FX rates by dates\"\"\"\n",
    "    df_gbp = df[df.uom.str.contains(r'GBP', flags=re.I)]\n",
    "    df_eur = df[df.uom.str.contains(r'EUR', flags=re.I)]\n",
    "    df_other = df[~df.uom.str.contains(r'(GBP)|(EUR)', flags=re.I)]\n",
    "    \n",
    "    fx_input = {'GBP': df_gbp, 'EUR': df_eur }\n",
    "\n",
    "    fx_df = {}\n",
    "\n",
    "    for fx in ['GBP', 'EUR']:\n",
    "        df_base = fx_input[fx].loc[df.maxval>1, ['ddate', 'maxval']].groupby(by='ddate').mean()\n",
    "        df_base['minval'] = 1/df_base.maxval\n",
    "        df_quote = fx_input[fx].loc[df.minval<1, ['ddate', 'minval']].groupby(by='ddate').mean()\n",
    "        df_quote['maxval'] = 1/df_quote.minval\n",
    "        df_fx = pd.concat((df_base, df_quote), axis=0).groupby(by='ddate').mean().reset_index()\n",
    "        df_fx['base'] = fx\n",
    "        df_fx.rename(columns={'maxval':'to_USD', 'minval':'from_USD'}, inplace=True)\n",
    "        df_fx = df_fx[['base', 'to_USD', 'from_USD', 'ddate']]\n",
    "        fx_df[fx] = df_fx.convert_dtypes()\n",
    "    \n",
    "    for fx in list({x[int(x[-1]=='USD')-1].upper():x[int(x[0]=='USD')-1].upper() for x in df_other.uom.str.split(r'[-_/]').values }.keys()):\n",
    "        df_other_fx = df_other[df_other.uom.str.contains(fx, flags=re.I)]\n",
    "        df_base = df_other_fx.loc[df.maxval>1, ['ddate', 'maxval']].groupby(by='ddate').mean()\n",
    "        df_base['minval'] = 1/df_base.maxval\n",
    "        df_quote = df_other_fx.loc[df.minval<1, ['ddate', 'minval']].groupby(by='ddate').mean()\n",
    "        df_quote['maxval'] = 1/df_quote.minval\n",
    "        df_fx = pd.concat((df_base, df_quote), axis=0).groupby(by='ddate').mean().reset_index()\n",
    "        df_fx['base'] = fx\n",
    "        df_fx.rename(columns={'maxval':'from_USD', 'minval':'to_USD'}, inplace=True)\n",
    "        df_fx = df_fx[['base', 'to_USD', 'from_USD', 'ddate']]\n",
    "        fx_df[fx] = df_fx.convert_dtypes()\n",
    "    \n",
    "    return fx_df"
   ]
  },
  {
   "cell_type": "markdown",
   "id": "0a5c6448-dbcc-4fc0-a19f-4cac0ff2dcd3",
   "metadata": {},
   "source": [
    "The `closing_fx` table contains point-in-time FX market information.\n",
    "\n",
    "The `average_fx` table contains a four-quarter average of FX rates."
   ]
  },
  {
   "cell_type": "code",
   "execution_count": 7,
   "id": "9deee5cd-8518-425b-866c-c1e4507cf388",
   "metadata": {},
   "outputs": [
    {
     "data": {
      "text/plain": [
       "[(True,)]"
      ]
     },
     "metadata": {},
     "output_type": "display_data"
    },
    {
     "name": "stderr",
     "output_type": "stream",
     "text": [
      "<ipython-input-6-44ddca2597e6>:7: UserWarning: This pattern has match groups. To actually get the groups, use str.extract.\n",
      "  df_other = df[~df.uom.str.contains(r'(GBP)|(EUR)', flags=re.I)]\n"
     ]
    },
    {
     "name": "stdout",
     "output_type": "stream",
     "text": [
      "\n",
      "create table if not exists sec_dera.closing_fx (\n",
      "    base varchar,\n",
      "    to_usd double,\n",
      "    from_usd double,\n",
      "    ddate timestamp(3)\n",
      ") with (\n",
      "format = 'parquet',\n",
      "external_location = 's3a://ocp-odh-os-demo-s3/trino/sec_dera/closing_fx/'\n",
      ")\n",
      "\n"
     ]
    },
    {
     "data": {
      "text/plain": [
       "[(True,)]"
      ]
     },
     "metadata": {},
     "output_type": "display_data"
    },
    {
     "name": "stdout",
     "output_type": "stream",
     "text": [
      "\n",
      "create table if not exists sec_dera.average_fx (\n",
      "    base varchar,\n",
      "    to_usd double,\n",
      "    from_usd double,\n",
      "    ddate timestamp(3)\n",
      ") with (\n",
      "format = 'parquet',\n",
      "external_location = 's3a://ocp-odh-os-demo-s3/trino/sec_dera/average_fx/'\n",
      ")\n",
      "\n"
     ]
    }
   ],
   "source": [
    "# TODO: change this to use osc_trino_tools.ingest_unmanaged_parquet\n",
    "\n",
    "import io\n",
    "\n",
    "ingest_schema = 'sec_dera'\n",
    "\n",
    "def create_fx_table(df_fx, tbl):\n",
    "    qres = engine.execute(f\"drop table if exists {ingest_schema}.{tbl}\")\n",
    "    display(qres.fetchall())\n",
    "\n",
    "    df = enforce_sql_column_names(pd.concat(create_fx_dict(df_fx).values()))\n",
    "\n",
    "    buf = io.BytesIO()\n",
    "    df.to_parquet(path=buf)\n",
    "    buf.seek(0)\n",
    "    trino_bucket.upload_fileobj(Fileobj=buf,\n",
    "                                Key=f'trino/{ingest_schema}/{tbl}/data.parquet')\n",
    "\n",
    "    columnschema = create_table_schema_pairs(df, typemap={'datetime64[ns]':'timestamp(3)'})\n",
    "    tabledef = f\"\"\"\n",
    "create table if not exists {ingest_schema}.{tbl} (\n",
    "{columnschema}\n",
    ") with (\n",
    "format = 'parquet',\n",
    "external_location = 's3a://{trino_bucket.name}/trino/{ingest_schema}/{tbl}/'\n",
    ")\n",
    "\"\"\"\n",
    "    print(tabledef)\n",
    "\n",
    "    table_create = engine.execute(tabledef)\n",
    "    # display(table_create.fetchall())\n",
    "\n",
    "    if False:\n",
    "        dataset_query = (f'SELECT * FROM {ingest_schema}.{tbl} limit 10')\n",
    "        print(dataset_query)\n",
    "        dataset = engine.execute(dataset_query)\n",
    "        display(dataset.fetchall())\n",
    "\n",
    "for df, tbl in [ (df_closing_fx,'closing_fx'), (df_average_fx,'average_fx') ]:\n",
    "    create_fx_table(df, tbl)"
   ]
  },
  {
   "cell_type": "raw",
   "id": "f2b00942-69ab-4f6e-8021-75aa4a9893e5",
   "metadata": {},
   "source": [
    "# This complicated query helps us figure out how far and wide we need to reach to grab useful FX information\n",
    "\n",
    "qres = engine.execute(\"\"\"\n",
    "select S.adsh, S.cik, name, lei, sic, S.fy, N.ddate, N.uom, N.value as assets,\n",
    "       coalesce(FX.to_usd, FX_1mo.to_usd, FX_2mo.to_usd, FX_3mo.to_usd, FX_avg.to_usd, FX_avg_py.to_usd, FX_avg_1231.to_usd) * N.value as assets_usd,\n",
    "       coalesce(FX.ddate, FX_1mo.ddate, FX_2mo.ddate, FX_3mo.ddate, FX_avg.ddate, FX_avg_py.ddate, FX_avg_1231.ddate) as date_found,\n",
    "       date_diff ('month', coalesce(FX.ddate, FX_1mo.ddate, FX_2mo.ddate, FX_3mo.ddate, FX_avg.ddate, FX_avg_py.ddate, FX_avg_1231.ddate), N.ddate) as date_diff\n",
    "from sec_dera.sub as S\n",
    "     join sec_dera.assets_xyz_by_adsh_ddate as AD on S.adsh=AD.adsh\n",
    "     join sec_dera.num as N on AD.adsh=N.adsh and AD.a_ddate=N.ddate and N.coreg is NULL and N.qtrs=0 and N.tag='Assets'\n",
    "     left join sec_dera.closing_fx FX on N.uom=FX.base and N.ddate=FX.ddate\n",
    "     left join sec_dera.closing_fx FX_1mo on N.uom=FX_1mo.base and date_diff('month', FX_1mo.ddate, N.ddate)=1\n",
    "     left join sec_dera.closing_fx FX_2mo on N.uom=FX_2mo.base and date_diff('month', FX_2mo.ddate, N.ddate)=2\n",
    "     left join sec_dera.closing_fx FX_3mo on N.uom=FX_3mo.base and date_diff('month', FX_3mo.ddate, N.ddate)=3\n",
    "     left join sec_dera.average_fx FX_avg on N.uom=FX_avg.base and N.ddate=FX_avg.ddate\n",
    "     left join sec_dera.average_fx FX_avg_py on N.uom=FX_avg_py.base and N.ddate=date_add('year', 1, FX_avg_py.ddate)\n",
    "     left join sec_dera.average_fx FX_avg_1231 on N.uom=FX_avg_1231.base and DATE(cast (year(N.ddate)-1 as varchar)||'-12-31')=FX_avg_1231.ddate\n",
    "where S.fy>=DATE('2020-01-01')\n",
    "group by S.adsh, S.cik, name, lei, sic, S.fy, N.ddate, N.uom, N.value, coalesce(FX.to_usd, FX_1mo.to_usd, FX_2mo.to_usd, FX_3mo.to_usd, FX_avg.to_usd, FX_avg_py.to_usd, FX_avg_1231.to_usd) * N.value,\n",
    "        coalesce(FX.ddate, FX_1mo.ddate, FX_2mo.ddate, FX_3mo.ddate, FX_avg.ddate, FX_avg_py.ddate, FX_avg_1231.ddate),\n",
    "        date_diff ('month', coalesce(FX.ddate, FX_1mo.ddate, FX_2mo.ddate, FX_3mo.ddate, FX_avg.ddate, FX_avg_py.ddate, FX_avg_1231.ddate), N.ddate)\n",
    "having coalesce(FX.ddate, FX_1mo.ddate, FX_2mo.ddate, FX_3mo.ddate, FX_avg.ddate, FX_avg_py.ddate, FX_avg_1231.ddate) is null or date_diff ('month', coalesce(FX.ddate, FX_1mo.ddate, FX_2mo.ddate, FX_3mo.ddate, FX_avg.ddate, FX_avg_py.ddate, FX_avg_1231.ddate), N.ddate)!=0\n",
    "order by S.name, S.adsh, N.ddate, N.uom\n",
    "\"\"\")\n",
    "l = qres.fetchall()"
   ]
  },
  {
   "cell_type": "raw",
   "id": "3be96c12-cfb8-4453-8c09-89fe271bddf4",
   "metadata": {},
   "source": [
    "import pandas as pd\n",
    "\n",
    "df = pd.read_sql(\"\"\"\n",
    "select S.adsh, S.cik, name, lei, sic, S.fy, N.ddate, N.uom, N.value as assets,\n",
    "       coalesce(FX.to_usd, FX_1mo.to_usd, FX_2mo.to_usd, FX_3mo.to_usd, FX_avg.to_usd, FX_avg_py.to_usd, FX_avg_1231.to_usd) * N.value as assets_usd\n",
    "from sec_dera.sub as S\n",
    "     join sec_dera.assets_xyz_by_adsh_ddate as AD on S.adsh=AD.adsh\n",
    "     join sec_dera.num as N on AD.adsh=N.adsh and AD.a_ddate=N.ddate\n",
    "          and N.coreg is NULL and N.tag='Assets'\n",
    "     left join sec_dera.closing_fx FX on N.uom=FX.base and N.ddate=FX.ddate\n",
    "     left join sec_dera.closing_fx FX_1mo on N.uom=FX_1mo.base and date_diff('month', FX_1mo.ddate, N.ddate)=1\n",
    "     left join sec_dera.closing_fx FX_2mo on N.uom=FX_2mo.base and date_diff('month', FX_2mo.ddate, N.ddate)=2\n",
    "     left join sec_dera.closing_fx FX_3mo on N.uom=FX_3mo.base and date_diff('month', FX_3mo.ddate, N.ddate)=3\n",
    "     left join sec_dera.average_fx FX_avg on N.uom=FX_avg.base and N.ddate=FX_avg.ddate\n",
    "     left join sec_dera.average_fx FX_avg_py on N.uom=FX_avg_py.base and N.ddate=date_add('year', 1, FX_avg_py.ddate)\n",
    "     left join sec_dera.average_fx FX_avg_1231 on N.uom=FX_avg_1231.base and DATE(cast (year(N.ddate)-1 as varchar)||'-12-31')=FX_avg_1231.ddate\n",
    "where S.fy>=DATE('2020-01-01')\n",
    "\"\"\", engine, index_col=None)\n",
    "df"
   ]
  },
  {
   "cell_type": "raw",
   "id": "915176da-871d-421f-ae7c-6c8819292194",
   "metadata": {},
   "source": [
    "qres = engine.execute(\"select count (*), adsh, uom, tag group by adsh, uom, tag \")"
   ]
  },
  {
   "cell_type": "markdown",
   "id": "864d8afe-6053-4ab2-9418-42d089bb164c",
   "metadata": {},
   "source": [
    "### Annual Tables: Revenue and Income\n",
    "\n",
    "We  only ingest annual data (NUM.QTRS=4) for Revenues and Income.  \n",
    "\n",
    "Many companies report not only the present fiscal year data but two prior years as well.  \n",
    "The row_number() code ensures we use the latest reported fact for a given year"
   ]
  },
  {
   "cell_type": "raw",
   "id": "7a3e222a-b460-4859-9fd4-329330b1b1ae",
   "metadata": {},
   "source": [
    "# There are 56 of these and each one has a colorful explanation as to why the report data and the fiscal year are so misaligned\n",
    "\n",
    "engine.execute(\"select S.adsh, cik, fy, name from sec_dera.sub as S where S.form='10-K' and S.fy>=DATE('2018-01-01') and S.fy<DATE('2019-01-01')\").fetchall()"
   ]
  },
  {
   "cell_type": "raw",
   "id": "1d195269-e260-4310-94e3-1df8c959369c",
   "metadata": {},
   "source": [
    "engine.execute(\"select *, if (fp='','fp should not be empty string', '') from sec_dera.sub as S where S.form='10-K' and S.fp!='FY'\").fetchall()"
   ]
  },
  {
   "cell_type": "code",
   "execution_count": 8,
   "id": "4558f007-195d-4bc7-91fc-2caf7b947478",
   "metadata": {},
   "outputs": [],
   "source": [
    "common_dera_form_test = \"(S.form='10-K' or S.form='20-F' or S.form='40-F')\"\n",
    "common_dera_fy_test = \"S.fy>=DATE('2018-01-01')\"\n",
    "common_dera_columns = 'S.adsh, S.cik, S.name, S.lei, S.sic, S.fy, N.ddate, N.uom'"
   ]
  },
  {
   "cell_type": "code",
   "execution_count": 9,
   "id": "9e9de3f8-759d-46a9-a110-197a74f338f2",
   "metadata": {},
   "outputs": [],
   "source": [
    "def generate_annual_dera_usd_query(what, tags):\n",
    "    usd_query = f\"\"\"\n",
    "create or replace view sec_dera.fy_{what}_usd_by_lei as\n",
    "select {common_dera_columns}, max(value) as {what}\n",
    "from sec_dera.sub as S join sec_dera.num as N on S.adsh=N.adsh\n",
    "where {common_dera_form_test}\n",
    "      and {common_dera_fy_test}\n",
    "      and uom='USD'\n",
    "      and coreg is NULL\n",
    "      and qtrs=4\n",
    "      and ({' or '.join([\"N.tag='\"+tag+\"'\" for tag in tags])})\n",
    "group by {common_dera_columns}\n",
    "\"\"\"\n",
    "    return usd_query\n",
    "\n",
    "def generate_annual_dera_xyz_query(what, tags):\n",
    "    # The X term prevents us from collecting foreign currency info that's duplicative of USD info we prefer\n",
    "    xyz_query = f\"\"\"\n",
    "create or replace view sec_dera.fy_{what}_xyz_by_lei as\n",
    "select {common_dera_columns}, max(N.value) as {what}\n",
    "from sec_dera.sub as S left join sec_dera.fy_{what}_usd_by_lei X on S.adsh=X.adsh\n",
    "     join sec_dera.num as N on S.adsh=N.adsh and (X.adsh IS NULL or X.ddate=N.ddate)\n",
    "where X.ddate IS NULL\n",
    "      and {common_dera_form_test}\n",
    "      and {common_dera_fy_test}\n",
    "      and N.uom!='USD'\n",
    "      and coreg is NULL\n",
    "      and qtrs=4\n",
    "      and ({' or '.join([\"N.tag='\"+tag+\"'\" for tag in tags])})\n",
    "group by {common_dera_columns}\n",
    "\"\"\"\n",
    "    return xyz_query\n",
    "\n",
    "def generate_annual_dera_combined_query(tbl, what, month_list):\n",
    "    query = f\"\"\"\n",
    "create table sec_dera.{tbl} as\n",
    "select {re.sub(r'[SN].','V_USD.',common_dera_columns)}, V_USD.{what} as {what}_usd\n",
    "from (select *,\n",
    "             row_number() over (partition by cik, ddate order by fy desc) as rn\n",
    "      from sec_dera.fy_{what}_usd_by_lei) as V_USD\n",
    "where rn=1\n",
    "UNION ALL\n",
    "select {re.sub(r'[SN].','V_XYZ.',common_dera_columns)},\n",
    "       coalesce(FX.to_usd, FX_1mo.to_usd, FX_2mo.to_usd, FX_3mo.to_usd, FX_avg.to_usd, FX_avg_py.to_usd, FX_avg_1231.to_usd) * V_XYZ.{what} as {what}_usd\n",
    "from (select *,\n",
    "             row_number() over (partition by cik, ddate order by fy desc) as rn\n",
    "      from sec_dera.fy_{what}_xyz_by_lei) as V_XYZ\n",
    "     left join sec_dera.closing_fx FX on V_XYZ.uom=FX.base and V_XYZ.ddate=FX.ddate\n",
    "     {' '.join(str(nmonths).join([\"left join sec_dera.closing_fx FX_\", \"mo on V_XYZ.uom=FX_\", \"mo.base and date_diff('month', FX_\", \"mo.ddate, V_XYZ.ddate)=\", \"\"]) for nmonths in month_list)}\n",
    "     left join sec_dera.average_fx FX_avg on V_XYZ.uom=FX_avg.base and V_XYZ.ddate=FX_avg.ddate\n",
    "     left join sec_dera.average_fx FX_avg_py on V_XYZ.uom=FX_avg_py.base and V_XYZ.ddate=date_add('year', 1, FX_avg_py.ddate)\n",
    "     left join sec_dera.average_fx FX_avg_1231 on V_XYZ.uom=FX_avg_1231.base and DATE(cast (year(V_XYZ.ddate)-1 as varchar)||'-12-31')=FX_avg_1231.ddate\n",
    "where rn=1\n",
    "\"\"\"\n",
    "    return query\n",
    "\n",
    "# print(generate_annual_dera_combined_query('t_r', 'revenue', [1, 2, 3]))"
   ]
  },
  {
   "cell_type": "code",
   "execution_count": 10,
   "id": "723b9bba-b185-4b9d-b2cc-2ca090a0ccfb",
   "metadata": {},
   "outputs": [
    {
     "name": "stdout",
     "output_type": "stream",
     "text": [
      "\n",
      "create table sec_dera.t_f as\n",
      "select V_USD.adsh, V_USD.cik, V_USD.name, V_USD.lei, V_USD.sic, V_USD.fy, V_USD.ddate, V_USD.uom, V_USD.float as float_usd\n",
      "from (select *,\n",
      "             row_number() over (partition by cik, ddate order by fy desc) as rn\n",
      "      from sec_dera.float_usd_by_lei) as V_USD\n",
      "where rn=1\n",
      "UNION ALL\n",
      "select V_XYZ.adsh, V_XYZ.cik, V_XYZ.name, V_XYZ.lei, V_XYZ.sic, V_XYZ.fy, V_XYZ.ddate, V_XYZ.uom,\n",
      "       coalesce(FX.to_usd, FX_1mo.to_usd, FX_2mo.to_usd, FX_3mo.to_usd, FX_avg.to_usd, FX_avg_py.to_usd, FX_avg_1231.to_usd) * V_XYZ.float as float_usd\n",
      "from (select *,\n",
      "             row_number() over (partition by cik, ddate order by fy desc) as rn\n",
      "      from sec_dera.float_xyz_by_lei) as V_XYZ\n",
      "     left join sec_dera.closing_fx FX on V_XYZ.uom=FX.base and V_XYZ.ddate=FX.ddate\n",
      "     left join sec_dera.closing_fx FX_1mo on V_XYZ.uom=FX_1mo.base and date_diff('month', FX_1mo.ddate, V_XYZ.ddate)=1 left join sec_dera.closing_fx FX_2mo on V_XYZ.uom=FX_2mo.base and date_diff('month', FX_2mo.ddate, V_XYZ.ddate)=2 left join sec_dera.closing_fx FX_3mo on V_XYZ.uom=FX_3mo.base and date_diff('month', FX_3mo.ddate, V_XYZ.ddate)=3\n",
      "     left join sec_dera.average_fx FX_avg on V_XYZ.uom=FX_avg.base and V_XYZ.ddate=FX_avg.ddate\n",
      "     left join sec_dera.average_fx FX_avg_py on V_XYZ.uom=FX_avg_py.base and V_XYZ.ddate=date_add('year', 1, FX_avg_py.ddate)\n",
      "     left join sec_dera.average_fx FX_avg_1231 on V_XYZ.uom=FX_avg_1231.base and DATE(cast (year(V_XYZ.ddate)-1 as varchar)||'-12-31')=FX_avg_1231.ddate\n",
      "where rn=1\n",
      "\n"
     ]
    }
   ],
   "source": [
    "def generate_instant_dera_usd_query(what, tags):\n",
    "    usd_query = f\"\"\"\n",
    "create or replace view sec_dera.{what}_usd_by_lei as\n",
    "select {common_dera_columns}, max(value) as {what}\n",
    "from sec_dera.sub as S\n",
    "     join sec_dera.num as N on S.adsh=N.adsh\n",
    "where {common_dera_form_test}\n",
    "      and {common_dera_fy_test}\n",
    "      and value>0\n",
    "      and uom='USD'\n",
    "      and coreg is NULL\n",
    "      and qtrs=0\n",
    "      and ({' or '.join([\"N.tag='\"+tag+\"'\" for tag in tags])})\n",
    "group by {common_dera_columns}\n",
    "\"\"\"\n",
    "    return usd_query\n",
    "\n",
    "def generate_instant_dera_xyz_query(what, tags):\n",
    "    xyz_query = f\"\"\"\n",
    "create or replace view sec_dera.{what}_xyz_by_lei as\n",
    "select {common_dera_columns}, max(value) as {what}\n",
    "from sec_dera.sub as S\n",
    "     left join sec_dera.{what}_usd_by_lei X on S.adsh=X.adsh\n",
    "     join sec_dera.num as N on S.adsh=N.adsh and (X.adsh IS NULL or X.ddate=N.ddate)\n",
    "where X.ddate IS NULL\n",
    "      and {common_dera_form_test}\n",
    "      and {common_dera_fy_test}\n",
    "      and value>0\n",
    "      and N.uom!='USD'\n",
    "      and coreg is NULL\n",
    "      and qtrs=0\n",
    "      and ({' or '.join([\"N.tag='\"+tag+\"'\" for tag in tags])})\n",
    "group by {common_dera_columns}\n",
    "\"\"\"\n",
    "    return xyz_query\n",
    "\n",
    "def generate_instant_dera_combined_query(tbl, what, month_list):\n",
    "    query = f\"\"\"\n",
    "create table sec_dera.{tbl} as\n",
    "select {re.sub(r'[SN].','V_USD.',common_dera_columns)}, V_USD.{what} as {what}_usd\n",
    "from (select *,\n",
    "             row_number() over (partition by cik, ddate order by fy desc) as rn\n",
    "      from sec_dera.{what}_usd_by_lei) as V_USD\n",
    "where rn=1\n",
    "UNION ALL\n",
    "select {re.sub(r'[SN].','V_XYZ.',common_dera_columns)},\n",
    "       coalesce(FX.to_usd, FX_1mo.to_usd, FX_2mo.to_usd, FX_3mo.to_usd, FX_avg.to_usd, FX_avg_py.to_usd, FX_avg_1231.to_usd) * V_XYZ.{what} as {what}_usd\n",
    "from (select *,\n",
    "             row_number() over (partition by cik, ddate order by fy desc) as rn\n",
    "      from sec_dera.{what}_xyz_by_lei) as V_XYZ\n",
    "     left join sec_dera.closing_fx FX on V_XYZ.uom=FX.base and V_XYZ.ddate=FX.ddate\n",
    "     {' '.join(str(nmonths).join([\"left join sec_dera.closing_fx FX_\", \"mo on V_XYZ.uom=FX_\", \"mo.base and date_diff('month', FX_\", \"mo.ddate, V_XYZ.ddate)=\", \"\"]) for nmonths in month_list)}\n",
    "     left join sec_dera.average_fx FX_avg on V_XYZ.uom=FX_avg.base and V_XYZ.ddate=FX_avg.ddate\n",
    "     left join sec_dera.average_fx FX_avg_py on V_XYZ.uom=FX_avg_py.base and V_XYZ.ddate=date_add('year', 1, FX_avg_py.ddate)\n",
    "     left join sec_dera.average_fx FX_avg_1231 on V_XYZ.uom=FX_avg_1231.base and DATE(cast (year(V_XYZ.ddate)-1 as varchar)||'-12-31')=FX_avg_1231.ddate\n",
    "where rn=1\n",
    "\"\"\"\n",
    "    return query\n",
    "\n",
    "print(generate_instant_dera_combined_query('t_f', 'float', [1, 2, 3]))"
   ]
  },
  {
   "cell_type": "code",
   "execution_count": 11,
   "id": "5d53b4d4-5f42-472a-aa0d-0f6c8341b796",
   "metadata": {},
   "outputs": [
    {
     "name": "stdout",
     "output_type": "stream",
     "text": [
      "Creating annual table `t_r` for `revenue`\n"
     ]
    },
    {
     "data": {
      "text/plain": [
       "[(25909,)]"
      ]
     },
     "metadata": {},
     "output_type": "display_data"
    },
    {
     "name": "stdout",
     "output_type": "stream",
     "text": [
      "Creating annual table `t_i` for `income`\n"
     ]
    },
    {
     "data": {
      "text/plain": [
       "[(29955,)]"
      ]
     },
     "metadata": {},
     "output_type": "display_data"
    }
   ],
   "source": [
    "revenue_tags = [\n",
    "    'Revenue','Revenues','RevenueFromContractsWithCustomers',\n",
    "    'RevenueFromContractWithCustomerIncludingAssessedTax',\n",
    "    'RevenueFromContractWithCustomerExcludingAssessedTax',\n",
    "    'RevenuesNetOfInterestExpense',\n",
    "    'RegulatedAndUnregulatedOperatingRevenue',\n",
    "    'RegulatedOperatingRevenuePipelines'\n",
    "]\n",
    "\n",
    "income_tags = [\n",
    "    'ProfitLoss','NetIncomeLoss','ComprehensiveIncome'\n",
    "]\n",
    "\n",
    "dera_annual_dict = {\n",
    "    'revenue': revenue_tags,\n",
    "    'income': income_tags,\n",
    "}\n",
    "\n",
    "\n",
    "for what, tags in dera_annual_dict.items():\n",
    "    tbl = 't_' + what[0]\n",
    "    print(f'Creating annual table `{tbl}` for `{what}`')\n",
    "    \n",
    "    query_usd = generate_annual_dera_usd_query(what, tags)\n",
    "    # print(query_usd)\n",
    "    \n",
    "    query_xyz = generate_annual_dera_xyz_query(what, tags)\n",
    "    # print(query_xyz)\n",
    "    \n",
    "    qres = engine.execute(f\"drop table if exists sec_dera.{tbl}\")\n",
    "    # display(qres.fetchall())\n",
    "    \n",
    "    qres = engine.execute(query_usd)\n",
    "    # display(qres.fetchall())\n",
    "\n",
    "    qres = engine.execute(query_xyz)\n",
    "    # display(qres.fetchall())\n",
    "\n",
    "    query_final = generate_annual_dera_combined_query(tbl, what, [1, 2, 3])\n",
    "    qres = engine.execute(query_final)\n",
    "    # print(query_fintal)\n",
    "    display(qres.fetchall())"
   ]
  },
  {
   "cell_type": "raw",
   "id": "90bc7445-1c43-4ef0-a948-8bae530dd249",
   "metadata": {},
   "source": [
    "engine.execute(\"select * from sec_dera.num where qtrs=4004\").fetchall()"
   ]
  },
  {
   "cell_type": "raw",
   "id": "8a936a2a-d110-431c-8084-7f520ed01b5b",
   "metadata": {},
   "source": [
    "engine.execute(\"select * from sec_dera.sub where adsh='0001628280-21-016934'\").fetchall()"
   ]
  },
  {
   "cell_type": "raw",
   "id": "f4be2556-cee2-48da-849a-272758c208df",
   "metadata": {},
   "source": [
    "engine.execute(\"select * from sec_dera.t_r where name='INDEPENDENT BANK CORP'\").fetchall()"
   ]
  },
  {
   "cell_type": "markdown",
   "id": "fe80a6f7-32f7-4ecc-970d-580fd1bdb2b0",
   "metadata": {},
   "source": [
    "### Float (market cap)\n",
    "\n",
    "TODO: The float calculation reads the reported overall float without regard to share class.  For companies that have multiple associated tickers, this gives wrong results.  And probably very wrong results for BRK.A vs. BRK.B"
   ]
  },
  {
   "cell_type": "raw",
   "id": "36ccac7d-75ce-418a-a4a5-9283d587855c",
   "metadata": {},
   "source": [
    "engine.execute(\"select count (*), tag from sec_dera.num where tag like '%Float%' and tag not like '%Floating%' and tag not like '%Floater%' group by tag order by tag\").fetchall()"
   ]
  },
  {
   "cell_type": "raw",
   "id": "ce7c1afa-d29a-4a9c-8a51-33229cf0e801",
   "metadata": {},
   "source": [
    "engine.execute(\"select count (*) from sec_dera.sub as S join sec_dera.float_by_adsh_ddate as AD on S.adsh=AD.adsh where (S.form!='10-K' and S.form!='20-F')\").fetchall()"
   ]
  },
  {
   "cell_type": "code",
   "execution_count": 12,
   "id": "133a9b82-8905-4afc-bef0-47b3ca1249eb",
   "metadata": {},
   "outputs": [
    {
     "name": "stdout",
     "output_type": "stream",
     "text": [
      "\n",
      "create table sec_dera.t_i as\n",
      "select V_USD.adsh, V_USD.cik, V_USD.name, V_USD.lei, V_USD.sic, V_USD.fy, V_USD.ddate, V_USD.uom, V_USD.income as income_usd\n",
      "from (select *,\n",
      "             row_number() over (partition by cik, ddate order by fy desc) as rn\n",
      "      from sec_dera.fy_income_usd_by_lei) as V_USD\n",
      "where rn=1\n",
      "UNION ALL\n",
      "select V_XYZ.adsh, V_XYZ.cik, V_XYZ.name, V_XYZ.lei, V_XYZ.sic, V_XYZ.fy, V_XYZ.ddate, V_XYZ.uom,\n",
      "       coalesce(FX.to_usd, FX_1mo.to_usd, FX_2mo.to_usd, FX_3mo.to_usd, FX_avg.to_usd, FX_avg_py.to_usd, FX_avg_1231.to_usd) * V_XYZ.income as income_usd\n",
      "from (select *,\n",
      "             row_number() over (partition by cik, ddate order by fy desc) as rn\n",
      "      from sec_dera.fy_income_xyz_by_lei) as V_XYZ\n",
      "     left join sec_dera.closing_fx FX on V_XYZ.uom=FX.base and V_XYZ.ddate=FX.ddate\n",
      "     left join sec_dera.closing_fx FX_1mo on V_XYZ.uom=FX_1mo.base and date_diff('month', FX_1mo.ddate, V_XYZ.ddate)=1 left join sec_dera.closing_fx FX_2mo on V_XYZ.uom=FX_2mo.base and date_diff('month', FX_2mo.ddate, V_XYZ.ddate)=2 left join sec_dera.closing_fx FX_3mo on V_XYZ.uom=FX_3mo.base and date_diff('month', FX_3mo.ddate, V_XYZ.ddate)=3\n",
      "     left join sec_dera.average_fx FX_avg on V_XYZ.uom=FX_avg.base and V_XYZ.ddate=FX_avg.ddate\n",
      "     left join sec_dera.average_fx FX_avg_py on V_XYZ.uom=FX_avg_py.base and V_XYZ.ddate=date_add('year', 1, FX_avg_py.ddate)\n",
      "     left join sec_dera.average_fx FX_avg_1231 on V_XYZ.uom=FX_avg_1231.base and DATE(cast (year(V_XYZ.ddate)-1 as varchar)||'-12-31')=FX_avg_1231.ddate\n",
      "where rn=1\n",
      "\n"
     ]
    }
   ],
   "source": [
    "print(query_final)"
   ]
  },
  {
   "cell_type": "markdown",
   "id": "79d78d40-3f41-48af-928f-64c0816e0b83",
   "metadata": {},
   "source": [
    "### Instant Tables: Assets, Cash, Debt, and Float\n",
    "\n",
    "These tables all measure point-in-time values.  We only measure the points-in-time that are part of annual reports. \n",
    "\n",
    "Many companies report not only the present fiscal year data but two prior years as well.  \n",
    "The row_number() code ensures we use the latest reported fact for a given year"
   ]
  },
  {
   "cell_type": "code",
   "execution_count": 13,
   "id": "d2a42bc6-94c7-44bd-8bf8-1adce4669348",
   "metadata": {},
   "outputs": [
    {
     "name": "stdout",
     "output_type": "stream",
     "text": [
      "Creating instant table `t_f` for `float`\n"
     ]
    },
    {
     "data": {
      "text/plain": [
       "[(14731,)]"
      ]
     },
     "metadata": {},
     "output_type": "display_data"
    },
    {
     "name": "stdout",
     "output_type": "stream",
     "text": [
      "Creating instant table `t_c` for `cash`\n"
     ]
    },
    {
     "data": {
      "text/plain": [
       "[(31908,)]"
      ]
     },
     "metadata": {},
     "output_type": "display_data"
    },
    {
     "name": "stdout",
     "output_type": "stream",
     "text": [
      "Creating instant table `t_d` for `debt`\n"
     ]
    },
    {
     "data": {
      "text/plain": [
       "[(16534,)]"
      ]
     },
     "metadata": {},
     "output_type": "display_data"
    },
    {
     "name": "stdout",
     "output_type": "stream",
     "text": [
      "Creating instant table `t_a` for `assets`\n"
     ]
    },
    {
     "data": {
      "text/plain": [
       "[(27156,)]"
      ]
     },
     "metadata": {},
     "output_type": "display_data"
    }
   ],
   "source": [
    "float_tags = [\n",
    "    'EntityPublicFloat',\n",
    "    'EntitysPublicFloat',\n",
    "    'FreeFloat',\n",
    "    'PublicFloat',\n",
    "    'PublicFloatValue'\n",
    "]\n",
    "\n",
    "cash_tags = [\n",
    "    'Cash','CashAndDueFromBanks','CashAndCashEquivalents',\n",
    "    'CashAndCashEquivalentsUnrestricted', # this has some funkiness with upper/lower case data\n",
    "    'CashEquivalentsAtCarryingValue',\n",
    "    'CashAndCashEquivalentsAtCarryingValue',\n",
    "    'CashAndCashEquivalentsAtCarryingValueExcludingVariableInterestEntities'\n",
    "]\n",
    "\n",
    "debt_tags = [\n",
    "    'LongTermDebt','LongTermDebtFairValue','LongTermDebtAndCapitalLeaseObligations',\n",
    "    'DebtAndCapitalLeaseObligations','DebtLongtermAndShorttermCombinedAmount',\n",
    "    'SecuredDebt','UnsecuredDebt','OperatingLeaseLiabilityNoncurrent',\n",
    "    'SubordinatedDebt','ConvertibleDebt','LongTermLineOfCredit',\n",
    "    'OtherBorrowings','NotesAndLoansReceivableNetNoncurrent',\n",
    "    # NOTE: A MORE ACCURATE ANSWER COMES FROM SUMMING THESE TWO AND COMPARING WITH THE ABOVE (ALREADY-COMBINED) DEBT METRICS\n",
    "    'LongTermDebtNoncurrent','LongTermDebtCurrent'\n",
    "]\n",
    "\n",
    "dera_instant_dict = {\n",
    "    'float': float_tags,\n",
    "    'cash': cash_tags,\n",
    "    'debt': debt_tags,\n",
    "    'assets': ['Assets'],\n",
    "}\n",
    "\n",
    "for what, tags in dera_instant_dict.items():\n",
    "    tbl = 't_' + what[0]\n",
    "    \n",
    "    print(f'Creating instant table `{tbl}` for `{what}`')\n",
    "\n",
    "    query_usd = generate_instant_dera_usd_query(what, tags)\n",
    "    # print(query_usd)\n",
    "    \n",
    "    query_xyz = generate_instant_dera_xyz_query(what, tags)\n",
    "    # print(query_xyz)\n",
    "    \n",
    "    qres = engine.execute(f\"drop table if exists sec_dera.{tbl}\")\n",
    "    # display(qres.fetchall())\n",
    "    \n",
    "    qres = engine.execute(query_usd)\n",
    "    # display(qres.fetchall())\n",
    "    \n",
    "    qres = engine.execute(query_xyz)\n",
    "    # display(qres.fetchall())\n",
    "    \n",
    "    query_final = generate_instant_dera_combined_query(tbl, what, [1, 2, 3])\n",
    "    # print(query_final)\n",
    "    qres = engine.execute(query_final)\n",
    "    display(qres.fetchall())"
   ]
  },
  {
   "cell_type": "raw",
   "id": "5c68258d-6d96-4a4a-8598-9bfa5ba4efe3",
   "metadata": {},
   "source": [
    "# Leaving this here in case it's really much more work (and proper work) to sort which shares belong to which ticker,\n",
    "# which is not generic to creating this table as we do the others.\n",
    "\n",
    "qres = engine.execute(\"drop table if exists sec_dera.t_f\").fetchall()\n",
    "qres = engine.execute(\"\"\"\n",
    "create or replace view sec_dera.float_by_adsh_ddate as\n",
    "select S.adsh, fy, max(ddate) as f_ddate\n",
    "from sec_dera.sub as S join sec_dera.num as N on S.adsh=N.adsh\n",
    "where (S.form='10-K' or S.form='20-F' or S.form='40-F')\n",
    "        and S.fy>=DATE('2019-01-01')\n",
    "        and coreg is NULL\n",
    "        and qtrs=0\n",
    "        and (tag='EntityPublicFloat'\n",
    "             or tag='EntitysPublicFloat'\n",
    "             or tag='FreeFloat'\n",
    "             or tag='PublicFloat'\n",
    "             or tag='PublicFloatValue')\n",
    "group by S.adsh, fy\n",
    "\"\"\")\n",
    "display(qres.fetchall())\n",
    "\n",
    "qres = engine.execute(\"\"\"\n",
    "create or replace view sec_dera.float_usd_by_lei as\n",
    "select S.adsh, S.cik, name, lei, tname, sic, S.fy, N.ddate, uom, max(value) as market_cap\n",
    "from sec_dera.sub as S\n",
    "     join sec_dera.float_by_adsh_ddate as AD on S.adsh=AD.adsh\n",
    "     join sec_dera.num as N on AD.adsh=N.adsh and AD.f_ddate=N.ddate\n",
    "     left join sec_dera.ticker T on S.cik=T.cik\n",
    "     -- we already know we are looking at the correct S.form type\n",
    "where value>0\n",
    "      and uom='USD'\n",
    "      and coreg is NULL\n",
    "      and qtrs=0\n",
    "      and (tag='EntityPublicFloat'\n",
    "           or tag='EntitysPublicFloat'\n",
    "           or tag='FreeFloat'\n",
    "           or tag='PublicFloat'\n",
    "           or tag='PublicFloatValue')\n",
    "group by S.adsh, S.cik, name, lei, tname, sic, S.fy, N.ddate, uom\n",
    "\"\"\")\n",
    "display(qres.fetchall())\n",
    "\n",
    "qres = engine.execute(\"\"\"\n",
    "create or replace view sec_dera.float_xyz_by_lei as\n",
    "select S.adsh, S.cik, S.name, S.lei, T.tname, S.sic, S.fy, N.ddate, N.uom, max(value) as market_cap\n",
    "from sec_dera.sub as S\n",
    "     left join sec_dera.float_usd_by_lei X on S.adsh=X.adsh\n",
    "     join sec_dera.float_by_adsh_ddate as AD on S.adsh=AD.adsh\n",
    "     join sec_dera.num as N on AD.adsh=N.adsh and AD.f_ddate=N.ddate and (X.adsh IS NULL or X.ddate=N.ddate)\n",
    "     left join sec_dera.ticker T on S.cik=T.cik\n",
    "     -- we already know we are looking at the correct S.form type\n",
    "where X.ddate IS NULL\n",
    "      and value>0\n",
    "      and N.uom!='USD'\n",
    "      and coreg is NULL\n",
    "      and qtrs=0\n",
    "      and (tag='EntityPublicFloat'\n",
    "           or tag='EntitysPublicFloat'\n",
    "           or tag='FreeFloat'\n",
    "           or tag='PublicFloat'\n",
    "           or tag='PublicFloatValue')\n",
    "group by S.adsh, S.cik, S.name, S.lei, T.tname, S.sic, S.fy, N.ddate, N.uom\n",
    "\"\"\")\n",
    "display(qres.fetchall())\n",
    "\n",
    "qres = engine.execute(\"\"\"\n",
    "create table sec_dera.t_f as\n",
    "select V_USD.*, V_USD.market_cap as market_cap_usd\n",
    "from sec_dera.float_usd_by_lei as V_USD\n",
    "UNION ALL\n",
    "select V_XYZ.*, coalesce(FX.to_usd, FX_1mo.to_usd, FX_2mo.to_usd, FX_3mo.to_usd, FX_avg.to_usd, FX_avg_py.to_usd, FX_avg_1231.to_usd) * V_XYZ.market_cap as market_cap_usd\n",
    "from sec_dera.float_xyz_by_lei as V_XYZ\n",
    "     left join sec_dera.closing_fx FX on V_XYZ.uom=FX.base and V_XYZ.ddate=FX.ddate\n",
    "     left join sec_dera.closing_fx FX_1mo on V_XYZ.uom=FX_1mo.base and date_diff('month', FX_1mo.ddate, V_XYZ.ddate)=1\n",
    "     left join sec_dera.closing_fx FX_2mo on V_XYZ.uom=FX_2mo.base and date_diff('month', FX_2mo.ddate, V_XYZ.ddate)=2\n",
    "     left join sec_dera.closing_fx FX_3mo on V_XYZ.uom=FX_3mo.base and date_diff('month', FX_3mo.ddate, V_XYZ.ddate)=3\n",
    "     left join sec_dera.average_fx FX_avg on V_XYZ.uom=FX_avg.base and V_XYZ.ddate=FX_avg.ddate\n",
    "     left join sec_dera.average_fx FX_avg_py on V_XYZ.uom=FX_avg_py.base and V_XYZ.ddate=date_add('year', 1, FX_avg_py.ddate)\n",
    "     left join sec_dera.average_fx FX_avg_1231 on V_XYZ.uom=FX_avg_1231.base and DATE(cast (year(V_XYZ.ddate)-1 as varchar)||'-12-31')=FX_avg_1231.ddate\n",
    "\"\"\")\n",
    "display(qres.fetchall())"
   ]
  },
  {
   "cell_type": "raw",
   "id": "578068b7-1b4d-4bc9-8fd8-ff25a1b1b186",
   "metadata": {},
   "source": [
    "engine.execute(\"select * from sec_dera.t_f where name='INDEPENDENT BANK CORP'\").fetchall()"
   ]
  },
  {
   "cell_type": "markdown",
   "id": "76fa3e45-b00b-4755-a1d7-04b3514ade2a",
   "metadata": {},
   "source": [
    "### Cash"
   ]
  },
  {
   "cell_type": "raw",
   "id": "ebf010e5-38cf-4713-9a0d-f671734a42fc",
   "metadata": {},
   "source": [
    "qres = engine.execute(\"drop table if exists sec_dera.t_c\").fetchall()\n",
    "qres = engine.execute(\"\"\"\n",
    "create or replace view sec_dera.cash_by_adsh_ddate as\n",
    "select S.adsh, fy, max(ddate) as c_ddate\n",
    "from sec_dera.sub as S join sec_dera.num as N on S.adsh=N.adsh\n",
    "where (S.form='10-K' or S.form='20-F' or S.form='40-F')\n",
    "        and S.fy>=DATE('2019-01-01')\n",
    "        and coreg is NULL\n",
    "        and qtrs=0\n",
    "        and (tag='Cash'\n",
    "             or tag='CashAndDueFromBanks'\n",
    "             or tag='CashAndCashEquivalents'\n",
    "             or lower(tag)=lower('CashAndCashEquivalentsUnrestricted')\n",
    "             or tag='CashEquivalentsAtCarryingValue' \n",
    "             or tag='CashAndCashEquivalentsAtCarryingValue'\n",
    "             or tag='CashAndCashEquivalentsAtCarryingValueExcludingVariableInterestEntities')\n",
    "group by S.adsh, fy\n",
    "\"\"\")\n",
    "print(qres.fetchall())\n",
    "\n",
    "qres = engine.execute(\"\"\"\n",
    "create or replace view sec_dera.cash_usd_by_lei as\n",
    "select S.adsh, S.cik, name, lei, sic, S.fy, N.ddate, uom, max(value) as cash\n",
    "from sec_dera.sub as S\n",
    "     join sec_dera.cash_by_adsh_ddate as AD on S.adsh=AD.adsh\n",
    "     join sec_dera.num as N on AD.adsh=N.adsh and AD.c_ddate=N.ddate\n",
    "where coreg is NULL\n",
    "      and uom='USD'\n",
    "      and qtrs=0\n",
    "      and (tag='Cash'\n",
    "             or tag='CashAndDueFromBanks'\n",
    "             or tag='CashAndCashEquivalents'\n",
    "             or lower(tag)=lower('CashAndCashEquivalentsUnrestricted')\n",
    "             or tag='CashEquivalentsAtCarryingValue' \n",
    "             or tag='CashAndCashEquivalentsAtCarryingValue'\n",
    "             or tag='CashAndCashEquivalentsAtCarryingValueExcludingVariableInterestEntities')\n",
    "group by S.adsh, S.cik, name, lei, sic, S.fy, N.ddate, uom\n",
    "\"\"\")\n",
    "display(qres.fetchall())\n",
    "\n",
    "qres = engine.execute(\"\"\"\n",
    "create or replace view sec_dera.cash_xyz_by_lei as\n",
    "select S.adsh, S.cik, S.name, S.lei, S.sic, S.fy, N.ddate, N.uom, max(value) as cash\n",
    "from sec_dera.sub as S\n",
    "     left join sec_dera.cash_usd_by_lei X on S.adsh=X.adsh\n",
    "     join sec_dera.cash_by_adsh_ddate as AD on S.adsh=AD.adsh\n",
    "     join sec_dera.num as N on AD.adsh=N.adsh and AD.c_ddate=N.ddate and (X.adsh IS NULL or X.ddate=N.ddate)\n",
    "where X.ddate IS NULL\n",
    "      and coreg is NULL\n",
    "      and N.uom!='USD'\n",
    "      and qtrs=0\n",
    "      and (tag='Cash'\n",
    "             or tag='CashAndDueFromBanks'\n",
    "             or tag='CashAndCashEquivalents'\n",
    "             or lower(tag)=lower('CashAndCashEquivalentsUnrestricted')\n",
    "             or tag='CashEquivalentsAtCarryingValue' \n",
    "             or tag='CashAndCashEquivalentsAtCarryingValue'\n",
    "             or tag='CashAndCashEquivalentsAtCarryingValueExcludingVariableInterestEntities')\n",
    "group by S.adsh, S.cik, S.name, S.lei, S.sic, S.fy, N.ddate, N.uom\n",
    "\"\"\")\n",
    "display(qres.fetchall())\n",
    "\n",
    "qres = engine.execute(\"\"\"\n",
    "create table sec_dera.t_c as\n",
    "select V_USD.*, V_USD.cash as cash_usd\n",
    "from sec_dera.cash_usd_by_lei as V_USD\n",
    "UNION ALL\n",
    "select V_XYZ.*, coalesce(FX.to_usd, FX_1mo.to_usd, FX_2mo.to_usd, FX_3mo.to_usd, FX_avg.to_usd, FX_avg_py.to_usd, FX_avg_1231.to_usd) * V_XYZ.cash as cash_usd\n",
    "from sec_dera.cash_xyz_by_lei as V_XYZ\n",
    "     left join sec_dera.closing_fx FX on V_XYZ.uom=FX.base and V_XYZ.ddate=FX.ddate\n",
    "     left join sec_dera.closing_fx FX_1mo on V_XYZ.uom=FX_1mo.base and date_diff('month', FX_1mo.ddate, V_XYZ.ddate)=1\n",
    "     left join sec_dera.closing_fx FX_2mo on V_XYZ.uom=FX_2mo.base and date_diff('month', FX_2mo.ddate, V_XYZ.ddate)=2\n",
    "     left join sec_dera.closing_fx FX_3mo on V_XYZ.uom=FX_3mo.base and date_diff('month', FX_3mo.ddate, V_XYZ.ddate)=3\n",
    "     left join sec_dera.average_fx FX_avg on V_XYZ.uom=FX_avg.base and V_XYZ.ddate=FX_avg.ddate\n",
    "     left join sec_dera.average_fx FX_avg_py on V_XYZ.uom=FX_avg_py.base and V_XYZ.ddate=date_add('year', 1, FX_avg_py.ddate)\n",
    "     left join sec_dera.average_fx FX_avg_1231 on V_XYZ.uom=FX_avg_1231.base and DATE(cast (year(V_XYZ.ddate)-1 as varchar)||'-12-31')=FX_avg_1231.ddate\n",
    "\"\"\")\n",
    "display(qres.fetchall())"
   ]
  },
  {
   "cell_type": "raw",
   "id": "0a570cff-aa7c-40cf-a666-2bd03dcc1588",
   "metadata": {},
   "source": [
    "engine.execute(\"select * from sec_dera.t_c where name='INDEPENDENT BANK CORP'\").fetchall()"
   ]
  },
  {
   "cell_type": "raw",
   "id": "f45575b6-b66e-4ba8-80b4-3471f9b7e98c",
   "metadata": {},
   "source": [
    "engine.execute(\"\"\"\n",
    "select count (*), tag from sec_dera.num\n",
    "where tag='CashAndCashEquivalentsAtCarryingValue' or tag='Cash' or tag='CashEquivalentsAtCarryingValue' or tag='CashAndCashEquivalents'\n",
    "group by tag order by count (*) desc limit 20\n",
    "\"\"\").fetchall()"
   ]
  },
  {
   "cell_type": "markdown",
   "id": "1eb6140f-1d32-4c15-991b-94b5475efd7e",
   "metadata": {},
   "source": [
    "### Debt"
   ]
  },
  {
   "cell_type": "raw",
   "id": "55e6597d-24ff-417c-8167-7867afa38730",
   "metadata": {},
   "source": [
    "# Reiterating comment embedded below: we should sum 'LongTermDebtNoncurrent' and 'LongTermDebtCurrent' as one term we MAX with others\n",
    "qres = engine.execute(\"drop table if exists sec_dera.t_d\").fetchall()\n",
    "\n",
    "qres = engine.execute(\"\"\"\n",
    "create or replace view sec_dera.debt_by_adsh_ddate as\n",
    "select S.adsh, fy, max(ddate) as d_ddate\n",
    "from sec_dera.sub as S join sec_dera.num as N on S.adsh=N.adsh and year(S.fy)=year(N.ddate)\n",
    "where (S.form='10-K' or S.form='20-F' or S.form='40-F')\n",
    "        and S.fy>=DATE('2019-01-01')\n",
    "        and coreg is NULL\n",
    "        and qtrs=0\n",
    "        and (tag='LongTermDebt' or tag='LongTermDebtFairValue'\n",
    "             or tag='LongTermDebtAndCapitalLeaseObligations' or tag='DebtAndCapitalLeaseObligations'\n",
    "             or tag='DebtLongtermAndShorttermCombinedAmount' or tag='SecuredDebt' or tag='UnsecuredDebt'\n",
    "             or tag='OperatingLeaseLiabilityNoncurrent'\n",
    "             or tag='SubordinatedDebt' or tag='ConvertibleDebt'\n",
    "             or tag='LongTermLineOfCredit' or tag='OtherBorrowings' or tag='NotesAndLoansReceivableNetNoncurrent'\n",
    "             -- NOTE: A MORE ACCURATE ANSWER COMES FROM SUMMING THESE TWO AND COMPARING WITH THE ABOVE (ALREADY-COMBINED) DEBT METRICS\n",
    "             or tag='LongTermDebtNoncurrent' or tag='LongTermDebtCurrent')\n",
    "group by S.adsh, fy\n",
    "\"\"\")\n",
    "print(qres.fetchall())\n",
    "\n",
    "qres = engine.execute(\"\"\"\n",
    "create or replace view sec_dera.debt_usd_by_lei as\n",
    "select S.adsh, S.cik, name, lei, sic, S.fy, N.ddate, uom, max(value) as debt\n",
    "from sec_dera.sub as S\n",
    "     join sec_dera.debt_by_adsh_ddate as AD on S.adsh=AD.adsh\n",
    "     join sec_dera.num as N on AD.adsh=N.adsh and AD.d_ddate=N.ddate\n",
    "where coreg is NULL\n",
    "      and uom='USD'\n",
    "      and qtrs=0\n",
    "      and (tag='LongTermDebt' or tag='LongTermDebtFairValue'\n",
    "           or tag='LongTermDebtAndCapitalLeaseObligations' or tag='DebtAndCapitalLeaseObligations'\n",
    "           or tag='DebtLongtermAndShorttermCombinedAmount' or tag='SecuredDebt' or tag='UnsecuredDebt'\n",
    "           or tag='OperatingLeaseLiabilityNoncurrent'\n",
    "           or tag='SubordinatedDebt' or tag='ConvertibleDebt'\n",
    "           or tag='LongTermLineOfCredit' or tag='OtherBorrowings' or tag='NotesAndLoansReceivableNetNoncurrent'\n",
    "           -- NOTE: A MORE ACCURATE ANSWER COMES FROM SUMMING THESE TWO AND COMPARING WITH THE ABOVE (ALREADY-COMBINED) DEBT METRICS\n",
    "           or tag='LongTermDebtNoncurrent' or tag='LongTermDebtCurrent')\n",
    "group by S.adsh, S.cik, name, lei, sic, S.fy, N.ddate, uom\n",
    "\"\"\")\n",
    "display(qres.fetchall())\n",
    "\n",
    "qres = engine.execute(\"\"\"\n",
    "create or replace view sec_dera.debt_xyz_by_lei as\n",
    "select S.adsh, S.cik, S.name, S.lei, S.sic, S.fy, N.ddate, N.uom, max(value) as debt\n",
    "from sec_dera.sub as S\n",
    "     left join sec_dera.debt_usd_by_lei X on S.adsh=X.adsh\n",
    "     join sec_dera.debt_by_adsh_ddate as AD on S.adsh=AD.adsh\n",
    "     join sec_dera.num as N on AD.adsh=N.adsh and AD.d_ddate=N.ddate and (X.adsh IS NULL or X.ddate=N.ddate)\n",
    "where X.ddate IS NULL\n",
    "      and coreg is NULL\n",
    "      and N.uom!='USD'\n",
    "      and qtrs=0\n",
    "      and (tag='LongTermDebt' or tag='LongTermDebtFairValue'\n",
    "           or tag='LongTermDebtAndCapitalLeaseObligations' or tag='DebtAndCapitalLeaseObligations'\n",
    "           or tag='DebtLongtermAndShorttermCombinedAmount' or tag='SecuredDebt' or tag='UnsecuredDebt'\n",
    "           or tag='OperatingLeaseLiabilityNoncurrent'\n",
    "           or tag='SubordinatedDebt' or tag='ConvertibleDebt'\n",
    "           or tag='LongTermLineOfCredit' or tag='OtherBorrowings' or tag='NotesAndLoansReceivableNetNoncurrent'\n",
    "           -- NOTE: A MORE ACCURATE ANSWER COMES FROM SUMMING THESE TWO AND COMPARING WITH THE ABOVE (ALREADY-COMBINED) DEBT METRICS\n",
    "           or tag='LongTermDebtNoncurrent' or tag='LongTermDebtCurrent')\n",
    "group by S.adsh, S.cik, S.name, S.lei, S.sic, S.fy, N.ddate, N.uom\n",
    "\"\"\")\n",
    "display(qres.fetchall())\n",
    "\n",
    "qres = engine.execute(\"\"\"\n",
    "create table sec_dera.t_d as\n",
    "select V_USD.*, V_USD.debt as debt_usd\n",
    "from sec_dera.debt_usd_by_lei as V_USD\n",
    "UNION ALL\n",
    "select V_XYZ.*, coalesce(FX.to_usd, FX_1mo.to_usd, FX_2mo.to_usd, FX_3mo.to_usd, FX_avg.to_usd, FX_avg_py.to_usd, FX_avg_1231.to_usd) * V_XYZ.debt as debt_usd\n",
    "from sec_dera.debt_xyz_by_lei as V_XYZ\n",
    "     left join sec_dera.closing_fx FX on V_XYZ.uom=FX.base and V_XYZ.ddate=FX.ddate\n",
    "     left join sec_dera.closing_fx FX_1mo on V_XYZ.uom=FX_1mo.base and date_diff('month', FX_1mo.ddate, V_XYZ.ddate)=1\n",
    "     left join sec_dera.closing_fx FX_2mo on V_XYZ.uom=FX_2mo.base and date_diff('month', FX_2mo.ddate, V_XYZ.ddate)=2\n",
    "     left join sec_dera.closing_fx FX_3mo on V_XYZ.uom=FX_3mo.base and date_diff('month', FX_3mo.ddate, V_XYZ.ddate)=3\n",
    "     left join sec_dera.average_fx FX_avg on V_XYZ.uom=FX_avg.base and V_XYZ.ddate=FX_avg.ddate\n",
    "     left join sec_dera.average_fx FX_avg_py on V_XYZ.uom=FX_avg_py.base and V_XYZ.ddate=date_add('year', 1, FX_avg_py.ddate)\n",
    "     left join sec_dera.average_fx FX_avg_1231 on V_XYZ.uom=FX_avg_1231.base and DATE(cast (year(V_XYZ.ddate)-1 as varchar)||'-12-31')=FX_avg_1231.ddate\n",
    "\"\"\")\n",
    "display(qres.fetchall())"
   ]
  },
  {
   "cell_type": "raw",
   "id": "7744303e-8342-44ba-8e5b-d9a21af402a5",
   "metadata": {},
   "source": [
    "engine.execute(\"select * from sec_dera.t_d where name='INDEPENDENT BANK CORP'\").fetchall()"
   ]
  },
  {
   "cell_type": "raw",
   "id": "544f7563-8c36-4de9-b9d9-dfff6e66ce4f",
   "metadata": {},
   "source": [
    "engine.execute(\"\"\"\n",
    "select count (*), tag from sec_dera.num\n",
    "where tag='LongTermDebt' or tag='LongTermDebtFairValue' or tag='LongTermDebtAndCapitalLeaseObligations'\n",
    "or tag='DebtLongtermAndShorttermCombinedAmount' or tag='SecuredDebt' or tag='UnsecuredDebt' or tag='SubordinatedDebt' or tag='ConvertibleDebt'\n",
    "group by tag order by count (*) desc\n",
    "\"\"\").fetchall()"
   ]
  },
  {
   "cell_type": "raw",
   "id": "15e1c83d-c4ca-4747-aee9-b14b4234fcf9",
   "metadata": {},
   "source": [
    "l = engine.execute(\"\"\"\n",
    "select name, sic, round(value/1000000.0,1), uom, ddate, nciks, aciks\n",
    "from sec_dera.sub as S join sec_dera.num as N\n",
    "on S.adsh=N.adsh\n",
    "where form='10-K' and fy=DATE('2020-01-01') and tag='DebtLongtermAndShorttermCombinedAmount' order by value desc limit 20\n",
    "\"\"\").fetchall()"
   ]
  },
  {
   "cell_type": "raw",
   "id": "1789cde7-c148-4469-952c-f1d2acb27733",
   "metadata": {},
   "source": [
    "l = engine.execute(\"\"\"\n",
    "select name, form, tag, value, uom, fy, qtrs, coreg\n",
    "from sec_dera.sub S join sec_dera.num as N\n",
    "on S.adsh=N.adsh\n",
    "where (form='10-K' or form='20-F') and fy >= ddate and date_add('year', -1, fy) < ddate\n",
    "and (N.tag='Revenues'\n",
    "     or N.tag='RevenueFromContractWithCustomerIncludingAssessedTax'\n",
    "     or N.tag='RevenueFromContractWithCustomerExcludingAssessedTax'\n",
    "     or N.tag='RevenuesNetOfInterestExpense'\n",
    "     or N.tag='RegulatedAndUnregulatedOperatingRevenue'\n",
    "     or N.tag='RegulatedOperatingRevenuePipelines')\n",
    "order by name\n",
    "\"\"\").fetchall()\n",
    "len(l)"
   ]
  },
  {
   "cell_type": "markdown",
   "id": "d1748b64-52d4-4a58-8d5e-183e02eb68de",
   "metadata": {},
   "source": [
    "### Assets"
   ]
  },
  {
   "cell_type": "raw",
   "id": "46f40ef6-29bc-463f-8a85-3ee05ac60a7b",
   "metadata": {},
   "source": [
    "qres = engine.execute(\"\"\"\n",
    "select count (*), form, uom\n",
    "from sec_dera.sub as S join sec_dera.num as N on S.adsh=N.adsh and year(S.fy)=year(N.ddate)\n",
    "where (S.form='10-K' or form='20-F' or form='40-F')\n",
    "        and S.fy>=DATE('2019-01-01')\n",
    "        and coreg is NULL\n",
    "        and qtrs=0\n",
    "        and tag='Assets'\n",
    "group by form, uom\n",
    "order by form, count (*) desc\n",
    "\"\"\")\n",
    "display(qres.fetchall())"
   ]
  },
  {
   "cell_type": "raw",
   "id": "00168d91-5ff4-4934-884c-e54b930cc1e7",
   "metadata": {},
   "source": [
    "qres = engine.execute(\"\"\"\n",
    "select S.adsh, S.cik, name, lei, sic, S.fy, N.ddate, uom, value as assets, FX.value * value as assets_usd\n",
    "from sec_dera.sub as S\n",
    "     join sec_dera.assets_xyz_by_adsh_ddate as AD on S.adsh=AD.adsh\n",
    "     join sec_dera.num as N on AD.adsh=N.adsh and AD.a_ddate=N.ddate\n",
    "     join sec_dera.num as FX on N.ddate=FX.ddate\n",
    "where N.coreg is NULL\n",
    "      and N.qtrs=0\n",
    "      and N.tag='Assets'\n",
    "      and FX.qtrs=0\n",
    "      and FX.tag=\n",
    "\"\"\")\n",
    "print(qres.fetchall())"
   ]
  },
  {
   "cell_type": "raw",
   "id": "1c1ba941-35cb-4cb3-afc0-09509f99e4f7",
   "metadata": {},
   "source": [
    "qres = engine.execute(\"drop table if exists sec_dera.t_a\")\n",
    "print(qres.fetchall())\n",
    "\n",
    "qres = engine.execute(\"\"\"\n",
    "create or replace view sec_dera.assets_by_adsh_ddate as\n",
    "select S.adsh, fy, max(ddate) as d_ddate\n",
    "from sec_dera.sub as S join sec_dera.num as N on S.adsh=N.adsh and year(S.fy)=year(N.ddate)\n",
    "where (S.form='10-K' or S.form='20-F' or S.form='40-F')\n",
    "        and S.fy>=DATE('2019-01-01')\n",
    "        and coreg is NULL\n",
    "        and qtrs=0\n",
    "        and tag='Assets'\n",
    "group by S.adsh, fy\n",
    "\"\"\")\n",
    "display(qres.fetchall())\n",
    "\n",
    "qres = engine.execute(\"\"\"\n",
    "create or replace view sec_dera.assets_usd_by_lei as\n",
    "select S.adsh, S.cik, name, lei, sic, S.fy, N.ddate, uom, max(value) as assets\n",
    "from sec_dera.sub as S\n",
    "     join sec_dera.assets_by_adsh_ddate as AD on S.adsh=AD.adsh\n",
    "     join sec_dera.num as N on AD.adsh=N.adsh and AD.d_ddate=N.ddate\n",
    "where coreg is NULL\n",
    "      and uom='USD'\n",
    "      and qtrs=0\n",
    "      and tag='Assets'\n",
    "group by S.adsh, S.cik, name, lei, sic, S.fy, N.ddate, uom\n",
    "\"\"\")\n",
    "display(qres.fetchall())\n",
    "\n",
    "qres = engine.execute(\"\"\"\n",
    "create or replace view sec_dera.assets_xyz_by_lei as\n",
    "select S.adsh, S.cik, S.name, S.lei, S.sic, S.fy, N.ddate, N.uom, max(value) as assets\n",
    "from sec_dera.sub as S\n",
    "     left join sec_dera.assets_usd_by_lei X on S.adsh=X.adsh\n",
    "     join sec_dera.assets_by_adsh_ddate as AD on S.adsh=AD.adsh\n",
    "     join sec_dera.num as N on AD.adsh=N.adsh and AD.d_ddate=N.ddate and (X.adsh IS NULL or X.ddate=N.ddate)\n",
    "where X.ddate IS NULL\n",
    "      and coreg is NULL\n",
    "      and N.uom!='USD'\n",
    "      and qtrs=0\n",
    "      and tag='Assets'\n",
    "group by S.adsh, S.cik, S.name, S.lei, S.sic, S.fy, N.ddate, N.uom\n",
    "\"\"\")\n",
    "display(qres.fetchall())\n",
    "\n",
    "qres = engine.execute(\"\"\"\n",
    "create table sec_dera.t_a as\n",
    "select V_USD.*, V_USD.assets as assets_usd\n",
    "from sec_dera.assets_usd_by_lei as V_USD\n",
    "UNION ALL\n",
    "select V_XYZ.*, coalesce(FX.to_usd, FX_1mo.to_usd, FX_2mo.to_usd, FX_3mo.to_usd, FX_avg.to_usd, FX_avg_py.to_usd, FX_avg_1231.to_usd) * V_XYZ.assets as assets_usd\n",
    "from sec_dera.assets_xyz_by_lei as V_XYZ\n",
    "     left join sec_dera.closing_fx FX on V_XYZ.uom=FX.base and V_XYZ.ddate=FX.ddate\n",
    "     left join sec_dera.closing_fx FX_1mo on V_XYZ.uom=FX_1mo.base and date_diff('month', FX_1mo.ddate, V_XYZ.ddate)=1\n",
    "     left join sec_dera.closing_fx FX_2mo on V_XYZ.uom=FX_2mo.base and date_diff('month', FX_2mo.ddate, V_XYZ.ddate)=2\n",
    "     left join sec_dera.closing_fx FX_3mo on V_XYZ.uom=FX_3mo.base and date_diff('month', FX_3mo.ddate, V_XYZ.ddate)=3\n",
    "     left join sec_dera.average_fx FX_avg on V_XYZ.uom=FX_avg.base and V_XYZ.ddate=FX_avg.ddate\n",
    "     left join sec_dera.average_fx FX_avg_py on V_XYZ.uom=FX_avg_py.base and V_XYZ.ddate=date_add('year', 1, FX_avg_py.ddate)\n",
    "     left join sec_dera.average_fx FX_avg_1231 on V_XYZ.uom=FX_avg_1231.base and DATE(cast (year(V_XYZ.ddate)-1 as varchar)||'-12-31')=FX_avg_1231.ddate\n",
    "\"\"\")\n",
    "display(qres.fetchall())"
   ]
  },
  {
   "cell_type": "markdown",
   "id": "4f2e7b0b-9065-4c66-ab6c-98c035d081eb",
   "metadata": {},
   "source": [
    "### Income (Annual Profit / Loss)"
   ]
  },
  {
   "cell_type": "raw",
   "id": "e69e74ca-7748-4aa0-84d4-3c12f0bdd01e",
   "metadata": {},
   "source": [
    "qres = engine.execute(\"drop table if exists sec_dera.t_i\")\n",
    "print(qres.fetchall())\n",
    "\n",
    "qres = engine.execute(\"\"\"\n",
    "create or replace view sec_dera.fy_income_by_adsh_ddate as\n",
    "select S.adsh, fy, max(ddate) as i_ddate\n",
    "from sec_dera.sub as S join sec_dera.num as N on S.adsh=N.adsh -- and year(S.fy)=year(N.ddate)\n",
    "where (S.form='10-K' or S.form='20-F' or S.form='40-F')\n",
    "        and S.fy>=DATE('2019-01-01')\n",
    "        and coreg is NULL\n",
    "        and qtrs=4\n",
    "        and (tag='ProfitLoss'\n",
    "             or tag='NetIncomeLoss'\n",
    "             or tag='ComprehensiveIncome')\n",
    "group by S.adsh, fy\n",
    "\"\"\")\n",
    "display(qres.fetchall())\n",
    "\n",
    "qres = engine.execute(\"\"\"\n",
    "create or replace view sec_dera.fy_income_usd_by_lei as\n",
    "select S.adsh, S.cik, name, lei, sic, S.fy, N.ddate, uom, max(value) as income\n",
    "from sec_dera.sub as S\n",
    "--     join sec_dera.fy_income_by_adsh_ddate as AD on S.adsh=AD.adsh\n",
    "     join sec_dera.num as N on S.adsh=N.adsh -- and AD.i_ddate=N.ddate\n",
    "where coreg is NULL\n",
    "      and uom='USD'\n",
    "      and qtrs=4\n",
    "      and (tag='ProfitLoss'\n",
    "             or tag='NetIncomeLoss'\n",
    "             or tag='ComprehensiveIncome')\n",
    "group by S.adsh, S.cik, name, lei, sic, S.fy, N.ddate, uom\n",
    "\"\"\")\n",
    "display(qres.fetchall())\n",
    "\n",
    "qres = engine.execute(\"\"\"\n",
    "create or replace view sec_dera.fy_income_xyz_by_lei as\n",
    "select S.adsh, S.cik, S.name, S.lei, S.sic, S.fy, N.ddate, N.uom, max(value) as income\n",
    "from sec_dera.sub as S\n",
    "     left join sec_dera.income_usd_by_lei X on S.adsh=X.adsh\n",
    "--     join sec_dera.fy_income_by_adsh_ddate as AD on S.adsh=AD.adsh\n",
    "     join sec_dera.num as N on S.adsh=N.adsh and (X.adsh IS NULL or X.ddate=N.ddate) -- and AD.i_ddate=N.ddate\n",
    "where X.ddate IS NULL\n",
    "      and coreg is NULL\n",
    "      and N.uom!='USD'\n",
    "      and qtrs=4\n",
    "      and (tag='ProfitLoss'\n",
    "             or tag='NetIncomeLoss'\n",
    "             or tag='ComprehensiveIncome')\n",
    "group by S.adsh, S.cik, S.name, S.lei, S.sic, S.fy, N.ddate, N.uom\n",
    "\"\"\")\n",
    "display(qres.fetchall())\n",
    "\n",
    "qres = engine.execute(\"\"\"\n",
    "create table sec_dera.t_i as\n",
    "select adsh, cik, name, lei, sic, fy, ddate, uom, income, income as income_usd\n",
    "from (select *,\n",
    "             row_number() over (partition by cik, ddate order by fy desc) as rn\n",
    "      from sec_dera.fy_income_usd_by_lei) as V_USD\n",
    "where rn=1\n",
    "UNION ALL\n",
    "select adsh, cik, name, lei, sic, fy, V_XYZ.ddate, uom, income,\n",
    "       coalesce(FX.to_usd, FX_1mo.to_usd, FX_2mo.to_usd, FX_3mo.to_usd, FX_avg.to_usd, FX_avg_py.to_usd, FX_avg_1231.to_usd) * V_XYZ.income as income_usd\n",
    "from (select *,\n",
    "             row_number() over (partition by cik, ddate order by fy desc) as rn\n",
    "      from sec_dera.fy_income_xyz_by_lei) as V_XYZ\n",
    "     left join sec_dera.closing_fx FX on V_XYZ.uom=FX.base and V_XYZ.ddate=FX.ddate\n",
    "     left join sec_dera.closing_fx FX_1mo on V_XYZ.uom=FX_1mo.base and date_diff('month', FX_1mo.ddate, V_XYZ.ddate)=1\n",
    "     left join sec_dera.closing_fx FX_2mo on V_XYZ.uom=FX_2mo.base and date_diff('month', FX_2mo.ddate, V_XYZ.ddate)=2\n",
    "     left join sec_dera.closing_fx FX_3mo on V_XYZ.uom=FX_3mo.base and date_diff('month', FX_3mo.ddate, V_XYZ.ddate)=3\n",
    "     left join sec_dera.average_fx FX_avg on V_XYZ.uom=FX_avg.base and V_XYZ.ddate=FX_avg.ddate\n",
    "     left join sec_dera.average_fx FX_avg_py on V_XYZ.uom=FX_avg_py.base and V_XYZ.ddate=date_add('year', 1, FX_avg_py.ddate)\n",
    "     left join sec_dera.average_fx FX_avg_1231 on V_XYZ.uom=FX_avg_1231.base and DATE(cast (year(V_XYZ.ddate)-1 as varchar)||'-12-31')=FX_avg_1231.ddate\n",
    "where rn=1\n",
    "\"\"\")\n",
    "display(qres.fetchall())"
   ]
  },
  {
   "cell_type": "markdown",
   "id": "cfac1ecd-d3d7-458e-9289-ea99b3067c6a",
   "metadata": {},
   "source": [
    "### Fitting Everything Together\n",
    "\n",
    "The FINANCIALS_BY_LEI table rolls up all the metrics we capture in once place, hopefully with no duplicated rows and only the best facts."
   ]
  },
  {
   "cell_type": "code",
   "execution_count": 14,
   "id": "822aef22-df63-4cc9-b3d1-6310d406a12d",
   "metadata": {},
   "outputs": [
    {
     "data": {
      "text/plain": [
       "[(True,)]"
      ]
     },
     "metadata": {},
     "output_type": "display_data"
    },
    {
     "data": {
      "text/plain": [
       "25909"
      ]
     },
     "execution_count": 14,
     "metadata": {},
     "output_type": "execute_result"
    }
   ],
   "source": [
    "# Ideally we can replace previously reported numbers with updated numbers.  But not yet.\n",
    "\n",
    "qres = engine.execute(\"\"\"\n",
    "create or replace view sec_dera.financials_by_lei as\n",
    "select R.name, R.lei,\n",
    "       -- T.tname,\n",
    "       R.fy, R.ddate, R.sic, revenue_usd, cash_usd, debt_usd, assets_usd, float_usd as market_cap_usd, income_usd\n",
    "from sec_dera.t_r as R -- left join sec_dera.ticker T on S.cik=T.cik\n",
    "     left join sec_dera.t_c as C on R.cik=C.cik and R.adsh=C.adsh and R.ddate=C.ddate\n",
    "     left join sec_dera.t_d as D on R.cik=D.cik and R.adsh=D.adsh and R.ddate=D.ddate\n",
    "     left join sec_dera.t_a as A on R.cik=A.cik and R.adsh=A.adsh and R.ddate=A.ddate\n",
    "     left join sec_dera.t_f as F on R.cik=F.cik and R.adsh=F.adsh and R.ddate=F.ddate\n",
    "     left join sec_dera.t_i as I on R.cik=I.cik and R.adsh=I.adsh and R.ddate=I.ddate\n",
    "-- where tname is null or tname not like '%-%'\n",
    "\"\"\")\n",
    "display(qres.fetchall())\n",
    "\n",
    "qres = engine.execute(\"\"\"\n",
    "select * from sec_dera.financials_by_lei\n",
    "\"\"\")\n",
    "l = qres.fetchall()\n",
    "len(l)"
   ]
  },
  {
   "cell_type": "raw",
   "id": "edb2616e-921d-489f-a7c3-8600613681c0",
   "metadata": {},
   "source": [
    "engine.execute(\"select * from sec_dera.financials_by_lei where lei='GJZNVO2UY6DNFNIYH321' order by ddate desc\").fetchall()"
   ]
  },
  {
   "cell_type": "raw",
   "id": "01738587-c8db-4e3f-8946-e5e7b0572841",
   "metadata": {},
   "source": [
    "engine.execute(\"select * from sec_dera.sub where cik=1174169 and form='40-F'\").fetchall()"
   ]
  },
  {
   "cell_type": "raw",
   "id": "f6039398-97d0-4e57-a52d-c99f41da8717",
   "metadata": {},
   "source": [
    "engine.execute(\"select * from sec_dera.num as R where (R.adsh='0001174169-20-000018' or R.adsh='0001174169-21-000012') and tag='RevenueFromContractWithCustomerExcludingAssessedTax'\").fetchall()"
   ]
  },
  {
   "cell_type": "raw",
   "id": "d6e96d70-95bb-4d04-81a0-853fa1431117",
   "metadata": {},
   "source": [
    "engine.execute(\"select * from sec_dera.t_r where adsh='0001004315-21-000067' or adsh='0001004315-20-000053'\").fetchall()"
   ]
  },
  {
   "cell_type": "markdown",
   "id": "cecc9056-a0ba-4f83-b1e9-16e84557308b",
   "metadata": {},
   "source": [
    "### An outstanding GLEIF problem:\n",
    "\n",
    "How far up the hierarchy should we climb?  For PG&E this really matters..."
   ]
  },
  {
   "cell_type": "code",
   "execution_count": 17,
   "id": "77cb9245-858d-4d88-9202-677cb901b449",
   "metadata": {},
   "outputs": [
    {
     "name": "stdout",
     "output_type": "stream",
     "text": [
      "207\n"
     ]
    },
    {
     "data": {
      "text/plain": [
       "[('2NUNNB7D43COUIRE5295', 'AES Corp.', 'AES CORP', '2020-01-01', '2020-12-31', 9660000000.0),\n",
       " ('2NUNNB7D43COUIRE5295', 'AES Corp.', 'AES CORP', '2020-01-01', '2019-12-31', 10189000000.0),\n",
       " ('2NUNNB7D43COUIRE5295', 'AES Corp.', 'AES CORP', '2020-01-01', '2018-12-31', 10736000000.0),\n",
       " ('549300T12EZ1F6PWWU29', 'Alcoa Corp.', 'ALCOA CORP', '2020-01-01', '2019-12-31', 10433000000.0),\n",
       " ('549300T12EZ1F6PWWU29', 'Alcoa Corp.', 'ALCOA CORP', '2020-01-01', '2020-12-31', 9286000000.0),\n",
       " ('549300T12EZ1F6PWWU29', 'Alcoa Corp.', 'ALCOA CORP', '2020-01-01', '2018-12-31', 13403000000.0),\n",
       " ('549300K5VIUTJXQL7X75', 'Algonquin Power & Utilities Corp.', 'ALGONQUIN POWER & UTILITIES CORP.', '2020-01-01', '2019-12-31', 1626392000.0),\n",
       " ('549300K5VIUTJXQL7X75', 'Algonquin Power & Utilities Corp.', 'ALGONQUIN POWER & UTILITIES CORP.', '2020-01-01', '2020-12-31', 1677058000.0),\n",
       " ('549300NNLSIMY6Z8OT86', 'Allete, Inc.', 'ALLETE INC', '2020-01-01', '2020-12-31', 1169100000.0),\n",
       " ('549300NNLSIMY6Z8OT86', 'Allete, Inc.', 'ALLETE INC', '2020-01-01', '2019-12-31', 1240500000.0),\n",
       " ('549300NNLSIMY6Z8OT86', 'Allete, Inc.', 'ALLETE INC', '2020-01-01', '2018-12-31', 1498600000.0),\n",
       " ('5493009ML300G373MZ12', 'Alliant Energy', 'ALLIANT ENERGY CORP', '2020-01-01', '2020-12-31', 3416000000.0),\n",
       " ('5493009ML300G373MZ12', 'Alliant Energy', 'ALLIANT ENERGY CORP', '2020-01-01', '2018-12-31', 3534000000.0),\n",
       " ('5493009ML300G373MZ12', 'Alliant Energy', 'ALLIANT ENERGY CORP', '2020-01-01', '2019-12-31', 3648000000.0),\n",
       " ('XRZQ5S7HYJFPHJ78L959', 'Ameren Corp.', 'AMEREN CORP', '2020-01-01', '2019-12-31', 5910000000.0),\n",
       " ('XRZQ5S7HYJFPHJ78L959', 'Ameren Corp.', 'AMEREN CORP', '2020-01-01', '2018-12-31', 6291000000.0),\n",
       " ('XRZQ5S7HYJFPHJ78L959', 'Ameren Corp.', 'AMEREN CORP', '2020-01-01', '2020-12-31', 5794000000.0),\n",
       " ('1B4S6S7G0TW5EE83BO58', 'American Electric Power Co., Inc.', 'AMERICAN ELECTRIC POWER CO INC', '2020-01-01', '2018-12-31', 16195700000.0),\n",
       " ('1B4S6S7G0TW5EE83BO58', 'American Electric Power Co., Inc.', 'AMERICAN ELECTRIC POWER CO INC', '2020-01-01', '2020-12-31', 14918500000.0),\n",
       " ('1B4S6S7G0TW5EE83BO58', 'American Electric Power Co., Inc.', 'AMERICAN ELECTRIC POWER CO INC', '2020-01-01', '2019-12-31', 15561400000.0),\n",
       " ('529900L26LIS2V8PWM23', 'American States Water', 'AMERICAN STATES WATER CO', '2020-01-01', '2020-12-31', 488243000.0),\n",
       " ('529900L26LIS2V8PWM23', 'American States Water', 'AMERICAN STATES WATER CO', '2020-01-01', '2019-12-31', 473869000.0),\n",
       " ('529900L26LIS2V8PWM23', 'American States Water', 'AMERICAN STATES WATER CO', '2020-01-01', '2018-12-31', 436816000.0),\n",
       " ('2138004PVNAV1E9SZP35', 'Antin Infrastructure Partners', None, None, None, None),\n",
       " ('549300GW1DWMX7FLDM29', 'ArcLight Capital Partners LLC', None, None, None, None),\n",
       " ('549300OX0Q38NLSKPB49', 'Avangrid, Inc.', 'AVANGRID, INC.', '2020-01-01', '2019-12-31', 6336000000.0),\n",
       " ('549300OX0Q38NLSKPB49', 'Avangrid, Inc.', 'AVANGRID, INC.', '2020-01-01', '2020-12-31', 6320000000.0),\n",
       " ('549300OX0Q38NLSKPB49', 'Avangrid, Inc.', 'AVANGRID, INC.', '2020-01-01', '2018-12-31', 6477000000.0),\n",
       " ('Q0IK63NITJD6RJ47SW96', 'Avista Corp.', 'AVISTA CORP', '2020-01-01', '2019-12-31', 1345622000.0),\n",
       " ('Q0IK63NITJD6RJ47SW96', 'Avista Corp.', 'AVISTA CORP', '2020-01-01', '2020-12-31', 1321891000.0),\n",
       " ('Q0IK63NITJD6RJ47SW96', 'Avista Corp.', 'AVISTA CORP', '2020-01-01', '2018-12-31', 1396893000.0),\n",
       " ('CT4UIJ3TUKGYYHMENQ17', 'Balfour Beatty Infrastructure Partners, L.P.', None, None, None, None),\n",
       " ('5493002CLOJ5KYT5GB16', 'Basin Electric Power Coop.', None, None, None, None),\n",
       " ('5493000C01ZX7D35SD85', 'Berkshire Hathaway, Inc.', 'BERKSHIRE HATHAWAY INC', '2020-01-01', '2020-12-31', 245510000000.0),\n",
       " ('5493000C01ZX7D35SD85', 'Berkshire Hathaway, Inc.', 'BERKSHIRE HATHAWAY INC', '2020-01-01', '2019-12-31', 254616000000.0),\n",
       " ('5493000C01ZX7D35SD85', 'Berkshire Hathaway, Inc.', 'BERKSHIRE HATHAWAY INC', '2020-01-01', '2018-12-31', 247837000000.0),\n",
       " ('COQ1W8HBTZOC1ADPR143', 'Big Rivers Electric Corp.', None, None, None, None),\n",
       " ('3MGELCRSTNSAMJ962671', 'Black Hills Corp.', 'BLACK HILLS CORP', '2020-01-01', '2020-12-31', 1696941000.0),\n",
       " ('3MGELCRSTNSAMJ962671', 'Black Hills Corp.', 'BLACK HILLS CORP', '2020-01-01', '2018-12-31', 1754268000.0),\n",
       " ('3MGELCRSTNSAMJ962671', 'Black Hills Corp.', 'BLACK HILLS CORP', '2020-01-01', '2019-12-31', 1734900000.0),\n",
       " ('C6J3FGIWG6MBDGTE8F80', 'Brookfield Asset Management', 'BROOKFIELD ASSET MANAGEMENT INC.', '2020-01-01', '2019-12-31', 67826000000.0),\n",
       " ('C6J3FGIWG6MBDGTE8F80', 'Brookfield Asset Management', 'BROOKFIELD ASSET MANAGEMENT INC.', '2020-01-01', '2020-12-31', 62752000000.0),\n",
       " ('549300VR7GQZV6W7OR57', 'Buckeye Power, Inc.', None, None, None, None),\n",
       " ('549300IA9XFBAGNIBW29', 'CMS Energy Corp.', 'CMS ENERGY CORP', '2020-01-01', '2019-12-31', 6845000000.0),\n",
       " ('549300IA9XFBAGNIBW29', 'CMS Energy Corp.', 'CMS ENERGY CORP', '2020-01-01', '2018-12-31', 6873000000.0),\n",
       " ('549300IA9XFBAGNIBW29', 'CMS Energy Corp.', 'CMS ENERGY CORP', '2020-01-01', '2020-12-31', 6680000000.0),\n",
       " ('8YQ2GSDWYZXO2EDN3511', 'California Independent System Operator Corp.', 'PG&E CORP', '2020-01-01', '2019-12-31', 17129000000.0),\n",
       " ('8YQ2GSDWYZXO2EDN3511', 'California Independent System Operator Corp.', 'PG&E CORP', '2020-01-01', '2020-12-31', 18469000000.0),\n",
       " ('8YQ2GSDWYZXO2EDN3511', 'California Independent System Operator Corp.', 'PG&E CORP', '2020-01-01', '2018-12-31', 16759000000.0),\n",
       " ('21TPXMRRHFKOBHDC8J74', 'CenterPoint Energy, Inc.', 'CENTERPOINT ENERGY INC', '2020-01-01', '2019-12-31', 7564000000.0),\n",
       " ('21TPXMRRHFKOBHDC8J74', 'CenterPoint Energy, Inc.', 'CENTERPOINT ENERGY INC', '2020-01-01', '2020-12-31', 7418000000.0),\n",
       " ('21TPXMRRHFKOBHDC8J74', 'CenterPoint Energy, Inc.', 'CENTERPOINT ENERGY INC', '2020-01-01', '2018-12-31', 6282000000.0),\n",
       " ('5493008ORX814MK1WM19', 'Citizens Corp.', None, None, None, None),\n",
       " ('549300I9GWXX4SYOE358', 'City of Holyoke', None, None, None, None),\n",
       " ('5493002H80P81B3HXL31', 'Cleco Corp.', 'CLECO CORPORATE HOLDINGS LLC', '2020-01-01', '2020-12-31', 1498146000.0),\n",
       " ('5493002H80P81B3HXL31', 'Cleco Corp.', 'CLECO CORPORATE HOLDINGS LLC', '2020-01-01', '2018-12-31', 1231044000.0),\n",
       " ('5493002H80P81B3HXL31', 'Cleco Corp.', 'CLECO CORPORATE HOLDINGS LLC', '2020-01-01', '2019-12-31', 1639605000.0),\n",
       " ('54930033SBW53OO8T749', 'Consolidated Edison, Inc.', 'CONSOLIDATED EDISON INC', '2020-01-01', '2018-12-31', 12337000000.0),\n",
       " ('54930033SBW53OO8T749', 'Consolidated Edison, Inc.', 'CONSOLIDATED EDISON INC', '2020-01-01', '2019-12-31', 12574000000.0),\n",
       " ('54930033SBW53OO8T749', 'Consolidated Edison, Inc.', 'CONSOLIDATED EDISON INC', '2020-01-01', '2020-12-31', 12246000000.0),\n",
       " ('54930033SBW53OO8T749', 'Consolidated Edison, Inc.', 'CONSOLIDATED EDISON INC', '2020-01-01', '2017-12-31', 12033000000.0),\n",
       " ('549300SPFPI3X8V86Z21', 'Corning Natural Gas Holding Corp.', 'CORNING NATURAL GAS HOLDING CORP', '2020-01-01', '2019-09-30', 35539979.0),\n",
       " ('549300SPFPI3X8V86Z21', 'Corning Natural Gas Holding Corp.', 'CORNING NATURAL GAS HOLDING CORP', '2020-01-01', '2020-09-30', 32385885.0),\n",
       " ('549300IX8SD6XXD71I78', 'DTE Energy', 'DTE ENERGY CO', '2020-01-01', '2018-12-31', 14212000000.0),\n",
       " ('549300IX8SD6XXD71I78', 'DTE Energy', 'DTE ENERGY CO', '2020-01-01', '2020-12-31', 12177000000.0),\n",
       " ('549300IX8SD6XXD71I78', 'DTE Energy', 'DTE ENERGY CO', '2020-01-01', '2019-12-31', 12669000000.0),\n",
       " ('ILUL7B6Z54MRYCF6H308', 'Dominion Energy', 'DOMINION ENERGY, INC', '2020-01-01', '2019-12-31', 14401000000.0),\n",
       " ('ILUL7B6Z54MRYCF6H308', 'Dominion Energy', 'DOMINION ENERGY, INC', '2020-01-01', '2018-12-31', 11199000000.0),\n",
       " ('ILUL7B6Z54MRYCF6H308', 'Dominion Energy', 'DOMINION ENERGY, INC', '2020-01-01', '2020-12-31', 14172000000.0),\n",
       " ('I1BZKREC126H0VB1BL91', 'Duke Energy Corp.', 'DUKE ENERGY CORP', '2020-01-01', '2018-12-31', 24521000000.0),\n",
       " ('I1BZKREC126H0VB1BL91', 'Duke Energy Corp.', 'DUKE ENERGY CORP', '2020-01-01', '2019-12-31', 25079000000.0),\n",
       " ('I1BZKREC126H0VB1BL91', 'Duke Energy Corp.', 'DUKE ENERGY CORP', '2020-01-01', '2020-12-31', 23868000000.0),\n",
       " ('549300I7ROF15MAEVP56', 'Edison International', 'EDISON INTERNATIONAL', '2020-01-01', '2020-12-31', 13578000000.0),\n",
       " ('549300I7ROF15MAEVP56', 'Edison International', 'EDISON INTERNATIONAL', '2020-01-01', '2019-12-31', 12347000000.0),\n",
       " ('549300I7ROF15MAEVP56', 'Edison International', 'EDISON INTERNATIONAL', '2020-01-01', '2018-12-31', 12657000000.0),\n",
       " ('NQZVQT2P5IUF2PGA1Q48', 'Emera Inc.', 'EMERA INC', '2020-01-01', '2020-12-31', 4283656688.371364),\n",
       " ('NQZVQT2P5IUF2PGA1Q48', 'Emera Inc.', 'EMERA INC', '2020-01-01', '2019-12-31', 4687071999.365263),\n",
       " ('549300SULPFDEWWFVD15', 'Energir Inc.', None, None, None, None),\n",
       " ('4XM3TW50JULSLG8BNC79', 'Entergy Corp.', 'ENTERGY CORP', '2020-01-01', '2019-12-31', 10878673000.0),\n",
       " ('4XM3TW50JULSLG8BNC79', 'Entergy Corp.', 'ENTERGY CORP', '2020-01-01', '2020-12-31', 10113636000.0),\n",
       " ('4XM3TW50JULSLG8BNC79', 'Entergy Corp.', 'ENTERGY CORP', '2020-01-01', '2018-12-31', 11009452000.0),\n",
       " ('549300PGTHDQY6PSUI61', 'Evergy, Inc.', 'EVERGY, INC.', '2020-01-01', '2020-12-31', 4913400000.0),\n",
       " ('549300PGTHDQY6PSUI61', 'Evergy, Inc.', 'EVERGY, INC.', '2020-01-01', '2018-12-31', 4275900000.0),\n",
       " ('549300PGTHDQY6PSUI61', 'Evergy, Inc.', 'EVERGY, INC.', '2020-01-01', '2019-12-31', 5147800000.0),\n",
       " ('SJ7XXD41SQU3ZNWUJ746', 'Eversource Energy', 'EVERSOURCE ENERGY', '2020-01-01', '2019-12-31', 8526470000.0),\n",
       " ('SJ7XXD41SQU3ZNWUJ746', 'Eversource Energy', 'EVERSOURCE ENERGY', '2020-01-01', '2018-12-31', 8472700000.0),\n",
       " ('SJ7XXD41SQU3ZNWUJ746', 'Eversource Energy', 'EVERSOURCE ENERGY', '2020-01-01', '2020-12-31', 8904430000.0),\n",
       " ('3SOUA6IRML7435B56G12', 'Exelon Corp.', 'EXELON CORP', '2020-01-01', '2020-12-31', 33039000000.0),\n",
       " ('3SOUA6IRML7435B56G12', 'Exelon Corp.', 'EXELON CORP', '2020-01-01', '2019-12-31', 34438000000.0),\n",
       " ('3SOUA6IRML7435B56G12', 'Exelon Corp.', 'EXELON CORP', '2020-01-01', '2018-12-31', 35978000000.0),\n",
       " ('549300SVYJS666PQJH88', 'FirstEnergy Corp.', 'FIRSTENERGY CORP', '2020-01-01', '2020-12-31', 10790000000.0),\n",
       " ('549300SVYJS666PQJH88', 'FirstEnergy Corp.', 'FIRSTENERGY CORP', '2020-01-01', '2018-12-31', 11261000000.0),\n",
       " ('549300SVYJS666PQJH88', 'FirstEnergy Corp.', 'FIRSTENERGY CORP', '2020-01-01', '2019-12-31', 11035000000.0),\n",
       " ('549300MQYQ9Y065XPR71', 'Fortis, Inc.', 'FORTIS INC.', '2020-01-01', '2020-12-31', 6951411643.770094),\n",
       " ('549300MQYQ9Y065XPR71', 'Fortis, Inc.', 'FORTIS INC.', '2020-01-01', '2019-12-31', 6736467578.207348),\n",
       " ('549300IRDTHJQ1PVET45', 'Freeport-McMoRan, Inc.', 'FREEPORT-MCMORAN INC', '2020-01-01', '2018-12-31', 18945000000.0),\n",
       " ('549300IRDTHJQ1PVET45', 'Freeport-McMoRan, Inc.', 'FREEPORT-MCMORAN INC', '2020-01-01', '2020-12-31', 14198000000.0),\n",
       " ('549300IRDTHJQ1PVET45', 'Freeport-McMoRan, Inc.', 'FREEPORT-MCMORAN INC', '2020-01-01', '2019-12-31', 14402000000.0),\n",
       " ('549300ZCZ76HYCS0H445', 'Frontier Communications Corp.', 'FRONTIER COMMUNICATIONS CORP', '2020-01-01', '2018-12-31', 8611000000.0),\n",
       " ('549300ZCZ76HYCS0H445', 'Frontier Communications Corp.', 'FRONTIER COMMUNICATIONS CORP', '2020-01-01', '2020-12-31', 7155000000.0),\n",
       " ('549300ZCZ76HYCS0H445', 'Frontier Communications Corp.', 'FRONTIER COMMUNICATIONS CORP', '2020-01-01', '2019-12-31', 8107000000.0),\n",
       " ('5493007UJR2NMSZPGP02', 'Golden Spread Electric Coop., Inc', None, None, None, None),\n",
       " ('JJ8FWOCWCV22X7GUPJ23', 'Hawaiian Electric Industries, Inc.', 'HAWAIIAN ELECTRIC INDUSTRIES INC', '2020-01-01', '2019-12-31', 2873948000.0),\n",
       " ('JJ8FWOCWCV22X7GUPJ23', 'Hawaiian Electric Industries, Inc.', 'HAWAIIAN ELECTRIC INDUSTRIES INC', '2020-01-01', '2018-12-31', 2860849000.0),\n",
       " ('JJ8FWOCWCV22X7GUPJ23', 'Hawaiian Electric Industries, Inc.', 'HAWAIIAN ELECTRIC INDUSTRIES INC', '2020-01-01', '2020-12-31', 2579775000.0),\n",
       " ('UASVRYNXNK17ULIGK870', 'Hess Corp.', 'HESS CORP', '2020-01-01', '2018-12-31', 6466000000.0),\n",
       " ('UASVRYNXNK17ULIGK870', 'Hess Corp.', 'HESS CORP', '2020-01-01', '2020-12-31', 4804000000.0),\n",
       " ('UASVRYNXNK17ULIGK870', 'Hess Corp.', 'HESS CORP', '2020-01-01', '2019-12-31', 6510000000.0),\n",
       " ('N134NUJDWN8UEFA8B673', 'IDACORP, Inc.', 'IDACORP INC', '2020-01-01', '2020-12-31', 1350729000.0),\n",
       " ('N134NUJDWN8UEFA8B673', 'IDACORP, Inc.', 'IDACORP INC', '2020-01-01', '2019-12-31', 1346383000.0),\n",
       " ('N134NUJDWN8UEFA8B673', 'IDACORP, Inc.', 'IDACORP INC', '2020-01-01', '2018-12-31', 1370752000.0),\n",
       " ('549300FIA0OYFDEISW66', 'ISO New England Inc.', None, None, None, None),\n",
       " ('5QK37QC7NWOJ8D7WVQ45', 'Iberdrola, S.A.', None, None, None, None),\n",
       " ('549300NMCKSMDPKQ0502', 'Invenergy LLC', None, None, None, None),\n",
       " ('0T6SBMK3JTBI1JR36794', 'MDU Resources Group', 'MDU RESOURCES GROUP INC', '2020-01-01', '2019-12-31', 5336776000.0),\n",
       " ('0T6SBMK3JTBI1JR36794', 'MDU Resources Group', 'MDU RESOURCES GROUP INC', '2020-01-01', '2020-12-31', 5532750000.0),\n",
       " ('0T6SBMK3JTBI1JR36794', 'MDU Resources Group', 'MDU RESOURCES GROUP INC', '2020-01-01', '2018-12-31', 4531552000.0),\n",
       " ('549300QIEIVG0JUPV270', 'Midcontinent Independent System Operator, Inc', None, None, None, None),\n",
       " ('549300O4B5CVWMKUES27', 'Midwest Energy Inc.', 'MIDWEST ENERGY EMISSIONS CORP.', '2020-01-01', '2020-12-31', 8158448.0),\n",
       " ('549300O4B5CVWMKUES27', 'Midwest Energy Inc.', 'MIDWEST ENERGY EMISSIONS CORP.', '2020-01-01', '2019-12-31', 11417027.0),\n",
       " ('549300XB5UQO7U766C18', 'Milliken & Co.', None, None, None, None),\n",
       " ('5E2UPK5SW04M13XY7I38', 'NRG Energy Inc.', 'NRG ENERGY, INC.', '2020-01-01', '2020-12-31', 9093000000.0),\n",
       " ('5E2UPK5SW04M13XY7I38', 'NRG Energy Inc.', 'NRG ENERGY, INC.', '2020-01-01', '2019-12-31', 9821000000.0),\n",
       " ('5E2UPK5SW04M13XY7I38', 'NRG Energy Inc.', 'NRG ENERGY, INC.', '2020-01-01', '2018-12-31', 9478000000.0),\n",
       " ('8R95QZMKZLJX5Q2XR704', 'National Grid plc', 'NATIONAL GRID PLC', '2020-01-01', '2020-03-31', 17981021141.975307),\n",
       " ('8R95QZMKZLJX5Q2XR704', 'National Grid plc', 'NATIONAL GRID PLC', '2020-01-01', '2019-03-31', 20149853246.753246),\n",
       " ('8R95QZMKZLJX5Q2XR704', 'National Grid plc', 'NATIONAL GRID PLC', '2020-01-01', '2021-03-31', 20381445589.72603),\n",
       " ('5493003TZVX6QJ0PBO15', 'New Hampshire Electric Coop., Inc.', None, None, None, None),\n",
       " ('5493004A26ERKLO7Y203', 'New York Independent System Operator', None, None, None, None),\n",
       " ('549300D8GOWWH0SJB189', 'NiSource Inc.', 'NISOURCE INC.', '2020-01-01', '2018-12-31', 4991100000.0),\n",
       " ('549300D8GOWWH0SJB189', 'NiSource Inc.', 'NISOURCE INC.', '2020-01-01', '2020-12-31', 4473200000.0),\n",
       " ('549300D8GOWWH0SJB189', 'NiSource Inc.', 'NISOURCE INC.', '2020-01-01', '2019-12-31', 5053400000.0),\n",
       " ('3BPWMBHR1R9SHUN7J795', 'NorthWestern Corp.', 'NORTHWESTERN CORP', '2020-01-01', '2020-12-31', 1206800000.0),\n",
       " ('3BPWMBHR1R9SHUN7J795', 'NorthWestern Corp.', 'NORTHWESTERN CORP', '2020-01-01', '2019-12-31', 1257910000.0),\n",
       " ('3BPWMBHR1R9SHUN7J795', 'NorthWestern Corp.', 'NORTHWESTERN CORP', '2020-01-01', '2018-12-31', 1192009000.0),\n",
       " ('CE5OG6JPOZMDSA0LAQ19', 'OGE Energy Corp.', 'OGE ENERGY CORP.', '2020-01-01', '2019-12-31', 2231600000.0),\n",
       " ('CE5OG6JPOZMDSA0LAQ19', 'OGE Energy Corp.', 'OGE ENERGY CORP.', '2020-01-01', '2020-12-31', 2122300000.0),\n",
       " ('CE5OG6JPOZMDSA0LAQ19', 'OGE Energy Corp.', 'OGE ENERGY CORP.', '2020-01-01', '2018-12-31', 2270300000.0),\n",
       " ('3EERXCUSWMS9GV5D9M98', 'Oglethorpe Power Corp.', 'OGLETHORPE POWER CORP', '2020-01-01', '2018-12-31', 1480113000.0),\n",
       " ('3EERXCUSWMS9GV5D9M98', 'Oglethorpe Power Corp.', 'OGLETHORPE POWER CORP', '2020-01-01', '2020-12-31', 1377618000.0),\n",
       " ('3EERXCUSWMS9GV5D9M98', 'Oglethorpe Power Corp.', 'OGLETHORPE POWER CORP', '2020-01-01', '2019-12-31', 1430292000.0),\n",
       " ('549300MA7EMERVYDHS24', 'Ohio Valley Electric Corp.', None, None, None, None),\n",
       " ('SW4VC32Z0ZKLJKPONQ50', 'Old Dominion Electric Coop.', 'OLD DOMINION ELECTRIC COOPERATIVE', '2020-01-01', '2019-12-31', 932682000.0),\n",
       " ('SW4VC32Z0ZKLJKPONQ50', 'Old Dominion Electric Coop.', 'OLD DOMINION ELECTRIC COOPERATIVE', '2020-01-01', '2018-12-31', 932568000.0),\n",
       " ('SW4VC32Z0ZKLJKPONQ50', 'Old Dominion Electric Coop.', 'OLD DOMINION ELECTRIC COOPERATIVE', '2020-01-01', '2020-12-31', 807704000.0),\n",
       " ('5299004YRCHMOU9FKK67', 'Omya AG', None, None, None, None),\n",
       " ('549300HHVBQRQUVKKD91', 'Otter Tail Corp.', 'OTTER TAIL CORP', '2020-01-01', '2020-12-31', 890107000.0),\n",
       " ('549300HHVBQRQUVKKD91', 'Otter Tail Corp.', 'OTTER TAIL CORP', '2020-01-01', '2018-12-31', 916447000.0),\n",
       " ('549300HHVBQRQUVKKD91', 'Otter Tail Corp.', 'OTTER TAIL CORP', '2020-01-01', '2019-12-31', 919503000.0),\n",
       " ('8YQ2GSDWYZXO2EDN3511', 'PG&E Corp.', 'PG&E CORP', '2020-01-01', '2018-12-31', 16759000000.0),\n",
       " ('8YQ2GSDWYZXO2EDN3511', 'PG&E Corp.', 'PG&E CORP', '2020-01-01', '2019-12-31', 17129000000.0),\n",
       " ('8YQ2GSDWYZXO2EDN3511', 'PG&E Corp.', 'PG&E CORP', '2020-01-01', '2020-12-31', 18469000000.0),\n",
       " ('549300M3VK6MP6R72034', 'PJM Interconnection, LLC', None, None, None, None),\n",
       " ('5493003JOBJGLZSDDQ28', 'PNM Resources, Inc.', 'PNM RESOURCES INC', '2020-01-01', '2018-12-31', 1436613000.0),\n",
       " ('5493003JOBJGLZSDDQ28', 'PNM Resources, Inc.', 'PNM RESOURCES INC', '2020-01-01', '2019-12-31', 1457603000.0),\n",
       " ('5493003JOBJGLZSDDQ28', 'PNM Resources, Inc.', 'PNM RESOURCES INC', '2020-01-01', '2020-12-31', 1523012000.0),\n",
       " ('9N3UAJSNOUXFKQLF3V18', 'PPL Corp.', 'PPL CORP', '2020-01-01', '2020-12-31', 7607000000.0),\n",
       " ('9N3UAJSNOUXFKQLF3V18', 'PPL Corp.', 'PPL CORP', '2020-01-01', '2018-12-31', 7785000000.0),\n",
       " ('9N3UAJSNOUXFKQLF3V18', 'PPL Corp.', 'PPL CORP', '2020-01-01', '2019-12-31', 7769000000.0),\n",
       " ('TWSEY0NEDUDCKS27AH81', 'Pinnacle West Capital Corp.', 'PINNACLE WEST CAPITAL CORP', '2020-01-01', '2020-12-31', 3586982000.0),\n",
       " ('TWSEY0NEDUDCKS27AH81', 'Pinnacle West Capital Corp.', 'PINNACLE WEST CAPITAL CORP', '2020-01-01', '2019-12-31', 3471209000.0),\n",
       " ('TWSEY0NEDUDCKS27AH81', 'Pinnacle West Capital Corp.', 'PINNACLE WEST CAPITAL CORP', '2020-01-01', '2018-12-31', 3691247000.0),\n",
       " ('GJOUP9M7C39GLSK9R870', 'Portland General Electric Co.', 'PORTLAND GENERAL ELECTRIC CO', '2020-01-01', '2018-12-31', 1991000000.0),\n",
       " ('GJOUP9M7C39GLSK9R870', 'Portland General Electric Co.', 'PORTLAND GENERAL ELECTRIC CO', '2020-01-01', '2020-12-31', 2151000000.0),\n",
       " ('GJOUP9M7C39GLSK9R870', 'Portland General Electric Co.', 'PORTLAND GENERAL ELECTRIC CO', '2020-01-01', '2019-12-31', 2123000000.0),\n",
       " ('XC5Z0IVHFCJDWCPZL176', 'Prairie Power, Inc.', None, None, None, None),\n",
       " ('PUSS41EMO3E6XXNV3U28', 'Public Service Enterprise Group', 'PUBLIC SERVICE ENTERPRISE GROUP INC', '2020-01-01', '2018-12-31', 9696000000.0),\n",
       " ('PUSS41EMO3E6XXNV3U28', 'Public Service Enterprise Group', 'PUBLIC SERVICE ENTERPRISE GROUP INC', '2020-01-01', '2020-12-31', 9603000000.0),\n",
       " ('PUSS41EMO3E6XXNV3U28', 'Public Service Enterprise Group', 'PUBLIC SERVICE ENTERPRISE GROUP INC', '2020-01-01', '2019-12-31', 10076000000.0),\n",
       " ('549300NIHMHEL3T1QQ97', 'Rayburn Country Electric Coop., Inc.', None, None, None, None),\n",
       " ('PBBKGKLRK5S5C0Y4T545', 'Sempra Energy', 'SEMPRA ENERGY', '2020-01-01', '2020-12-31', 11370000000.0),\n",
       " ('PBBKGKLRK5S5C0Y4T545', 'Sempra Energy', 'SEMPRA ENERGY', '2020-01-01', '2019-12-31', 10829000000.0),\n",
       " ('PBBKGKLRK5S5C0Y4T545', 'Sempra Energy', 'SEMPRA ENERGY', '2020-01-01', '2018-12-31', 10102000000.0),\n",
       " ('549300FC3G3YU2FBZD92', 'Southern Co.', 'SOUTHERN CO', '2020-01-01', '2020-12-31', 21097000000.0),\n",
       " ('549300FC3G3YU2FBZD92', 'Southern Co.', 'SOUTHERN CO', '2020-01-01', '2019-12-31', 22596000000.0),\n",
       " ('549300FC3G3YU2FBZD92', 'Southern Co.', 'SOUTHERN CO', '2020-01-01', '2018-12-31', 25241000000.0),\n",
       " ('DBBJWDBO6IRU2GBUJI29', 'Southern Maryland Electric Coop.', None, None, None, None),\n",
       " ('549300NXXWJMFXIKNU79', 'Southwest Power Pool, Inc.', None, None, None, None),\n",
       " ('549300X6CK46NKF0S683', 'Startrans IO, LLC', None, None, None, None),\n",
       " ('549300UGKOFV2IWJJG27', 'TC Energy Corp.', 'TC ENERGY CORP', '2020-01-01', '2018-12-31', None),\n",
       " ('549300UGKOFV2IWJJG27', 'TC Energy Corp.', 'TC ENERGY CORP', '2020-01-01', '2020-12-31', 10113195294.613033),\n",
       " ('549300UGKOFV2IWJJG27', 'TC Energy Corp.', 'TC ENERGY CORP', '2020-01-01', '2019-12-31', 10166444011.05982),\n",
       " ('549300VDHNFNPADSSV98', 'Tri-State Generation & Transmission Association, Inc.', 'TRI-STATE GENERATION & TRANSMISSION ASSOCIATION, INC.', '2020-01-01', '2018-12-31', 1320837000.0),\n",
       " ('549300VDHNFNPADSSV98', 'Tri-State Generation & Transmission Association, Inc.', 'TRI-STATE GENERATION & TRANSMISSION ASSOCIATION, INC.', '2020-01-01', '2020-12-31', 1352295000.0),\n",
       " ('549300VDHNFNPADSSV98', 'Tri-State Generation & Transmission Association, Inc.', 'TRI-STATE GENERATION & TRANSMISSION ASSOCIATION, INC.', '2020-01-01', '2019-12-31', 1385472000.0),\n",
       " ('DX6GCWD4Q1JO9CRE5I40', 'UGI Corp.', 'UGI CORP', '2020-01-01', '2020-09-30', 6559000000.0),\n",
       " ('DX6GCWD4Q1JO9CRE5I40', 'UGI Corp.', 'UGI CORP', '2020-01-01', '2018-09-30', 7651000000.0),\n",
       " ('DX6GCWD4Q1JO9CRE5I40', 'UGI Corp.', 'UGI CORP', '2020-01-01', '2019-09-30', 7320000000.0),\n",
       " ('8945004QAHNC2OHL6926', 'United Power, Inc.', None, None, None, None),\n",
       " ('549300N8FFURNHL5YM93', 'Valley Electric Association, Inc.', None, None, None, None),\n",
       " ('549300GNSLQRYVBRRM43', 'Vermont Electric Coop., Inc.', None, None, None, None),\n",
       " ('54930086XT4IMGTLYZ86', 'Vermont Electric Power Co., Inc.', None, None, None, None),\n",
       " ('549300FODXCTQ8DGT594', 'Verso Corp.', 'VERSO CORP', '2020-01-01', '2018-12-31', 2682000000.0),\n",
       " ('549300FODXCTQ8DGT594', 'Verso Corp.', 'VERSO CORP', '2020-01-01', '2020-12-31', 1359000000.0),\n",
       " ('549300FODXCTQ8DGT594', 'Verso Corp.', 'VERSO CORP', '2020-01-01', '2019-12-31', 2444000000.0),\n",
       " ('549300KP43CPCUJOOG15', 'Vistra Corp.', 'VISTRA CORP.', '2020-01-01', '2020-12-31', 11443000000.0),\n",
       " ('549300KP43CPCUJOOG15', 'Vistra Corp.', 'VISTRA CORP.', '2020-01-01', '2019-12-31', 11809000000.0),\n",
       " ('549300KP43CPCUJOOG15', 'Vistra Corp.', 'VISTRA CORP.', '2020-01-01', '2018-12-31', 9797000000.0),\n",
       " ('549300IGLYTZUK3PVP70', 'WEC Energy Group', 'WEC ENERGY GROUP, INC.', '2020-01-01', '2018-12-31', 7679500000.0),\n",
       " ('549300IGLYTZUK3PVP70', 'WEC Energy Group', 'WEC ENERGY GROUP, INC.', '2020-01-01', '2019-12-31', 7523100000.0),\n",
       " ('549300IGLYTZUK3PVP70', 'WEC Energy Group', 'WEC ENERGY GROUP, INC.', '2020-01-01', '2020-12-31', 7241700000.0),\n",
       " ('VR27ZYPWHGW7Z1BM8Y69', 'Wabash Valley Power Assn, Inc', None, None, None, None),\n",
       " ('549300ROWOIV5X5MB591', 'Wolverine Power Supply Coop.', None, None, None, None),\n",
       " ('LGJNMI9GH8XIDG5RCM61', 'Xcel Energy, Inc.', 'XCEL ENERGY INC', '2020-01-01', '2018-12-31', 11537000000.0),\n",
       " ('LGJNMI9GH8XIDG5RCM61', 'Xcel Energy, Inc.', 'XCEL ENERGY INC', '2020-01-01', '2020-12-31', 11526000000.0),\n",
       " ('LGJNMI9GH8XIDG5RCM61', 'Xcel Energy, Inc.', 'XCEL ENERGY INC', '2020-01-01', '2019-12-31', 11529000000.0),\n",
       " ('549300467K0TD2Z50713', 'York Haven Power Co.', None, None, None, None)]"
      ]
     },
     "metadata": {},
     "output_type": "display_data"
    }
   ],
   "source": [
    "l = engine.execute(\"\"\"\n",
    "select A.lei, A.parent_name, R.name, date_format(R.fy, '%Y-%m-%d'), date_format(R.ddate, '%Y-%m-%d'), R.revenue_usd\n",
    "from (select coalesce(G.ultimate_parent_issuer_lei,U.parent_lei) as lei, U.parent_name\n",
    "      from rmi_20211120.utility_information as U left join gleif_mdt.gleif_direct_issuer_ultimate_issuer as G on U.parent_lei=G.direct_issuer_lei\n",
    "      group by coalesce(G.ultimate_parent_issuer_lei,U.parent_lei), U.parent_name) as A\n",
    "     left join sec_dera.t_r as R on A.lei=R.lei\n",
    "where A.lei is not null\n",
    "      and (R.lei is null or year(R.fy)=2020)\n",
    "order by A.parent_name\n",
    "\"\"\").fetchall()\n",
    "\n",
    "print(len(l))\n",
    "display(l)"
   ]
  },
  {
   "cell_type": "code",
   "execution_count": 16,
   "id": "53ac74c4-d86d-40c9-b9ff-fc9165f7eb8e",
   "metadata": {
    "tags": []
   },
   "outputs": [
    {
     "ename": "SyntaxError",
     "evalue": "invalid syntax (<ipython-input-16-9dd82345691e>, line 1)",
     "output_type": "error",
     "traceback": [
      "\u001b[0;36m  File \u001b[0;32m\"<ipython-input-16-9dd82345691e>\"\u001b[0;36m, line \u001b[0;32m1\u001b[0m\n\u001b[0;31m    stop!  Rnadom queries and explorations below...\u001b[0m\n\u001b[0m        ^\u001b[0m\n\u001b[0;31mSyntaxError\u001b[0m\u001b[0;31m:\u001b[0m invalid syntax\n"
     ]
    }
   ],
   "source": [
    "stop!  Rnadom queries and explorations below..."
   ]
  },
  {
   "cell_type": "code",
   "execution_count": null,
   "id": "5e948dd8-4163-4e45-b009-e21c47302b36",
   "metadata": {},
   "outputs": [],
   "source": [
    "engine.execute(\"select count (*) from (select distinct(lei) from sec_dera.sub)\").fetchall()"
   ]
  },
  {
   "cell_type": "code",
   "execution_count": null,
   "id": "99e82f3f-ff1a-4f71-af84-8b446a9b519d",
   "metadata": {},
   "outputs": [],
   "source": [
    "engine.execute(\"select S.name, cik, adsh from sec_dera.sub as S where name='DOMINION ENERGY, INC' limit 20\").fetchall()"
   ]
  },
  {
   "cell_type": "code",
   "execution_count": null,
   "id": "66183ae4-16fa-45a1-b2a7-9795e9087f1b",
   "metadata": {},
   "outputs": [],
   "source": [
    "engine.execute(\"select * from sec_dera.sub where cik=715957 and form='10-K' limit 20\").fetchall()"
   ]
  },
  {
   "cell_type": "code",
   "execution_count": null,
   "id": "0e1324f0-2a37-4e00-b200-d4d311c3fc99",
   "metadata": {},
   "outputs": [],
   "source": [
    "engine.execute(\"select count (*), coreg from sec_dera.num where adsh='0001564590-21-008442' group by coreg limit 20\").fetchall()"
   ]
  },
  {
   "cell_type": "code",
   "execution_count": null,
   "id": "a64749c0-a274-4af8-a091-12282ae1beec",
   "metadata": {
    "tags": []
   },
   "outputs": [],
   "source": [
    "engine.execute(\"select * from sec_dera.num where adsh='0001564590-21-008442' and coreg is null and tag='ProfitLoss' and qtrs=4 order by ddate desc\").fetchall()"
   ]
  },
  {
   "cell_type": "code",
   "execution_count": null,
   "id": "eb1a0e52-71b1-49cc-9a77-9f08a21cc1c6",
   "metadata": {
    "tags": []
   },
   "outputs": [],
   "source": [
    "engine.execute(\"select * from sec_dera.sub where adsh='0001564590-21-008442'\").fetchall()"
   ]
  },
  {
   "cell_type": "code",
   "execution_count": null,
   "id": "9f107e69-18e2-493b-8abc-b8119531df1d",
   "metadata": {},
   "outputs": [],
   "source": [
    "engine.execute(\"select tag, value from sec_dera.num where adsh='0001564590-21-008442' and coreg='VirginiaElectricAndPowerCompany' and ddate=DATE('2020-12-31') and qtrs=4 order by value desc limit 20\").fetchall()"
   ]
  },
  {
   "cell_type": "code",
   "execution_count": null,
   "id": "b76e54b2-f6c5-4c77-87d6-59f961564119",
   "metadata": {},
   "outputs": [],
   "source": [
    "engine.execute(\"select coreg, value from sec_dera.num where adsh='0001564590-21-008442' and tag='Revenues' and ddate=DATE('2020-12-31') and qtrs=4 order by value desc limit 20\").fetchall()"
   ]
  },
  {
   "cell_type": "code",
   "execution_count": null,
   "id": "5e4ea71b-899f-4dca-b02a-cac1c4a438e2",
   "metadata": {},
   "outputs": [],
   "source": [
    "engine.execute(\"select coreg, value from sec_dera.num where adsh='0001564590-21-008444' and tag='RegulatedOperatingRevenue' and ddate=DATE('2020-12-31') order by value desc limit 20\").fetchall()"
   ]
  }
 ],
 "metadata": {
  "kernelspec": {
   "display_name": "Python 3",
   "language": "python",
   "name": "python3"
  },
  "language_info": {
   "codemirror_mode": {
    "name": "ipython",
    "version": 3
   },
   "file_extension": ".py",
   "mimetype": "text/x-python",
   "name": "python",
   "nbconvert_exporter": "python",
   "pygments_lexer": "ipython3",
   "version": "3.8.3"
  }
 },
 "nbformat": 4,
 "nbformat_minor": 5
}
