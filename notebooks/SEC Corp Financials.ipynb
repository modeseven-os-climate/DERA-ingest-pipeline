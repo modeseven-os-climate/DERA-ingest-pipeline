{
 "cells": [
  {
   "cell_type": "markdown",
   "id": "1ce1cf9f-2d20-460b-8d10-184e8af19c25",
   "metadata": {},
   "source": [
    "# Begin with Credentials and Connection to Trino"
   ]
  },
  {
   "cell_type": "code",
   "execution_count": 1,
   "id": "2e31920e-a97e-427d-9102-ac2d4e6898ca",
   "metadata": {},
   "outputs": [],
   "source": [
    "import os\n",
    "import pathlib\n",
    "from dotenv import load_dotenv\n",
    "\n",
    "# Load some standard environment variables from a dot-env file, if it exists.\n",
    "# If no such file can be found, does not fail, and so allows these environment vars to\n",
    "# be populated in some other way\n",
    "dotenv_dir = os.environ.get('CREDENTIAL_DOTENV_DIR', os.environ.get('PWD', '/opt/app-root/src'))\n",
    "dotenv_path = pathlib.Path(dotenv_dir) / 'credentials.env'\n",
    "if os.path.exists(dotenv_path):\n",
    "    load_dotenv(dotenv_path=dotenv_path,override=True)"
   ]
  },
  {
   "cell_type": "markdown",
   "id": "f0606067-d586-41b0-a7dd-c6d7727c6b1f",
   "metadata": {},
   "source": [
    "Set session variable CATALOG to make query terms much more compact"
   ]
  },
  {
   "cell_type": "code",
   "execution_count": 2,
   "id": "ab600994-3dc8-4b3c-943c-af43a29db1e6",
   "metadata": {},
   "outputs": [],
   "source": [
    "import trino\n",
    "from sqlalchemy.engine import create_engine\n",
    "\n",
    "env_var_prefix = 'TRINO'\n",
    "\n",
    "sqlstring = 'trino://{user}@{host}:{port}/'.format(\n",
    "    user = os.environ[f'{env_var_prefix}_USER'],\n",
    "    host = os.environ[f'{env_var_prefix}_HOST'],\n",
    "    port = os.environ[f'{env_var_prefix}_PORT']\n",
    ")\n",
    "sqlargs = {\n",
    "    'auth': trino.auth.JWTAuthentication(os.environ[f'{env_var_prefix}_PASSWD']),\n",
    "    'http_scheme': 'https',\n",
    "    'catalog': 'osc_datacommons_dev'\n",
    "}\n",
    "engine = create_engine(sqlstring, connect_args = sqlargs)\n",
    "connection = engine.connect()\n",
    "\n",
    "import pandas as pd"
   ]
  },
  {
   "cell_type": "code",
   "execution_count": 3,
   "id": "24ae6a0b-f082-42ed-9e84-1c89c228fa42",
   "metadata": {},
   "outputs": [],
   "source": [
    "from osc_ingest_trino import *\n",
    "\n",
    "trino_bucket = attach_s3_bucket(\"S3_DEV\")"
   ]
  },
  {
   "cell_type": "code",
   "execution_count": 4,
   "id": "5d53b4d4-5f42-472a-aa0d-0f6c8341b796",
   "metadata": {},
   "outputs": [
    {
     "data": {
      "text/plain": [
       "[(True,)]"
      ]
     },
     "metadata": {},
     "output_type": "display_data"
    },
    {
     "data": {
      "text/plain": [
       "[(9673,)]"
      ]
     },
     "metadata": {},
     "output_type": "display_data"
    },
    {
     "data": {
      "text/plain": [
       "[('ORGANICELL REGENERATIVE MEDICINE, INC.', None, '2019-01-01 00:00:00.000', '2019-10-31 00:00:00.000', 3790, 1702271.0),\n",
       " ('BRIGHTVIEW HOLDINGS, INC.', '549300F8QN8YHVI7L866', '2020-01-01 00:00:00.000', '2020-09-30 00:00:00.000', 700, 2346000000.0),\n",
       " ('HP INC', 'WHKXQACZ14C5XRO8LW03', '2020-01-01 00:00:00.000', '2020-10-31 00:00:00.000', 3570, 56639000000.0),\n",
       " ('CARNEGIE DEVELOPMENT, INC', '549300JMXKV7IFUEKB68', '2019-01-01 00:00:00.000', '2019-12-31 00:00:00.000', 3510, None),\n",
       " ('MDJM LTD', None, '2019-01-01 00:00:00.000', '2019-12-31 00:00:00.000', 6531, 5679977.0),\n",
       " ('RALPH LAUREN CORP', 'HO1QNWM0IXBZ0QSMMO20', '2019-01-01 00:00:00.000', '2019-03-31 00:00:00.000', 2320, 6313000000.0),\n",
       " ('OLIVIA VENTURES, INC.', None, '2019-01-01 00:00:00.000', '2019-03-31 00:00:00.000', 6770, None),\n",
       " ('MAXIMUS, INC.', '549300DQCDS8HJ7QF202', '2020-01-01 00:00:00.000', '2020-09-30 00:00:00.000', 7389, 3461537000.0),\n",
       " ('APPSOFT TECHNOLOGIES, INC.', None, '2019-01-01 00:00:00.000', '2019-12-31 00:00:00.000', 7372, 0.0),\n",
       " ('KEYSIGHT TECHNOLOGIES, INC.', '549300GLKVIO8YRCYN02', '2020-01-01 00:00:00.000', '2020-10-31 00:00:00.000', 3823, 4221000000.0)]"
      ]
     },
     "metadata": {},
     "output_type": "display_data"
    }
   ],
   "source": [
    "qres = engine.execute(\"\"\"\n",
    "create or replace view sec_dera.fy_revenue_by_lei as\n",
    "select name, lei, fy, N.ddate, sic, max(value) as tot_revenue\n",
    "from sec_dera.sub as S join sec_dera.num as N on S.adsh=N.adsh and N.ddate>=S.fy and date_add('year', 1, S.fy)>N.ddate\n",
    "  -- left join sec_dera.ticker T on S.cik=T.cik\n",
    "where S.fp='FY' and (S.form='10-K' or S.form='20-F')\n",
    "and coreg is NULL\n",
    "and qtrs=4\n",
    "and uom='USD'\n",
    "and (N.tag='Revenues'\n",
    "     or N.tag='RevenueFromContractWithCustomerIncludingAssessedTax'\n",
    "     or N.tag='RevenueFromContractWithCustomerExcludingAssessedTax'\n",
    "     or N.tag='RevenuesNetOfInterestExpense'\n",
    "     or N.tag='RegulatedAndUnregulatedOperatingRevenue'\n",
    "     or N.tag='RegulatedOperatingRevenuePipelines')\n",
    "group by name, lei, fy, N.ddate, sic\n",
    "\"\"\")\n",
    "display(qres.fetchall())\n",
    "\n",
    "qres = engine.execute(\"\"\"\n",
    "select count (*) from sec_dera.fy_revenue_by_lei\n",
    "\"\"\")\n",
    "display(qres.fetchall())\n",
    "\n",
    "qres = engine.execute(\"\"\"\n",
    "select * from sec_dera.fy_revenue_by_lei limit 10\n",
    "\"\"\")\n",
    "display(qres.fetchall())"
   ]
  },
  {
   "cell_type": "raw",
   "id": "36ccac7d-75ce-418a-a4a5-9283d587855c",
   "metadata": {},
   "source": [
    "engine.execute(\"select count (*), tag from sec_dera.num where tag like '%Float%' and tag not like '%Floating%' and tag not like '%Floater%' group by tag order by tag\").fetchall()"
   ]
  },
  {
   "cell_type": "code",
   "execution_count": 5,
   "id": "ab885e9c-d073-4493-8576-0a5bfe151df3",
   "metadata": {},
   "outputs": [
    {
     "data": {
      "text/plain": [
       "[(True,)]"
      ]
     },
     "metadata": {},
     "output_type": "display_data"
    },
    {
     "data": {
      "text/plain": [
       "[(9942,)]"
      ]
     },
     "metadata": {},
     "output_type": "display_data"
    },
    {
     "data": {
      "text/plain": [
       "[('HORNBECK OFFSHORE SERVICES INC', None, '2019-06-30 00:00:00.000', 4400, 43514494.0),\n",
       " ('GRANITESHARES PLATINUM TRUST', None, '2020-06-30 00:00:00.000', 6221, 9031000.0),\n",
       " ('VIEW SYSTEMS INC', None, '2019-06-30 00:00:00.000', 7380, 707585.0),\n",
       " ('BLUBUZZARD, INC.', None, '2019-06-30 00:00:00.000', 6770, 150200.0),\n",
       " ('PACIFIC SPORTS EXCHANGE INC.', None, '2020-02-29 00:00:00.000', 5940, 31000.0),\n",
       " ('ROAD MARSHALL, INC.', None, '2020-03-31 00:00:00.000', 7371, 500.0),\n",
       " ('MCCORMICK & CO INC', None, '2019-05-31 00:00:00.000', 2090, 20658784327.0),\n",
       " ('FIRSTCASH, INC', '549300V2X3UU7K0DG350', '2019-06-30 00:00:00.000', 5900, 3102000000.0),\n",
       " ('WELLTOWER INC.', 'T6IZ0MBEG5ACZDTR7D06', '2019-06-30 00:00:00.000', 6798, 32986689000.0),\n",
       " ('YETI HOLDINGS, INC.', '549300DSQICIGNT5GO63', '2019-06-30 00:00:00.000', 3949, 1137608546.0)]"
      ]
     },
     "metadata": {},
     "output_type": "display_data"
    }
   ],
   "source": [
    "qres = engine.execute(\"\"\"\n",
    "create or replace view sec_dera.float_by_lei as\n",
    "select name, lei, ddate, sic, max(value) as market_cap\n",
    "from sec_dera.sub as S join sec_dera.num as N on S.adsh=N.adsh and N.ddate>=S.fy and date_add('year', 1, S.fy)>N.ddate\n",
    "  -- join sec_dera.ticker T on S.cik=T.cik\n",
    "where S.fp='FY' and (S.form='10-K' or S.form='20-F')\n",
    "and coreg is NULL\n",
    "and qtrs=0\n",
    "and uom='USD'\n",
    "and (tag='EntityPublicFloat'\n",
    "     or tag='EntitysPublicFloat'\n",
    "     or tag='FreeFloat'\n",
    "     or tag='PublicFloat'\n",
    "     or tag='PublicFloatValue')\n",
    "group by name, lei, ddate, sic\n",
    "\"\"\")\n",
    "display(qres.fetchall())\n",
    "\n",
    "qres = engine.execute(\"\"\"\n",
    "select count (*) from sec_dera.float_by_lei\n",
    "\"\"\")\n",
    "display(qres.fetchall())\n",
    "\n",
    "qres = engine.execute(\"\"\"\n",
    "select * from sec_dera.float_by_lei limit 10\n",
    "\"\"\")\n",
    "display(qres.fetchall())"
   ]
  },
  {
   "cell_type": "code",
   "execution_count": 6,
   "id": "f1291683-5a8e-4ae2-aa32-dc99f4eba8dd",
   "metadata": {},
   "outputs": [
    {
     "data": {
      "text/plain": [
       "[(True,)]"
      ]
     },
     "metadata": {},
     "output_type": "display_data"
    },
    {
     "data": {
      "text/plain": [
       "[(11475,)]"
      ]
     },
     "metadata": {},
     "output_type": "display_data"
    },
    {
     "data": {
      "text/plain": [
       "[('EASTGROUP PROPERTIES INC', '31TIGQQZC4P6JMHKSW85', '2019-12-31 00:00:00.000', 6798, 224000.0),\n",
       " ('UNITEDHEALTH GROUP INC', '549300GHBMY8T5GXDE41', '2019-12-31 00:00:00.000', 6324, 10985000000.0),\n",
       " ('CHURCH & DWIGHT CO INC', 'POOXSI30AWAQGYJZC921', '2019-12-31 00:00:00.000', 2840, 155700000.0),\n",
       " ('UNIVERSAL STAINLESS & ALLOY PRODUCTS INC', '5493001OEIZDUGXZDE09', '2019-12-31 00:00:00.000', 3312, 170000.0),\n",
       " ('PUBLIC SERVICE CO OF COLORADO', '5BANEF6PGSEK0SNMQF44', '2019-12-31 00:00:00.000', 4931, 11400000.0),\n",
       " ('ENCORE WIRE CORP', None, '2019-12-31 00:00:00.000', 3350, 230965000.0),\n",
       " ('COCA COLA CO', 'UWJKFUJFZ02DKWI3RY53', '2019-12-31 00:00:00.000', 2080, 6480000000.0),\n",
       " ('GAIA, INC', '529900QUX8SBA2D93M92', '2019-12-31 00:00:00.000', 7812, 11494000.0),\n",
       " ('HAMILTON BEACH BRANDS HOLDING CO', '549300D746EZ23QVEB39', '2019-12-31 00:00:00.000', 3634, 2142000.0),\n",
       " ('DORCHESTER MINERALS, L.P.', '529900J537JTEZOMXG05', '2019-12-31 00:00:00.000', 1311, 15339000.0)]"
      ]
     },
     "metadata": {},
     "output_type": "display_data"
    }
   ],
   "source": [
    "qres = engine.execute(\"\"\"\n",
    "create or replace view sec_dera.cash_by_lei as\n",
    "select name, lei, ddate, sic, max(value) as cash\n",
    "from sec_dera.sub as S join sec_dera.num as N on S.adsh=N.adsh and N.ddate>=S.fy and date_add('year', 1, S.fy)>N.ddate\n",
    "  -- join sec_dera.ticker T on S.cik=T.cik\n",
    "where S.fp='FY' and (S.form='10-K' or S.form='20-F')\n",
    "and coreg is NULL\n",
    "and qtrs=0\n",
    "and uom='USD'\n",
    "and (tag='CashAndCashEquivalentsAtCarryingValue' or tag='Cash' or tag='CashEquivalentsAtCarryingValue' or tag='CashAndCashEquivalents')\n",
    "group by name, lei, ddate, sic\n",
    "\"\"\")\n",
    "display(qres.fetchall())\n",
    "\n",
    "qres = engine.execute(\"\"\"\n",
    "select count (*) from sec_dera.cash_by_lei\n",
    "\"\"\")\n",
    "display(qres.fetchall())\n",
    "\n",
    "qres = engine.execute(\"\"\"\n",
    "select * from sec_dera.cash_by_lei limit 10\n",
    "\"\"\")\n",
    "display(qres.fetchall())"
   ]
  },
  {
   "cell_type": "raw",
   "id": "f45575b6-b66e-4ba8-80b4-3471f9b7e98c",
   "metadata": {},
   "source": [
    "engine.execute(\"\"\"\n",
    "select count (*), tag from sec_dera.num\n",
    "where tag='CashAndCashEquivalentsAtCarryingValue' or tag='Cash' or tag='CashEquivalentsAtCarryingValue' or tag='CashAndCashEquivalents'\n",
    "group by tag order by count (*) desc limit 20\n",
    "\"\"\").fetchall()"
   ]
  },
  {
   "cell_type": "code",
   "execution_count": 8,
   "id": "28cead08-d929-4cef-925f-3cbf4ba61b1f",
   "metadata": {},
   "outputs": [
    {
     "data": {
      "text/plain": [
       "[(True,)]"
      ]
     },
     "metadata": {},
     "output_type": "display_data"
    },
    {
     "data": {
      "text/plain": [
       "[(5580,)]"
      ]
     },
     "metadata": {},
     "output_type": "display_data"
    },
    {
     "data": {
      "text/plain": [
       "[('FOUNTAIN HEALTHY AGING, INC.', None, '2020-12-31 00:00:00.000', 4700, 63506.0),\n",
       " ('CAPITAL PRODUCT PARTNERS L.P.', None, '2020-12-31 00:00:00.000', 4412, 374324000.0),\n",
       " ('NICHOLAS FINANCIAL INC', '5493005OYHXSC9R6FU12', '2019-03-31 00:00:00.000', 6153, 142619000.0),\n",
       " ('AIR T INC', '549300XSFJNDOT088737', '2019-03-31 00:00:00.000', 4513, 57653000.0),\n",
       " ('UGI CORP', 'DX6GCWD4Q1JO9CRE5I40', '2020-09-30 00:00:00.000', 4932, 6034000000.0),\n",
       " ('GENCOR INDUSTRIES INC', '549300X3YEO4XOYOD178', '2020-09-30 00:00:00.000', 3531, 0.0),\n",
       " ('SCANSOURCE, INC.', '7FHBAN017QDY4K2KP156', '2020-06-30 00:00:00.000', 5045, 218728000.0),\n",
       " ('IRON MOUNTAIN INC', 'SQL3F6CKNNBM3SQGHX24', '2020-12-31 00:00:00.000', 6798, 8703314000.0),\n",
       " ('BROOKLINE BANCORP INC', None, '2020-12-31 00:00:00.000', 6035, 820247000.0),\n",
       " ('VALUE EXCHANGE INTERNATIONAL, INC.', None, '2020-12-31 00:00:00.000', 7380, 62949.0)]"
      ]
     },
     "metadata": {},
     "output_type": "display_data"
    }
   ],
   "source": [
    "qres = engine.execute(\"\"\"\n",
    "create or replace view sec_dera.debt_by_lei as\n",
    "select name, lei, ddate, sic, max(value) as debt\n",
    "from sec_dera.sub as S join sec_dera.num as N on S.adsh=N.adsh and N.ddate>=S.fy and date_add('year', 1, S.fy)>N.ddate\n",
    "  -- join sec_dera.ticker T on S.cik=T.cik\n",
    "where S.fp='FY' and (S.form='10-K' or S.form='20-F')\n",
    "and coreg is NULL\n",
    "and qtrs=0\n",
    "and uom='USD'\n",
    "and (tag='LongTermDebt' or tag='LongTermDebtFairValue' or tag='LongTermDebtAndCapitalLeaseObligations'\n",
    "     or tag='DebtLongtermAndShorttermCombinedAmount' or tag='SecuredDebt' or tag='UnsecuredDebt'\n",
    "     or tag='SubordinatedDebt' or tag='ConvertibleDebt')\n",
    "group by name, lei, ddate, sic\n",
    "\"\"\")\n",
    "display(qres.fetchall())\n",
    "\n",
    "qres = engine.execute(\"\"\"\n",
    "select count (*) from sec_dera.debt_by_lei\n",
    "\"\"\")\n",
    "display(qres.fetchall())\n",
    "\n",
    "qres = engine.execute(\"\"\"\n",
    "select * from sec_dera.debt_by_lei limit 10\n",
    "\"\"\")\n",
    "display(qres.fetchall())"
   ]
  },
  {
   "cell_type": "raw",
   "id": "544f7563-8c36-4de9-b9d9-dfff6e66ce4f",
   "metadata": {},
   "source": [
    "engine.execute(\"\"\"\n",
    "select count (*), tag from sec_dera.num\n",
    "where tag='LongTermDebt' or tag='LongTermDebtFairValue' or tag='LongTermDebtAndCapitalLeaseObligations'\n",
    "or tag='DebtLongtermAndShorttermCombinedAmount' or tag='SecuredDebt' or tag='UnsecuredDebt' or tag='SubordinatedDebt' or tag='ConvertibleDebt'\n",
    "group by tag order by count (*) desc\n",
    "\"\"\").fetchall()"
   ]
  },
  {
   "cell_type": "raw",
   "id": "15e1c83d-c4ca-4747-aee9-b14b4234fcf9",
   "metadata": {},
   "source": [
    "l = engine.execute(\"\"\"\n",
    "select name, sic, round(value/1000000.0,1), uom, ddate, nciks, aciks\n",
    "from sec_dera.sub as S join sec_dera.num as N\n",
    "on S.adsh=N.adsh\n",
    "where form='10-K' and fy=DATE('2020-01-01') and tag='DebtLongtermAndShorttermCombinedAmount' order by value desc limit 20\n",
    "\"\"\").fetchall()"
   ]
  },
  {
   "cell_type": "raw",
   "id": "1789cde7-c148-4469-952c-f1d2acb27733",
   "metadata": {},
   "source": [
    "l = engine.execute(\"\"\"\n",
    "select name, form, tag, value, uom, fy, qtrs, coreg\n",
    "from sec_dera.sub S join sec_dera.num as N\n",
    "on S.adsh=N.adsh\n",
    "where (form='10-K' or form='20-F') and fy >= ddate and date_add('year', -1, fy) < ddate\n",
    "and (N.tag='Revenues'\n",
    "     or N.tag='RevenueFromContractWithCustomerIncludingAssessedTax'\n",
    "     or N.tag='RevenueFromContractWithCustomerExcludingAssessedTax'\n",
    "     or N.tag='RevenuesNetOfInterestExpense'\n",
    "     or N.tag='RegulatedAndUnregulatedOperatingRevenue'\n",
    "     or N.tag='RegulatedOperatingRevenuePipelines')\n",
    "order by name\n",
    "\"\"\").fetchall()\n",
    "len(l)"
   ]
  },
  {
   "cell_type": "code",
   "execution_count": 11,
   "id": "5ecd23f4-b44d-4514-88e6-9543de7decd0",
   "metadata": {},
   "outputs": [
    {
     "data": {
      "text/plain": [
       "[(True,)]"
      ]
     },
     "metadata": {},
     "output_type": "display_data"
    },
    {
     "data": {
      "text/plain": [
       "[(12003,)]"
      ]
     },
     "metadata": {},
     "output_type": "display_data"
    },
    {
     "data": {
      "text/plain": [
       "[('HURCO COMPANIES INC', 'XSC5XDOTBYOBQPOG2O82', '2019-10-31 00:00:00.000', 3823, 301065000.0),\n",
       " ('ACRO BIOMEDICAL CO., LTD.', None, '2019-09-30 00:00:00.000', 7900, 1069464.0),\n",
       " ('ADAIAH DISTRIBUTION INC', None, '2019-10-31 00:00:00.000', 7372, 0.0),\n",
       " ('ANIXA BIOSCIENCES INC', None, '2019-10-31 00:00:00.000', 8071, 6293693.0),\n",
       " ('TIMBERLINE RESOURCES CORP', None, '2019-09-30 00:00:00.000', 1040, 15505141.0),\n",
       " ('NEUBASE THERAPEUTICS, INC.', None, '2019-09-30 00:00:00.000', 2834, 12531397.0),\n",
       " ('SILVER BULL RESOURCES, INC.', None, '2019-10-31 00:00:00.000', 1000, 9205892.0),\n",
       " ('VOIP-PAL.COM INC', None, '2019-09-30 00:00:00.000', 3661, 2568186.0),\n",
       " ('NUKKLEUS INC.', '549300EOLUCX2ZYTFU74', '2019-09-30 00:00:00.000', 8742, 203001.0),\n",
       " ('ALL FOR ONE MEDIA CORP.', None, '2019-09-30 00:00:00.000', 7900, 280586.0)]"
      ]
     },
     "metadata": {},
     "output_type": "display_data"
    }
   ],
   "source": [
    "qres = engine.execute(\"\"\"\n",
    "create or replace view sec_dera.assets_by_lei as\n",
    "select name, lei, ddate, sic, value as assets\n",
    "from sec_dera.sub as S join sec_dera.num as N on S.adsh=N.adsh and N.ddate>=S.fy and date_add('year', 1, S.fy)>N.ddate\n",
    "  -- join sec_dera.ticker T on S.cik=T.cik\n",
    "where S.fp='FY' and (S.form='10-K' or S.form='20-F')\n",
    "-- and S.lei='I1BZKREC126H0VB1BL91'\n",
    "and coreg is NULL\n",
    "and qtrs=0\n",
    "and uom='USD'\n",
    "and tag='Assets'\n",
    "\"\"\")\n",
    "display(qres.fetchall())\n",
    "\n",
    "qres = engine.execute(\"\"\"\n",
    "select count (*) from sec_dera.assets_by_lei\n",
    "\"\"\")\n",
    "display(qres.fetchall())\n",
    "\n",
    "qres = engine.execute(\"\"\"\n",
    "select * from sec_dera.assets_by_lei limit 10\n",
    "\"\"\")\n",
    "display(qres.fetchall())"
   ]
  },
  {
   "cell_type": "code",
   "execution_count": 12,
   "id": "28b73d39-ad28-4106-a75c-ba73b7d1b003",
   "metadata": {},
   "outputs": [
    {
     "data": {
      "text/plain": [
       "[(True,)]"
      ]
     },
     "metadata": {},
     "output_type": "display_data"
    },
    {
     "ename": "TrinoQueryError",
     "evalue": "TrinoQueryError(type=INTERNAL_ERROR, name=REMOTE_TASK_MISMATCH, message=\"Could not communicate with the remote task. The node may have crashed or be under too much load. This is probably a transient issue, so please retry your query in a few minutes. (10.129.7.18:8080)\", query_id=20211213_150050_00035_85hmd)",
     "output_type": "error",
     "traceback": [
      "\u001b[0;31m---------------------------------------------------------------------------\u001b[0m",
      "\u001b[0;31mTrinoQueryError\u001b[0m                           Traceback (most recent call last)",
      "\u001b[0;32m<ipython-input-12-efb7067894d4>\u001b[0m in \u001b[0;36m<module>\u001b[0;34m\u001b[0m\n\u001b[1;32m     64\u001b[0m \u001b[0mselect\u001b[0m \u001b[0;34m*\u001b[0m \u001b[0;32mfrom\u001b[0m \u001b[0msec_dera\u001b[0m\u001b[0;34m.\u001b[0m\u001b[0mfinancials_by_lei\u001b[0m\u001b[0;34m\u001b[0m\u001b[0;34m\u001b[0m\u001b[0m\n\u001b[1;32m     65\u001b[0m \"\"\")\n\u001b[0;32m---> 66\u001b[0;31m \u001b[0ml\u001b[0m \u001b[0;34m=\u001b[0m \u001b[0mqres\u001b[0m\u001b[0;34m.\u001b[0m\u001b[0mfetchall\u001b[0m\u001b[0;34m(\u001b[0m\u001b[0;34m)\u001b[0m\u001b[0;34m\u001b[0m\u001b[0;34m\u001b[0m\u001b[0m\n\u001b[0m\u001b[1;32m     67\u001b[0m \u001b[0;34m\u001b[0m\u001b[0m\n\u001b[1;32m     68\u001b[0m \u001b[0mprint\u001b[0m\u001b[0;34m(\u001b[0m\u001b[0mlen\u001b[0m\u001b[0;34m(\u001b[0m\u001b[0ml\u001b[0m\u001b[0;34m)\u001b[0m\u001b[0;34m)\u001b[0m\u001b[0;34m\u001b[0m\u001b[0;34m\u001b[0m\u001b[0m\n",
      "\u001b[0;32m/opt/app-root/lib64/python3.8/site-packages/sqlalchemy/engine/result.py\u001b[0m in \u001b[0;36mfetchall\u001b[0;34m(self)\u001b[0m\n\u001b[1;32m   1215\u001b[0m             \u001b[0;32mreturn\u001b[0m \u001b[0ml\u001b[0m\u001b[0;34m\u001b[0m\u001b[0;34m\u001b[0m\u001b[0m\n\u001b[1;32m   1216\u001b[0m         \u001b[0;32mexcept\u001b[0m \u001b[0mBaseException\u001b[0m \u001b[0;32mas\u001b[0m \u001b[0me\u001b[0m\u001b[0;34m:\u001b[0m\u001b[0;34m\u001b[0m\u001b[0;34m\u001b[0m\u001b[0m\n\u001b[0;32m-> 1217\u001b[0;31m             self.connection._handle_dbapi_exception(\n\u001b[0m\u001b[1;32m   1218\u001b[0m                 \u001b[0me\u001b[0m\u001b[0;34m,\u001b[0m \u001b[0;32mNone\u001b[0m\u001b[0;34m,\u001b[0m \u001b[0;32mNone\u001b[0m\u001b[0;34m,\u001b[0m \u001b[0mself\u001b[0m\u001b[0;34m.\u001b[0m\u001b[0mcursor\u001b[0m\u001b[0;34m,\u001b[0m \u001b[0mself\u001b[0m\u001b[0;34m.\u001b[0m\u001b[0mcontext\u001b[0m\u001b[0;34m\u001b[0m\u001b[0;34m\u001b[0m\u001b[0m\n\u001b[1;32m   1219\u001b[0m             )\n",
      "\u001b[0;32m/opt/app-root/lib64/python3.8/site-packages/sqlalchemy/engine/base.py\u001b[0m in \u001b[0;36m_handle_dbapi_exception\u001b[0;34m(self, e, statement, parameters, cursor, context)\u001b[0m\n\u001b[1;32m   1466\u001b[0m                 \u001b[0mutil\u001b[0m\u001b[0;34m.\u001b[0m\u001b[0mraise_from_cause\u001b[0m\u001b[0;34m(\u001b[0m\u001b[0msqlalchemy_exception\u001b[0m\u001b[0;34m,\u001b[0m \u001b[0mexc_info\u001b[0m\u001b[0;34m)\u001b[0m\u001b[0;34m\u001b[0m\u001b[0;34m\u001b[0m\u001b[0m\n\u001b[1;32m   1467\u001b[0m             \u001b[0;32melse\u001b[0m\u001b[0;34m:\u001b[0m\u001b[0;34m\u001b[0m\u001b[0;34m\u001b[0m\u001b[0m\n\u001b[0;32m-> 1468\u001b[0;31m                 \u001b[0mutil\u001b[0m\u001b[0;34m.\u001b[0m\u001b[0mreraise\u001b[0m\u001b[0;34m(\u001b[0m\u001b[0;34m*\u001b[0m\u001b[0mexc_info\u001b[0m\u001b[0;34m)\u001b[0m\u001b[0;34m\u001b[0m\u001b[0;34m\u001b[0m\u001b[0m\n\u001b[0m\u001b[1;32m   1469\u001b[0m \u001b[0;34m\u001b[0m\u001b[0m\n\u001b[1;32m   1470\u001b[0m         \u001b[0;32mfinally\u001b[0m\u001b[0;34m:\u001b[0m\u001b[0;34m\u001b[0m\u001b[0;34m\u001b[0m\u001b[0m\n",
      "\u001b[0;32m/opt/app-root/lib64/python3.8/site-packages/sqlalchemy/util/compat.py\u001b[0m in \u001b[0;36mreraise\u001b[0;34m(tp, value, tb, cause)\u001b[0m\n\u001b[1;32m    127\u001b[0m         \u001b[0;32mif\u001b[0m \u001b[0mvalue\u001b[0m\u001b[0;34m.\u001b[0m\u001b[0m__traceback__\u001b[0m \u001b[0;32mis\u001b[0m \u001b[0;32mnot\u001b[0m \u001b[0mtb\u001b[0m\u001b[0;34m:\u001b[0m\u001b[0;34m\u001b[0m\u001b[0;34m\u001b[0m\u001b[0m\n\u001b[1;32m    128\u001b[0m             \u001b[0;32mraise\u001b[0m \u001b[0mvalue\u001b[0m\u001b[0;34m.\u001b[0m\u001b[0mwith_traceback\u001b[0m\u001b[0;34m(\u001b[0m\u001b[0mtb\u001b[0m\u001b[0;34m)\u001b[0m\u001b[0;34m\u001b[0m\u001b[0;34m\u001b[0m\u001b[0m\n\u001b[0;32m--> 129\u001b[0;31m         \u001b[0;32mraise\u001b[0m \u001b[0mvalue\u001b[0m\u001b[0;34m\u001b[0m\u001b[0;34m\u001b[0m\u001b[0m\n\u001b[0m\u001b[1;32m    130\u001b[0m \u001b[0;34m\u001b[0m\u001b[0m\n\u001b[1;32m    131\u001b[0m     \u001b[0;32mdef\u001b[0m \u001b[0mu\u001b[0m\u001b[0;34m(\u001b[0m\u001b[0ms\u001b[0m\u001b[0;34m)\u001b[0m\u001b[0;34m:\u001b[0m\u001b[0;34m\u001b[0m\u001b[0;34m\u001b[0m\u001b[0m\n",
      "\u001b[0;32m/opt/app-root/lib64/python3.8/site-packages/sqlalchemy/engine/result.py\u001b[0m in \u001b[0;36mfetchall\u001b[0;34m(self)\u001b[0m\n\u001b[1;32m   1211\u001b[0m \u001b[0;34m\u001b[0m\u001b[0m\n\u001b[1;32m   1212\u001b[0m         \u001b[0;32mtry\u001b[0m\u001b[0;34m:\u001b[0m\u001b[0;34m\u001b[0m\u001b[0;34m\u001b[0m\u001b[0m\n\u001b[0;32m-> 1213\u001b[0;31m             \u001b[0ml\u001b[0m \u001b[0;34m=\u001b[0m \u001b[0mself\u001b[0m\u001b[0;34m.\u001b[0m\u001b[0mprocess_rows\u001b[0m\u001b[0;34m(\u001b[0m\u001b[0mself\u001b[0m\u001b[0;34m.\u001b[0m\u001b[0m_fetchall_impl\u001b[0m\u001b[0;34m(\u001b[0m\u001b[0;34m)\u001b[0m\u001b[0;34m)\u001b[0m\u001b[0;34m\u001b[0m\u001b[0;34m\u001b[0m\u001b[0m\n\u001b[0m\u001b[1;32m   1214\u001b[0m             \u001b[0mself\u001b[0m\u001b[0;34m.\u001b[0m\u001b[0m_soft_close\u001b[0m\u001b[0;34m(\u001b[0m\u001b[0;34m)\u001b[0m\u001b[0;34m\u001b[0m\u001b[0;34m\u001b[0m\u001b[0m\n\u001b[1;32m   1215\u001b[0m             \u001b[0;32mreturn\u001b[0m \u001b[0ml\u001b[0m\u001b[0;34m\u001b[0m\u001b[0;34m\u001b[0m\u001b[0m\n",
      "\u001b[0;32m/opt/app-root/lib64/python3.8/site-packages/sqlalchemy/engine/result.py\u001b[0m in \u001b[0;36m_fetchall_impl\u001b[0;34m(self)\u001b[0m\n\u001b[1;32m   1161\u001b[0m     \u001b[0;32mdef\u001b[0m \u001b[0m_fetchall_impl\u001b[0m\u001b[0;34m(\u001b[0m\u001b[0mself\u001b[0m\u001b[0;34m)\u001b[0m\u001b[0;34m:\u001b[0m\u001b[0;34m\u001b[0m\u001b[0;34m\u001b[0m\u001b[0m\n\u001b[1;32m   1162\u001b[0m         \u001b[0;32mtry\u001b[0m\u001b[0;34m:\u001b[0m\u001b[0;34m\u001b[0m\u001b[0;34m\u001b[0m\u001b[0m\n\u001b[0;32m-> 1163\u001b[0;31m             \u001b[0;32mreturn\u001b[0m \u001b[0mself\u001b[0m\u001b[0;34m.\u001b[0m\u001b[0mcursor\u001b[0m\u001b[0;34m.\u001b[0m\u001b[0mfetchall\u001b[0m\u001b[0;34m(\u001b[0m\u001b[0;34m)\u001b[0m\u001b[0;34m\u001b[0m\u001b[0;34m\u001b[0m\u001b[0m\n\u001b[0m\u001b[1;32m   1164\u001b[0m         \u001b[0;32mexcept\u001b[0m \u001b[0mAttributeError\u001b[0m\u001b[0;34m:\u001b[0m\u001b[0;34m\u001b[0m\u001b[0;34m\u001b[0m\u001b[0m\n\u001b[1;32m   1165\u001b[0m             \u001b[0;32mreturn\u001b[0m \u001b[0mself\u001b[0m\u001b[0;34m.\u001b[0m\u001b[0m_non_result\u001b[0m\u001b[0;34m(\u001b[0m\u001b[0;34m[\u001b[0m\u001b[0;34m]\u001b[0m\u001b[0;34m)\u001b[0m\u001b[0;34m\u001b[0m\u001b[0;34m\u001b[0m\u001b[0m\n",
      "\u001b[0;32m/opt/app-root/lib64/python3.8/site-packages/trino/dbapi.py\u001b[0m in \u001b[0;36mfetchall\u001b[0;34m(self)\u001b[0m\n\u001b[1;32m    455\u001b[0m \u001b[0;34m\u001b[0m\u001b[0m\n\u001b[1;32m    456\u001b[0m     \u001b[0;32mdef\u001b[0m \u001b[0mfetchall\u001b[0m\u001b[0;34m(\u001b[0m\u001b[0mself\u001b[0m\u001b[0;34m)\u001b[0m \u001b[0;34m->\u001b[0m \u001b[0mList\u001b[0m\u001b[0;34m[\u001b[0m\u001b[0mList\u001b[0m\u001b[0;34m[\u001b[0m\u001b[0mAny\u001b[0m\u001b[0;34m]\u001b[0m\u001b[0;34m]\u001b[0m\u001b[0;34m:\u001b[0m\u001b[0;34m\u001b[0m\u001b[0;34m\u001b[0m\u001b[0m\n\u001b[0;32m--> 457\u001b[0;31m         \u001b[0;32mreturn\u001b[0m \u001b[0mlist\u001b[0m\u001b[0;34m(\u001b[0m\u001b[0mself\u001b[0m\u001b[0;34m.\u001b[0m\u001b[0mgenall\u001b[0m\u001b[0;34m(\u001b[0m\u001b[0;34m)\u001b[0m\u001b[0;34m)\u001b[0m\u001b[0;34m\u001b[0m\u001b[0;34m\u001b[0m\u001b[0m\n\u001b[0m\u001b[1;32m    458\u001b[0m \u001b[0;34m\u001b[0m\u001b[0m\n\u001b[1;32m    459\u001b[0m     \u001b[0;32mdef\u001b[0m \u001b[0mcancel\u001b[0m\u001b[0;34m(\u001b[0m\u001b[0mself\u001b[0m\u001b[0;34m)\u001b[0m\u001b[0;34m:\u001b[0m\u001b[0;34m\u001b[0m\u001b[0;34m\u001b[0m\u001b[0m\n",
      "\u001b[0;32m/opt/app-root/lib64/python3.8/site-packages/trino/client.py\u001b[0m in \u001b[0;36m__iter__\u001b[0;34m(self)\u001b[0m\n\u001b[1;32m    441\u001b[0m         \u001b[0;31m# Subsequent fetches from GET requests until next_uri is empty.\u001b[0m\u001b[0;34m\u001b[0m\u001b[0;34m\u001b[0m\u001b[0;34m\u001b[0m\u001b[0m\n\u001b[1;32m    442\u001b[0m         \u001b[0;32mwhile\u001b[0m \u001b[0;32mnot\u001b[0m \u001b[0mself\u001b[0m\u001b[0;34m.\u001b[0m\u001b[0m_query\u001b[0m\u001b[0;34m.\u001b[0m\u001b[0mfinished\u001b[0m\u001b[0;34m:\u001b[0m\u001b[0;34m\u001b[0m\u001b[0;34m\u001b[0m\u001b[0m\n\u001b[0;32m--> 443\u001b[0;31m             \u001b[0mrows\u001b[0m \u001b[0;34m=\u001b[0m \u001b[0mself\u001b[0m\u001b[0;34m.\u001b[0m\u001b[0m_query\u001b[0m\u001b[0;34m.\u001b[0m\u001b[0mfetch\u001b[0m\u001b[0;34m(\u001b[0m\u001b[0;34m)\u001b[0m\u001b[0;34m\u001b[0m\u001b[0;34m\u001b[0m\u001b[0m\n\u001b[0m\u001b[1;32m    444\u001b[0m             \u001b[0;32mfor\u001b[0m \u001b[0mrow\u001b[0m \u001b[0;32min\u001b[0m \u001b[0mrows\u001b[0m\u001b[0;34m:\u001b[0m\u001b[0;34m\u001b[0m\u001b[0;34m\u001b[0m\u001b[0m\n\u001b[1;32m    445\u001b[0m                 \u001b[0mself\u001b[0m\u001b[0;34m.\u001b[0m\u001b[0m_rownumber\u001b[0m \u001b[0;34m+=\u001b[0m \u001b[0;36m1\u001b[0m\u001b[0;34m\u001b[0m\u001b[0;34m\u001b[0m\u001b[0m\n",
      "\u001b[0;32m/opt/app-root/lib64/python3.8/site-packages/trino/client.py\u001b[0m in \u001b[0;36mfetch\u001b[0;34m(self)\u001b[0m\n\u001b[1;32m    518\u001b[0m         \u001b[0;34m\"\"\"Continue fetching data for the current query_id\"\"\"\u001b[0m\u001b[0;34m\u001b[0m\u001b[0;34m\u001b[0m\u001b[0m\n\u001b[1;32m    519\u001b[0m         \u001b[0mresponse\u001b[0m \u001b[0;34m=\u001b[0m \u001b[0mself\u001b[0m\u001b[0;34m.\u001b[0m\u001b[0m_request\u001b[0m\u001b[0;34m.\u001b[0m\u001b[0mget\u001b[0m\u001b[0;34m(\u001b[0m\u001b[0mself\u001b[0m\u001b[0;34m.\u001b[0m\u001b[0m_request\u001b[0m\u001b[0;34m.\u001b[0m\u001b[0mnext_uri\u001b[0m\u001b[0;34m)\u001b[0m\u001b[0;34m\u001b[0m\u001b[0;34m\u001b[0m\u001b[0m\n\u001b[0;32m--> 520\u001b[0;31m         \u001b[0mstatus\u001b[0m \u001b[0;34m=\u001b[0m \u001b[0mself\u001b[0m\u001b[0;34m.\u001b[0m\u001b[0m_request\u001b[0m\u001b[0;34m.\u001b[0m\u001b[0mprocess\u001b[0m\u001b[0;34m(\u001b[0m\u001b[0mresponse\u001b[0m\u001b[0;34m)\u001b[0m\u001b[0;34m\u001b[0m\u001b[0;34m\u001b[0m\u001b[0m\n\u001b[0m\u001b[1;32m    521\u001b[0m         \u001b[0;32mif\u001b[0m \u001b[0mstatus\u001b[0m\u001b[0;34m.\u001b[0m\u001b[0mcolumns\u001b[0m\u001b[0;34m:\u001b[0m\u001b[0;34m\u001b[0m\u001b[0;34m\u001b[0m\u001b[0m\n\u001b[1;32m    522\u001b[0m             \u001b[0mself\u001b[0m\u001b[0;34m.\u001b[0m\u001b[0m_columns\u001b[0m \u001b[0;34m=\u001b[0m \u001b[0mstatus\u001b[0m\u001b[0;34m.\u001b[0m\u001b[0mcolumns\u001b[0m\u001b[0;34m\u001b[0m\u001b[0;34m\u001b[0m\u001b[0m\n",
      "\u001b[0;32m/opt/app-root/lib64/python3.8/site-packages/trino/client.py\u001b[0m in \u001b[0;36mprocess\u001b[0;34m(self, http_response)\u001b[0m\n\u001b[1;32m    388\u001b[0m         \u001b[0mlogger\u001b[0m\u001b[0;34m.\u001b[0m\u001b[0mdebug\u001b[0m\u001b[0;34m(\u001b[0m\u001b[0;34m\"HTTP %s: %s\"\u001b[0m\u001b[0;34m,\u001b[0m \u001b[0mhttp_response\u001b[0m\u001b[0;34m.\u001b[0m\u001b[0mstatus_code\u001b[0m\u001b[0;34m,\u001b[0m \u001b[0mresponse\u001b[0m\u001b[0;34m)\u001b[0m\u001b[0;34m\u001b[0m\u001b[0;34m\u001b[0m\u001b[0m\n\u001b[1;32m    389\u001b[0m         \u001b[0;32mif\u001b[0m \u001b[0;34m\"error\"\u001b[0m \u001b[0;32min\u001b[0m \u001b[0mresponse\u001b[0m\u001b[0;34m:\u001b[0m\u001b[0;34m\u001b[0m\u001b[0;34m\u001b[0m\u001b[0m\n\u001b[0;32m--> 390\u001b[0;31m             \u001b[0;32mraise\u001b[0m \u001b[0mself\u001b[0m\u001b[0;34m.\u001b[0m\u001b[0m_process_error\u001b[0m\u001b[0;34m(\u001b[0m\u001b[0mresponse\u001b[0m\u001b[0;34m[\u001b[0m\u001b[0;34m\"error\"\u001b[0m\u001b[0;34m]\u001b[0m\u001b[0;34m,\u001b[0m \u001b[0mresponse\u001b[0m\u001b[0;34m.\u001b[0m\u001b[0mget\u001b[0m\u001b[0;34m(\u001b[0m\u001b[0;34m\"id\"\u001b[0m\u001b[0;34m)\u001b[0m\u001b[0;34m)\u001b[0m\u001b[0;34m\u001b[0m\u001b[0;34m\u001b[0m\u001b[0m\n\u001b[0m\u001b[1;32m    391\u001b[0m \u001b[0;34m\u001b[0m\u001b[0m\n\u001b[1;32m    392\u001b[0m         \u001b[0;32mif\u001b[0m \u001b[0mconstants\u001b[0m\u001b[0;34m.\u001b[0m\u001b[0mHEADER_CLEAR_SESSION\u001b[0m \u001b[0;32min\u001b[0m \u001b[0mhttp_response\u001b[0m\u001b[0;34m.\u001b[0m\u001b[0mheaders\u001b[0m\u001b[0;34m:\u001b[0m\u001b[0;34m\u001b[0m\u001b[0;34m\u001b[0m\u001b[0m\n",
      "\u001b[0;31mTrinoQueryError\u001b[0m: TrinoQueryError(type=INTERNAL_ERROR, name=REMOTE_TASK_MISMATCH, message=\"Could not communicate with the remote task. The node may have crashed or be under too much load. This is probably a transient issue, so please retry your query in a few minutes. (10.129.7.18:8080)\", query_id=20211213_150050_00035_85hmd)"
     ]
    }
   ],
   "source": [
    "qres = engine.execute(\"\"\"\n",
    "create or replace view sec_dera.financials_by_lei as\n",
    "select name, lei, fy, Nrevenue.ddate as r_ddate, sic,\n",
    "       max(Nrevenue.value) as revenue,\n",
    "       max(Ncash.value) as cash,\n",
    "       max(Ndebt.value) as debt,\n",
    "       max(Nassets.value) as assets,\n",
    "       max(Nfloat.value) as market_cap\n",
    "       -- max(Nfloat.value)+max(Ndebt.value)-max(Ncash.value) as ev,\n",
    "       -- max(Nfloat.value)+max(Ndebt.value) as evic\n",
    "from sec_dera.sub as S\n",
    "      join sec_dera.num as Nrevenue on S.adsh=Nrevenue.adsh\n",
    "           and Nrevenue.ddate>=S.fy and date_add('year', 1, S.fy)>Nrevenue.ddate\n",
    "      join sec_dera.num as Nassets on S.adsh=Nassets.adsh and Nassets.ddate=Nrevenue.ddate\n",
    "      join sec_dera.num as Ndebt on S.adsh=Ndebt.adsh and Ndebt.ddate=Nrevenue.ddate\n",
    "      join sec_dera.num as Ncash on S.adsh=Ncash.adsh and Ncash.ddate=Nrevenue.ddate\n",
    "      join sec_dera.num as Nfloat on S.adsh=Nfloat.adsh\n",
    "where S.fp='FY' and (S.form='10-K' or S.form='20-F')\n",
    "      -- and S.lei='I1BZKREC126H0VB1BL91'\n",
    "and Nrevenue.qtrs=4\n",
    "and Nrevenue.coreg is NULL\n",
    "and Nrevenue.uom='USD'\n",
    "and (Nrevenue.tag='Revenues'\n",
    "     or Nrevenue.tag='RevenueFromContractWithCustomerIncludingAssessedTax'\n",
    "     or Nrevenue.tag='RevenueFromContractWithCustomerExcludingAssessedTax'\n",
    "     or Nrevenue.tag='RevenuesNetOfInterestExpense'\n",
    "     or Nrevenue.tag='RegulatedAndUnregulatedOperatingRevenue'\n",
    "     or Nrevenue.tag='RegulatedOperatingRevenuePipelines')\n",
    "and Nfloat.qtrs=0 and Nfloat.ddate>=fy and date_add('year', 1, fy)>Nfloat.ddate\n",
    "and Nfloat.coreg is NULL\n",
    "and Nfloat.uom='USD'\n",
    "and (Nfloat.tag='EntityPublicFloat'\n",
    "     or Nfloat.tag='EntitysPublicFloat'\n",
    "     or Nfloat.tag='FreeFloat'\n",
    "     or Nfloat.tag='PublicFloat'\n",
    "     or Nfloat.tag='PublicFloatValue')\n",
    "and Ncash.qtrs=0\n",
    "and Ncash.coreg is NULL\n",
    "and Ncash.uom='USD'\n",
    "and (Ncash.tag='CashAndCashEquivalentsAtCarryingValue'\n",
    "     or Ncash.tag='Cash'\n",
    "     or Ncash.tag='CashEquivalentsAtCarryingValue'\n",
    "     or Ncash.tag='CashAndCashEquivalents')\n",
    "and Ndebt.qtrs=0\n",
    "and Ndebt.coreg is NULL\n",
    "and Ndebt.uom='USD'\n",
    "and (Ndebt.tag='LongTermDebt'\n",
    "     or Ndebt.tag='LongTermDebtFairValue'\n",
    "     or Ndebt.tag='LongTermDebtAndCapitalLeaseObligations'\n",
    "     or Ndebt.tag='DebtLongtermAndShorttermCombinedAmount'\n",
    "     or Ndebt.tag='SecuredDebt'\n",
    "     or Ndebt.tag='UnsecuredDebt'\n",
    "     or Ndebt.tag='SubordinatedDebt'\n",
    "     or Ndebt.tag='ConvertibleDebt')\n",
    "and Nassets.qtrs=0\n",
    "and Nassets.coreg is NULL\n",
    "and Nassets.uom='USD'\n",
    "and Nassets.tag='Assets'\n",
    "group by name, lei, fy, Nrevenue.ddate, sic\n",
    "\"\"\")\n",
    "display(qres.fetchall())\n",
    "\n",
    "qres = engine.execute(\"\"\"\n",
    "select * from sec_dera.financials_by_lei\n",
    "\"\"\")\n",
    "l = qres.fetchall()\n",
    "\n",
    "print(len(l))"
   ]
  },
  {
   "cell_type": "code",
   "execution_count": null,
   "id": "349cfc8b-2d14-4b4c-9ebd-cca89b5b102e",
   "metadata": {},
   "outputs": [],
   "source": [
    "columns = [x[0] for x in engine.execute(\"describe sec_dera.financials_by_lei\").fetchall()]"
   ]
  },
  {
   "cell_type": "code",
   "execution_count": null,
   "id": "f9d564bf-9dfe-4689-a3d6-e50e2e73491f",
   "metadata": {},
   "outputs": [],
   "source": [
    "df = pd.DataFrame(data=l, columns=columns)"
   ]
  },
  {
   "cell_type": "code",
   "execution_count": null,
   "id": "87bc1cd5-a3d3-40e0-af59-45f3bee79b6f",
   "metadata": {},
   "outputs": [],
   "source": [
    "df"
   ]
  },
  {
   "cell_type": "code",
   "execution_count": null,
   "id": "b8722eaf-e68f-4ea7-adaa-df9ccf902513",
   "metadata": {
    "tags": []
   },
   "outputs": [],
   "source": [
    "df = df.convert_dtypes()\n",
    "\n",
    "drop_unmanaged_table(\"osc_datacommons_dev\", \"sec_dera\", \"corp_data_df\", engine, trino_bucket, verbose=True)\n",
    "\n",
    "drop_unmanaged_data(\"sec_dera\", \"corp_data_df\", trino_bucket, verbose=True)\n",
    "\n",
    "ingest_unmanaged_parquet(df, \"sec_dera\", \"corp_data_df\", trino_bucket, partition_columns=[],\n",
    "                         append=False, workdir='/tmp', verbose=True)\n",
    "\n",
    "sql = unmanaged_parquet_tabledef(df, \"osc_datacommons_dev\", \"sec_dera\", \"corp_data_df\", trino_bucket, partition_columns = [],\n",
    "                                 verbose=True)\n",
    "qres = engine.execute(sql)\n",
    "display(qres.fetchall())\n",
    "\n",
    "qres = engine.execute(\"select * from sec_dera.corp_data_df\")\n",
    "l = qres.fetchall()"
   ]
  },
  {
   "cell_type": "code",
   "execution_count": null,
   "id": "83f065db-4340-42eb-8400-5833051c6973",
   "metadata": {},
   "outputs": [],
   "source": [
    "qres = engine.execute(\"\"\"\n",
    "explain select * from sec_dera.financials_by_lei\n",
    "\"\"\")\n",
    "print(qres.fetchall()[0][0])"
   ]
  },
  {
   "cell_type": "code",
   "execution_count": null,
   "id": "b55a9940-16f3-4c34-acd4-dbd78a1c3de8",
   "metadata": {},
   "outputs": [],
   "source": []
  }
 ],
 "metadata": {
  "kernelspec": {
   "display_name": "Python 3",
   "language": "python",
   "name": "python3"
  },
  "language_info": {
   "codemirror_mode": {
    "name": "ipython",
    "version": 3
   },
   "file_extension": ".py",
   "mimetype": "text/x-python",
   "name": "python",
   "nbconvert_exporter": "python",
   "pygments_lexer": "ipython3",
   "version": "3.8.3"
  }
 },
 "nbformat": 4,
 "nbformat_minor": 5
}
