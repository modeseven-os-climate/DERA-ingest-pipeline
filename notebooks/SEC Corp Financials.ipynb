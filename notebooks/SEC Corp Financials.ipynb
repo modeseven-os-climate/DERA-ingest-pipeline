{
 "cells": [
  {
   "cell_type": "markdown",
   "id": "1ce1cf9f-2d20-460b-8d10-184e8af19c25",
   "metadata": {},
   "source": [
    "# Create VIEWs on SEC DERA data by LEI\n",
    "\n",
    "## Full-year FY REVENUES\n",
    "\n",
    "## Point-in-time FLOAT, DEBT, CASH, ASSETS, (EV = FLOAT + DEBT - CASH, EVIC = FLOAT + DEBT)"
   ]
  },
  {
   "cell_type": "code",
   "execution_count": 1,
   "id": "2e31920e-a97e-427d-9102-ac2d4e6898ca",
   "metadata": {},
   "outputs": [],
   "source": [
    "import os\n",
    "import pathlib\n",
    "from dotenv import load_dotenv\n",
    "\n",
    "# Load some standard environment variables from a dot-env file, if it exists.\n",
    "# If no such file can be found, does not fail, and so allows these environment vars to\n",
    "# be populated in some other way\n",
    "dotenv_dir = os.environ.get('CREDENTIAL_DOTENV_DIR', os.environ.get('PWD', '/opt/app-root/src'))\n",
    "dotenv_path = pathlib.Path(dotenv_dir) / 'credentials.env'\n",
    "if os.path.exists(dotenv_path):\n",
    "    load_dotenv(dotenv_path=dotenv_path,override=True)"
   ]
  },
  {
   "cell_type": "markdown",
   "id": "f0606067-d586-41b0-a7dd-c6d7727c6b1f",
   "metadata": {},
   "source": [
    "Set session variable CATALOG to make query terms much more compact"
   ]
  },
  {
   "cell_type": "code",
   "execution_count": 2,
   "id": "ab600994-3dc8-4b3c-943c-af43a29db1e6",
   "metadata": {},
   "outputs": [],
   "source": [
    "import trino\n",
    "from sqlalchemy.engine import create_engine\n",
    "\n",
    "env_var_prefix = 'TRINO'\n",
    "\n",
    "sqlstring = 'trino://{user}@{host}:{port}/'.format(\n",
    "    user = os.environ[f'{env_var_prefix}_USER'],\n",
    "    host = os.environ[f'{env_var_prefix}_HOST'],\n",
    "    port = os.environ[f'{env_var_prefix}_PORT']\n",
    ")\n",
    "sqlargs = {\n",
    "    'auth': trino.auth.JWTAuthentication(os.environ[f'{env_var_prefix}_PASSWD']),\n",
    "    'http_scheme': 'https',\n",
    "    'catalog': 'osc_datacommons_dev'\n",
    "}\n",
    "engine = create_engine(sqlstring, connect_args = sqlargs)\n",
    "connection = engine.connect()\n",
    "\n",
    "import pandas as pd"
   ]
  },
  {
   "cell_type": "code",
   "execution_count": 3,
   "id": "24ae6a0b-f082-42ed-9e84-1c89c228fa42",
   "metadata": {},
   "outputs": [],
   "source": [
    "from osc_ingest_trino import *\n",
    "\n",
    "trino_bucket = attach_s3_bucket(\"S3_DEV\")"
   ]
  },
  {
   "cell_type": "code",
   "execution_count": 4,
   "id": "e03bbfa1-046d-4dc3-9cee-02ba6a490d03",
   "metadata": {},
   "outputs": [
    {
     "name": "stdout",
     "output_type": "stream",
     "text": [
      "[(True,)]\n",
      "[(True,)]\n",
      "[(True,)]\n",
      "[(True,)]\n",
      "[(True,)]\n"
     ]
    }
   ],
   "source": [
    "for tbl in ['t_r', 't_f', 't_d', 't_c', 't_a']:\n",
    "    qres = engine.execute(f\"drop table if exists sec_dera.{tbl}\")\n",
    "    print(qres.fetchall())"
   ]
  },
  {
   "cell_type": "markdown",
   "id": "ce985e76-ed82-4408-b5cf-b79f86ed86d6",
   "metadata": {},
   "source": [
    "# FX\n",
    "\n",
    "Many public companies are non-US companies or report facts in units of measurement other than USD.  We build a small table of market knowledge so that we can do foreign exchange (FX) calculations."
   ]
  },
  {
   "cell_type": "code",
   "execution_count": 250,
   "id": "6e96e969-04ed-42f8-8e34-7410ba73d4f4",
   "metadata": {},
   "outputs": [],
   "source": [
    "sql = (\"\"\"\n",
    "select count (*) as count, uom, ddate, max(value) as maxval, min(value) as minval from sec_dera.num\n",
    "where ddate>=DATE('2019-01-01')\n",
    "      and (tag='ClosingForeignExchangeRate' or tag='ForeignCurrencyExchangeRateTranslation1')\n",
    "      and qtrs=0 and uom!= 'USD' and (uom like '%USD%' or length(uom)=3)\n",
    "group by uom, ddate, tag\n",
    "order by ddate, uom, tag\n",
    "\"\"\")\n",
    "df_closing_fx = pd.read_sql (sql, engine, parse_dates=['ddate'])\n",
    "# display(df_closing_fx)\n",
    "\n",
    "sql = (\"\"\"\n",
    "select count (*) as count, uom, ddate, max(value) as maxval, min(value) as minval from sec_dera.num\n",
    "where ddate>=DATE('2019-01-01')\n",
    "      and tag='AverageForeignExchangeRate'\n",
    "      and qtrs=4 and uom!= 'USD' and (uom like '%USD%' or length(uom)=3)\n",
    "group by uom, ddate, tag\n",
    "order by ddate, uom, tag\n",
    "\"\"\")\n",
    "df_average_fx = pd.read_sql (sql, engine, parse_dates=['ddate'])\n",
    "# display(df_average_fx)"
   ]
  },
  {
   "cell_type": "code",
   "execution_count": 144,
   "id": "805b7970-6217-46ec-bb93-fc8bcf9dea0b",
   "metadata": {},
   "outputs": [],
   "source": [
    "import re\n",
    "\n",
    "def create_fx_dict(df):\n",
    "    \"\"\"From a list of FX pairs or non-USD (presumed to convert to USD) FX rates by dates, return a dictionary of FX rates by dates\"\"\"\n",
    "    df_gbp = df[df.uom.str.contains('GBP', flags=re.I)]\n",
    "    df_eur = df[df.uom.str.contains('EUR', flags=re.I)]\n",
    "    df_other = df[~df.uom.str.contains('(GBP)|(EUR)', flags=re.I)]\n",
    "    \n",
    "    fx_input = {'GBP': df_gbp, 'EUR': df_eur }\n",
    "\n",
    "    fx_df = {}\n",
    "\n",
    "    for fx in ['GBP', 'EUR']:\n",
    "        df_base = fx_input[fx].loc[df.maxval>1, ['ddate', 'maxval']].groupby(by='ddate').mean()\n",
    "        df_base['minval'] = 1/df_base.maxval\n",
    "        df_quote = fx_input[fx].loc[df.minval<1, ['ddate', 'minval']].groupby(by='ddate').mean()\n",
    "        df_quote['maxval'] = 1/df_quote.minval\n",
    "        df_fx = pd.concat((df_base, df_quote), axis=0).groupby(by='ddate').mean().reset_index()\n",
    "        df_fx['base'] = fx\n",
    "        df_fx.rename(columns={'maxval':'to_USD', 'minval':'from_USD'}, inplace=True)\n",
    "        df_fx = df_fx[['base', 'to_USD', 'from_USD', 'ddate']]\n",
    "        fx_df[fx] = df_fx.convert_dtypes()\n",
    "    \n",
    "    for fx in list({x[int(x[-1]=='USD')-1].upper():x[int(x[0]=='USD')-1].upper() for x in df_other.uom.str.split(r'[-_/]').values }.keys()):\n",
    "        df_other_fx = df_other[df_other.uom.str.contains(fx, flags=re.I)]\n",
    "        df_base = df_other_fx.loc[df.maxval>1, ['ddate', 'maxval']].groupby(by='ddate').mean()\n",
    "        df_base['minval'] = 1/df_base.maxval\n",
    "        df_quote = df_other_fx.loc[df.minval<1, ['ddate', 'minval']].groupby(by='ddate').mean()\n",
    "        df_quote['maxval'] = 1/df_quote.minval\n",
    "        df_fx = pd.concat((df_base, df_quote), axis=0).groupby(by='ddate').mean().reset_index()\n",
    "        df_fx['base'] = fx\n",
    "        df_fx.rename(columns={'maxval':'from_USD', 'minval':'to_USD'}, inplace=True)\n",
    "        df_fx = df_fx[['base', 'to_USD', 'from_USD', 'ddate']]\n",
    "        fx_df[fx] = df_fx.convert_dtypes()\n",
    "    \n",
    "    return fx_df"
   ]
  },
  {
   "cell_type": "markdown",
   "id": "0a5c6448-dbcc-4fc0-a19f-4cac0ff2dcd3",
   "metadata": {},
   "source": [
    "The `closing_fx` table contains point-in-time FX market information.\n",
    "\n",
    "The `average_fx` table contains a four-quarter average of FX rates."
   ]
  },
  {
   "cell_type": "code",
   "execution_count": 251,
   "id": "9deee5cd-8518-425b-866c-c1e4507cf388",
   "metadata": {},
   "outputs": [
    {
     "data": {
      "text/plain": [
       "[(True,)]"
      ]
     },
     "metadata": {},
     "output_type": "display_data"
    },
    {
     "name": "stderr",
     "output_type": "stream",
     "text": [
      "<ipython-input-144-e343598a9137>:7: UserWarning: This pattern has match groups. To actually get the groups, use str.extract.\n",
      "  df_other = df[~df.uom.str.contains('(GBP)|(EUR)', flags=re.I)]\n"
     ]
    },
    {
     "name": "stdout",
     "output_type": "stream",
     "text": [
      "\n",
      "create table if not exists sec_dera.closing_fx (\n",
      "    base varchar,\n",
      "    to_usd double,\n",
      "    from_usd double,\n",
      "    ddate timestamp(3)\n",
      ") with (\n",
      "format = 'parquet',\n",
      "external_location = 's3a://ocp-odh-os-demo-s3/trino/sec_dera/closing_fx/'\n",
      ")\n",
      "\n"
     ]
    },
    {
     "data": {
      "text/plain": [
       "[(True,)]"
      ]
     },
     "metadata": {},
     "output_type": "display_data"
    },
    {
     "name": "stdout",
     "output_type": "stream",
     "text": [
      "\n",
      "create table if not exists sec_dera.average_fx (\n",
      "    base varchar,\n",
      "    to_usd double,\n",
      "    from_usd double,\n",
      "    ddate timestamp(3)\n",
      ") with (\n",
      "format = 'parquet',\n",
      "external_location = 's3a://ocp-odh-os-demo-s3/trino/sec_dera/average_fx/'\n",
      ")\n",
      "\n"
     ]
    }
   ],
   "source": [
    "import io\n",
    "\n",
    "ingest_schema = 'sec_dera'\n",
    "\n",
    "def create_fx_table(df_fx, tbl):\n",
    "    qres = engine.execute(f\"drop table if exists {ingest_schema}.{tbl}\")\n",
    "    display(qres.fetchall())\n",
    "\n",
    "    df = enforce_sql_column_names(pd.concat(create_fx_dict(df_fx).values()))\n",
    "\n",
    "    buf = io.BytesIO()\n",
    "    df.to_parquet(path=buf)\n",
    "    buf.seek(0)\n",
    "    trino_bucket.upload_fileobj(Fileobj=buf,\n",
    "                                Key=f'trino/{ingest_schema}/{tbl}/data.parquet')\n",
    "\n",
    "    columnschema = create_table_schema_pairs(df, typemap={'datetime64[ns]':'timestamp(3)'})\n",
    "    tabledef = f\"\"\"\n",
    "create table if not exists {ingest_schema}.{tbl} (\n",
    "{columnschema}\n",
    ") with (\n",
    "format = 'parquet',\n",
    "external_location = 's3a://{trino_bucket.name}/trino/{ingest_schema}/{tbl}/'\n",
    ")\n",
    "\"\"\"\n",
    "    print(tabledef)\n",
    "\n",
    "    table_create = engine.execute(tabledef)\n",
    "    # display(table_create.fetchall())\n",
    "\n",
    "    if False:\n",
    "        dataset_query = (f'SELECT * FROM {ingest_schema}.{tbl} limit 10')\n",
    "        print(dataset_query)\n",
    "        dataset = engine.execute(dataset_query)\n",
    "        display(dataset.fetchall())\n",
    "\n",
    "for df, tbl in [ (df_closing_fx,'closing_fx'), (df_average_fx,'average_fx') ]:\n",
    "    create_fx_table(df, tbl)"
   ]
  },
  {
   "cell_type": "raw",
   "id": "f2b00942-69ab-4f6e-8021-75aa4a9893e5",
   "metadata": {},
   "source": [
    "# This complicated query helps us figure out how far and wide we need to reach to grab useful FX information\n",
    "\n",
    "qres = engine.execute(\"\"\"\n",
    "select S.adsh, S.cik, name, lei, sic, S.fy, N.ddate, N.uom, N.value as assets,\n",
    "       coalesce(FX.to_usd, FX_1mo.to_usd, FX_2mo.to_usd, FX_3mo.to_usd, FX_avg.to_usd, FX_avg_py.to_usd, FX_avg_1231.to_usd) * N.value as assets_usd,\n",
    "       coalesce(FX.ddate, FX_1mo.ddate, FX_2mo.ddate, FX_3mo.ddate, FX_avg.ddate, FX_avg_py.ddate, FX_avg_1231.ddate) as date_found,\n",
    "       date_diff ('month', coalesce(FX.ddate, FX_1mo.ddate, FX_2mo.ddate, FX_3mo.ddate, FX_avg.ddate, FX_avg_py.ddate, FX_avg_1231.ddate), N.ddate) as date_diff\n",
    "from sec_dera.sub as S\n",
    "     join sec_dera.assets_xyz_by_adsh_ddate as AD on S.adsh=AD.adsh\n",
    "     join sec_dera.num as N on AD.adsh=N.adsh and AD.a_ddate=N.ddate and N.coreg is NULL and N.qtrs=0 and N.tag='Assets'\n",
    "     left join sec_dera.closing_fx FX on N.uom=FX.base and N.ddate=FX.ddate\n",
    "     left join sec_dera.closing_fx FX_1mo on N.uom=FX_1mo.base and date_diff('month', FX_1mo.ddate, N.ddate)=1\n",
    "     left join sec_dera.closing_fx FX_2mo on N.uom=FX_2mo.base and date_diff('month', FX_2mo.ddate, N.ddate)=2\n",
    "     left join sec_dera.closing_fx FX_3mo on N.uom=FX_3mo.base and date_diff('month', FX_3mo.ddate, N.ddate)=3\n",
    "     left join sec_dera.average_fx FX_avg on N.uom=FX_avg.base and N.ddate=FX_avg.ddate\n",
    "     left join sec_dera.average_fx FX_avg_py on N.uom=FX_avg_py.base and N.ddate=date_add('year', 1, FX_avg_py.ddate)\n",
    "     left join sec_dera.average_fx FX_avg_1231 on N.uom=FX_avg_1231.base and DATE(cast (year(N.ddate)-1 as varchar)||'-12-31')=FX_avg_1231.ddate\n",
    "where S.fy>=DATE('2020-01-01')\n",
    "group by S.adsh, S.cik, name, lei, sic, S.fy, N.ddate, N.uom, N.value, coalesce(FX.to_usd, FX_1mo.to_usd, FX_2mo.to_usd, FX_3mo.to_usd, FX_avg.to_usd, FX_avg_py.to_usd, FX_avg_1231.to_usd) * N.value,\n",
    "        coalesce(FX.ddate, FX_1mo.ddate, FX_2mo.ddate, FX_3mo.ddate, FX_avg.ddate, FX_avg_py.ddate, FX_avg_1231.ddate),\n",
    "        date_diff ('month', coalesce(FX.ddate, FX_1mo.ddate, FX_2mo.ddate, FX_3mo.ddate, FX_avg.ddate, FX_avg_py.ddate, FX_avg_1231.ddate), N.ddate)\n",
    "having coalesce(FX.ddate, FX_1mo.ddate, FX_2mo.ddate, FX_3mo.ddate, FX_avg.ddate, FX_avg_py.ddate, FX_avg_1231.ddate) is null or date_diff ('month', coalesce(FX.ddate, FX_1mo.ddate, FX_2mo.ddate, FX_3mo.ddate, FX_avg.ddate, FX_avg_py.ddate, FX_avg_1231.ddate), N.ddate)!=0\n",
    "order by S.name, S.adsh, N.ddate, N.uom\n",
    "\"\"\")\n",
    "l = qres.fetchall()"
   ]
  },
  {
   "cell_type": "raw",
   "id": "3be96c12-cfb8-4453-8c09-89fe271bddf4",
   "metadata": {},
   "source": [
    "import pandas as pd\n",
    "\n",
    "df = pd.read_sql(\"\"\"\n",
    "select S.adsh, S.cik, name, lei, sic, S.fy, N.ddate, N.uom, N.value as assets,\n",
    "       coalesce(FX.to_usd, FX_1mo.to_usd, FX_2mo.to_usd, FX_3mo.to_usd, FX_avg.to_usd, FX_avg_py.to_usd, FX_avg_1231.to_usd) * N.value as assets_usd\n",
    "from sec_dera.sub as S\n",
    "     join sec_dera.assets_xyz_by_adsh_ddate as AD on S.adsh=AD.adsh\n",
    "     join sec_dera.num as N on AD.adsh=N.adsh and AD.a_ddate=N.ddate\n",
    "          and N.coreg is NULL and N.tag='Assets'\n",
    "     left join sec_dera.closing_fx FX on N.uom=FX.base and N.ddate=FX.ddate\n",
    "     left join sec_dera.closing_fx FX_1mo on N.uom=FX_1mo.base and date_diff('month', FX_1mo.ddate, N.ddate)=1\n",
    "     left join sec_dera.closing_fx FX_2mo on N.uom=FX_2mo.base and date_diff('month', FX_2mo.ddate, N.ddate)=2\n",
    "     left join sec_dera.closing_fx FX_3mo on N.uom=FX_3mo.base and date_diff('month', FX_3mo.ddate, N.ddate)=3\n",
    "     left join sec_dera.average_fx FX_avg on N.uom=FX_avg.base and N.ddate=FX_avg.ddate\n",
    "     left join sec_dera.average_fx FX_avg_py on N.uom=FX_avg_py.base and N.ddate=date_add('year', 1, FX_avg_py.ddate)\n",
    "     left join sec_dera.average_fx FX_avg_1231 on N.uom=FX_avg_1231.base and DATE(cast (year(N.ddate)-1 as varchar)||'-12-31')=FX_avg_1231.ddate\n",
    "where S.fy>=DATE('2020-01-01')\n",
    "\"\"\", engine, index_col=None)\n",
    "df"
   ]
  },
  {
   "cell_type": "code",
   "execution_count": null,
   "id": "55203e88-fa13-45fa-b1e0-df7c6e976fd2",
   "metadata": {},
   "outputs": [],
   "source": [
    "qres = engine.execute(\"select count (*), adsh, uom, tag group by adsh, uom, tag \")"
   ]
  },
  {
   "cell_type": "markdown",
   "id": "864d8afe-6053-4ab2-9418-42d089bb164c",
   "metadata": {},
   "source": [
    "### Revenue\n",
    "\n",
    "For this table and others, we do not yet implement a mechanism for prioritizing amended values over initially reported values.  That is a TODO."
   ]
  },
  {
   "cell_type": "raw",
   "id": "7a3e222a-b460-4859-9fd4-329330b1b1ae",
   "metadata": {},
   "source": [
    "# There are 56 of these and each one has a colorful explanation as to why the report data and the fiscal year are so misaligned\n",
    "\n",
    "engine.execute(\"select S.adsh, cik, fy, name from sec_dera.sub as S where S.form='10-K' and S.fy>=DATE('2018-01-01') and S.fy<DATE('2019-01-01')\").fetchall()"
   ]
  },
  {
   "cell_type": "markdown",
   "id": "713537b4-99e2-4bcc-8569-b6e682d94253",
   "metadata": {},
   "source": [
    "engine.execute(\"select *, if (fp='','fp should not be empty string', '') from sec_dera.sub as S where S.form='10-K' and S.fp!='FY'\").fetchall()"
   ]
  },
  {
   "cell_type": "code",
   "execution_count": 258,
   "id": "5d53b4d4-5f42-472a-aa0d-0f6c8341b796",
   "metadata": {},
   "outputs": [
    {
     "name": "stdout",
     "output_type": "stream",
     "text": [
      "[(True,)]\n"
     ]
    },
    {
     "data": {
      "text/plain": [
       "[(True,)]"
      ]
     },
     "metadata": {},
     "output_type": "display_data"
    },
    {
     "data": {
      "text/plain": [
       "[(True,)]"
      ]
     },
     "metadata": {},
     "output_type": "display_data"
    },
    {
     "data": {
      "text/plain": [
       "[(10464,)]"
      ]
     },
     "metadata": {},
     "output_type": "display_data"
    }
   ],
   "source": [
    "qres = engine.execute(\"drop table if exists sec_dera.t_r\")\n",
    "print(qres.fetchall())\n",
    "\n",
    "qres = engine.execute(\"\"\"\n",
    "create or replace view sec_dera.fy_revenue_usd_by_lei as\n",
    "select S.adsh, cik, name, lei, sic, fy, N.ddate, uom, max(value) as revenue\n",
    "from sec_dera.sub as S join sec_dera.num as N on S.adsh=N.adsh and year(S.fy)=year(N.ddate)\n",
    "where (S.form='10-K' or S.form='20-F' or S.form='40-F')\n",
    "        and S.fy>=DATE('2019-01-01')\n",
    "        and uom='USD'\n",
    "        and coreg is NULL\n",
    "        and qtrs=4\n",
    "        and (N.tag='Revenue'\n",
    "             or N.tag='Revenues'\n",
    "             or N.tag='RevenueFromContractsWithCustomers'\n",
    "             or N.tag='RevenueFromContractWithCustomerIncludingAssessedTax'\n",
    "             or N.tag='RevenueFromContractWithCustomerExcludingAssessedTax'\n",
    "             or N.tag='RevenuesNetOfInterestExpense'\n",
    "             or N.tag='RegulatedAndUnregulatedOperatingRevenue'\n",
    "             or N.tag='RegulatedOperatingRevenuePipelines')\n",
    "group by S.adsh, cik, name, lei, sic, fy, N.ddate, uom\n",
    "\"\"\")\n",
    "display(qres.fetchall())\n",
    "\n",
    "qres = engine.execute(\"\"\"\n",
    "create or replace view sec_dera.fy_revenue_xyz_by_lei as\n",
    "select S.adsh, S.cik, S.name, S.lei, S.sic, S.fy, N.ddate, N.uom, max(N.value) as revenue\n",
    "from sec_dera.sub as S left join sec_dera.fy_revenue_usd_by_lei X on S.adsh=X.adsh\n",
    "     join sec_dera.num as N on S.adsh=N.adsh and year(S.fy)=year(N.ddate) and X.adsh IS NULL\n",
    "where (S.form='10-K' or S.form='20-F' or S.form='40-F')\n",
    "        and S.fy>=DATE('2019-01-01')\n",
    "        and N.uom!='USD'\n",
    "        and coreg is NULL\n",
    "        and qtrs=4\n",
    "        and (N.tag='Revenue'\n",
    "             or N.tag='Revenues'\n",
    "             or N.tag='RevenueFromContractsWithCustomers'\n",
    "             or N.tag='RevenueFromContractWithCustomerIncludingAssessedTax'\n",
    "             or N.tag='RevenueFromContractWithCustomerExcludingAssessedTax'\n",
    "             or N.tag='RevenuesNetOfInterestExpense'\n",
    "             or N.tag='RegulatedAndUnregulatedOperatingRevenue'\n",
    "             or N.tag='RegulatedOperatingRevenuePipelines')\n",
    "group by S.adsh, S.cik, S.name, S.lei, S.sic, S.fy, N.ddate, N.uom\n",
    "\"\"\")\n",
    "display(qres.fetchall())\n",
    "\n",
    "qres = engine.execute(\"\"\"\n",
    "create table sec_dera.t_r as\n",
    "select V_USD.*, V_USD.revenue as revenue_usd\n",
    "from sec_dera.fy_revenue_usd_by_lei as V_USD\n",
    "UNION ALL\n",
    "select V_XYZ.*, coalesce(FX.to_usd, FX_1mo.to_usd, FX_2mo.to_usd, FX_3mo.to_usd, FX_avg.to_usd, FX_avg_py.to_usd, FX_avg_1231.to_usd) * V_XYZ.revenue as revenue_usd\n",
    "from sec_dera.fy_revenue_xyz_by_lei as V_XYZ\n",
    "     left join sec_dera.closing_fx FX on V_XYZ.uom=FX.base and V_XYZ.ddate=FX.ddate\n",
    "     left join sec_dera.closing_fx FX_1mo on V_XYZ.uom=FX_1mo.base and date_diff('month', FX_1mo.ddate, V_XYZ.ddate)=1\n",
    "     left join sec_dera.closing_fx FX_2mo on V_XYZ.uom=FX_2mo.base and date_diff('month', FX_2mo.ddate, V_XYZ.ddate)=2\n",
    "     left join sec_dera.closing_fx FX_3mo on V_XYZ.uom=FX_3mo.base and date_diff('month', FX_3mo.ddate, V_XYZ.ddate)=3\n",
    "     left join sec_dera.average_fx FX_avg on V_XYZ.uom=FX_avg.base and V_XYZ.ddate=FX_avg.ddate\n",
    "     left join sec_dera.average_fx FX_avg_py on V_XYZ.uom=FX_avg_py.base and V_XYZ.ddate=date_add('year', 1, FX_avg_py.ddate)\n",
    "     left join sec_dera.average_fx FX_avg_1231 on V_XYZ.uom=FX_avg_1231.base and DATE(cast (year(V_XYZ.ddate)-1 as varchar)||'-12-31')=FX_avg_1231.ddate\n",
    "\"\"\")\n",
    "display(qres.fetchall())"
   ]
  },
  {
   "cell_type": "raw",
   "id": "90bc7445-1c43-4ef0-a948-8bae530dd249",
   "metadata": {},
   "source": [
    "engine.execute(\"select * from sec_dera.num where qtrs=4004\").fetchall()"
   ]
  },
  {
   "cell_type": "raw",
   "id": "8a936a2a-d110-431c-8084-7f520ed01b5b",
   "metadata": {},
   "source": [
    "engine.execute(\"select * from sec_dera.sub where adsh='0001628280-21-016934'\").fetchall()"
   ]
  },
  {
   "cell_type": "raw",
   "id": "f4be2556-cee2-48da-849a-272758c208df",
   "metadata": {},
   "source": [
    "engine.execute(\"select * from sec_dera.t_r where name='INDEPENDENT BANK CORP'\").fetchall()"
   ]
  },
  {
   "cell_type": "markdown",
   "id": "fe80a6f7-32f7-4ecc-970d-580fd1bdb2b0",
   "metadata": {},
   "source": [
    "### Float (market cap)\n",
    "\n",
    "TODO: The float calculation reads the reported overall float without regard to share class.  For companies that have multiple associated tickers, this gives wrong results.  And probably very wrong results for BRK.A vs. BRK.B"
   ]
  },
  {
   "cell_type": "raw",
   "id": "36ccac7d-75ce-418a-a4a5-9283d587855c",
   "metadata": {},
   "source": [
    "engine.execute(\"select count (*), tag from sec_dera.num where tag like '%Float%' and tag not like '%Floating%' and tag not like '%Floater%' group by tag order by tag\").fetchall()"
   ]
  },
  {
   "cell_type": "raw",
   "id": "ce7c1afa-d29a-4a9c-8a51-33229cf0e801",
   "metadata": {},
   "source": [
    "engine.execute(\"select count (*) from sec_dera.sub as S join sec_dera.float_by_adsh_ddate as AD on S.adsh=AD.adsh where (S.form!='10-K' and S.form!='20-F')\").fetchall()"
   ]
  },
  {
   "cell_type": "code",
   "execution_count": 261,
   "id": "ab885e9c-d073-4493-8576-0a5bfe151df3",
   "metadata": {},
   "outputs": [
    {
     "data": {
      "text/plain": [
       "[(True,)]"
      ]
     },
     "metadata": {},
     "output_type": "display_data"
    },
    {
     "data": {
      "text/plain": [
       "[(True,)]"
      ]
     },
     "metadata": {},
     "output_type": "display_data"
    },
    {
     "data": {
      "text/plain": [
       "[(True,)]"
      ]
     },
     "metadata": {},
     "output_type": "display_data"
    },
    {
     "data": {
      "text/plain": [
       "[(10801,)]"
      ]
     },
     "metadata": {},
     "output_type": "display_data"
    }
   ],
   "source": [
    "qres = engine.execute(\"drop table if exists sec_dera.t_f\").fetchall()\n",
    "qres = engine.execute(\"\"\"\n",
    "create or replace view sec_dera.float_by_adsh_ddate as\n",
    "select S.adsh, fy, max(ddate) as f_ddate\n",
    "from sec_dera.sub as S join sec_dera.num as N on S.adsh=N.adsh and year(S.fy)=year(N.ddate)\n",
    "where (S.form='10-K' or S.form='20-F' or S.form='40-F')\n",
    "        and S.fy>=DATE('2019-01-01')\n",
    "        and coreg is NULL\n",
    "        and qtrs=0\n",
    "        and (tag='EntityPublicFloat'\n",
    "             or tag='EntitysPublicFloat'\n",
    "             or tag='FreeFloat'\n",
    "             or tag='PublicFloat'\n",
    "             or tag='PublicFloatValue')\n",
    "group by S.adsh, fy\n",
    "\"\"\")\n",
    "display(qres.fetchall())\n",
    "\n",
    "qres = engine.execute(\"\"\"\n",
    "create or replace view sec_dera.float_usd_by_lei as\n",
    "select S.adsh, S.cik, name, lei, tname, sic, S.fy, N.ddate, uom, max(value) as market_cap\n",
    "from sec_dera.sub as S\n",
    "     join sec_dera.float_by_adsh_ddate as AD on S.adsh=AD.adsh\n",
    "     join sec_dera.num as N on AD.adsh=N.adsh and AD.f_ddate=N.ddate\n",
    "     left join sec_dera.ticker T on S.cik=T.cik\n",
    "     -- we already know we are looking at the correct S.form type\n",
    "where value>0\n",
    "      and uom='USD'\n",
    "      and coreg is NULL\n",
    "      and qtrs=0\n",
    "      and (tag='EntityPublicFloat'\n",
    "           or tag='EntitysPublicFloat'\n",
    "           or tag='FreeFloat'\n",
    "           or tag='PublicFloat'\n",
    "           or tag='PublicFloatValue')\n",
    "group by S.adsh, S.cik, name, lei, tname, sic, S.fy, N.ddate, uom\n",
    "\"\"\")\n",
    "display(qres.fetchall())\n",
    "\n",
    "qres = engine.execute(\"\"\"\n",
    "create or replace view sec_dera.float_xyz_by_lei as\n",
    "select S.adsh, S.cik, name, lei, tname, sic, S.fy, N.ddate, uom, max(value) as market_cap\n",
    "from sec_dera.sub as S\n",
    "     join sec_dera.float_by_adsh_ddate as AD on S.adsh=AD.adsh\n",
    "     join sec_dera.num as N on AD.adsh=N.adsh and AD.f_ddate=N.ddate\n",
    "     left join sec_dera.ticker T on S.cik=T.cik\n",
    "     -- we already know we are looking at the correct S.form type\n",
    "where value>0\n",
    "      and uom!='USD'\n",
    "      and coreg is NULL\n",
    "      and qtrs=0\n",
    "      and (tag='EntityPublicFloat'\n",
    "           or tag='EntitysPublicFloat'\n",
    "           or tag='FreeFloat'\n",
    "           or tag='PublicFloat'\n",
    "           or tag='PublicFloatValue')\n",
    "group by S.adsh, S.cik, name, lei, tname, sic, S.fy, N.ddate, uom\n",
    "\"\"\")\n",
    "display(qres.fetchall())\n",
    "\n",
    "qres = engine.execute(\"\"\"\n",
    "create table sec_dera.t_f as\n",
    "select V_USD.*, V_USD.market_cap as market_cap_usd\n",
    "from sec_dera.float_usd_by_lei as V_USD\n",
    "UNION ALL\n",
    "select V_XYZ.*, coalesce(FX.to_usd, FX_1mo.to_usd, FX_2mo.to_usd, FX_3mo.to_usd, FX_avg.to_usd, FX_avg_py.to_usd, FX_avg_1231.to_usd) * V_XYZ.market_cap as market_cap_usd\n",
    "from sec_dera.float_xyz_by_lei as V_XYZ\n",
    "     left join sec_dera.closing_fx FX on V_XYZ.uom=FX.base and V_XYZ.ddate=FX.ddate\n",
    "     left join sec_dera.closing_fx FX_1mo on V_XYZ.uom=FX_1mo.base and date_diff('month', FX_1mo.ddate, V_XYZ.ddate)=1\n",
    "     left join sec_dera.closing_fx FX_2mo on V_XYZ.uom=FX_2mo.base and date_diff('month', FX_2mo.ddate, V_XYZ.ddate)=2\n",
    "     left join sec_dera.closing_fx FX_3mo on V_XYZ.uom=FX_3mo.base and date_diff('month', FX_3mo.ddate, V_XYZ.ddate)=3\n",
    "     left join sec_dera.average_fx FX_avg on V_XYZ.uom=FX_avg.base and V_XYZ.ddate=FX_avg.ddate\n",
    "     left join sec_dera.average_fx FX_avg_py on V_XYZ.uom=FX_avg_py.base and V_XYZ.ddate=date_add('year', 1, FX_avg_py.ddate)\n",
    "     left join sec_dera.average_fx FX_avg_1231 on V_XYZ.uom=FX_avg_1231.base and DATE(cast (year(V_XYZ.ddate)-1 as varchar)||'-12-31')=FX_avg_1231.ddate\n",
    "\"\"\")\n",
    "display(qres.fetchall())"
   ]
  },
  {
   "cell_type": "raw",
   "id": "578068b7-1b4d-4bc9-8fd8-ff25a1b1b186",
   "metadata": {},
   "source": [
    "engine.execute(\"select * from sec_dera.t_f where name='INDEPENDENT BANK CORP'\").fetchall()"
   ]
  },
  {
   "cell_type": "markdown",
   "id": "76fa3e45-b00b-4755-a1d7-04b3514ade2a",
   "metadata": {},
   "source": [
    "### Cash"
   ]
  },
  {
   "cell_type": "code",
   "execution_count": 263,
   "id": "f1291683-5a8e-4ae2-aa32-dc99f4eba8dd",
   "metadata": {},
   "outputs": [
    {
     "name": "stdout",
     "output_type": "stream",
     "text": [
      "[(True,)]\n"
     ]
    },
    {
     "data": {
      "text/plain": [
       "[(True,)]"
      ]
     },
     "metadata": {},
     "output_type": "display_data"
    },
    {
     "data": {
      "text/plain": [
       "[(True,)]"
      ]
     },
     "metadata": {},
     "output_type": "display_data"
    },
    {
     "data": {
      "text/plain": [
       "[(12459,)]"
      ]
     },
     "metadata": {},
     "output_type": "display_data"
    }
   ],
   "source": [
    "qres = engine.execute(\"drop table if exists sec_dera.t_c\").fetchall()\n",
    "qres = engine.execute(\"\"\"\n",
    "create or replace view sec_dera.cash_by_adsh_ddate as\n",
    "select S.adsh, fy, max(ddate) as c_ddate\n",
    "from sec_dera.sub as S join sec_dera.num as N on S.adsh=N.adsh and year(S.fy)=year(N.ddate)\n",
    "where (S.form='10-K' or S.form='20-F' or S.form='40-F')\n",
    "        and S.fy>=DATE('2019-01-01')\n",
    "        and coreg is NULL\n",
    "        and qtrs=0\n",
    "        and (tag='Cash'\n",
    "             or tag='CashAndDueFromBanks'\n",
    "             or tag='CashAndCashEquivalents'\n",
    "             or lower(tag)=lower('CashAndCashEquivalentsUnrestricted')\n",
    "             or tag='CashEquivalentsAtCarryingValue' \n",
    "             or tag='CashAndCashEquivalentsAtCarryingValue'\n",
    "             or tag='CashAndCashEquivalentsAtCarryingValueExcludingVariableInterestEntities')\n",
    "group by S.adsh, fy\n",
    "\"\"\")\n",
    "print(qres.fetchall())\n",
    "\n",
    "qres = engine.execute(\"\"\"\n",
    "create or replace view sec_dera.cash_usd_by_lei as\n",
    "select S.adsh, S.cik, name, lei, sic, S.fy, N.ddate, uom, max(value) as cash\n",
    "from sec_dera.sub as S\n",
    "     join sec_dera.cash_by_adsh_ddate as AD on S.adsh=AD.adsh -- and S.fy=AD.fy\n",
    "     join sec_dera.num as N on AD.adsh=N.adsh and AD.c_ddate=N.ddate\n",
    "where coreg is NULL\n",
    "      and uom='USD'\n",
    "      and qtrs=0\n",
    "      and (tag='Cash'\n",
    "             or tag='CashAndDueFromBanks'\n",
    "             or tag='CashAndCashEquivalents'\n",
    "             or lower(tag)=lower('CashAndCashEquivalentsUnrestricted')\n",
    "             or tag='CashEquivalentsAtCarryingValue' \n",
    "             or tag='CashAndCashEquivalentsAtCarryingValue'\n",
    "             or tag='CashAndCashEquivalentsAtCarryingValueExcludingVariableInterestEntities')\n",
    "group by S.adsh, S.cik, name, lei, sic, S.fy, N.ddate, uom\n",
    "\"\"\")\n",
    "display(qres.fetchall())\n",
    "\n",
    "qres = engine.execute(\"\"\"\n",
    "create or replace view sec_dera.cash_xyz_by_lei as\n",
    "select S.adsh, S.cik, name, lei, sic, S.fy, N.ddate, uom, max(value) as cash\n",
    "from sec_dera.sub as S\n",
    "     join sec_dera.cash_by_adsh_ddate as AD on S.adsh=AD.adsh -- and S.fy=AD.fy\n",
    "     join sec_dera.num as N on AD.adsh=N.adsh and AD.c_ddate=N.ddate\n",
    "where coreg is NULL\n",
    "      and uom!='USD'\n",
    "      and qtrs=0\n",
    "      and (tag='Cash'\n",
    "             or tag='CashAndDueFromBanks'\n",
    "             or tag='CashAndCashEquivalents'\n",
    "             or lower(tag)=lower('CashAndCashEquivalentsUnrestricted')\n",
    "             or tag='CashEquivalentsAtCarryingValue' \n",
    "             or tag='CashAndCashEquivalentsAtCarryingValue'\n",
    "             or tag='CashAndCashEquivalentsAtCarryingValueExcludingVariableInterestEntities')\n",
    "group by S.adsh, S.cik, name, lei, sic, S.fy, N.ddate, uom\n",
    "\"\"\")\n",
    "display(qres.fetchall())\n",
    "\n",
    "qres = engine.execute(\"\"\"\n",
    "create table sec_dera.t_c as\n",
    "select V_USD.*, V_USD.cash as cash_usd\n",
    "from sec_dera.cash_usd_by_lei as V_USD\n",
    "UNION ALL\n",
    "select V_XYZ.*, coalesce(FX.to_usd, FX_1mo.to_usd, FX_2mo.to_usd, FX_3mo.to_usd, FX_avg.to_usd, FX_avg_py.to_usd, FX_avg_1231.to_usd) * V_XYZ.cash as cash_usd\n",
    "from sec_dera.cash_xyz_by_lei as V_XYZ\n",
    "     left join sec_dera.closing_fx FX on V_XYZ.uom=FX.base and V_XYZ.ddate=FX.ddate\n",
    "     left join sec_dera.closing_fx FX_1mo on V_XYZ.uom=FX_1mo.base and date_diff('month', FX_1mo.ddate, V_XYZ.ddate)=1\n",
    "     left join sec_dera.closing_fx FX_2mo on V_XYZ.uom=FX_2mo.base and date_diff('month', FX_2mo.ddate, V_XYZ.ddate)=2\n",
    "     left join sec_dera.closing_fx FX_3mo on V_XYZ.uom=FX_3mo.base and date_diff('month', FX_3mo.ddate, V_XYZ.ddate)=3\n",
    "     left join sec_dera.average_fx FX_avg on V_XYZ.uom=FX_avg.base and V_XYZ.ddate=FX_avg.ddate\n",
    "     left join sec_dera.average_fx FX_avg_py on V_XYZ.uom=FX_avg_py.base and V_XYZ.ddate=date_add('year', 1, FX_avg_py.ddate)\n",
    "     left join sec_dera.average_fx FX_avg_1231 on V_XYZ.uom=FX_avg_1231.base and DATE(cast (year(V_XYZ.ddate)-1 as varchar)||'-12-31')=FX_avg_1231.ddate\n",
    "\"\"\")\n",
    "display(qres.fetchall())"
   ]
  },
  {
   "cell_type": "raw",
   "id": "0a570cff-aa7c-40cf-a666-2bd03dcc1588",
   "metadata": {},
   "source": [
    "engine.execute(\"select * from sec_dera.t_c where name='INDEPENDENT BANK CORP'\").fetchall()"
   ]
  },
  {
   "cell_type": "raw",
   "id": "f45575b6-b66e-4ba8-80b4-3471f9b7e98c",
   "metadata": {},
   "source": [
    "engine.execute(\"\"\"\n",
    "select count (*), tag from sec_dera.num\n",
    "where tag='CashAndCashEquivalentsAtCarryingValue' or tag='Cash' or tag='CashEquivalentsAtCarryingValue' or tag='CashAndCashEquivalents'\n",
    "group by tag order by count (*) desc limit 20\n",
    "\"\"\").fetchall()"
   ]
  },
  {
   "cell_type": "markdown",
   "id": "1eb6140f-1d32-4c15-991b-94b5475efd7e",
   "metadata": {},
   "source": [
    "### Debt"
   ]
  },
  {
   "cell_type": "code",
   "execution_count": 264,
   "id": "28cead08-d929-4cef-925f-3cbf4ba61b1f",
   "metadata": {},
   "outputs": [
    {
     "name": "stdout",
     "output_type": "stream",
     "text": [
      "[(True,)]\n"
     ]
    },
    {
     "data": {
      "text/plain": [
       "[(True,)]"
      ]
     },
     "metadata": {},
     "output_type": "display_data"
    },
    {
     "data": {
      "text/plain": [
       "[(True,)]"
      ]
     },
     "metadata": {},
     "output_type": "display_data"
    },
    {
     "data": {
      "text/plain": [
       "[(9017,)]"
      ]
     },
     "metadata": {},
     "output_type": "display_data"
    }
   ],
   "source": [
    "# Reiterating comment embedded below: we should sum 'LongTermDebtNoncurrent' and 'LongTermDebtCurrent' as one term we MAX with others\n",
    "qres = engine.execute(\"drop table if exists sec_dera.t_d\").fetchall()\n",
    "\n",
    "qres = engine.execute(\"\"\"\n",
    "create or replace view sec_dera.debt_by_adsh_ddate as\n",
    "select S.adsh, fy, max(ddate) as d_ddate\n",
    "from sec_dera.sub as S join sec_dera.num as N on S.adsh=N.adsh and year(S.fy)=year(N.ddate)\n",
    "where (S.form='10-K' or S.form='20-F' or S.form='40-F')\n",
    "        and S.fy>=DATE('2019-01-01')\n",
    "        and coreg is NULL\n",
    "        and qtrs=0\n",
    "        and (tag='LongTermDebt' or tag='LongTermDebtFairValue'\n",
    "             or tag='LongTermDebtAndCapitalLeaseObligations' or tag='DebtAndCapitalLeaseObligations'\n",
    "             or tag='DebtLongtermAndShorttermCombinedAmount' or tag='SecuredDebt' or tag='UnsecuredDebt'\n",
    "             or tag='OperatingLeaseLiabilityNoncurrent'\n",
    "             or tag='SubordinatedDebt' or tag='ConvertibleDebt'\n",
    "             or tag='LongTermLineOfCredit' or tag='OtherBorrowings' or tag='NotesAndLoansReceivableNetNoncurrent'\n",
    "             -- NOTE: A MORE ACCURATE ANSWER COMES FROM SUMMING THESE TWO AND COMPARING WITH THE ABOVE (ALREADY-COMBINED) DEBT METRICS\n",
    "             or tag='LongTermDebtNoncurrent' or tag='LongTermDebtCurrent')\n",
    "group by S.adsh, fy\n",
    "\"\"\")\n",
    "print(qres.fetchall())\n",
    "\n",
    "qres = engine.execute(\"\"\"\n",
    "create or replace view sec_dera.debt_usd_by_lei as\n",
    "select S.adsh, S.cik, name, lei, sic, S.fy, N.ddate, uom, max(value) as debt\n",
    "from sec_dera.sub as S\n",
    "     join sec_dera.debt_by_adsh_ddate as AD on S.adsh=AD.adsh\n",
    "     join sec_dera.num as N on AD.adsh=N.adsh and AD.d_ddate=N.ddate\n",
    "where coreg is NULL\n",
    "      and uom='USD'\n",
    "      and qtrs=0\n",
    "      and (tag='LongTermDebt' or tag='LongTermDebtFairValue'\n",
    "           or tag='LongTermDebtAndCapitalLeaseObligations' or tag='DebtAndCapitalLeaseObligations'\n",
    "           or tag='DebtLongtermAndShorttermCombinedAmount' or tag='SecuredDebt' or tag='UnsecuredDebt'\n",
    "           or tag='OperatingLeaseLiabilityNoncurrent'\n",
    "           or tag='SubordinatedDebt' or tag='ConvertibleDebt'\n",
    "           or tag='LongTermLineOfCredit' or tag='OtherBorrowings' or tag='NotesAndLoansReceivableNetNoncurrent'\n",
    "           -- NOTE: A MORE ACCURATE ANSWER COMES FROM SUMMING THESE TWO AND COMPARING WITH THE ABOVE (ALREADY-COMBINED) DEBT METRICS\n",
    "           or tag='LongTermDebtNoncurrent' or tag='LongTermDebtCurrent')\n",
    "group by S.adsh, S.cik, name, lei, sic, S.fy, N.ddate, uom\n",
    "\"\"\")\n",
    "display(qres.fetchall())\n",
    "\n",
    "qres = engine.execute(\"\"\"\n",
    "create or replace view sec_dera.debt_xyz_by_lei as\n",
    "select S.adsh, S.cik, name, lei, sic, S.fy, N.ddate, uom, max(value) as debt\n",
    "from sec_dera.sub as S\n",
    "     join sec_dera.debt_by_adsh_ddate as AD on S.adsh=AD.adsh\n",
    "     join sec_dera.num as N on AD.adsh=N.adsh and AD.d_ddate=N.ddate\n",
    "where coreg is NULL\n",
    "      and uom!='USD'\n",
    "      and qtrs=0\n",
    "      and (tag='LongTermDebt' or tag='LongTermDebtFairValue'\n",
    "           or tag='LongTermDebtAndCapitalLeaseObligations' or tag='DebtAndCapitalLeaseObligations'\n",
    "           or tag='DebtLongtermAndShorttermCombinedAmount' or tag='SecuredDebt' or tag='UnsecuredDebt'\n",
    "           or tag='OperatingLeaseLiabilityNoncurrent'\n",
    "           or tag='SubordinatedDebt' or tag='ConvertibleDebt'\n",
    "           or tag='LongTermLineOfCredit' or tag='OtherBorrowings' or tag='NotesAndLoansReceivableNetNoncurrent'\n",
    "           -- NOTE: A MORE ACCURATE ANSWER COMES FROM SUMMING THESE TWO AND COMPARING WITH THE ABOVE (ALREADY-COMBINED) DEBT METRICS\n",
    "           or tag='LongTermDebtNoncurrent' or tag='LongTermDebtCurrent')\n",
    "group by S.adsh, S.cik, name, lei, sic, S.fy, N.ddate, uom\n",
    "\"\"\")\n",
    "display(qres.fetchall())\n",
    "\n",
    "qres = engine.execute(\"\"\"\n",
    "create table sec_dera.t_d as\n",
    "select V_USD.*, V_USD.debt as debt_usd\n",
    "from sec_dera.debt_usd_by_lei as V_USD\n",
    "UNION ALL\n",
    "select V_XYZ.*, coalesce(FX.to_usd, FX_1mo.to_usd, FX_2mo.to_usd, FX_3mo.to_usd, FX_avg.to_usd, FX_avg_py.to_usd, FX_avg_1231.to_usd) * V_XYZ.debt as debt_usd\n",
    "from sec_dera.debt_xyz_by_lei as V_XYZ\n",
    "     left join sec_dera.closing_fx FX on V_XYZ.uom=FX.base and V_XYZ.ddate=FX.ddate\n",
    "     left join sec_dera.closing_fx FX_1mo on V_XYZ.uom=FX_1mo.base and date_diff('month', FX_1mo.ddate, V_XYZ.ddate)=1\n",
    "     left join sec_dera.closing_fx FX_2mo on V_XYZ.uom=FX_2mo.base and date_diff('month', FX_2mo.ddate, V_XYZ.ddate)=2\n",
    "     left join sec_dera.closing_fx FX_3mo on V_XYZ.uom=FX_3mo.base and date_diff('month', FX_3mo.ddate, V_XYZ.ddate)=3\n",
    "     left join sec_dera.average_fx FX_avg on V_XYZ.uom=FX_avg.base and V_XYZ.ddate=FX_avg.ddate\n",
    "     left join sec_dera.average_fx FX_avg_py on V_XYZ.uom=FX_avg_py.base and V_XYZ.ddate=date_add('year', 1, FX_avg_py.ddate)\n",
    "     left join sec_dera.average_fx FX_avg_1231 on V_XYZ.uom=FX_avg_1231.base and DATE(cast (year(V_XYZ.ddate)-1 as varchar)||'-12-31')=FX_avg_1231.ddate\n",
    "\"\"\")\n",
    "display(qres.fetchall())"
   ]
  },
  {
   "cell_type": "raw",
   "id": "7744303e-8342-44ba-8e5b-d9a21af402a5",
   "metadata": {},
   "source": [
    "engine.execute(\"select * from sec_dera.t_d where name='INDEPENDENT BANK CORP'\").fetchall()"
   ]
  },
  {
   "cell_type": "raw",
   "id": "544f7563-8c36-4de9-b9d9-dfff6e66ce4f",
   "metadata": {},
   "source": [
    "engine.execute(\"\"\"\n",
    "select count (*), tag from sec_dera.num\n",
    "where tag='LongTermDebt' or tag='LongTermDebtFairValue' or tag='LongTermDebtAndCapitalLeaseObligations'\n",
    "or tag='DebtLongtermAndShorttermCombinedAmount' or tag='SecuredDebt' or tag='UnsecuredDebt' or tag='SubordinatedDebt' or tag='ConvertibleDebt'\n",
    "group by tag order by count (*) desc\n",
    "\"\"\").fetchall()"
   ]
  },
  {
   "cell_type": "raw",
   "id": "15e1c83d-c4ca-4747-aee9-b14b4234fcf9",
   "metadata": {},
   "source": [
    "l = engine.execute(\"\"\"\n",
    "select name, sic, round(value/1000000.0,1), uom, ddate, nciks, aciks\n",
    "from sec_dera.sub as S join sec_dera.num as N\n",
    "on S.adsh=N.adsh\n",
    "where form='10-K' and fy=DATE('2020-01-01') and tag='DebtLongtermAndShorttermCombinedAmount' order by value desc limit 20\n",
    "\"\"\").fetchall()"
   ]
  },
  {
   "cell_type": "raw",
   "id": "1789cde7-c148-4469-952c-f1d2acb27733",
   "metadata": {},
   "source": [
    "l = engine.execute(\"\"\"\n",
    "select name, form, tag, value, uom, fy, qtrs, coreg\n",
    "from sec_dera.sub S join sec_dera.num as N\n",
    "on S.adsh=N.adsh\n",
    "where (form='10-K' or form='20-F') and fy >= ddate and date_add('year', -1, fy) < ddate\n",
    "and (N.tag='Revenues'\n",
    "     or N.tag='RevenueFromContractWithCustomerIncludingAssessedTax'\n",
    "     or N.tag='RevenueFromContractWithCustomerExcludingAssessedTax'\n",
    "     or N.tag='RevenuesNetOfInterestExpense'\n",
    "     or N.tag='RegulatedAndUnregulatedOperatingRevenue'\n",
    "     or N.tag='RegulatedOperatingRevenuePipelines')\n",
    "order by name\n",
    "\"\"\").fetchall()\n",
    "len(l)"
   ]
  },
  {
   "cell_type": "markdown",
   "id": "d1748b64-52d4-4a58-8d5e-183e02eb68de",
   "metadata": {},
   "source": [
    "### Assets"
   ]
  },
  {
   "cell_type": "raw",
   "id": "46f40ef6-29bc-463f-8a85-3ee05ac60a7b",
   "metadata": {},
   "source": [
    "qres = engine.execute(\"\"\"\n",
    "select count (*), form, uom\n",
    "from sec_dera.sub as S join sec_dera.num as N on S.adsh=N.adsh and year(S.fy)=year(N.ddate)\n",
    "where (S.form='10-K' or form='20-F' or form='40-F')\n",
    "        and S.fy>=DATE('2019-01-01')\n",
    "        and coreg is NULL\n",
    "        and qtrs=0\n",
    "        and tag='Assets'\n",
    "group by form, uom\n",
    "order by form, count (*) desc\n",
    "\"\"\")\n",
    "display(qres.fetchall())"
   ]
  },
  {
   "cell_type": "raw",
   "id": "00168d91-5ff4-4934-884c-e54b930cc1e7",
   "metadata": {},
   "source": [
    "qres = engine.execute(\"\"\"\n",
    "select S.adsh, S.cik, name, lei, sic, S.fy, N.ddate, uom, value as assets, FX.value * value as assets_usd\n",
    "from sec_dera.sub as S\n",
    "     join sec_dera.assets_xyz_by_adsh_ddate as AD on S.adsh=AD.adsh\n",
    "     join sec_dera.num as N on AD.adsh=N.adsh and AD.a_ddate=N.ddate\n",
    "     join sec_dera.num as FX on N.ddate=FX.ddate\n",
    "where N.coreg is NULL\n",
    "      and N.qtrs=0\n",
    "      and N.tag='Assets'\n",
    "      and FX.qtrs=0\n",
    "      and FX.tag=\n",
    "\"\"\")\n",
    "print(qres.fetchall())"
   ]
  },
  {
   "cell_type": "code",
   "execution_count": 265,
   "id": "4220baec-9485-4721-a4e9-bbe78487f2c7",
   "metadata": {},
   "outputs": [
    {
     "name": "stdout",
     "output_type": "stream",
     "text": [
      "[(True,)]\n",
      "[(True,)]\n"
     ]
    },
    {
     "data": {
      "text/plain": [
       "[(True,)]"
      ]
     },
     "metadata": {},
     "output_type": "display_data"
    },
    {
     "data": {
      "text/plain": [
       "[(True,)]"
      ]
     },
     "metadata": {},
     "output_type": "display_data"
    },
    {
     "data": {
      "text/plain": [
       "[(12703,)]"
      ]
     },
     "metadata": {},
     "output_type": "display_data"
    }
   ],
   "source": [
    "qres = engine.execute(\"drop table if exists sec_dera.t_a\")\n",
    "print(qres.fetchall())\n",
    "\n",
    "qres = engine.execute(\"\"\"\n",
    "create or replace view sec_dera.assets_by_adsh_ddate as\n",
    "select S.adsh, fy, max(ddate) as d_ddate\n",
    "from sec_dera.sub as S join sec_dera.num as N on S.adsh=N.adsh and year(S.fy)=year(N.ddate)\n",
    "where (S.form='10-K' or S.form='20-F' or S.form='40-F')\n",
    "        and S.fy>=DATE('2019-01-01')\n",
    "        and coreg is NULL\n",
    "        and qtrs=0\n",
    "        and tag='Assets'\n",
    "group by S.adsh, fy\n",
    "\"\"\")\n",
    "display(qres.fetchall())\n",
    "\n",
    "qres = engine.execute(\"\"\"\n",
    "create or replace view sec_dera.assets_usd_by_lei as\n",
    "select S.adsh, S.cik, name, lei, sic, S.fy, N.ddate, uom, max(value) as assets\n",
    "from sec_dera.sub as S\n",
    "     join sec_dera.assets_by_adsh_ddate as AD on S.adsh=AD.adsh\n",
    "     join sec_dera.num as N on AD.adsh=N.adsh and AD.d_ddate=N.ddate\n",
    "where coreg is NULL\n",
    "      and uom='USD'\n",
    "      and qtrs=0\n",
    "      and tag='Assets'\n",
    "group by S.adsh, S.cik, name, lei, sic, S.fy, N.ddate, uom\n",
    "\"\"\")\n",
    "display(qres.fetchall())\n",
    "\n",
    "qres = engine.execute(\"\"\"\n",
    "create or replace view sec_dera.assets_xyz_by_lei as\n",
    "select S.adsh, S.cik, name, lei, sic, S.fy, N.ddate, uom, max(value) as assets\n",
    "from sec_dera.sub as S\n",
    "     join sec_dera.assets_by_adsh_ddate as AD on S.adsh=AD.adsh\n",
    "     join sec_dera.num as N on AD.adsh=N.adsh and AD.d_ddate=N.ddate\n",
    "where coreg is NULL\n",
    "      and uom!='USD'\n",
    "      and qtrs=0\n",
    "      and tag='Assets'\n",
    "group by S.adsh, S.cik, name, lei, sic, S.fy, N.ddate, uom\n",
    "\"\"\")\n",
    "display(qres.fetchall())\n",
    "\n",
    "qres = engine.execute(\"\"\"\n",
    "create table sec_dera.t_a as\n",
    "select V_USD.*, V_USD.assets as assets_usd\n",
    "from sec_dera.assets_usd_by_lei as V_USD\n",
    "UNION ALL\n",
    "select V_XYZ.*, coalesce(FX.to_usd, FX_1mo.to_usd, FX_2mo.to_usd, FX_3mo.to_usd, FX_avg.to_usd, FX_avg_py.to_usd, FX_avg_1231.to_usd) * V_XYZ.assets as assets_usd\n",
    "from sec_dera.assets_xyz_by_lei as V_XYZ\n",
    "     left join sec_dera.closing_fx FX on V_XYZ.uom=FX.base and V_XYZ.ddate=FX.ddate\n",
    "     left join sec_dera.closing_fx FX_1mo on V_XYZ.uom=FX_1mo.base and date_diff('month', FX_1mo.ddate, V_XYZ.ddate)=1\n",
    "     left join sec_dera.closing_fx FX_2mo on V_XYZ.uom=FX_2mo.base and date_diff('month', FX_2mo.ddate, V_XYZ.ddate)=2\n",
    "     left join sec_dera.closing_fx FX_3mo on V_XYZ.uom=FX_3mo.base and date_diff('month', FX_3mo.ddate, V_XYZ.ddate)=3\n",
    "     left join sec_dera.average_fx FX_avg on V_XYZ.uom=FX_avg.base and V_XYZ.ddate=FX_avg.ddate\n",
    "     left join sec_dera.average_fx FX_avg_py on V_XYZ.uom=FX_avg_py.base and V_XYZ.ddate=date_add('year', 1, FX_avg_py.ddate)\n",
    "     left join sec_dera.average_fx FX_avg_1231 on V_XYZ.uom=FX_avg_1231.base and DATE(cast (year(V_XYZ.ddate)-1 as varchar)||'-12-31')=FX_avg_1231.ddate\n",
    "\"\"\")\n",
    "display(qres.fetchall())"
   ]
  },
  {
   "cell_type": "raw",
   "id": "d25f594a-1846-48aa-982f-7ff41914b4be",
   "metadata": {},
   "source": []
  },
  {
   "cell_type": "code",
   "execution_count": 269,
   "id": "adb025fa-9ee6-4b2d-9eeb-8cb6fb5f5f92",
   "metadata": {},
   "outputs": [
    {
     "data": {
      "text/plain": [
       "[(True,)]"
      ]
     },
     "metadata": {},
     "output_type": "display_data"
    },
    {
     "data": {
      "text/plain": [
       "7853"
      ]
     },
     "execution_count": 269,
     "metadata": {},
     "output_type": "execute_result"
    }
   ],
   "source": [
    "qres = engine.execute(\"\"\"\n",
    "create or replace view sec_dera.financials_by_lei as\n",
    "select R.name, R.lei,\n",
    "       tname,\n",
    "       R.fy, R.ddate, R.sic, revenue_usd, cash_usd, debt_usd, assets_usd, market_cap_usd\n",
    "from sec_dera.t_r as R\n",
    "     left join sec_dera.t_c as C on R.cik=C.cik and R.adsh=C.adsh\n",
    "     left join sec_dera.t_d as D on R.cik=D.cik and R.adsh=D.adsh\n",
    "     left join sec_dera.t_a as A on R.cik=A.cik and R.adsh=A.adsh\n",
    "     left join sec_dera.t_f as F on R.cik=F.cik and R.adsh=F.adsh\n",
    "where tname not like '%-%'\n",
    "\"\"\")\n",
    "display(qres.fetchall())\n",
    "\n",
    "qres = engine.execute(\"\"\"\n",
    "select * from sec_dera.financials_by_lei\n",
    "\"\"\")\n",
    "l = qres.fetchall()\n",
    "len(l)"
   ]
  },
  {
   "cell_type": "code",
   "execution_count": 272,
   "id": "b55b602d-5824-4814-a7d9-b14971969865",
   "metadata": {},
   "outputs": [
    {
     "name": "stdout",
     "output_type": "stream",
     "text": [
      "73\n"
     ]
    },
    {
     "data": {
      "text/plain": [
       "[('PORTLAND GENERAL ELECTRIC CO', 'GJOUP9M7C39GLSK9R870', 'por', '2020-01-01 00:00:00.000', '2020-12-31 00:00:00.000', 4911, 2151000000.0, None, 3808000000.0, 9069000000.0, 3725882304.0),\n",
       " ('ORMAT TECHNOLOGIES, INC.', '5493000TSHHWY24VHM09', 'ora', '2020-01-01 00:00:00.000', '2020-12-31 00:00:00.000', 4911, 705342000.0, 448252000.0, 1474174000.0, 3888987000.0, 2544589505.0),\n",
       " ('OTTER TAIL CORP', '549300HHVBQRQUVKKD91', 'ottr', '2020-01-01 00:00:00.000', '2020-12-31 00:00:00.000', 4911, 890107000.0, 1163000.0, 845516000.0, 2578354000.0, 1546518975.0),\n",
       " ('VISTRA ENERGY CORP.', '549300KP43CPCUJOOG15', 'vst', '2019-01-01 00:00:00.000', '2019-12-31 00:00:00.000', 4911, 11809000000.0, 300000000.0, 10102000000.0, 26616000000.0, 8654325784.0),\n",
       " ('DOMINION ENERGY, INC', 'ILUL7B6Z54MRYCF6H308', 'dcue', '2020-01-01 00:00:00.000', '2020-12-31 00:00:00.000', 4911, 14172000000.0, 172000000.0, 33957000000.0, 95905000000.0, 68000000000.0),\n",
       " ('DOMINION ENERGY, INC', 'ILUL7B6Z54MRYCF6H308', 'd', '2020-01-01 00:00:00.000', '2020-12-31 00:00:00.000', 4911, 14172000000.0, 172000000.0, 33957000000.0, 95905000000.0, 68000000000.0),\n",
       " ('PPL CORP', '9N3UAJSNOUXFKQLF3V18', 'ppl', '2019-01-01 00:00:00.000', '2019-12-31 00:00:00.000', 4911, 7769000000.0, 815000000.0, 21893000000.0, 45680000000.0, 22384264788.0),\n",
       " ('EDISON INTERNATIONAL', '549300I7ROF15MAEVP56', 'eix', '2019-01-01 00:00:00.000', '2019-12-31 00:00:00.000', 4911, 12347000000.0, 68000000.0, 20137000000.0, 64382000000.0, 22000000000.0),\n",
       " ('DTE ENERGY CO', '549300IX8SD6XXD71I78', 'dtw', '2020-01-01 00:00:00.000', '2020-12-31 00:00:00.000', 4911, 12177000000.0, 514000000.0, 19603000000.0, 45496000000.0, 20500000000.0),\n",
       " ('DTE ENERGY CO', '549300IX8SD6XXD71I78', 'dtb', '2020-01-01 00:00:00.000', '2020-12-31 00:00:00.000', 4911, 12177000000.0, 514000000.0, 19603000000.0, 45496000000.0, 20500000000.0),\n",
       " ('DTE ENERGY CO', '549300IX8SD6XXD71I78', 'dty', '2020-01-01 00:00:00.000', '2020-12-31 00:00:00.000', 4911, 12177000000.0, 514000000.0, 19603000000.0, 45496000000.0, 20500000000.0),\n",
       " ('DTE ENERGY CO', '549300IX8SD6XXD71I78', 'dte', '2020-01-01 00:00:00.000', '2020-12-31 00:00:00.000', 4911, 12177000000.0, 514000000.0, 19603000000.0, 45496000000.0, 20500000000.0),\n",
       " ('DTE ENERGY CO', '549300IX8SD6XXD71I78', 'dtp', '2020-01-01 00:00:00.000', '2020-12-31 00:00:00.000', 4911, 12177000000.0, 514000000.0, 19603000000.0, 45496000000.0, 20500000000.0),\n",
       " ('HAWAIIAN ELECTRIC INDUSTRIES INC', 'JJ8FWOCWCV22X7GUPJ23', 'he', '2020-01-01 00:00:00.000', '2020-12-31 00:00:00.000', 4911, 2579775000.0, 341421000.0, 2119129000.0, 15004007000.0, 3937071331.0),\n",
       " ('SOUTHERN CO', '549300FC3G3YU2FBZD92', 'sojd', '2020-01-01 00:00:00.000', '2020-12-31 00:00:00.000', 4911, 21097000000.0, 1065000000.0, 45073000000.0, 122935000000.0, 54800000000.0),\n",
       " ('SOUTHERN CO', '549300FC3G3YU2FBZD92', 'so', '2020-01-01 00:00:00.000', '2020-12-31 00:00:00.000', 4911, 21097000000.0, 1065000000.0, 45073000000.0, 122935000000.0, 54800000000.0),\n",
       " ('SOUTHERN CO', '549300FC3G3YU2FBZD92', 'soln', '2020-01-01 00:00:00.000', '2020-12-31 00:00:00.000', 4911, 21097000000.0, 1065000000.0, 45073000000.0, 122935000000.0, 54800000000.0),\n",
       " ('SOUTHERN CO', '549300FC3G3YU2FBZD92', 'sojc', '2020-01-01 00:00:00.000', '2020-12-31 00:00:00.000', 4911, 21097000000.0, 1065000000.0, 45073000000.0, 122935000000.0, 54800000000.0),\n",
       " ('SOUTHERN CO', '549300FC3G3YU2FBZD92', 'soje', '2020-01-01 00:00:00.000', '2020-12-31 00:00:00.000', 4911, 21097000000.0, 1065000000.0, 45073000000.0, 122935000000.0, 54800000000.0),\n",
       " ('CLEARWAY ENERGY, INC.', '549300C841GHSUPKR373', 'cwen', '2019-01-01 00:00:00.000', '2019-12-31 00:00:00.000', 4911, 1032000000.0, 155000000.0, 4956000000.0, 9700000000.0, 1788899961.0),\n",
       " ('OTTER TAIL CORP', '549300HHVBQRQUVKKD91', 'ottr', '2019-01-01 00:00:00.000', '2019-12-31 00:00:00.000', 4911, 919503000.0, 21199000.0, 695764000.0, 2273595000.0, 2040017347.0),\n",
       " ('BLACK HILLS CORP', '3MGELCRSTNSAMJ962671', 'bkh', '2019-01-01 00:00:00.000', '2019-12-31 00:00:00.000', 4911, 1734900000.0, 9777000.0, 3140096000.0, 7558457000.0, 4727278183.0),\n",
       " ('NEXTERA ENERGY PARTNERS, LP', '5493008F4ZOQFNG3WN54', 'nep', '2020-01-01 00:00:00.000', '2020-12-31 00:00:00.000', 4911, 917000000.0, 108000000.0, 3388000000.0, 12562000000.0, 3270074217.0),\n",
       " ('PORTLAND GENERAL ELECTRIC CO', 'GJOUP9M7C39GLSK9R870', 'por', '2019-01-01 00:00:00.000', '2019-12-31 00:00:00.000', 4911, 2123000000.0, 30000000.0, 3039000000.0, 8394000000.0, 4823580272.0),\n",
       " ('IDACORP INC', 'N134NUJDWN8UEFA8B673', 'ida', '2019-01-01 00:00:00.000', '2019-12-31 00:00:00.000', 4911, 1346383000.0, 217254000.0, 1836659000.0, 6641201000.0, 5017481695.0),\n",
       " ('CLEARWAY ENERGY, INC.', '549300C841GHSUPKR373', 'cwen', '2020-01-01 00:00:00.000', '2020-12-31 00:00:00.000', 4911, 1199000000.0, 268000000.0, 7043000000.0, 10592000000.0, 1786941297.0),\n",
       " ('VISTRA CORP.', '549300KP43CPCUJOOG15', 'vst', '2020-01-01 00:00:00.000', '2020-12-31 00:00:00.000', 4911, 11443000000.0, 406000000.0, 9235000000.0, 25208000000.0, 9084469142.0),\n",
       " ('PPL CORP', '9N3UAJSNOUXFKQLF3V18', 'ppl', '2020-01-01 00:00:00.000', '2020-12-31 00:00:00.000', 4911, 7607000000.0, 708000000.0, 23127000000.0, 48116000000.0, 19865342074.0),\n",
       " ('ENTERGY CORP', '4XM3TW50JULSLG8BNC79', 'etr', '2020-01-01 00:00:00.000', '2020-12-31 00:00:00.000', 4911, 10113636000.0, 1759099000.0, 24813818000.0, 58239212000.0, 18800000000.0),\n",
       " ('OGE ENERGY CORP.', 'CE5OG6JPOZMDSA0LAQ19', 'oge', '2019-01-01 00:00:00.000', '2019-12-31 00:00:00.000', 4911, 2231600000.0, 0.0, 3195200000.0, 11024300000.0, 8519482559.0),\n",
       " ('NRG ENERGY, INC.', '5E2UPK5SW04M13XY7I38', 'nrg', '2019-01-01 00:00:00.000', '2019-12-31 00:00:00.000', 4911, 9821000000.0, 345000000.0, 6042000000.0, 12531000000.0, 7893678070.0),\n",
       " ('HAWAIIAN ELECTRIC INDUSTRIES INC', 'JJ8FWOCWCV22X7GUPJ23', 'he', '2019-01-01 00:00:00.000', '2019-12-31 00:00:00.000', 4911, 2874601000.0, 196813000.0, 1964365000.0, 13745251000.0, 4745752027.0),\n",
       " ('NEXTERA ENERGY PARTNERS, LP', '5493008F4ZOQFNG3WN54', 'nep', '2019-01-01 00:00:00.000', '2019-12-31 00:00:00.000', 4911, 855000000.0, 128000000.0, 4144000000.0, 12256000000.0, 2625980436.0),\n",
       " ('EVERSOURCE ENERGY', 'SJ7XXD41SQU3ZNWUJ746', 'es', '2020-01-01 00:00:00.000', '2020-12-31 00:00:00.000', 4911, 8904430000.0, 106599000.0, 15125876000.0, 46099598000.0, 28496151703.0),\n",
       " ('PNM RESOURCES INC', '5493003JOBJGLZSDDQ28', 'pnm', '2020-01-01 00:00:00.000', '2020-12-31 00:00:00.000', 4911, 1523012000.0, 47928000.0, 2719632000.0, 7939854000.0, 3061885307.0),\n",
       " ('EVERSOURCE ENERGY', 'SJ7XXD41SQU3ZNWUJ746', 'es', '2019-01-01 00:00:00.000', '2019-12-31 00:00:00.000', 4911, 8526470000.0, 15432000.0, 13770828000.0, 41123915000.0, 24486439602.0),\n",
       " ('AVANGRID, INC.', '549300OX0Q38NLSKPB49', 'agr', '2019-01-01 00:00:00.000', '2019-12-31 00:00:00.000', 4911, 6338000000.0, 178000000.0, 8168000000.0, 34416000000.0, 2836000000.0),\n",
       " ('PINNACLE WEST CAPITAL CORP', 'TWSEY0NEDUDCKS27AH81', 'pnw', '2019-01-01 00:00:00.000', '2019-12-31 00:00:00.000', 4911, 3471209000.0, 10283000.0, 6194392000.0, 18479247000.0, 10536165750.0),\n",
       " ('NEXTERA ENERGY INC', 'UMI46YPGBLUE4VGNNT48', 'nee', '2020-01-01 00:00:00.000', '2020-12-31 00:00:00.000', 4911, 17997000000.0, 1105000000.0, 41944000000.0, 127684000000.0, 117405158883.0),\n",
       " ('IDACORP INC', 'N134NUJDWN8UEFA8B673', 'ida', '2020-01-01 00:00:00.000', '2020-12-31 00:00:00.000', 4911, 1350729000.0, 275116000.0, 2000414000.0, 7095244000.0, 4376761183.0),\n",
       " ('PINNACLE WEST CAPITAL CORP', 'TWSEY0NEDUDCKS27AH81', 'pnw', '2020-01-01 00:00:00.000', '2020-12-31 00:00:00.000', 4911, 3586982000.0, 59968000.0, 7612841000.0, 20020421000.0, 8231813171.0),\n",
       " ('VETANOVA INC.', None, 'vtna', '2020-01-01 00:00:00.000', '2020-12-31 00:00:00.000', 4911, 13125.0, None, None, 78913.0, 1524341.0),\n",
       " ('SOUTHERN CO', '549300FC3G3YU2FBZD92', 'sojd', '2019-01-01 00:00:00.000', '2019-12-31 00:00:00.000', 4911, 21419000000.0, 1975000000.0, 41798000000.0, 118700000000.0, 57800000000.0),\n",
       " ('SOUTHERN CO', '549300FC3G3YU2FBZD92', 'soje', '2019-01-01 00:00:00.000', '2019-12-31 00:00:00.000', 4911, 21419000000.0, 1975000000.0, 41798000000.0, 118700000000.0, 57800000000.0),\n",
       " ('SOUTHERN CO', '549300FC3G3YU2FBZD92', 'sojc', '2019-01-01 00:00:00.000', '2019-12-31 00:00:00.000', 4911, 21419000000.0, 1975000000.0, 41798000000.0, 118700000000.0, 57800000000.0),\n",
       " ('SOUTHERN CO', '549300FC3G3YU2FBZD92', 'soln', '2019-01-01 00:00:00.000', '2019-12-31 00:00:00.000', 4911, 21419000000.0, 1975000000.0, 41798000000.0, 118700000000.0, 57800000000.0),\n",
       " ('SOUTHERN CO', '549300FC3G3YU2FBZD92', 'so', '2019-01-01 00:00:00.000', '2019-12-31 00:00:00.000', 4911, 21419000000.0, 1975000000.0, 41798000000.0, 118700000000.0, 57800000000.0),\n",
       " ('DTE ENERGY CO', '549300IX8SD6XXD71I78', 'dte', '2019-01-01 00:00:00.000', '2019-12-31 00:00:00.000', 4911, 12669000000.0, 93000000.0, 16755000000.0, 41882000000.0, 23100000000.0),\n",
       " ('DTE ENERGY CO', '549300IX8SD6XXD71I78', 'dtb', '2019-01-01 00:00:00.000', '2019-12-31 00:00:00.000', 4911, 12669000000.0, 93000000.0, 16755000000.0, 41882000000.0, 23100000000.0),\n",
       " ('DTE ENERGY CO', '549300IX8SD6XXD71I78', 'dtp', '2019-01-01 00:00:00.000', '2019-12-31 00:00:00.000', 4911, 12669000000.0, 93000000.0, 16755000000.0, 41882000000.0, 23100000000.0),\n",
       " ('DTE ENERGY CO', '549300IX8SD6XXD71I78', 'dty', '2019-01-01 00:00:00.000', '2019-12-31 00:00:00.000', 4911, 12669000000.0, 93000000.0, 16755000000.0, 41882000000.0, 23100000000.0),\n",
       " ('DTE ENERGY CO', '549300IX8SD6XXD71I78', 'dtw', '2019-01-01 00:00:00.000', '2019-12-31 00:00:00.000', 4911, 12669000000.0, 93000000.0, 16755000000.0, 41882000000.0, 23100000000.0),\n",
       " ('NEXTERA ENERGY INC', 'UMI46YPGBLUE4VGNNT48', 'nee', '2019-01-01 00:00:00.000', '2019-12-31 00:00:00.000', 4911, 19204000000.0, 600000000.0, 37543000000.0, 117691000000.0, 97905404884.0),\n",
       " ('DOMINION ENERGY, INC', 'ILUL7B6Z54MRYCF6H308', 'd', '2019-01-01 00:00:00.000', '2019-12-31 00:00:00.000', 4911, 16572000000.0, 166000000.0, 33824000000.0, 103823000000.0, 62000000000.0),\n",
       " ('DOMINION ENERGY, INC', 'ILUL7B6Z54MRYCF6H308', 'dcue', '2019-01-01 00:00:00.000', '2019-12-31 00:00:00.000', 4911, 16572000000.0, 166000000.0, 33824000000.0, 103823000000.0, 62000000000.0),\n",
       " ('PNM RESOURCES INC', '5493003JOBJGLZSDDQ28', 'pnm', '2019-01-01 00:00:00.000', '2019-12-31 00:00:00.000', 4911, 1457603000.0, 3833000.0, 2517449000.0, 7298774000.0, 4055165998.0),\n",
       " ('BLACK HILLS CORP', '3MGELCRSTNSAMJ962671', 'bkh', '2020-01-01 00:00:00.000', '2020-12-31 00:00:00.000', 4911, 1696941000.0, 6356000.0, 3528100000.0, 8088786000.0, 3528768075.0),\n",
       " ('ORMAT TECHNOLOGIES, INC.', '5493000TSHHWY24VHM09', 'ora', '2019-01-01 00:00:00.000', '2019-12-31 00:00:00.000', 4911, 746044000.0, 71173000.0, 1167912000.0, 3250494000.0, 2527613074.0),\n",
       " ('AMERICAN ELECTRIC POWER CO INC', '1B4S6S7G0TW5EE83BO58', 'aeppz', '2020-01-01 00:00:00.000', '2020-12-31 00:00:00.000', 4911, 14918500000.0, 392700000.0, 37457000000.0, 80757200000.0, 39549558010.0),\n",
       " ('AMERICAN ELECTRIC POWER CO INC', '1B4S6S7G0TW5EE83BO58', 'aeppl', '2020-01-01 00:00:00.000', '2020-12-31 00:00:00.000', 4911, 14918500000.0, 392700000.0, 37457000000.0, 80757200000.0, 39549558010.0),\n",
       " ('AMERICAN ELECTRIC POWER CO INC', '1B4S6S7G0TW5EE83BO58', 'aep', '2020-01-01 00:00:00.000', '2020-12-31 00:00:00.000', 4911, 14918500000.0, 392700000.0, 37457000000.0, 80757200000.0, 39549558010.0),\n",
       " ('CENTERPOINT ENERGY INC', '21TPXMRRHFKOBHDC8J74', 'cnp', '2020-01-01 00:00:00.000', '2020-12-31 00:00:00.000', 4911, 7418000000.0, 147000000.0, 11521000000.0, 33471000000.0, 10142624694.0),\n",
       " ('FIRSTENERGY CORP', '549300SVYJS666PQJH88', 'fe', '2019-01-01 00:00:00.000', '2019-12-31 00:00:00.000', 4911, 11035000000.0, 627000000.0, 19618000000.0, 42301000000.0, 22724895037.0),\n",
       " ('AVANGRID, INC.', '549300OX0Q38NLSKPB49', 'agr', '2020-01-01 00:00:00.000', '2020-12-31 00:00:00.000', 4911, 6320000000.0, 1463000000.0, 12166000000.0, 37823000000.0, 2374000000.0),\n",
       " ('AMERICAN ELECTRIC POWER CO INC', '1B4S6S7G0TW5EE83BO58', 'aeppl', '2019-01-01 00:00:00.000', '2019-12-31 00:00:00.000', 4911, 15561400000.0, 246800000.0, 30172000000.0, 75892300000.0, 43491855142.0),\n",
       " ('AMERICAN ELECTRIC POWER CO INC', '1B4S6S7G0TW5EE83BO58', 'aeppz', '2019-01-01 00:00:00.000', '2019-12-31 00:00:00.000', 4911, 15561400000.0, 246800000.0, 30172000000.0, 75892300000.0, 43491855142.0),\n",
       " ('AMERICAN ELECTRIC POWER CO INC', '1B4S6S7G0TW5EE83BO58', 'aep', '2019-01-01 00:00:00.000', '2019-12-31 00:00:00.000', 4911, 15561400000.0, 246800000.0, 30172000000.0, 75892300000.0, 43491855142.0),\n",
       " ('CENTERPOINT ENERGY INC', '21TPXMRRHFKOBHDC8J74', 'cnp', '2019-01-01 00:00:00.000', '2019-12-31 00:00:00.000', 4911, 12301000000.0, 241000000.0, 14244000000.0, 35439000000.0, 14295717409.0),\n",
       " ('NRG ENERGY, INC.', '5E2UPK5SW04M13XY7I38', 'nrg', '2020-01-01 00:00:00.000', '2020-12-31 00:00:00.000', 4911, 9093000000.0, 3905000000.0, 8859000000.0, 14902000000.0, 6941658699.0),\n",
       " ('FIRSTENERGY CORP', '549300SVYJS666PQJH88', 'fe', '2020-01-01 00:00:00.000', '2020-12-31 00:00:00.000', 4911, 10790000000.0, 1734000000.0, 22131000000.0, 44464000000.0, 20967401361.0),\n",
       " ('OGE ENERGY CORP.', 'CE5OG6JPOZMDSA0LAQ19', 'oge', '2020-01-01 00:00:00.000', '2020-12-31 00:00:00.000', 4911, 2122300000.0, 1100000.0, 3494400000.0, 10718800000.0, 6077156282.0),\n",
       " ('ENTERGY CORP', '4XM3TW50JULSLG8BNC79', 'etr', '2019-01-01 00:00:00.000', '2019-12-31 00:00:00.000', 4911, 10878673000.0, 425722000.0, 19059950000.0, 51723912000.0, 20500000000.0),\n",
       " ('EDISON INTERNATIONAL', '549300I7ROF15MAEVP56', 'eix', '2020-01-01 00:00:00.000', '2020-12-31 00:00:00.000', 4911, 13578000000.0, 87000000.0, 23824000000.0, 69372000000.0, 20500000000.0)]"
      ]
     },
     "metadata": {},
     "output_type": "display_data"
    }
   ],
   "source": [
    "y = [x for x in l if x[5] == 4911]\n",
    "print(len(y))\n",
    "display(y)"
   ]
  },
  {
   "cell_type": "raw",
   "id": "01738587-c8db-4e3f-8946-e5e7b0572841",
   "metadata": {},
   "source": [
    "engine.execute(\"select * from sec_dera.sub where cik=1174169 and form='40-F'\").fetchall()"
   ]
  },
  {
   "cell_type": "raw",
   "id": "f6039398-97d0-4e57-a52d-c99f41da8717",
   "metadata": {},
   "source": [
    "engine.execute(\"select * from sec_dera.num as R where (R.adsh='0001174169-20-000018' or R.adsh='0001174169-21-000012') and tag='RevenueFromContractWithCustomerExcludingAssessedTax'\").fetchall()"
   ]
  },
  {
   "cell_type": "raw",
   "id": "d6e96d70-95bb-4d04-81a0-853fa1431117",
   "metadata": {},
   "source": [
    "engine.execute(\"select * from sec_dera.t_r where adsh='0001004315-21-000067' or adsh='0001004315-20-000053'\").fetchall()"
   ]
  },
  {
   "cell_type": "code",
   "execution_count": 275,
   "id": "77cb9245-858d-4d88-9202-677cb901b449",
   "metadata": {},
   "outputs": [
    {
     "name": "stdout",
     "output_type": "stream",
     "text": [
      "93\n"
     ]
    },
    {
     "data": {
      "text/plain": [
       "[('2NUNNB7D43COUIRE5295', 'AES Corp.', 'AES CORP', '2020-01-01', 9660000000.0),\n",
       " ('549300T12EZ1F6PWWU29', 'Alcoa Corp.', 'ALCOA CORP', '2020-01-01', 9286000000.0),\n",
       " ('549300K5VIUTJXQL7X75', 'Algonquin Power & Utilities Corp.', 'ALGONQUIN POWER & UTILITIES CORP.', '2020-01-01', 1677058000.0),\n",
       " ('549300NNLSIMY6Z8OT86', 'Allete, Inc.', 'ALLETE INC', '2020-01-01', 1169100000.0),\n",
       " ('5493009ML300G373MZ12', 'Alliant Energy', 'ALLIANT ENERGY CORP', '2020-01-01', 3416000000.0),\n",
       " ('XRZQ5S7HYJFPHJ78L959', 'Ameren Corp.', 'AMEREN CORP', '2020-01-01', 5794000000.0),\n",
       " ('1B4S6S7G0TW5EE83BO58', 'American Electric Power Co., Inc.', 'AMERICAN ELECTRIC POWER CO INC', '2020-01-01', 14918500000.0),\n",
       " ('529900L26LIS2V8PWM23', 'American States Water', 'AMERICAN STATES WATER CO', '2020-01-01', 488243000.0),\n",
       " ('1B4S6S7G0TW5EE83BO58', 'American Transmission Co. LLC', 'AMERICAN ELECTRIC POWER CO INC', '2020-01-01', 14918500000.0),\n",
       " ('2138004PVNAV1E9SZP35', 'Antin Infrastructure Partners', None, None, None),\n",
       " ('549300GW1DWMX7FLDM29', 'ArcLight Capital Partners LLC', None, None, None),\n",
       " ('549300OX0Q38NLSKPB49', 'Avangrid, Inc.', 'AVANGRID, INC.', '2020-01-01', 6320000000.0),\n",
       " ('Q0IK63NITJD6RJ47SW96', 'Avista Corp.', 'AVISTA CORP', '2020-01-01', 1321891000.0),\n",
       " ('CT4UIJ3TUKGYYHMENQ17', 'Balfour Beatty Infrastructure Partners, L.P.', None, None, None),\n",
       " ('5493002CLOJ5KYT5GB16', 'Basin Electric Power Coop.', None, None, None),\n",
       " ('5493000C01ZX7D35SD85', 'Berkshire Hathaway, Inc.', 'BERKSHIRE HATHAWAY INC', '2020-01-01', 245510000000.0),\n",
       " ('COQ1W8HBTZOC1ADPR143', 'Big Rivers Electric Corp.', None, None, None),\n",
       " ('3MGELCRSTNSAMJ962671', 'Black Hills Corp.', 'BLACK HILLS CORP', '2020-01-01', 1696941000.0),\n",
       " ('C6J3FGIWG6MBDGTE8F80', 'Brookfield Asset Management', 'BROOKFIELD ASSET MANAGEMENT INC.', '2020-01-01', 62752000000.0),\n",
       " ('549300VR7GQZV6W7OR57', 'Buckeye Power, Inc.', None, None, None),\n",
       " ('549300IA9XFBAGNIBW29', 'CMS Energy Corp.', 'CMS ENERGY CORP', '2020-01-01', 6680000000.0),\n",
       " ('8YQ2GSDWYZXO2EDN3511', 'California Independent System Operator Corp.', 'PG&E CORP', '2020-01-01', 18469000000.0),\n",
       " ('21TPXMRRHFKOBHDC8J74', 'CenterPoint Energy, Inc.', 'CENTERPOINT ENERGY INC', '2020-01-01', 7418000000.0),\n",
       " ('5493008ORX814MK1WM19', 'Citizens Corp.', None, None, None),\n",
       " ('549300I9GWXX4SYOE358', 'City of Holyoke', None, None, None),\n",
       " ('5493002H80P81B3HXL31', 'Cleco Corp.', 'CLECO CORPORATE HOLDINGS LLC', '2020-01-01', 1498146000.0),\n",
       " ('54930033SBW53OO8T749', 'Consolidated Edison, Inc.', 'CONSOLIDATED EDISON INC', '2020-01-01', 12246000000.0),\n",
       " ('549300SPFPI3X8V86Z21', 'Corning Natural Gas Holding Corp.', 'CORNING NATURAL GAS HOLDING CORP', '2020-01-01', 32385885.0),\n",
       " ('549300IX8SD6XXD71I78', 'DTE Energy', 'DTE ENERGY CO', '2020-01-01', 12177000000.0),\n",
       " ('ILUL7B6Z54MRYCF6H308', 'Dominion Energy', 'DOMINION ENERGY, INC', '2020-01-01', 14172000000.0),\n",
       " ('I1BZKREC126H0VB1BL91', 'Duke Energy Corp.', 'DUKE ENERGY CORP', '2020-01-01', 23868000000.0),\n",
       " ('549300I7ROF15MAEVP56', 'Edison International', 'EDISON INTERNATIONAL', '2020-01-01', 13578000000.0),\n",
       " ('NQZVQT2P5IUF2PGA1Q48', 'Emera Inc.', 'EMERA INC', '2020-01-01', 4283656688.371364),\n",
       " ('549300SULPFDEWWFVD15', 'Energir Inc.', None, None, None),\n",
       " ('4XM3TW50JULSLG8BNC79', 'Entergy Corp.', 'ENTERGY CORP', '2020-01-01', 10113636000.0),\n",
       " ('549300PGTHDQY6PSUI61', 'Evergy, Inc.', 'EVERGY, INC.', '2020-01-01', 4913400000.0),\n",
       " ('SJ7XXD41SQU3ZNWUJ746', 'Eversource Energy', 'EVERSOURCE ENERGY', '2020-01-01', 8904430000.0),\n",
       " ('3SOUA6IRML7435B56G12', 'Exelon Corp.', 'EXELON CORP', '2020-01-01', 33039000000.0),\n",
       " ('549300SVYJS666PQJH88', 'FirstEnergy Corp.', 'FIRSTENERGY CORP', '2020-01-01', 10790000000.0),\n",
       " ('549300MQYQ9Y065XPR71', 'Fortis, Inc.', 'FORTIS INC.', '2020-01-01', 6951411643.770094),\n",
       " ('549300IRDTHJQ1PVET45', 'Freeport-McMoRan, Inc.', 'FREEPORT-MCMORAN INC', '2020-01-01', 14198000000.0),\n",
       " ('549300ZCZ76HYCS0H445', 'Frontier Communications Corp.', 'FRONTIER COMMUNICATIONS CORP', '2020-01-01', 7155000000.0),\n",
       " ('5493007UJR2NMSZPGP02', 'Golden Spread Electric Coop., Inc', None, None, None),\n",
       " ('JJ8FWOCWCV22X7GUPJ23', 'Hawaiian Electric Industries, Inc.', 'HAWAIIAN ELECTRIC INDUSTRIES INC', '2020-01-01', 2579775000.0),\n",
       " ('UASVRYNXNK17ULIGK870', 'Hess Corp.', 'HESS CORP', '2020-01-01', 4804000000.0),\n",
       " ('N134NUJDWN8UEFA8B673', 'IDACORP, Inc.', 'IDACORP INC', '2020-01-01', 1350729000.0),\n",
       " ('549300FIA0OYFDEISW66', 'ISO New England Inc.', None, None, None),\n",
       " ('5QK37QC7NWOJ8D7WVQ45', 'Iberdrola, S.A.', None, None, None),\n",
       " ('549300NMCKSMDPKQ0502', 'Invenergy LLC', None, None, None),\n",
       " ('0T6SBMK3JTBI1JR36794', 'MDU Resources Group', 'MDU RESOURCES GROUP INC', '2020-01-01', 5532750000.0),\n",
       " ('549300QIEIVG0JUPV270', 'Midcontinent Independent System Operator, Inc', None, None, None),\n",
       " ('549300O4B5CVWMKUES27', 'Midwest Energy Inc.', 'MIDWEST ENERGY EMISSIONS CORP.', '2020-01-01', 8158448.0),\n",
       " ('549300XB5UQO7U766C18', 'Milliken & Co.', None, None, None),\n",
       " ('5E2UPK5SW04M13XY7I38', 'NRG Energy Inc.', 'NRG ENERGY, INC.', '2020-01-01', 9093000000.0),\n",
       " ('8R95QZMKZLJX5Q2XR704', 'National Grid plc', 'NATIONAL GRID PLC', '2020-01-01', 17981021141.975307),\n",
       " ('5493003TZVX6QJ0PBO15', 'New Hampshire Electric Coop., Inc.', None, None, None),\n",
       " ('5493004A26ERKLO7Y203', 'New York Independent System Operator', None, None, None),\n",
       " ('549300D8GOWWH0SJB189', 'NiSource Inc.', 'NISOURCE INC.', '2020-01-01', 4473200000.0),\n",
       " ('3BPWMBHR1R9SHUN7J795', 'NorthWestern Corp.', 'NORTHWESTERN CORP', '2020-01-01', 1206800000.0),\n",
       " ('CE5OG6JPOZMDSA0LAQ19', 'OGE Energy Corp.', 'OGE ENERGY CORP.', '2020-01-01', 2122300000.0),\n",
       " ('3EERXCUSWMS9GV5D9M98', 'Oglethorpe Power Corp.', 'OGLETHORPE POWER CORP', '2020-01-01', 1377618000.0),\n",
       " ('549300MA7EMERVYDHS24', 'Ohio Valley Electric Corp.', None, None, None),\n",
       " ('SW4VC32Z0ZKLJKPONQ50', 'Old Dominion Electric Coop.', 'OLD DOMINION ELECTRIC COOPERATIVE', '2020-01-01', 807704000.0),\n",
       " ('5299004YRCHMOU9FKK67', 'Omya AG', None, None, None),\n",
       " ('549300HHVBQRQUVKKD91', 'Otter Tail Corp.', 'OTTER TAIL CORP', '2020-01-01', 890107000.0),\n",
       " ('8YQ2GSDWYZXO2EDN3511', 'PG&E Corp.', 'PG&E CORP', '2020-01-01', 18469000000.0),\n",
       " ('549300M3VK6MP6R72034', 'PJM Interconnection, LLC', None, None, None),\n",
       " ('5493003JOBJGLZSDDQ28', 'PNM Resources, Inc.', 'PNM RESOURCES INC', '2020-01-01', 1523012000.0),\n",
       " ('9N3UAJSNOUXFKQLF3V18', 'PPL Corp.', 'PPL CORP', '2020-01-01', 7607000000.0),\n",
       " ('TWSEY0NEDUDCKS27AH81', 'Pinnacle West Capital Corp.', 'PINNACLE WEST CAPITAL CORP', '2020-01-01', 3586982000.0),\n",
       " ('GJOUP9M7C39GLSK9R870', 'Portland General Electric Co.', 'PORTLAND GENERAL ELECTRIC CO', '2020-01-01', 2151000000.0),\n",
       " ('XC5Z0IVHFCJDWCPZL176', 'Prairie Power, Inc.', None, None, None),\n",
       " ('PUSS41EMO3E6XXNV3U28', 'Public Service Enterprise Group', 'PUBLIC SERVICE ENTERPRISE GROUP INC', '2020-01-01', 9603000000.0),\n",
       " ('549300NIHMHEL3T1QQ97', 'Rayburn Country Electric Coop., Inc.', None, None, None),\n",
       " ('PBBKGKLRK5S5C0Y4T545', 'Sempra Energy', 'SEMPRA ENERGY', '2020-01-01', 11370000000.0),\n",
       " ('549300FC3G3YU2FBZD92', 'Southern Co.', 'SOUTHERN CO', '2020-01-01', 21097000000.0),\n",
       " ('DBBJWDBO6IRU2GBUJI29', 'Southern Maryland Electric Coop.', None, None, None),\n",
       " ('549300NXXWJMFXIKNU79', 'Southwest Power Pool, Inc.', None, None, None),\n",
       " ('549300X6CK46NKF0S683', 'Startrans IO, LLC', None, None, None),\n",
       " ('549300UGKOFV2IWJJG27', 'TC Energy Corp.', 'TC ENERGY CORP', '2020-01-01', 10113195294.613033),\n",
       " ('549300VDHNFNPADSSV98', 'Tri-State Generation & Transmission Association, Inc.', 'TRI-STATE GENERATION & TRANSMISSION ASSOCIATION, INC.', '2020-01-01', 1352295000.0),\n",
       " ('DX6GCWD4Q1JO9CRE5I40', 'UGI Corp.', 'UGI CORP', '2020-01-01', 6559000000.0),\n",
       " ('8945004QAHNC2OHL6926', 'United Power, Inc.', None, None, None),\n",
       " ('549300N8FFURNHL5YM93', 'Valley Electric Association, Inc.', None, None, None),\n",
       " ('549300GNSLQRYVBRRM43', 'Vermont Electric Coop., Inc.', None, None, None),\n",
       " ('54930086XT4IMGTLYZ86', 'Vermont Electric Power Co., Inc.', None, None, None),\n",
       " ('549300FODXCTQ8DGT594', 'Verso Corp.', 'VERSO CORP', '2020-01-01', 1359000000.0),\n",
       " ('549300KP43CPCUJOOG15', 'Vistra Corp.', 'VISTRA CORP.', '2020-01-01', 11443000000.0),\n",
       " ('549300IGLYTZUK3PVP70', 'WEC Energy Group', 'WEC ENERGY GROUP, INC.', '2020-01-01', 7241700000.0),\n",
       " ('VR27ZYPWHGW7Z1BM8Y69', 'Wabash Valley Power Assn, Inc', None, None, None),\n",
       " ('549300ROWOIV5X5MB591', 'Wolverine Power Supply Coop.', None, None, None),\n",
       " ('LGJNMI9GH8XIDG5RCM61', 'Xcel Energy, Inc.', 'XCEL ENERGY INC', '2020-01-01', 11526000000.0),\n",
       " ('549300467K0TD2Z50713', 'York Haven Power Co.', None, None, None)]"
      ]
     },
     "metadata": {},
     "output_type": "display_data"
    }
   ],
   "source": [
    "l = engine.execute(\"\"\"\n",
    "select A.lei, A.parent_name, R.name, date_format(R.fy, '%Y-%m-%d'), R.revenue_usd\n",
    "from (select coalesce(G.ultimate_parent_issuer_lei,U.parent_lei) as lei, U.parent_name\n",
    "      from rmi_20211120.utility_information as U left join gleif_mdt.gleif_direct_issuer_ultimate_issuer as G on U.parent_lei=G.direct_issuer_lei\n",
    "      group by coalesce(G.ultimate_parent_issuer_lei,U.parent_lei), U.parent_name) as A\n",
    "     left join sec_dera.t_r as R on A.lei=R.lei\n",
    "where A.lei is not null\n",
    "      and (R.lei is null or year(R.fy)=2020)\n",
    "order by A.parent_name\n",
    "\"\"\").fetchall()\n",
    "\n",
    "print(len(l))\n",
    "display(l)"
   ]
  },
  {
   "cell_type": "code",
   "execution_count": 16,
   "id": "53ac74c4-d86d-40c9-b9ff-fc9165f7eb8e",
   "metadata": {},
   "outputs": [
    {
     "ename": "SyntaxError",
     "evalue": "invalid syntax (<ipython-input-16-8c726f94684c>, line 1)",
     "output_type": "error",
     "traceback": [
      "\u001b[0;36m  File \u001b[0;32m\"<ipython-input-16-8c726f94684c>\"\u001b[0;36m, line \u001b[0;32m1\u001b[0m\n\u001b[0;31m    stop!\u001b[0m\n\u001b[0m        ^\u001b[0m\n\u001b[0;31mSyntaxError\u001b[0m\u001b[0;31m:\u001b[0m invalid syntax\n"
     ]
    }
   ],
   "source": [
    "stop!"
   ]
  },
  {
   "cell_type": "code",
   "execution_count": null,
   "id": "78185bbe-9151-4278-b985-f9a5022d5785",
   "metadata": {},
   "outputs": [],
   "source": [
    "qres = engine.execute(\"\"\"\n",
    "explain analyze\n",
    "select R.name, R.lei, R.tname, R.fy, R.sic, revenue, cash -- , debt --, assets, market_cap\n",
    "from sec_dera.fy_revenue_by_lei as R\n",
    "     join sec_dera.cash_by_lei as C on R.name=C.name and R.fy=C.fy\n",
    "     -- join sec_dera.debt_by_lei as D on R.name=D.name and R.fy=D.fy\n",
    "     -- join sec_dera.assets_by_lei as A on R.name=A.name and R.fy=A.fy\n",
    "     -- join sec_dera.float_by_lei as F on R.name=F.name and R.fy=F.fy\n",
    "\"\"\")\n",
    "l = qres.fetchall()"
   ]
  },
  {
   "cell_type": "code",
   "execution_count": null,
   "id": "f0375b49-82a3-49af-a93f-7f1227c8e800",
   "metadata": {},
   "outputs": [],
   "source": [
    "qres = engine.execute(\"\"\"\n",
    "explain analyze\n",
    "select R.name, R.lei, R.tname, R.fy, R.sic, revenue,\n",
    "    -- cash,\n",
    "    debt,\n",
    "    -- assets,\n",
    "    market_cap\n",
    "from sec_dera.fy_revenue_by_lei as R\n",
    "     -- join sec_dera.cash_by_lei as C on R.name=C.name and R.fy=C.fy\n",
    "     join sec_dera.debt_by_lei as D on R.name=D.name and R.fy=D.fy\n",
    "     -- join sec_dera.assets_by_lei as A on R.name=A.name and R.fy=A.fy\n",
    "     join sec_dera.float_by_lei as F on R.name=F.name and R.fy=F.fy\n",
    "\"\"\")\n",
    "l = qres.fetchall()"
   ]
  },
  {
   "cell_type": "code",
   "execution_count": null,
   "id": "28b73d39-ad28-4106-a75c-ba73b7d1b003",
   "metadata": {},
   "outputs": [],
   "source": [
    "qres = engine.execute(\"\"\"\n",
    "create or replace view sec_dera.financials_by_lei as\n",
    "select name, lei, fy, Nrevenue.ddate as r_ddate, sic,\n",
    "       max(Nrevenue.value) as revenue,\n",
    "       max(Ncash.value) as cash,\n",
    "       max(Ndebt.value) as debt,\n",
    "       max(Nassets.value) as assets,\n",
    "       max(Nfloat.value) as market_cap\n",
    "       -- max(Nfloat.value)+max(Ndebt.value)-max(Ncash.value) as ev,\n",
    "       -- max(Nfloat.value)+max(Ndebt.value) as evic\n",
    "from sec_dera.sub as S\n",
    "      join sec_dera.num as Nrevenue on S.adsh=Nrevenue.adsh\n",
    "            and Nrevenue.qtrs=4\n",
    "            and Nrevenue.ddate>=S.fy and date_add('year', 1, S.fy)>Nrevenue.ddate\n",
    "      join sec_dera.num as Nassets on S.adsh=Nassets.adsh and Nassets.ddate=Nrevenue.ddate\n",
    "      join sec_dera.num as Ndebt on S.adsh=Ndebt.adsh and Ndebt.ddate=Nrevenue.ddate\n",
    "      join sec_dera.num as Ncash on S.adsh=Ncash.adsh and Ncash.ddate=Nrevenue.ddate\n",
    "      join sec_dera.num as Nfloat on S.adsh=Nfloat.adsh\n",
    "where S.fp='FY' and (S.form='10-K' or S.form='20-F')\n",
    "      -- and S.lei='I1BZKREC126H0VB1BL91'\n",
    "and Nrevenue.coreg is NULL\n",
    "and Nrevenue.uom='USD'\n",
    "and (Nrevenue.tag='Revenues'\n",
    "     or Nrevenue.tag='RevenueFromContractWithCustomerIncludingAssessedTax'\n",
    "     or Nrevenue.tag='RevenueFromContractWithCustomerExcludingAssessedTax'\n",
    "     or Nrevenue.tag='RevenuesNetOfInterestExpense'\n",
    "     or Nrevenue.tag='RegulatedAndUnregulatedOperatingRevenue'\n",
    "     or Nrevenue.tag='RegulatedOperatingRevenuePipelines')\n",
    "and Nfloat.qtrs=0 and Nfloat.ddate>=fy and date_add('year', 1, fy)>Nfloat.ddate\n",
    "and Nfloat.coreg is NULL\n",
    "and Nfloat.uom='USD'\n",
    "and (Nfloat.tag='EntityPublicFloat'\n",
    "     or Nfloat.tag='EntitysPublicFloat'\n",
    "     or Nfloat.tag='FreeFloat'\n",
    "     or Nfloat.tag='PublicFloat'\n",
    "     or Nfloat.tag='PublicFloatValue')\n",
    "and Ncash.qtrs=0\n",
    "and Ncash.coreg is NULL\n",
    "and Ncash.uom='USD'\n",
    "and (Ncash.tag='CashAndCashEquivalentsAtCarryingValue'\n",
    "     or Ncash.tag='Cash'\n",
    "     or Ncash.tag='CashEquivalentsAtCarryingValue'\n",
    "     or Ncash.tag='CashAndCashEquivalents')\n",
    "and Ndebt.qtrs=0\n",
    "and Ndebt.coreg is NULL\n",
    "and Ndebt.uom='USD'\n",
    "and (Ndebt.tag='LongTermDebt'\n",
    "     or Ndebt.tag='LongTermDebtFairValue'\n",
    "     or Ndebt.tag='LongTermDebtAndCapitalLeaseObligations'\n",
    "     or Ndebt.tag='DebtLongtermAndShorttermCombinedAmount'\n",
    "     or Ndebt.tag='SecuredDebt'\n",
    "     or Ndebt.tag='UnsecuredDebt'\n",
    "     or Ndebt.tag='SubordinatedDebt'\n",
    "     or Ndebt.tag='ConvertibleDebt')\n",
    "and Nassets.qtrs=0\n",
    "and Nassets.coreg is NULL\n",
    "and Nassets.uom='USD'\n",
    "and Nassets.tag='Assets'\n",
    "group by name, lei, fy, Nrevenue.ddate, sic\n",
    "\"\"\")\n",
    "display(qres.fetchall())\n",
    "\n",
    "qres = engine.execute(\"\"\"\n",
    "select * from sec_dera.financials_by_lei\n",
    "\"\"\")\n",
    "l = qres.fetchall()\n",
    "\n",
    "print(len(l))"
   ]
  },
  {
   "cell_type": "code",
   "execution_count": null,
   "id": "349cfc8b-2d14-4b4c-9ebd-cca89b5b102e",
   "metadata": {},
   "outputs": [],
   "source": [
    "columns = [x[0] for x in engine.execute(\"describe sec_dera.financials_by_lei\").fetchall()]"
   ]
  },
  {
   "cell_type": "code",
   "execution_count": null,
   "id": "f9d564bf-9dfe-4689-a3d6-e50e2e73491f",
   "metadata": {},
   "outputs": [],
   "source": [
    "df = pd.DataFrame(data=l, columns=columns)"
   ]
  },
  {
   "cell_type": "code",
   "execution_count": null,
   "id": "87bc1cd5-a3d3-40e0-af59-45f3bee79b6f",
   "metadata": {},
   "outputs": [],
   "source": [
    "df"
   ]
  },
  {
   "cell_type": "code",
   "execution_count": null,
   "id": "b8722eaf-e68f-4ea7-adaa-df9ccf902513",
   "metadata": {
    "tags": []
   },
   "outputs": [],
   "source": [
    "df = df.convert_dtypes()\n",
    "\n",
    "drop_unmanaged_table(\"osc_datacommons_dev\", \"sec_dera\", \"corp_data_df\", engine, trino_bucket, verbose=True)\n",
    "\n",
    "drop_unmanaged_data(\"sec_dera\", \"corp_data_df\", trino_bucket, verbose=True)\n",
    "\n",
    "ingest_unmanaged_parquet(df, \"sec_dera\", \"corp_data_df\", trino_bucket, partition_columns=[],\n",
    "                         append=False, workdir='/tmp', verbose=True)\n",
    "\n",
    "sql = unmanaged_parquet_tabledef(df, \"osc_datacommons_dev\", \"sec_dera\", \"corp_data_df\", trino_bucket, partition_columns = [],\n",
    "                                 verbose=True)\n",
    "qres = engine.execute(sql)\n",
    "display(qres.fetchall())\n",
    "\n",
    "qres = engine.execute(\"select * from sec_dera.corp_data_df\")\n",
    "l = qres.fetchall()"
   ]
  },
  {
   "cell_type": "code",
   "execution_count": null,
   "id": "83f065db-4340-42eb-8400-5833051c6973",
   "metadata": {},
   "outputs": [],
   "source": [
    "qres = engine.execute(\"\"\"\n",
    "explain select * from sec_dera.financials_by_lei\n",
    "\"\"\")\n",
    "print(qres.fetchall()[0][0])"
   ]
  },
  {
   "cell_type": "code",
   "execution_count": null,
   "id": "b55a9940-16f3-4c34-acd4-dbd78a1c3de8",
   "metadata": {},
   "outputs": [],
   "source": [
    "direct_issuer_lei"
   ]
  }
 ],
 "metadata": {
  "kernelspec": {
   "display_name": "Python 3",
   "language": "python",
   "name": "python3"
  },
  "language_info": {
   "codemirror_mode": {
    "name": "ipython",
    "version": 3
   },
   "file_extension": ".py",
   "mimetype": "text/x-python",
   "name": "python",
   "nbconvert_exporter": "python",
   "pygments_lexer": "ipython3",
   "version": "3.8.3"
  }
 },
 "nbformat": 4,
 "nbformat_minor": 5
}
