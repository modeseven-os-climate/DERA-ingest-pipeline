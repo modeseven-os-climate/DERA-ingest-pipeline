{
 "cells": [
  {
   "cell_type": "markdown",
   "id": "1ce1cf9f-2d20-460b-8d10-184e8af19c25",
   "metadata": {},
   "source": [
    "# Begin with Credentials and Connection to Trino"
   ]
  },
  {
   "cell_type": "code",
   "execution_count": null,
   "id": "2e31920e-a97e-427d-9102-ac2d4e6898ca",
   "metadata": {},
   "outputs": [],
   "source": [
    "import os\n",
    "import pathlib\n",
    "from dotenv import load_dotenv\n",
    "\n",
    "# Load some standard environment variables from a dot-env file, if it exists.\n",
    "# If no such file can be found, does not fail, and so allows these environment vars to\n",
    "# be populated in some other way\n",
    "dotenv_dir = os.environ.get('CREDENTIAL_DOTENV_DIR', os.environ.get('PWD', '/opt/app-root/src'))\n",
    "dotenv_path = pathlib.Path(dotenv_dir) / 'credentials.env'\n",
    "if os.path.exists(dotenv_path):\n",
    "    load_dotenv(dotenv_path=dotenv_path,override=True)"
   ]
  },
  {
   "cell_type": "markdown",
   "id": "f0606067-d586-41b0-a7dd-c6d7727c6b1f",
   "metadata": {},
   "source": [
    "Set session variable CATALOG to make query terms much more compact"
   ]
  },
  {
   "cell_type": "code",
   "execution_count": null,
   "id": "ab600994-3dc8-4b3c-943c-af43a29db1e6",
   "metadata": {},
   "outputs": [],
   "source": [
    "import trino\n",
    "from sqlalchemy.engine import create_engine\n",
    "\n",
    "env_var_prefix = 'TRINO'\n",
    "\n",
    "sqlstring = 'trino://{user}@{host}:{port}/'.format(\n",
    "    user = os.environ[f'{env_var_prefix}_USER'],\n",
    "    host = os.environ[f'{env_var_prefix}_HOST'],\n",
    "    port = os.environ[f'{env_var_prefix}_PORT']\n",
    ")\n",
    "sqlargs = {\n",
    "    'auth': trino.auth.JWTAuthentication(os.environ[f'{env_var_prefix}_PASSWD']),\n",
    "    'http_scheme': 'https',\n",
    "    'catalog': 'osc_datacommons_dev'\n",
    "}\n",
    "engine = create_engine(sqlstring, connect_args = sqlargs)\n",
    "connection = engine.connect()\n",
    "\n",
    "import pandas as pd"
   ]
  },
  {
   "cell_type": "code",
   "execution_count": null,
   "id": "24ae6a0b-f082-42ed-9e84-1c89c228fa42",
   "metadata": {},
   "outputs": [],
   "source": [
    "from osc_ingest_trino import *\n",
    "\n",
    "trino_bucket = attach_s3_bucket(\"S3_DEV\")"
   ]
  },
  {
   "cell_type": "code",
   "execution_count": null,
   "id": "5d53b4d4-5f42-472a-aa0d-0f6c8341b796",
   "metadata": {},
   "outputs": [],
   "source": [
    "qres = engine.execute(\"\"\"\n",
    "create or replace view sec_dera.fy_revenue_by_lei as\n",
    "select name, lei, fy, N.ddate, sic, max(value) as tot_revenue\n",
    "from sec_dera.sub as S join sec_dera.num as N on S.adsh=N.adsh and N.ddate>=S.fy and date_add('year', 1, S.fy)>N.ddate\n",
    "  -- left join sec_dera.ticker T on S.cik=T.cik\n",
    "where S.fp='FY' and (S.form='10-K' or S.form='20-F')\n",
    "and coreg is NULL\n",
    "and qtrs=4\n",
    "and uom='USD'\n",
    "and (N.tag='Revenues'\n",
    "     or N.tag='RevenueFromContractWithCustomerIncludingAssessedTax'\n",
    "     or N.tag='RevenueFromContractWithCustomerExcludingAssessedTax'\n",
    "     or N.tag='RevenuesNetOfInterestExpense'\n",
    "     or N.tag='RegulatedAndUnregulatedOperatingRevenue'\n",
    "     or N.tag='RegulatedOperatingRevenuePipelines')\n",
    "group by name, lei, fy, N.ddate, sic\n",
    "\"\"\")\n",
    "display(qres.fetchall())\n",
    "\n",
    "qres = engine.execute(\"\"\"\n",
    "select count (*) from sec_dera.fy_revenue_by_lei\n",
    "\"\"\")\n",
    "display(qres.fetchall())\n",
    "\n",
    "qres = engine.execute(\"\"\"\n",
    "select * from sec_dera.fy_revenue_by_lei limit 10\n",
    "\"\"\")\n",
    "display(qres.fetchall())"
   ]
  },
  {
   "cell_type": "raw",
   "id": "36ccac7d-75ce-418a-a4a5-9283d587855c",
   "metadata": {},
   "source": [
    "engine.execute(\"select count (*), tag from sec_dera.num where tag like '%Float%' and tag not like '%Floating%' and tag not like '%Floater%' group by tag order by tag\").fetchall()"
   ]
  },
  {
   "cell_type": "code",
   "execution_count": null,
   "id": "ab885e9c-d073-4493-8576-0a5bfe151df3",
   "metadata": {},
   "outputs": [],
   "source": [
    "qres = engine.execute(\"\"\"\n",
    "create or replace view sec_dera.float_by_lei as\n",
    "select name, lei, ddate, sic, max(value) as market_cap\n",
    "from sec_dera.sub as S join sec_dera.num as N on S.adsh=N.adsh and N.ddate>=S.fy and date_add('year', 1, S.fy)>N.ddate\n",
    "  -- join sec_dera.ticker T on S.cik=T.cik\n",
    "where S.fp='FY' and (S.form='10-K' or S.form='20-F')\n",
    "and coreg is NULL\n",
    "and qtrs=0\n",
    "and uom='USD'\n",
    "and (tag='EntityPublicFloat'\n",
    "     or tag='EntitysPublicFloat'\n",
    "     or tag='FreeFloat'\n",
    "     or tag='PublicFloat'\n",
    "     or tag='PublicFloatValue')\n",
    "group by name, lei, ddate, sic\n",
    "\"\"\")\n",
    "display(qres.fetchall())\n",
    "\n",
    "qres = engine.execute(\"\"\"\n",
    "select count (*) from sec_dera.float_by_lei\n",
    "\"\"\")\n",
    "display(qres.fetchall())\n",
    "\n",
    "qres = engine.execute(\"\"\"\n",
    "select * from sec_dera.float_by_lei limit 10\n",
    "\"\"\")\n",
    "display(qres.fetchall())"
   ]
  },
  {
   "cell_type": "code",
   "execution_count": null,
   "id": "f1291683-5a8e-4ae2-aa32-dc99f4eba8dd",
   "metadata": {},
   "outputs": [],
   "source": [
    "qres = engine.execute(\"\"\"\n",
    "create or replace view sec_dera.cash_by_lei as\n",
    "select name, lei, ddate, sic, max(value) as cash\n",
    "from sec_dera.sub as S join sec_dera.num as N on S.adsh=N.adsh and N.ddate>=S.fy and date_add('year', 1, S.fy)>N.ddate\n",
    "  -- join sec_dera.ticker T on S.cik=T.cik\n",
    "where S.fp='FY' and (S.form='10-K' or S.form='20-F')\n",
    "and coreg is NULL\n",
    "and qtrs=0\n",
    "and uom='USD'\n",
    "and (tag='CashAndCashEquivalentsAtCarryingValue' or tag='Cash' or tag='CashEquivalentsAtCarryingValue' or tag='CashAndCashEquivalents')\n",
    "group by name, lei, ddate, sic\n",
    "\"\"\")\n",
    "display(qres.fetchall())\n",
    "\n",
    "qres = engine.execute(\"\"\"\n",
    "select count (*) from sec_dera.cash_by_lei\n",
    "\"\"\")\n",
    "display(qres.fetchall())\n",
    "\n",
    "qres = engine.execute(\"\"\"\n",
    "select * from sec_dera.cash_by_lei limit 10\n",
    "\"\"\")\n",
    "display(qres.fetchall())"
   ]
  },
  {
   "cell_type": "raw",
   "id": "f45575b6-b66e-4ba8-80b4-3471f9b7e98c",
   "metadata": {},
   "source": [
    "engine.execute(\"\"\"\n",
    "select count (*), tag from sec_dera.num\n",
    "where tag='CashAndCashEquivalentsAtCarryingValue' or tag='Cash' or tag='CashEquivalentsAtCarryingValue' or tag='CashAndCashEquivalents'\n",
    "group by tag order by count (*) desc limit 20\n",
    "\"\"\").fetchall()"
   ]
  },
  {
   "cell_type": "code",
   "execution_count": null,
   "id": "28cead08-d929-4cef-925f-3cbf4ba61b1f",
   "metadata": {},
   "outputs": [],
   "source": [
    "qres = engine.execute(\"\"\"\n",
    "create or replace view sec_dera.debt_by_lei as\n",
    "select name, tname, lei, ddate, sic, max(value) as debt\n",
    "from sec_dera.sub as S join sec_dera.num as N on S.adsh=N.adsh and N.ddate>=S.fy and date_add('year', 1, S.fy)>N.ddate\n",
    "  -- join sec_dera.ticker T on S.cik=T.cik\n",
    "where S.fp='FY' and (S.form='10-K' or S.form='20-F')\n",
    "and coreg is NULL\n",
    "and qtrs=0\n",
    "and uom='USD'\n",
    "and (tag='LongTermDebt' or tag='LongTermDebtFairValue' or tag='LongTermDebtAndCapitalLeaseObligations'\n",
    "     or tag='DebtLongtermAndShorttermCombinedAmount' or tag='SecuredDebt' or tag='UnsecuredDebt'\n",
    "     or tag='SubordinatedDebt' or tag='ConvertibleDebt')\n",
    "group by name, lei, ddate, sic\n",
    "\"\"\")\n",
    "display(qres.fetchall())\n",
    "\n",
    "qres = engine.execute(\"\"\"\n",
    "select count (*) from sec_dera.debt_by_lei\n",
    "\"\"\")\n",
    "display(qres.fetchall())\n",
    "\n",
    "qres = engine.execute(\"\"\"\n",
    "select * from sec_dera.debt_by_lei limit 10\n",
    "\"\"\")\n",
    "display(qres.fetchall())"
   ]
  },
  {
   "cell_type": "raw",
   "id": "544f7563-8c36-4de9-b9d9-dfff6e66ce4f",
   "metadata": {},
   "source": [
    "engine.execute(\"\"\"\n",
    "select count (*), tag from sec_dera.num\n",
    "where tag='LongTermDebt' or tag='LongTermDebtFairValue' or tag='LongTermDebtAndCapitalLeaseObligations'\n",
    "or tag='DebtLongtermAndShorttermCombinedAmount' or tag='SecuredDebt' or tag='UnsecuredDebt' or tag='SubordinatedDebt' or tag='ConvertibleDebt'\n",
    "group by tag order by count (*) desc\n",
    "\"\"\").fetchall()"
   ]
  },
  {
   "cell_type": "raw",
   "id": "15e1c83d-c4ca-4747-aee9-b14b4234fcf9",
   "metadata": {},
   "source": [
    "l = engine.execute(\"\"\"\n",
    "select name, sic, round(value/1000000.0,1), uom, ddate, nciks, aciks\n",
    "from sec_dera.sub as S join sec_dera.num as N\n",
    "on S.adsh=N.adsh\n",
    "where form='10-K' and fy=DATE('2020-01-01') and tag='DebtLongtermAndShorttermCombinedAmount' order by value desc limit 20\n",
    "\"\"\").fetchall()"
   ]
  },
  {
   "cell_type": "raw",
   "id": "1789cde7-c148-4469-952c-f1d2acb27733",
   "metadata": {},
   "source": [
    "l = engine.execute(\"\"\"\n",
    "select name, form, tag, value, uom, fy, qtrs, coreg\n",
    "from sec_dera.sub S join sec_dera.num as N\n",
    "on S.adsh=N.adsh\n",
    "where (form='10-K' or form='20-F') and fy >= ddate and date_add('year', -1, fy) < ddate\n",
    "and (N.tag='Revenues'\n",
    "     or N.tag='RevenueFromContractWithCustomerIncludingAssessedTax'\n",
    "     or N.tag='RevenueFromContractWithCustomerExcludingAssessedTax'\n",
    "     or N.tag='RevenuesNetOfInterestExpense'\n",
    "     or N.tag='RegulatedAndUnregulatedOperatingRevenue'\n",
    "     or N.tag='RegulatedOperatingRevenuePipelines')\n",
    "order by name\n",
    "\"\"\").fetchall()\n",
    "len(l)"
   ]
  },
  {
   "cell_type": "code",
   "execution_count": null,
   "id": "5ecd23f4-b44d-4514-88e6-9543de7decd0",
   "metadata": {},
   "outputs": [],
   "source": [
    "qres = engine.execute(\"\"\"\n",
    "create or replace view sec_dera.assets_by_lei as\n",
    "select name, tname, lei, ddate, sic, value as assets\n",
    "from sec_dera.sub as S join sec_dera.num as N on S.adsh=N.adsh and N.ddate>=S.fy and date_add('year', 1, S.fy)>N.ddate\n",
    "  -- join sec_dera.ticker T on S.cik=T.cik\n",
    "where S.fp='FY' and (S.form='10-K' or S.form='20-F')\n",
    "and S.lei='I1BZKREC126H0VB1BL91'\n",
    "and coreg is NULL\n",
    "and qtrs=0\n",
    "and uom='USD'\n",
    "and tag='Assets'\n",
    "\"\"\")\n",
    "display(qres.fetchall())\n",
    "\n",
    "qres = engine.execute(\"\"\"\n",
    "select count (*) from sec_dera.assets_by_lei\n",
    "\"\"\")\n",
    "display(qres.fetchall())\n",
    "\n",
    "qres = engine.execute(\"\"\"\n",
    "select * from sec_dera.assets_by_lei limit 10\n",
    "\"\"\")\n",
    "display(qres.fetchall())"
   ]
  },
  {
   "cell_type": "code",
   "execution_count": null,
   "id": "28b73d39-ad28-4106-a75c-ba73b7d1b003",
   "metadata": {},
   "outputs": [],
   "source": [
    "qres = engine.execute(\"\"\"\n",
    "create or replace view sec_dera.financials_by_lei as\n",
    "select name, lei, fy, Nrevenue.ddate as r_ddate, sic,\n",
    "       max(Nrevenue.value) as revenue,\n",
    "       max(Ncash.value) as cash,\n",
    "       max(Ndebt.value) as debt,\n",
    "       max(Nassets.value) as assets,\n",
    "       max(Nfloat.value) as market_cap\n",
    "       -- max(Nfloat.value)+max(Ndebt.value)-max(Ncash.value) as ev,\n",
    "       -- max(Nfloat.value)+max(Ndebt.value) as evic\n",
    "from sec_dera.sub as S\n",
    "      join sec_dera.num as Nrevenue on S.adsh=Nrevenue.adsh\n",
    "           and Nrevenue.ddate>=S.fy and date_add('year', 1, S.fy)>Nrevenue.ddate\n",
    "      join sec_dera.num as Nassets on S.adsh=Nassets.adsh and Nassets.ddate=Nrevenue.ddate\n",
    "      join sec_dera.num as Ndebt on S.adsh=Ndebt.adsh and Ndebt.ddate=Nrevenue.ddate\n",
    "      join sec_dera.num as Ncash on S.adsh=Ncash.adsh and Ncash.ddate=Nrevenue.ddate\n",
    "      join sec_dera.num as Nfloat on S.adsh=Nfloat.adsh\n",
    "where S.fp='FY' and (S.form='10-K' or S.form='20-F')\n",
    "      -- and S.lei='I1BZKREC126H0VB1BL91'\n",
    "and Nrevenue.qtrs=4\n",
    "and Nrevenue.coreg is NULL\n",
    "and Nrevenue.uom='USD'\n",
    "and (Nrevenue.tag='Revenues'\n",
    "     or Nrevenue.tag='RevenueFromContractWithCustomerIncludingAssessedTax'\n",
    "     or Nrevenue.tag='RevenueFromContractWithCustomerExcludingAssessedTax'\n",
    "     or Nrevenue.tag='RevenuesNetOfInterestExpense'\n",
    "     or Nrevenue.tag='RegulatedAndUnregulatedOperatingRevenue'\n",
    "     or Nrevenue.tag='RegulatedOperatingRevenuePipelines')\n",
    "and Nfloat.qtrs=0 and Nfloat.ddate>=fy and date_add('year', 1, fy)>Nfloat.ddate\n",
    "and Nfloat.coreg is NULL\n",
    "and Nfloat.uom='USD'\n",
    "and (Nfloat.tag='EntityPublicFloat'\n",
    "     or Nfloat.tag='EntitysPublicFloat'\n",
    "     or Nfloat.tag='FreeFloat'\n",
    "     or Nfloat.tag='PublicFloat'\n",
    "     or Nfloat.tag='PublicFloatValue')\n",
    "and Ncash.qtrs=0\n",
    "and Ncash.coreg is NULL\n",
    "and Ncash.uom='USD'\n",
    "and (Ncash.tag='CashAndCashEquivalentsAtCarryingValue'\n",
    "     or Ncash.tag='Cash'\n",
    "     or Ncash.tag='CashEquivalentsAtCarryingValue'\n",
    "     or Ncash.tag='CashAndCashEquivalents')\n",
    "and Ndebt.qtrs=0\n",
    "and Ndebt.coreg is NULL\n",
    "and Ndebt.uom='USD'\n",
    "and (Ndebt.tag='LongTermDebt'\n",
    "     or Ndebt.tag='LongTermDebtFairValue'\n",
    "     or Ndebt.tag='LongTermDebtAndCapitalLeaseObligations'\n",
    "     or Ndebt.tag='DebtLongtermAndShorttermCombinedAmount'\n",
    "     or Ndebt.tag='SecuredDebt'\n",
    "     or Ndebt.tag='UnsecuredDebt'\n",
    "     or Ndebt.tag='SubordinatedDebt'\n",
    "     or Ndebt.tag='ConvertibleDebt')\n",
    "and Nassets.qtrs=0\n",
    "and Nassets.coreg is NULL\n",
    "and Nassets.uom='USD'\n",
    "and Nassets.tag='Assets'\n",
    "group by name, lei, fy, Nrevenue.ddate, sic\n",
    "\"\"\")\n",
    "display(qres.fetchall())\n",
    "\n",
    "qres = engine.execute(\"\"\"\n",
    "select * from sec_dera.financials_by_lei\n",
    "\"\"\")\n",
    "l = qres.fetchall()\n",
    "\n",
    "print(len(l))"
   ]
  },
  {
   "cell_type": "code",
   "execution_count": null,
   "id": "349cfc8b-2d14-4b4c-9ebd-cca89b5b102e",
   "metadata": {},
   "outputs": [],
   "source": [
    "columns = [x[0] for x in engine.execute(\"describe sec_dera.financials_by_lei\").fetchall()]"
   ]
  },
  {
   "cell_type": "code",
   "execution_count": null,
   "id": "f9d564bf-9dfe-4689-a3d6-e50e2e73491f",
   "metadata": {},
   "outputs": [],
   "source": [
    "df = pd.DataFrame(data=l, columns=columns)"
   ]
  },
  {
   "cell_type": "code",
   "execution_count": null,
   "id": "87bc1cd5-a3d3-40e0-af59-45f3bee79b6f",
   "metadata": {},
   "outputs": [],
   "source": [
    "df"
   ]
  },
  {
   "cell_type": "code",
   "execution_count": null,
   "id": "b8722eaf-e68f-4ea7-adaa-df9ccf902513",
   "metadata": {
    "tags": []
   },
   "outputs": [],
   "source": [
    "df = df.convert_dtypes()\n",
    "\n",
    "drop_unmanaged_table(\"osc_datacommons_dev\", \"sec_dera\", \"corp_data_df\", engine, trino_bucket, verbose=True)\n",
    "\n",
    "drop_unmanaged_data(\"sec_dera\", \"corp_data_df\", trino_bucket, verbose=True)\n",
    "\n",
    "ingest_unmanaged_parquet(df, \"sec_dera\", \"corp_data_df\", trino_bucket, partition_columns=[],\n",
    "                         append=False, workdir='/tmp', verbose=True)\n",
    "\n",
    "sql = unmanaged_parquet_tabledef(df, \"osc_datacommons_dev\", \"sec_dera\", \"corp_data_df\", trino_bucket, partition_columns = [],\n",
    "                                 verbose=True)\n",
    "qres = engine.execute(sql)\n",
    "display(qres.fetchall())\n",
    "\n",
    "qres = engine.execute(\"select * from sec_dera.corp_data_df\")\n",
    "l = qres.fetchall()"
   ]
  },
  {
   "cell_type": "code",
   "execution_count": null,
   "id": "83f065db-4340-42eb-8400-5833051c6973",
   "metadata": {},
   "outputs": [],
   "source": [
    "qres = engine.execute(\"\"\"\n",
    "explain select * from sec_dera.financials_by_lei\n",
    "\"\"\")\n",
    "print(qres.fetchall()[0][0])"
   ]
  },
  {
   "cell_type": "code",
   "execution_count": null,
   "id": "b55a9940-16f3-4c34-acd4-dbd78a1c3de8",
   "metadata": {},
   "outputs": [],
   "source": []
  }
 ],
 "metadata": {
  "kernelspec": {
   "display_name": "Python 3",
   "language": "python",
   "name": "python3"
  },
  "language_info": {
   "codemirror_mode": {
    "name": "ipython",
    "version": 3
   },
   "file_extension": ".py",
   "mimetype": "text/x-python",
   "name": "python",
   "nbconvert_exporter": "python",
   "pygments_lexer": "ipython3",
   "version": "3.8.3"
  }
 },
 "nbformat": 4,
 "nbformat_minor": 5
}
