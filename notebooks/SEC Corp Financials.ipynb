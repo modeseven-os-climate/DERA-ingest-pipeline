{
 "cells": [
  {
   "cell_type": "markdown",
   "id": "1ce1cf9f-2d20-460b-8d10-184e8af19c25",
   "metadata": {},
   "source": [
    "# Create VIEWs on SEC DERA data by LEI\n",
    "\n",
    "## Full-year FY REVENUES, INCOME\n",
    "\n",
    "## Point-in-time FLOAT, DEBT, CASH, ASSETS, (EV = FLOAT + DEBT - CASH, EVIC = FLOAT + DEBT)"
   ]
  },
  {
   "cell_type": "code",
   "execution_count": 1,
   "id": "2e31920e-a97e-427d-9102-ac2d4e6898ca",
   "metadata": {},
   "outputs": [],
   "source": [
    "import os\n",
    "import pathlib\n",
    "from dotenv import load_dotenv\n",
    "\n",
    "# Load some standard environment variables from a dot-env file, if it exists.\n",
    "# If no such file can be found, does not fail, and so allows these environment vars to\n",
    "# be populated in some other way\n",
    "dotenv_dir = os.environ.get('CREDENTIAL_DOTENV_DIR', os.environ.get('PWD', '/opt/app-root/src'))\n",
    "dotenv_path = pathlib.Path(dotenv_dir) / 'credentials.env'\n",
    "if os.path.exists(dotenv_path):\n",
    "    load_dotenv(dotenv_path=dotenv_path,override=True)"
   ]
  },
  {
   "cell_type": "markdown",
   "id": "f0606067-d586-41b0-a7dd-c6d7727c6b1f",
   "metadata": {},
   "source": [
    "Set session variable CATALOG to make query terms much more compact"
   ]
  },
  {
   "cell_type": "code",
   "execution_count": 2,
   "id": "ab600994-3dc8-4b3c-943c-af43a29db1e6",
   "metadata": {},
   "outputs": [],
   "source": [
    "import trino\n",
    "from sqlalchemy.engine import create_engine\n",
    "\n",
    "env_var_prefix = 'TRINO'\n",
    "\n",
    "sqlstring = 'trino://{user}@{host}:{port}/'.format(\n",
    "    user = os.environ[f'{env_var_prefix}_USER'],\n",
    "    host = os.environ[f'{env_var_prefix}_HOST'],\n",
    "    port = os.environ[f'{env_var_prefix}_PORT']\n",
    ")\n",
    "sqlargs = {\n",
    "    'auth': trino.auth.JWTAuthentication(os.environ[f'{env_var_prefix}_PASSWD']),\n",
    "    'http_scheme': 'https',\n",
    "    'catalog': 'osc_datacommons_dev'\n",
    "}\n",
    "engine = create_engine(sqlstring, connect_args = sqlargs)\n",
    "connection = engine.connect()\n",
    "\n",
    "import pandas as pd"
   ]
  },
  {
   "cell_type": "code",
   "execution_count": 3,
   "id": "24ae6a0b-f082-42ed-9e84-1c89c228fa42",
   "metadata": {},
   "outputs": [],
   "source": [
    "from osc_ingest_trino import *\n",
    "\n",
    "trino_bucket = attach_s3_bucket(\"S3_DEV\")"
   ]
  },
  {
   "cell_type": "code",
   "execution_count": 4,
   "id": "e03bbfa1-046d-4dc3-9cee-02ba6a490d03",
   "metadata": {},
   "outputs": [
    {
     "name": "stdout",
     "output_type": "stream",
     "text": [
      "[(True,)]\n",
      "[(True,)]\n",
      "[(True,)]\n",
      "[(True,)]\n",
      "[(True,)]\n"
     ]
    }
   ],
   "source": [
    "for tbl in ['t_r', 't_f', 't_d', 't_c', 't_a']:\n",
    "    qres = engine.execute(f\"drop table if exists sec_dera.{tbl}\")\n",
    "    print(qres.fetchall())"
   ]
  },
  {
   "cell_type": "markdown",
   "id": "ce985e76-ed82-4408-b5cf-b79f86ed86d6",
   "metadata": {},
   "source": [
    "### FX\n",
    "\n",
    "Many public companies are non-US companies or report facts in units of measurement other than USD.  We build a small table of market knowledge so that we can do foreign exchange (FX) calculations."
   ]
  },
  {
   "cell_type": "code",
   "execution_count": 5,
   "id": "6e96e969-04ed-42f8-8e34-7410ba73d4f4",
   "metadata": {},
   "outputs": [],
   "source": [
    "sql = (\"\"\"\n",
    "select count (*) as count, uom, ddate, max(value) as maxval, min(value) as minval from sec_dera.num\n",
    "where ddate>=DATE('2019-01-01')\n",
    "      and (tag='ClosingForeignExchangeRate' or tag='ForeignCurrencyExchangeRateTranslation1')\n",
    "      and qtrs=0 and uom!= 'USD' and (uom like '%USD%' or length(uom)=3)\n",
    "group by uom, ddate, tag\n",
    "order by ddate, uom, tag\n",
    "\"\"\")\n",
    "df_closing_fx = pd.read_sql (sql, engine, parse_dates=['ddate'])\n",
    "# display(df_closing_fx)\n",
    "\n",
    "sql = (\"\"\"\n",
    "select count (*) as count, uom, ddate, max(value) as maxval, min(value) as minval from sec_dera.num\n",
    "where ddate>=DATE('2019-01-01')\n",
    "      and tag='AverageForeignExchangeRate'\n",
    "      and qtrs=4 and uom!= 'USD' and (uom like '%USD%' or length(uom)=3)\n",
    "group by uom, ddate, tag\n",
    "order by ddate, uom, tag\n",
    "\"\"\")\n",
    "df_average_fx = pd.read_sql (sql, engine, parse_dates=['ddate'])\n",
    "# display(df_average_fx)"
   ]
  },
  {
   "cell_type": "code",
   "execution_count": 6,
   "id": "805b7970-6217-46ec-bb93-fc8bcf9dea0b",
   "metadata": {},
   "outputs": [],
   "source": [
    "import re\n",
    "\n",
    "def create_fx_dict(df):\n",
    "    \"\"\"From a list of FX pairs or non-USD (presumed to convert to USD) FX rates by dates, return a dictionary of FX rates by dates\"\"\"\n",
    "    df_gbp = df[df.uom.str.contains('GBP', flags=re.I)]\n",
    "    df_eur = df[df.uom.str.contains('EUR', flags=re.I)]\n",
    "    df_other = df[~df.uom.str.contains('(GBP)|(EUR)', flags=re.I)]\n",
    "    \n",
    "    fx_input = {'GBP': df_gbp, 'EUR': df_eur }\n",
    "\n",
    "    fx_df = {}\n",
    "\n",
    "    for fx in ['GBP', 'EUR']:\n",
    "        df_base = fx_input[fx].loc[df.maxval>1, ['ddate', 'maxval']].groupby(by='ddate').mean()\n",
    "        df_base['minval'] = 1/df_base.maxval\n",
    "        df_quote = fx_input[fx].loc[df.minval<1, ['ddate', 'minval']].groupby(by='ddate').mean()\n",
    "        df_quote['maxval'] = 1/df_quote.minval\n",
    "        df_fx = pd.concat((df_base, df_quote), axis=0).groupby(by='ddate').mean().reset_index()\n",
    "        df_fx['base'] = fx\n",
    "        df_fx.rename(columns={'maxval':'to_USD', 'minval':'from_USD'}, inplace=True)\n",
    "        df_fx = df_fx[['base', 'to_USD', 'from_USD', 'ddate']]\n",
    "        fx_df[fx] = df_fx.convert_dtypes()\n",
    "    \n",
    "    for fx in list({x[int(x[-1]=='USD')-1].upper():x[int(x[0]=='USD')-1].upper() for x in df_other.uom.str.split(r'[-_/]').values }.keys()):\n",
    "        df_other_fx = df_other[df_other.uom.str.contains(fx, flags=re.I)]\n",
    "        df_base = df_other_fx.loc[df.maxval>1, ['ddate', 'maxval']].groupby(by='ddate').mean()\n",
    "        df_base['minval'] = 1/df_base.maxval\n",
    "        df_quote = df_other_fx.loc[df.minval<1, ['ddate', 'minval']].groupby(by='ddate').mean()\n",
    "        df_quote['maxval'] = 1/df_quote.minval\n",
    "        df_fx = pd.concat((df_base, df_quote), axis=0).groupby(by='ddate').mean().reset_index()\n",
    "        df_fx['base'] = fx\n",
    "        df_fx.rename(columns={'maxval':'from_USD', 'minval':'to_USD'}, inplace=True)\n",
    "        df_fx = df_fx[['base', 'to_USD', 'from_USD', 'ddate']]\n",
    "        fx_df[fx] = df_fx.convert_dtypes()\n",
    "    \n",
    "    return fx_df"
   ]
  },
  {
   "cell_type": "markdown",
   "id": "0a5c6448-dbcc-4fc0-a19f-4cac0ff2dcd3",
   "metadata": {},
   "source": [
    "The `closing_fx` table contains point-in-time FX market information.\n",
    "\n",
    "The `average_fx` table contains a four-quarter average of FX rates."
   ]
  },
  {
   "cell_type": "code",
   "execution_count": 7,
   "id": "9deee5cd-8518-425b-866c-c1e4507cf388",
   "metadata": {},
   "outputs": [
    {
     "data": {
      "text/plain": [
       "[(True,)]"
      ]
     },
     "metadata": {},
     "output_type": "display_data"
    },
    {
     "name": "stderr",
     "output_type": "stream",
     "text": [
      "<ipython-input-6-e343598a9137>:7: UserWarning: This pattern has match groups. To actually get the groups, use str.extract.\n",
      "  df_other = df[~df.uom.str.contains('(GBP)|(EUR)', flags=re.I)]\n"
     ]
    },
    {
     "name": "stdout",
     "output_type": "stream",
     "text": [
      "\n",
      "create table if not exists sec_dera.closing_fx (\n",
      "    base varchar,\n",
      "    to_usd double,\n",
      "    from_usd double,\n",
      "    ddate timestamp(3)\n",
      ") with (\n",
      "format = 'parquet',\n",
      "external_location = 's3a://ocp-odh-os-demo-s3/trino/sec_dera/closing_fx/'\n",
      ")\n",
      "\n"
     ]
    },
    {
     "data": {
      "text/plain": [
       "[(True,)]"
      ]
     },
     "metadata": {},
     "output_type": "display_data"
    },
    {
     "name": "stdout",
     "output_type": "stream",
     "text": [
      "\n",
      "create table if not exists sec_dera.average_fx (\n",
      "    base varchar,\n",
      "    to_usd double,\n",
      "    from_usd double,\n",
      "    ddate timestamp(3)\n",
      ") with (\n",
      "format = 'parquet',\n",
      "external_location = 's3a://ocp-odh-os-demo-s3/trino/sec_dera/average_fx/'\n",
      ")\n",
      "\n"
     ]
    }
   ],
   "source": [
    "import io\n",
    "\n",
    "ingest_schema = 'sec_dera'\n",
    "\n",
    "def create_fx_table(df_fx, tbl):\n",
    "    qres = engine.execute(f\"drop table if exists {ingest_schema}.{tbl}\")\n",
    "    display(qres.fetchall())\n",
    "\n",
    "    df = enforce_sql_column_names(pd.concat(create_fx_dict(df_fx).values()))\n",
    "\n",
    "    buf = io.BytesIO()\n",
    "    df.to_parquet(path=buf)\n",
    "    buf.seek(0)\n",
    "    trino_bucket.upload_fileobj(Fileobj=buf,\n",
    "                                Key=f'trino/{ingest_schema}/{tbl}/data.parquet')\n",
    "\n",
    "    columnschema = create_table_schema_pairs(df, typemap={'datetime64[ns]':'timestamp(3)'})\n",
    "    tabledef = f\"\"\"\n",
    "create table if not exists {ingest_schema}.{tbl} (\n",
    "{columnschema}\n",
    ") with (\n",
    "format = 'parquet',\n",
    "external_location = 's3a://{trino_bucket.name}/trino/{ingest_schema}/{tbl}/'\n",
    ")\n",
    "\"\"\"\n",
    "    print(tabledef)\n",
    "\n",
    "    table_create = engine.execute(tabledef)\n",
    "    # display(table_create.fetchall())\n",
    "\n",
    "    if False:\n",
    "        dataset_query = (f'SELECT * FROM {ingest_schema}.{tbl} limit 10')\n",
    "        print(dataset_query)\n",
    "        dataset = engine.execute(dataset_query)\n",
    "        display(dataset.fetchall())\n",
    "\n",
    "for df, tbl in [ (df_closing_fx,'closing_fx'), (df_average_fx,'average_fx') ]:\n",
    "    create_fx_table(df, tbl)"
   ]
  },
  {
   "cell_type": "raw",
   "id": "f2b00942-69ab-4f6e-8021-75aa4a9893e5",
   "metadata": {},
   "source": [
    "# This complicated query helps us figure out how far and wide we need to reach to grab useful FX information\n",
    "\n",
    "qres = engine.execute(\"\"\"\n",
    "select S.adsh, S.cik, name, lei, sic, S.fy, N.ddate, N.uom, N.value as assets,\n",
    "       coalesce(FX.to_usd, FX_1mo.to_usd, FX_2mo.to_usd, FX_3mo.to_usd, FX_avg.to_usd, FX_avg_py.to_usd, FX_avg_1231.to_usd) * N.value as assets_usd,\n",
    "       coalesce(FX.ddate, FX_1mo.ddate, FX_2mo.ddate, FX_3mo.ddate, FX_avg.ddate, FX_avg_py.ddate, FX_avg_1231.ddate) as date_found,\n",
    "       date_diff ('month', coalesce(FX.ddate, FX_1mo.ddate, FX_2mo.ddate, FX_3mo.ddate, FX_avg.ddate, FX_avg_py.ddate, FX_avg_1231.ddate), N.ddate) as date_diff\n",
    "from sec_dera.sub as S\n",
    "     join sec_dera.assets_xyz_by_adsh_ddate as AD on S.adsh=AD.adsh\n",
    "     join sec_dera.num as N on AD.adsh=N.adsh and AD.a_ddate=N.ddate and N.coreg is NULL and N.qtrs=0 and N.tag='Assets'\n",
    "     left join sec_dera.closing_fx FX on N.uom=FX.base and N.ddate=FX.ddate\n",
    "     left join sec_dera.closing_fx FX_1mo on N.uom=FX_1mo.base and date_diff('month', FX_1mo.ddate, N.ddate)=1\n",
    "     left join sec_dera.closing_fx FX_2mo on N.uom=FX_2mo.base and date_diff('month', FX_2mo.ddate, N.ddate)=2\n",
    "     left join sec_dera.closing_fx FX_3mo on N.uom=FX_3mo.base and date_diff('month', FX_3mo.ddate, N.ddate)=3\n",
    "     left join sec_dera.average_fx FX_avg on N.uom=FX_avg.base and N.ddate=FX_avg.ddate\n",
    "     left join sec_dera.average_fx FX_avg_py on N.uom=FX_avg_py.base and N.ddate=date_add('year', 1, FX_avg_py.ddate)\n",
    "     left join sec_dera.average_fx FX_avg_1231 on N.uom=FX_avg_1231.base and DATE(cast (year(N.ddate)-1 as varchar)||'-12-31')=FX_avg_1231.ddate\n",
    "where S.fy>=DATE('2020-01-01')\n",
    "group by S.adsh, S.cik, name, lei, sic, S.fy, N.ddate, N.uom, N.value, coalesce(FX.to_usd, FX_1mo.to_usd, FX_2mo.to_usd, FX_3mo.to_usd, FX_avg.to_usd, FX_avg_py.to_usd, FX_avg_1231.to_usd) * N.value,\n",
    "        coalesce(FX.ddate, FX_1mo.ddate, FX_2mo.ddate, FX_3mo.ddate, FX_avg.ddate, FX_avg_py.ddate, FX_avg_1231.ddate),\n",
    "        date_diff ('month', coalesce(FX.ddate, FX_1mo.ddate, FX_2mo.ddate, FX_3mo.ddate, FX_avg.ddate, FX_avg_py.ddate, FX_avg_1231.ddate), N.ddate)\n",
    "having coalesce(FX.ddate, FX_1mo.ddate, FX_2mo.ddate, FX_3mo.ddate, FX_avg.ddate, FX_avg_py.ddate, FX_avg_1231.ddate) is null or date_diff ('month', coalesce(FX.ddate, FX_1mo.ddate, FX_2mo.ddate, FX_3mo.ddate, FX_avg.ddate, FX_avg_py.ddate, FX_avg_1231.ddate), N.ddate)!=0\n",
    "order by S.name, S.adsh, N.ddate, N.uom\n",
    "\"\"\")\n",
    "l = qres.fetchall()"
   ]
  },
  {
   "cell_type": "raw",
   "id": "3be96c12-cfb8-4453-8c09-89fe271bddf4",
   "metadata": {},
   "source": [
    "import pandas as pd\n",
    "\n",
    "df = pd.read_sql(\"\"\"\n",
    "select S.adsh, S.cik, name, lei, sic, S.fy, N.ddate, N.uom, N.value as assets,\n",
    "       coalesce(FX.to_usd, FX_1mo.to_usd, FX_2mo.to_usd, FX_3mo.to_usd, FX_avg.to_usd, FX_avg_py.to_usd, FX_avg_1231.to_usd) * N.value as assets_usd\n",
    "from sec_dera.sub as S\n",
    "     join sec_dera.assets_xyz_by_adsh_ddate as AD on S.adsh=AD.adsh\n",
    "     join sec_dera.num as N on AD.adsh=N.adsh and AD.a_ddate=N.ddate\n",
    "          and N.coreg is NULL and N.tag='Assets'\n",
    "     left join sec_dera.closing_fx FX on N.uom=FX.base and N.ddate=FX.ddate\n",
    "     left join sec_dera.closing_fx FX_1mo on N.uom=FX_1mo.base and date_diff('month', FX_1mo.ddate, N.ddate)=1\n",
    "     left join sec_dera.closing_fx FX_2mo on N.uom=FX_2mo.base and date_diff('month', FX_2mo.ddate, N.ddate)=2\n",
    "     left join sec_dera.closing_fx FX_3mo on N.uom=FX_3mo.base and date_diff('month', FX_3mo.ddate, N.ddate)=3\n",
    "     left join sec_dera.average_fx FX_avg on N.uom=FX_avg.base and N.ddate=FX_avg.ddate\n",
    "     left join sec_dera.average_fx FX_avg_py on N.uom=FX_avg_py.base and N.ddate=date_add('year', 1, FX_avg_py.ddate)\n",
    "     left join sec_dera.average_fx FX_avg_1231 on N.uom=FX_avg_1231.base and DATE(cast (year(N.ddate)-1 as varchar)||'-12-31')=FX_avg_1231.ddate\n",
    "where S.fy>=DATE('2020-01-01')\n",
    "\"\"\", engine, index_col=None)\n",
    "df"
   ]
  },
  {
   "cell_type": "raw",
   "id": "915176da-871d-421f-ae7c-6c8819292194",
   "metadata": {},
   "source": [
    "qres = engine.execute(\"select count (*), adsh, uom, tag group by adsh, uom, tag \")"
   ]
  },
  {
   "cell_type": "markdown",
   "id": "864d8afe-6053-4ab2-9418-42d089bb164c",
   "metadata": {},
   "source": [
    "### Revenue\n",
    "\n",
    "For this table and others, we do not yet implement a mechanism for prioritizing amended values over initially reported values.  That is a TODO."
   ]
  },
  {
   "cell_type": "raw",
   "id": "7a3e222a-b460-4859-9fd4-329330b1b1ae",
   "metadata": {},
   "source": [
    "# There are 56 of these and each one has a colorful explanation as to why the report data and the fiscal year are so misaligned\n",
    "\n",
    "engine.execute(\"select S.adsh, cik, fy, name from sec_dera.sub as S where S.form='10-K' and S.fy>=DATE('2018-01-01') and S.fy<DATE('2019-01-01')\").fetchall()"
   ]
  },
  {
   "cell_type": "markdown",
   "id": "713537b4-99e2-4bcc-8569-b6e682d94253",
   "metadata": {},
   "source": [
    "engine.execute(\"select *, if (fp='','fp should not be empty string', '') from sec_dera.sub as S where S.form='10-K' and S.fp!='FY'\").fetchall()"
   ]
  },
  {
   "cell_type": "code",
   "execution_count": 8,
   "id": "5d53b4d4-5f42-472a-aa0d-0f6c8341b796",
   "metadata": {},
   "outputs": [
    {
     "name": "stdout",
     "output_type": "stream",
     "text": [
      "[(True,)]\n"
     ]
    },
    {
     "data": {
      "text/plain": [
       "[(True,)]"
      ]
     },
     "metadata": {},
     "output_type": "display_data"
    },
    {
     "data": {
      "text/plain": [
       "[(True,)]"
      ]
     },
     "metadata": {},
     "output_type": "display_data"
    },
    {
     "data": {
      "text/plain": [
       "[(11162,)]"
      ]
     },
     "metadata": {},
     "output_type": "display_data"
    }
   ],
   "source": [
    "qres = engine.execute(\"drop table if exists sec_dera.t_r\")\n",
    "print(qres.fetchall())\n",
    "\n",
    "qres = engine.execute(\"\"\"\n",
    "create or replace view sec_dera.fy_revenue_usd_by_lei as\n",
    "select S.adsh, cik, name, lei, sic, fy, N.ddate, uom, max(value) as revenue\n",
    "from sec_dera.sub as S join sec_dera.num as N on S.adsh=N.adsh and year(S.fy)=year(N.ddate)\n",
    "where (S.form='10-K' or S.form='20-F' or S.form='40-F')\n",
    "        and S.fy>=DATE('2019-01-01')\n",
    "        and uom='USD'\n",
    "        and coreg is NULL\n",
    "        and qtrs=4\n",
    "        and (N.tag='Revenue'\n",
    "             or N.tag='Revenues'\n",
    "             or N.tag='RevenueFromContractsWithCustomers'\n",
    "             or N.tag='RevenueFromContractWithCustomerIncludingAssessedTax'\n",
    "             or N.tag='RevenueFromContractWithCustomerExcludingAssessedTax'\n",
    "             or N.tag='RevenuesNetOfInterestExpense'\n",
    "             or N.tag='RegulatedAndUnregulatedOperatingRevenue'\n",
    "             or N.tag='RegulatedOperatingRevenuePipelines')\n",
    "group by S.adsh, cik, name, lei, sic, fy, N.ddate, uom\n",
    "\"\"\")\n",
    "display(qres.fetchall())\n",
    "\n",
    "qres = engine.execute(\"\"\"\n",
    "create or replace view sec_dera.fy_revenue_xyz_by_lei as\n",
    "select S.adsh, S.cik, S.name, S.lei, S.sic, S.fy, N.ddate, N.uom, max(N.value) as revenue\n",
    "from sec_dera.sub as S left join sec_dera.fy_revenue_usd_by_lei X on S.adsh=X.adsh\n",
    "     join sec_dera.num as N on S.adsh=N.adsh and year(S.fy)=year(N.ddate) and X.adsh IS NULL\n",
    "where (S.form='10-K' or S.form='20-F' or S.form='40-F')\n",
    "        and S.fy>=DATE('2019-01-01')\n",
    "        and N.uom!='USD'\n",
    "        and coreg is NULL\n",
    "        and qtrs=4\n",
    "        and (N.tag='Revenue'\n",
    "             or N.tag='Revenues'\n",
    "             or N.tag='RevenueFromContractsWithCustomers'\n",
    "             or N.tag='RevenueFromContractWithCustomerIncludingAssessedTax'\n",
    "             or N.tag='RevenueFromContractWithCustomerExcludingAssessedTax'\n",
    "             or N.tag='RevenuesNetOfInterestExpense'\n",
    "             or N.tag='RegulatedAndUnregulatedOperatingRevenue'\n",
    "             or N.tag='RegulatedOperatingRevenuePipelines')\n",
    "group by S.adsh, S.cik, S.name, S.lei, S.sic, S.fy, N.ddate, N.uom\n",
    "\"\"\")\n",
    "display(qres.fetchall())\n",
    "\n",
    "qres = engine.execute(\"\"\"\n",
    "create table sec_dera.t_r as\n",
    "select V_USD.*, V_USD.revenue as revenue_usd\n",
    "from sec_dera.fy_revenue_usd_by_lei as V_USD\n",
    "UNION ALL\n",
    "select V_XYZ.*, coalesce(FX.to_usd, FX_1mo.to_usd, FX_2mo.to_usd, FX_3mo.to_usd, FX_avg.to_usd, FX_avg_py.to_usd, FX_avg_1231.to_usd) * V_XYZ.revenue as revenue_usd\n",
    "from sec_dera.fy_revenue_xyz_by_lei as V_XYZ\n",
    "     left join sec_dera.closing_fx FX on V_XYZ.uom=FX.base and V_XYZ.ddate=FX.ddate\n",
    "     left join sec_dera.closing_fx FX_1mo on V_XYZ.uom=FX_1mo.base and date_diff('month', FX_1mo.ddate, V_XYZ.ddate)=1\n",
    "     left join sec_dera.closing_fx FX_2mo on V_XYZ.uom=FX_2mo.base and date_diff('month', FX_2mo.ddate, V_XYZ.ddate)=2\n",
    "     left join sec_dera.closing_fx FX_3mo on V_XYZ.uom=FX_3mo.base and date_diff('month', FX_3mo.ddate, V_XYZ.ddate)=3\n",
    "     left join sec_dera.average_fx FX_avg on V_XYZ.uom=FX_avg.base and V_XYZ.ddate=FX_avg.ddate\n",
    "     left join sec_dera.average_fx FX_avg_py on V_XYZ.uom=FX_avg_py.base and V_XYZ.ddate=date_add('year', 1, FX_avg_py.ddate)\n",
    "     left join sec_dera.average_fx FX_avg_1231 on V_XYZ.uom=FX_avg_1231.base and DATE(cast (year(V_XYZ.ddate)-1 as varchar)||'-12-31')=FX_avg_1231.ddate\n",
    "\"\"\")\n",
    "display(qres.fetchall())"
   ]
  },
  {
   "cell_type": "raw",
   "id": "90bc7445-1c43-4ef0-a948-8bae530dd249",
   "metadata": {},
   "source": [
    "engine.execute(\"select * from sec_dera.num where qtrs=4004\").fetchall()"
   ]
  },
  {
   "cell_type": "raw",
   "id": "8a936a2a-d110-431c-8084-7f520ed01b5b",
   "metadata": {},
   "source": [
    "engine.execute(\"select * from sec_dera.sub where adsh='0001628280-21-016934'\").fetchall()"
   ]
  },
  {
   "cell_type": "raw",
   "id": "f4be2556-cee2-48da-849a-272758c208df",
   "metadata": {},
   "source": [
    "engine.execute(\"select * from sec_dera.t_r where name='INDEPENDENT BANK CORP'\").fetchall()"
   ]
  },
  {
   "cell_type": "markdown",
   "id": "fe80a6f7-32f7-4ecc-970d-580fd1bdb2b0",
   "metadata": {},
   "source": [
    "### Float (market cap)\n",
    "\n",
    "TODO: The float calculation reads the reported overall float without regard to share class.  For companies that have multiple associated tickers, this gives wrong results.  And probably very wrong results for BRK.A vs. BRK.B"
   ]
  },
  {
   "cell_type": "raw",
   "id": "36ccac7d-75ce-418a-a4a5-9283d587855c",
   "metadata": {},
   "source": [
    "engine.execute(\"select count (*), tag from sec_dera.num where tag like '%Float%' and tag not like '%Floating%' and tag not like '%Floater%' group by tag order by tag\").fetchall()"
   ]
  },
  {
   "cell_type": "raw",
   "id": "ce7c1afa-d29a-4a9c-8a51-33229cf0e801",
   "metadata": {},
   "source": [
    "engine.execute(\"select count (*) from sec_dera.sub as S join sec_dera.float_by_adsh_ddate as AD on S.adsh=AD.adsh where (S.form!='10-K' and S.form!='20-F')\").fetchall()"
   ]
  },
  {
   "cell_type": "code",
   "execution_count": 9,
   "id": "ab885e9c-d073-4493-8576-0a5bfe151df3",
   "metadata": {},
   "outputs": [
    {
     "data": {
      "text/plain": [
       "[(True,)]"
      ]
     },
     "metadata": {},
     "output_type": "display_data"
    },
    {
     "data": {
      "text/plain": [
       "[(True,)]"
      ]
     },
     "metadata": {},
     "output_type": "display_data"
    },
    {
     "data": {
      "text/plain": [
       "[(True,)]"
      ]
     },
     "metadata": {},
     "output_type": "display_data"
    },
    {
     "data": {
      "text/plain": [
       "[(11170,)]"
      ]
     },
     "metadata": {},
     "output_type": "display_data"
    }
   ],
   "source": [
    "qres = engine.execute(\"drop table if exists sec_dera.t_f\").fetchall()\n",
    "qres = engine.execute(\"\"\"\n",
    "create or replace view sec_dera.float_by_adsh_ddate as\n",
    "select S.adsh, fy, max(ddate) as f_ddate\n",
    "from sec_dera.sub as S join sec_dera.num as N on S.adsh=N.adsh and year(S.fy)=year(N.ddate)\n",
    "where (S.form='10-K' or S.form='20-F' or S.form='40-F')\n",
    "        and S.fy>=DATE('2019-01-01')\n",
    "        and coreg is NULL\n",
    "        and qtrs=0\n",
    "        and (tag='EntityPublicFloat'\n",
    "             or tag='EntitysPublicFloat'\n",
    "             or tag='FreeFloat'\n",
    "             or tag='PublicFloat'\n",
    "             or tag='PublicFloatValue')\n",
    "group by S.adsh, fy\n",
    "\"\"\")\n",
    "display(qres.fetchall())\n",
    "\n",
    "qres = engine.execute(\"\"\"\n",
    "create or replace view sec_dera.float_usd_by_lei as\n",
    "select S.adsh, S.cik, name, lei, tname, sic, S.fy, N.ddate, uom, max(value) as market_cap\n",
    "from sec_dera.sub as S\n",
    "     join sec_dera.float_by_adsh_ddate as AD on S.adsh=AD.adsh\n",
    "     join sec_dera.num as N on AD.adsh=N.adsh and AD.f_ddate=N.ddate\n",
    "     left join sec_dera.ticker T on S.cik=T.cik\n",
    "     -- we already know we are looking at the correct S.form type\n",
    "where value>0\n",
    "      and uom='USD'\n",
    "      and coreg is NULL\n",
    "      and qtrs=0\n",
    "      and (tag='EntityPublicFloat'\n",
    "           or tag='EntitysPublicFloat'\n",
    "           or tag='FreeFloat'\n",
    "           or tag='PublicFloat'\n",
    "           or tag='PublicFloatValue')\n",
    "group by S.adsh, S.cik, name, lei, tname, sic, S.fy, N.ddate, uom\n",
    "\"\"\")\n",
    "display(qres.fetchall())\n",
    "\n",
    "qres = engine.execute(\"\"\"\n",
    "create or replace view sec_dera.float_xyz_by_lei as\n",
    "select S.adsh, S.cik, name, lei, tname, sic, S.fy, N.ddate, uom, max(value) as market_cap\n",
    "from sec_dera.sub as S\n",
    "     join sec_dera.float_by_adsh_ddate as AD on S.adsh=AD.adsh\n",
    "     join sec_dera.num as N on AD.adsh=N.adsh and AD.f_ddate=N.ddate\n",
    "     left join sec_dera.ticker T on S.cik=T.cik\n",
    "     -- we already know we are looking at the correct S.form type\n",
    "where value>0\n",
    "      and uom!='USD'\n",
    "      and coreg is NULL\n",
    "      and qtrs=0\n",
    "      and (tag='EntityPublicFloat'\n",
    "           or tag='EntitysPublicFloat'\n",
    "           or tag='FreeFloat'\n",
    "           or tag='PublicFloat'\n",
    "           or tag='PublicFloatValue')\n",
    "group by S.adsh, S.cik, name, lei, tname, sic, S.fy, N.ddate, uom\n",
    "\"\"\")\n",
    "display(qres.fetchall())\n",
    "\n",
    "qres = engine.execute(\"\"\"\n",
    "create table sec_dera.t_f as\n",
    "select V_USD.*, V_USD.market_cap as market_cap_usd\n",
    "from sec_dera.float_usd_by_lei as V_USD\n",
    "UNION ALL\n",
    "select V_XYZ.*, coalesce(FX.to_usd, FX_1mo.to_usd, FX_2mo.to_usd, FX_3mo.to_usd, FX_avg.to_usd, FX_avg_py.to_usd, FX_avg_1231.to_usd) * V_XYZ.market_cap as market_cap_usd\n",
    "from sec_dera.float_xyz_by_lei as V_XYZ\n",
    "     left join sec_dera.closing_fx FX on V_XYZ.uom=FX.base and V_XYZ.ddate=FX.ddate\n",
    "     left join sec_dera.closing_fx FX_1mo on V_XYZ.uom=FX_1mo.base and date_diff('month', FX_1mo.ddate, V_XYZ.ddate)=1\n",
    "     left join sec_dera.closing_fx FX_2mo on V_XYZ.uom=FX_2mo.base and date_diff('month', FX_2mo.ddate, V_XYZ.ddate)=2\n",
    "     left join sec_dera.closing_fx FX_3mo on V_XYZ.uom=FX_3mo.base and date_diff('month', FX_3mo.ddate, V_XYZ.ddate)=3\n",
    "     left join sec_dera.average_fx FX_avg on V_XYZ.uom=FX_avg.base and V_XYZ.ddate=FX_avg.ddate\n",
    "     left join sec_dera.average_fx FX_avg_py on V_XYZ.uom=FX_avg_py.base and V_XYZ.ddate=date_add('year', 1, FX_avg_py.ddate)\n",
    "     left join sec_dera.average_fx FX_avg_1231 on V_XYZ.uom=FX_avg_1231.base and DATE(cast (year(V_XYZ.ddate)-1 as varchar)||'-12-31')=FX_avg_1231.ddate\n",
    "\"\"\")\n",
    "display(qres.fetchall())"
   ]
  },
  {
   "cell_type": "raw",
   "id": "578068b7-1b4d-4bc9-8fd8-ff25a1b1b186",
   "metadata": {},
   "source": [
    "engine.execute(\"select * from sec_dera.t_f where name='INDEPENDENT BANK CORP'\").fetchall()"
   ]
  },
  {
   "cell_type": "markdown",
   "id": "76fa3e45-b00b-4755-a1d7-04b3514ade2a",
   "metadata": {},
   "source": [
    "### Cash"
   ]
  },
  {
   "cell_type": "code",
   "execution_count": 10,
   "id": "f1291683-5a8e-4ae2-aa32-dc99f4eba8dd",
   "metadata": {},
   "outputs": [
    {
     "name": "stdout",
     "output_type": "stream",
     "text": [
      "[(True,)]\n"
     ]
    },
    {
     "data": {
      "text/plain": [
       "[(True,)]"
      ]
     },
     "metadata": {},
     "output_type": "display_data"
    },
    {
     "data": {
      "text/plain": [
       "[(True,)]"
      ]
     },
     "metadata": {},
     "output_type": "display_data"
    },
    {
     "data": {
      "text/plain": [
       "[(13224,)]"
      ]
     },
     "metadata": {},
     "output_type": "display_data"
    }
   ],
   "source": [
    "qres = engine.execute(\"drop table if exists sec_dera.t_c\").fetchall()\n",
    "qres = engine.execute(\"\"\"\n",
    "create or replace view sec_dera.cash_by_adsh_ddate as\n",
    "select S.adsh, fy, max(ddate) as c_ddate\n",
    "from sec_dera.sub as S join sec_dera.num as N on S.adsh=N.adsh and year(S.fy)=year(N.ddate)\n",
    "where (S.form='10-K' or S.form='20-F' or S.form='40-F')\n",
    "        and S.fy>=DATE('2019-01-01')\n",
    "        and coreg is NULL\n",
    "        and qtrs=0\n",
    "        and (tag='Cash'\n",
    "             or tag='CashAndDueFromBanks'\n",
    "             or tag='CashAndCashEquivalents'\n",
    "             or lower(tag)=lower('CashAndCashEquivalentsUnrestricted')\n",
    "             or tag='CashEquivalentsAtCarryingValue' \n",
    "             or tag='CashAndCashEquivalentsAtCarryingValue'\n",
    "             or tag='CashAndCashEquivalentsAtCarryingValueExcludingVariableInterestEntities')\n",
    "group by S.adsh, fy\n",
    "\"\"\")\n",
    "print(qres.fetchall())\n",
    "\n",
    "qres = engine.execute(\"\"\"\n",
    "create or replace view sec_dera.cash_usd_by_lei as\n",
    "select S.adsh, S.cik, name, lei, sic, S.fy, N.ddate, uom, max(value) as cash\n",
    "from sec_dera.sub as S\n",
    "     join sec_dera.cash_by_adsh_ddate as AD on S.adsh=AD.adsh -- and S.fy=AD.fy\n",
    "     join sec_dera.num as N on AD.adsh=N.adsh and AD.c_ddate=N.ddate\n",
    "where coreg is NULL\n",
    "      and uom='USD'\n",
    "      and qtrs=0\n",
    "      and (tag='Cash'\n",
    "             or tag='CashAndDueFromBanks'\n",
    "             or tag='CashAndCashEquivalents'\n",
    "             or lower(tag)=lower('CashAndCashEquivalentsUnrestricted')\n",
    "             or tag='CashEquivalentsAtCarryingValue' \n",
    "             or tag='CashAndCashEquivalentsAtCarryingValue'\n",
    "             or tag='CashAndCashEquivalentsAtCarryingValueExcludingVariableInterestEntities')\n",
    "group by S.adsh, S.cik, name, lei, sic, S.fy, N.ddate, uom\n",
    "\"\"\")\n",
    "display(qres.fetchall())\n",
    "\n",
    "qres = engine.execute(\"\"\"\n",
    "create or replace view sec_dera.cash_xyz_by_lei as\n",
    "select S.adsh, S.cik, name, lei, sic, S.fy, N.ddate, uom, max(value) as cash\n",
    "from sec_dera.sub as S\n",
    "     join sec_dera.cash_by_adsh_ddate as AD on S.adsh=AD.adsh -- and S.fy=AD.fy\n",
    "     join sec_dera.num as N on AD.adsh=N.adsh and AD.c_ddate=N.ddate\n",
    "where coreg is NULL\n",
    "      and uom!='USD'\n",
    "      and qtrs=0\n",
    "      and (tag='Cash'\n",
    "             or tag='CashAndDueFromBanks'\n",
    "             or tag='CashAndCashEquivalents'\n",
    "             or lower(tag)=lower('CashAndCashEquivalentsUnrestricted')\n",
    "             or tag='CashEquivalentsAtCarryingValue' \n",
    "             or tag='CashAndCashEquivalentsAtCarryingValue'\n",
    "             or tag='CashAndCashEquivalentsAtCarryingValueExcludingVariableInterestEntities')\n",
    "group by S.adsh, S.cik, name, lei, sic, S.fy, N.ddate, uom\n",
    "\"\"\")\n",
    "display(qres.fetchall())\n",
    "\n",
    "qres = engine.execute(\"\"\"\n",
    "create table sec_dera.t_c as\n",
    "select V_USD.*, V_USD.cash as cash_usd\n",
    "from sec_dera.cash_usd_by_lei as V_USD\n",
    "UNION ALL\n",
    "select V_XYZ.*, coalesce(FX.to_usd, FX_1mo.to_usd, FX_2mo.to_usd, FX_3mo.to_usd, FX_avg.to_usd, FX_avg_py.to_usd, FX_avg_1231.to_usd) * V_XYZ.cash as cash_usd\n",
    "from sec_dera.cash_xyz_by_lei as V_XYZ\n",
    "     left join sec_dera.closing_fx FX on V_XYZ.uom=FX.base and V_XYZ.ddate=FX.ddate\n",
    "     left join sec_dera.closing_fx FX_1mo on V_XYZ.uom=FX_1mo.base and date_diff('month', FX_1mo.ddate, V_XYZ.ddate)=1\n",
    "     left join sec_dera.closing_fx FX_2mo on V_XYZ.uom=FX_2mo.base and date_diff('month', FX_2mo.ddate, V_XYZ.ddate)=2\n",
    "     left join sec_dera.closing_fx FX_3mo on V_XYZ.uom=FX_3mo.base and date_diff('month', FX_3mo.ddate, V_XYZ.ddate)=3\n",
    "     left join sec_dera.average_fx FX_avg on V_XYZ.uom=FX_avg.base and V_XYZ.ddate=FX_avg.ddate\n",
    "     left join sec_dera.average_fx FX_avg_py on V_XYZ.uom=FX_avg_py.base and V_XYZ.ddate=date_add('year', 1, FX_avg_py.ddate)\n",
    "     left join sec_dera.average_fx FX_avg_1231 on V_XYZ.uom=FX_avg_1231.base and DATE(cast (year(V_XYZ.ddate)-1 as varchar)||'-12-31')=FX_avg_1231.ddate\n",
    "\"\"\")\n",
    "display(qres.fetchall())"
   ]
  },
  {
   "cell_type": "raw",
   "id": "0a570cff-aa7c-40cf-a666-2bd03dcc1588",
   "metadata": {},
   "source": [
    "engine.execute(\"select * from sec_dera.t_c where name='INDEPENDENT BANK CORP'\").fetchall()"
   ]
  },
  {
   "cell_type": "raw",
   "id": "f45575b6-b66e-4ba8-80b4-3471f9b7e98c",
   "metadata": {},
   "source": [
    "engine.execute(\"\"\"\n",
    "select count (*), tag from sec_dera.num\n",
    "where tag='CashAndCashEquivalentsAtCarryingValue' or tag='Cash' or tag='CashEquivalentsAtCarryingValue' or tag='CashAndCashEquivalents'\n",
    "group by tag order by count (*) desc limit 20\n",
    "\"\"\").fetchall()"
   ]
  },
  {
   "cell_type": "markdown",
   "id": "1eb6140f-1d32-4c15-991b-94b5475efd7e",
   "metadata": {},
   "source": [
    "### Debt"
   ]
  },
  {
   "cell_type": "code",
   "execution_count": 11,
   "id": "28cead08-d929-4cef-925f-3cbf4ba61b1f",
   "metadata": {},
   "outputs": [
    {
     "name": "stdout",
     "output_type": "stream",
     "text": [
      "[(True,)]\n"
     ]
    },
    {
     "data": {
      "text/plain": [
       "[(True,)]"
      ]
     },
     "metadata": {},
     "output_type": "display_data"
    },
    {
     "data": {
      "text/plain": [
       "[(True,)]"
      ]
     },
     "metadata": {},
     "output_type": "display_data"
    },
    {
     "data": {
      "text/plain": [
       "[(9441,)]"
      ]
     },
     "metadata": {},
     "output_type": "display_data"
    }
   ],
   "source": [
    "# Reiterating comment embedded below: we should sum 'LongTermDebtNoncurrent' and 'LongTermDebtCurrent' as one term we MAX with others\n",
    "qres = engine.execute(\"drop table if exists sec_dera.t_d\").fetchall()\n",
    "\n",
    "qres = engine.execute(\"\"\"\n",
    "create or replace view sec_dera.debt_by_adsh_ddate as\n",
    "select S.adsh, fy, max(ddate) as d_ddate\n",
    "from sec_dera.sub as S join sec_dera.num as N on S.adsh=N.adsh and year(S.fy)=year(N.ddate)\n",
    "where (S.form='10-K' or S.form='20-F' or S.form='40-F')\n",
    "        and S.fy>=DATE('2019-01-01')\n",
    "        and coreg is NULL\n",
    "        and qtrs=0\n",
    "        and (tag='LongTermDebt' or tag='LongTermDebtFairValue'\n",
    "             or tag='LongTermDebtAndCapitalLeaseObligations' or tag='DebtAndCapitalLeaseObligations'\n",
    "             or tag='DebtLongtermAndShorttermCombinedAmount' or tag='SecuredDebt' or tag='UnsecuredDebt'\n",
    "             or tag='OperatingLeaseLiabilityNoncurrent'\n",
    "             or tag='SubordinatedDebt' or tag='ConvertibleDebt'\n",
    "             or tag='LongTermLineOfCredit' or tag='OtherBorrowings' or tag='NotesAndLoansReceivableNetNoncurrent'\n",
    "             -- NOTE: A MORE ACCURATE ANSWER COMES FROM SUMMING THESE TWO AND COMPARING WITH THE ABOVE (ALREADY-COMBINED) DEBT METRICS\n",
    "             or tag='LongTermDebtNoncurrent' or tag='LongTermDebtCurrent')\n",
    "group by S.adsh, fy\n",
    "\"\"\")\n",
    "print(qres.fetchall())\n",
    "\n",
    "qres = engine.execute(\"\"\"\n",
    "create or replace view sec_dera.debt_usd_by_lei as\n",
    "select S.adsh, S.cik, name, lei, sic, S.fy, N.ddate, uom, max(value) as debt\n",
    "from sec_dera.sub as S\n",
    "     join sec_dera.debt_by_adsh_ddate as AD on S.adsh=AD.adsh\n",
    "     join sec_dera.num as N on AD.adsh=N.adsh and AD.d_ddate=N.ddate\n",
    "where coreg is NULL\n",
    "      and uom='USD'\n",
    "      and qtrs=0\n",
    "      and (tag='LongTermDebt' or tag='LongTermDebtFairValue'\n",
    "           or tag='LongTermDebtAndCapitalLeaseObligations' or tag='DebtAndCapitalLeaseObligations'\n",
    "           or tag='DebtLongtermAndShorttermCombinedAmount' or tag='SecuredDebt' or tag='UnsecuredDebt'\n",
    "           or tag='OperatingLeaseLiabilityNoncurrent'\n",
    "           or tag='SubordinatedDebt' or tag='ConvertibleDebt'\n",
    "           or tag='LongTermLineOfCredit' or tag='OtherBorrowings' or tag='NotesAndLoansReceivableNetNoncurrent'\n",
    "           -- NOTE: A MORE ACCURATE ANSWER COMES FROM SUMMING THESE TWO AND COMPARING WITH THE ABOVE (ALREADY-COMBINED) DEBT METRICS\n",
    "           or tag='LongTermDebtNoncurrent' or tag='LongTermDebtCurrent')\n",
    "group by S.adsh, S.cik, name, lei, sic, S.fy, N.ddate, uom\n",
    "\"\"\")\n",
    "display(qres.fetchall())\n",
    "\n",
    "qres = engine.execute(\"\"\"\n",
    "create or replace view sec_dera.debt_xyz_by_lei as\n",
    "select S.adsh, S.cik, name, lei, sic, S.fy, N.ddate, uom, max(value) as debt\n",
    "from sec_dera.sub as S\n",
    "     join sec_dera.debt_by_adsh_ddate as AD on S.adsh=AD.adsh\n",
    "     join sec_dera.num as N on AD.adsh=N.adsh and AD.d_ddate=N.ddate\n",
    "where coreg is NULL\n",
    "      and uom!='USD'\n",
    "      and qtrs=0\n",
    "      and (tag='LongTermDebt' or tag='LongTermDebtFairValue'\n",
    "           or tag='LongTermDebtAndCapitalLeaseObligations' or tag='DebtAndCapitalLeaseObligations'\n",
    "           or tag='DebtLongtermAndShorttermCombinedAmount' or tag='SecuredDebt' or tag='UnsecuredDebt'\n",
    "           or tag='OperatingLeaseLiabilityNoncurrent'\n",
    "           or tag='SubordinatedDebt' or tag='ConvertibleDebt'\n",
    "           or tag='LongTermLineOfCredit' or tag='OtherBorrowings' or tag='NotesAndLoansReceivableNetNoncurrent'\n",
    "           -- NOTE: A MORE ACCURATE ANSWER COMES FROM SUMMING THESE TWO AND COMPARING WITH THE ABOVE (ALREADY-COMBINED) DEBT METRICS\n",
    "           or tag='LongTermDebtNoncurrent' or tag='LongTermDebtCurrent')\n",
    "group by S.adsh, S.cik, name, lei, sic, S.fy, N.ddate, uom\n",
    "\"\"\")\n",
    "display(qres.fetchall())\n",
    "\n",
    "qres = engine.execute(\"\"\"\n",
    "create table sec_dera.t_d as\n",
    "select V_USD.*, V_USD.debt as debt_usd\n",
    "from sec_dera.debt_usd_by_lei as V_USD\n",
    "UNION ALL\n",
    "select V_XYZ.*, coalesce(FX.to_usd, FX_1mo.to_usd, FX_2mo.to_usd, FX_3mo.to_usd, FX_avg.to_usd, FX_avg_py.to_usd, FX_avg_1231.to_usd) * V_XYZ.debt as debt_usd\n",
    "from sec_dera.debt_xyz_by_lei as V_XYZ\n",
    "     left join sec_dera.closing_fx FX on V_XYZ.uom=FX.base and V_XYZ.ddate=FX.ddate\n",
    "     left join sec_dera.closing_fx FX_1mo on V_XYZ.uom=FX_1mo.base and date_diff('month', FX_1mo.ddate, V_XYZ.ddate)=1\n",
    "     left join sec_dera.closing_fx FX_2mo on V_XYZ.uom=FX_2mo.base and date_diff('month', FX_2mo.ddate, V_XYZ.ddate)=2\n",
    "     left join sec_dera.closing_fx FX_3mo on V_XYZ.uom=FX_3mo.base and date_diff('month', FX_3mo.ddate, V_XYZ.ddate)=3\n",
    "     left join sec_dera.average_fx FX_avg on V_XYZ.uom=FX_avg.base and V_XYZ.ddate=FX_avg.ddate\n",
    "     left join sec_dera.average_fx FX_avg_py on V_XYZ.uom=FX_avg_py.base and V_XYZ.ddate=date_add('year', 1, FX_avg_py.ddate)\n",
    "     left join sec_dera.average_fx FX_avg_1231 on V_XYZ.uom=FX_avg_1231.base and DATE(cast (year(V_XYZ.ddate)-1 as varchar)||'-12-31')=FX_avg_1231.ddate\n",
    "\"\"\")\n",
    "display(qres.fetchall())"
   ]
  },
  {
   "cell_type": "raw",
   "id": "7744303e-8342-44ba-8e5b-d9a21af402a5",
   "metadata": {},
   "source": [
    "engine.execute(\"select * from sec_dera.t_d where name='INDEPENDENT BANK CORP'\").fetchall()"
   ]
  },
  {
   "cell_type": "raw",
   "id": "544f7563-8c36-4de9-b9d9-dfff6e66ce4f",
   "metadata": {},
   "source": [
    "engine.execute(\"\"\"\n",
    "select count (*), tag from sec_dera.num\n",
    "where tag='LongTermDebt' or tag='LongTermDebtFairValue' or tag='LongTermDebtAndCapitalLeaseObligations'\n",
    "or tag='DebtLongtermAndShorttermCombinedAmount' or tag='SecuredDebt' or tag='UnsecuredDebt' or tag='SubordinatedDebt' or tag='ConvertibleDebt'\n",
    "group by tag order by count (*) desc\n",
    "\"\"\").fetchall()"
   ]
  },
  {
   "cell_type": "raw",
   "id": "15e1c83d-c4ca-4747-aee9-b14b4234fcf9",
   "metadata": {},
   "source": [
    "l = engine.execute(\"\"\"\n",
    "select name, sic, round(value/1000000.0,1), uom, ddate, nciks, aciks\n",
    "from sec_dera.sub as S join sec_dera.num as N\n",
    "on S.adsh=N.adsh\n",
    "where form='10-K' and fy=DATE('2020-01-01') and tag='DebtLongtermAndShorttermCombinedAmount' order by value desc limit 20\n",
    "\"\"\").fetchall()"
   ]
  },
  {
   "cell_type": "raw",
   "id": "1789cde7-c148-4469-952c-f1d2acb27733",
   "metadata": {},
   "source": [
    "l = engine.execute(\"\"\"\n",
    "select name, form, tag, value, uom, fy, qtrs, coreg\n",
    "from sec_dera.sub S join sec_dera.num as N\n",
    "on S.adsh=N.adsh\n",
    "where (form='10-K' or form='20-F') and fy >= ddate and date_add('year', -1, fy) < ddate\n",
    "and (N.tag='Revenues'\n",
    "     or N.tag='RevenueFromContractWithCustomerIncludingAssessedTax'\n",
    "     or N.tag='RevenueFromContractWithCustomerExcludingAssessedTax'\n",
    "     or N.tag='RevenuesNetOfInterestExpense'\n",
    "     or N.tag='RegulatedAndUnregulatedOperatingRevenue'\n",
    "     or N.tag='RegulatedOperatingRevenuePipelines')\n",
    "order by name\n",
    "\"\"\").fetchall()\n",
    "len(l)"
   ]
  },
  {
   "cell_type": "markdown",
   "id": "d1748b64-52d4-4a58-8d5e-183e02eb68de",
   "metadata": {},
   "source": [
    "### Assets"
   ]
  },
  {
   "cell_type": "raw",
   "id": "46f40ef6-29bc-463f-8a85-3ee05ac60a7b",
   "metadata": {},
   "source": [
    "qres = engine.execute(\"\"\"\n",
    "select count (*), form, uom\n",
    "from sec_dera.sub as S join sec_dera.num as N on S.adsh=N.adsh and year(S.fy)=year(N.ddate)\n",
    "where (S.form='10-K' or form='20-F' or form='40-F')\n",
    "        and S.fy>=DATE('2019-01-01')\n",
    "        and coreg is NULL\n",
    "        and qtrs=0\n",
    "        and tag='Assets'\n",
    "group by form, uom\n",
    "order by form, count (*) desc\n",
    "\"\"\")\n",
    "display(qres.fetchall())"
   ]
  },
  {
   "cell_type": "raw",
   "id": "00168d91-5ff4-4934-884c-e54b930cc1e7",
   "metadata": {},
   "source": [
    "qres = engine.execute(\"\"\"\n",
    "select S.adsh, S.cik, name, lei, sic, S.fy, N.ddate, uom, value as assets, FX.value * value as assets_usd\n",
    "from sec_dera.sub as S\n",
    "     join sec_dera.assets_xyz_by_adsh_ddate as AD on S.adsh=AD.adsh\n",
    "     join sec_dera.num as N on AD.adsh=N.adsh and AD.a_ddate=N.ddate\n",
    "     join sec_dera.num as FX on N.ddate=FX.ddate\n",
    "where N.coreg is NULL\n",
    "      and N.qtrs=0\n",
    "      and N.tag='Assets'\n",
    "      and FX.qtrs=0\n",
    "      and FX.tag=\n",
    "\"\"\")\n",
    "print(qres.fetchall())"
   ]
  },
  {
   "cell_type": "code",
   "execution_count": 12,
   "id": "4220baec-9485-4721-a4e9-bbe78487f2c7",
   "metadata": {},
   "outputs": [
    {
     "name": "stdout",
     "output_type": "stream",
     "text": [
      "[(True,)]\n"
     ]
    },
    {
     "data": {
      "text/plain": [
       "[(True,)]"
      ]
     },
     "metadata": {},
     "output_type": "display_data"
    },
    {
     "data": {
      "text/plain": [
       "[(True,)]"
      ]
     },
     "metadata": {},
     "output_type": "display_data"
    },
    {
     "data": {
      "text/plain": [
       "[(True,)]"
      ]
     },
     "metadata": {},
     "output_type": "display_data"
    },
    {
     "data": {
      "text/plain": [
       "[(13484,)]"
      ]
     },
     "metadata": {},
     "output_type": "display_data"
    }
   ],
   "source": [
    "qres = engine.execute(\"drop table if exists sec_dera.t_a\")\n",
    "print(qres.fetchall())\n",
    "\n",
    "qres = engine.execute(\"\"\"\n",
    "create or replace view sec_dera.assets_by_adsh_ddate as\n",
    "select S.adsh, fy, max(ddate) as d_ddate\n",
    "from sec_dera.sub as S join sec_dera.num as N on S.adsh=N.adsh and year(S.fy)=year(N.ddate)\n",
    "where (S.form='10-K' or S.form='20-F' or S.form='40-F')\n",
    "        and S.fy>=DATE('2019-01-01')\n",
    "        and coreg is NULL\n",
    "        and qtrs=0\n",
    "        and tag='Assets'\n",
    "group by S.adsh, fy\n",
    "\"\"\")\n",
    "display(qres.fetchall())\n",
    "\n",
    "qres = engine.execute(\"\"\"\n",
    "create or replace view sec_dera.assets_usd_by_lei as\n",
    "select S.adsh, S.cik, name, lei, sic, S.fy, N.ddate, uom, max(value) as assets\n",
    "from sec_dera.sub as S\n",
    "     join sec_dera.assets_by_adsh_ddate as AD on S.adsh=AD.adsh\n",
    "     join sec_dera.num as N on AD.adsh=N.adsh and AD.d_ddate=N.ddate\n",
    "where coreg is NULL\n",
    "      and uom='USD'\n",
    "      and qtrs=0\n",
    "      and tag='Assets'\n",
    "group by S.adsh, S.cik, name, lei, sic, S.fy, N.ddate, uom\n",
    "\"\"\")\n",
    "display(qres.fetchall())\n",
    "\n",
    "qres = engine.execute(\"\"\"\n",
    "create or replace view sec_dera.assets_xyz_by_lei as\n",
    "select S.adsh, S.cik, name, lei, sic, S.fy, N.ddate, uom, max(value) as assets\n",
    "from sec_dera.sub as S\n",
    "     join sec_dera.assets_by_adsh_ddate as AD on S.adsh=AD.adsh\n",
    "     join sec_dera.num as N on AD.adsh=N.adsh and AD.d_ddate=N.ddate\n",
    "where coreg is NULL\n",
    "      and uom!='USD'\n",
    "      and qtrs=0\n",
    "      and tag='Assets'\n",
    "group by S.adsh, S.cik, name, lei, sic, S.fy, N.ddate, uom\n",
    "\"\"\")\n",
    "display(qres.fetchall())\n",
    "\n",
    "qres = engine.execute(\"\"\"\n",
    "create table sec_dera.t_a as\n",
    "select V_USD.*, V_USD.assets as assets_usd\n",
    "from sec_dera.assets_usd_by_lei as V_USD\n",
    "UNION ALL\n",
    "select V_XYZ.*, coalesce(FX.to_usd, FX_1mo.to_usd, FX_2mo.to_usd, FX_3mo.to_usd, FX_avg.to_usd, FX_avg_py.to_usd, FX_avg_1231.to_usd) * V_XYZ.assets as assets_usd\n",
    "from sec_dera.assets_xyz_by_lei as V_XYZ\n",
    "     left join sec_dera.closing_fx FX on V_XYZ.uom=FX.base and V_XYZ.ddate=FX.ddate\n",
    "     left join sec_dera.closing_fx FX_1mo on V_XYZ.uom=FX_1mo.base and date_diff('month', FX_1mo.ddate, V_XYZ.ddate)=1\n",
    "     left join sec_dera.closing_fx FX_2mo on V_XYZ.uom=FX_2mo.base and date_diff('month', FX_2mo.ddate, V_XYZ.ddate)=2\n",
    "     left join sec_dera.closing_fx FX_3mo on V_XYZ.uom=FX_3mo.base and date_diff('month', FX_3mo.ddate, V_XYZ.ddate)=3\n",
    "     left join sec_dera.average_fx FX_avg on V_XYZ.uom=FX_avg.base and V_XYZ.ddate=FX_avg.ddate\n",
    "     left join sec_dera.average_fx FX_avg_py on V_XYZ.uom=FX_avg_py.base and V_XYZ.ddate=date_add('year', 1, FX_avg_py.ddate)\n",
    "     left join sec_dera.average_fx FX_avg_1231 on V_XYZ.uom=FX_avg_1231.base and DATE(cast (year(V_XYZ.ddate)-1 as varchar)||'-12-31')=FX_avg_1231.ddate\n",
    "\"\"\")\n",
    "display(qres.fetchall())"
   ]
  },
  {
   "cell_type": "markdown",
   "id": "4f2e7b0b-9065-4c66-ab6c-98c035d081eb",
   "metadata": {},
   "source": [
    "### Income (Annual Profit / Loss)"
   ]
  },
  {
   "cell_type": "code",
   "execution_count": 13,
   "id": "6d4188b1-0237-4acc-960c-c3015e4bd33c",
   "metadata": {},
   "outputs": [
    {
     "name": "stdout",
     "output_type": "stream",
     "text": [
      "[(True,)]\n",
      "[(True,)]\n",
      "[(True,)]\n"
     ]
    },
    {
     "data": {
      "text/plain": [
       "[(True,)]"
      ]
     },
     "metadata": {},
     "output_type": "display_data"
    },
    {
     "data": {
      "text/plain": [
       "[(True,)]"
      ]
     },
     "metadata": {},
     "output_type": "display_data"
    },
    {
     "data": {
      "text/plain": [
       "[(True,)]"
      ]
     },
     "metadata": {},
     "output_type": "display_data"
    },
    {
     "data": {
      "text/plain": [
       "[(13142,)]"
      ]
     },
     "metadata": {},
     "output_type": "display_data"
    }
   ],
   "source": [
    "qres = engine.execute(\"drop table if exists sec_dera.t_i\")\n",
    "print(qres.fetchall())\n",
    "qres = engine.execute(\"drop view if exists sec_dera.sec_dera.income_usd_by_lei\")\n",
    "print(qres.fetchall())\n",
    "qres = engine.execute(\"drop view if exists sec_dera.sec_dera.income_xyz_by_lei\")\n",
    "print(qres.fetchall())\n",
    "\n",
    "qres = engine.execute(\"\"\"\n",
    "create or replace view sec_dera.fy_income_by_adsh_ddate as\n",
    "select S.adsh, fy, max(ddate) as d_ddate\n",
    "from sec_dera.sub as S join sec_dera.num as N on S.adsh=N.adsh and year(S.fy)=year(N.ddate)\n",
    "where (S.form='10-K' or S.form='20-F' or S.form='40-F')\n",
    "        and S.fy>=DATE('2019-01-01')\n",
    "        and coreg is NULL\n",
    "        and qtrs=4\n",
    "        and (tag='ProfitLoss'\n",
    "             or tag='NetIncomeLoss')\n",
    "group by S.adsh, fy\n",
    "\"\"\")\n",
    "display(qres.fetchall())\n",
    "\n",
    "qres = engine.execute(\"\"\"\n",
    "create or replace view sec_dera.fy_income_usd_by_lei as\n",
    "select S.adsh, S.cik, name, lei, sic, S.fy, N.ddate, uom, max(value) as income\n",
    "from sec_dera.sub as S\n",
    "     join sec_dera.fy_income_by_adsh_ddate as AD on S.adsh=AD.adsh\n",
    "     join sec_dera.num as N on AD.adsh=N.adsh and AD.d_ddate=N.ddate\n",
    "where coreg is NULL\n",
    "      and uom='USD'\n",
    "      and qtrs=4\n",
    "      and (tag='ProfitLoss'\n",
    "             or tag='NetIncomeLoss')\n",
    "group by S.adsh, S.cik, name, lei, sic, S.fy, N.ddate, uom\n",
    "\"\"\")\n",
    "display(qres.fetchall())\n",
    "\n",
    "qres = engine.execute(\"\"\"\n",
    "create or replace view sec_dera.fy_income_xyz_by_lei as\n",
    "select S.adsh, S.cik, name, lei, sic, S.fy, N.ddate, uom, max(value) as income\n",
    "from sec_dera.sub as S\n",
    "     join sec_dera.fy_income_by_adsh_ddate as AD on S.adsh=AD.adsh\n",
    "     join sec_dera.num as N on AD.adsh=N.adsh and AD.d_ddate=N.ddate\n",
    "where coreg is NULL\n",
    "      and uom!='USD'\n",
    "      and qtrs=4\n",
    "      and (tag='ProfitLoss'\n",
    "             or tag='NetIncomeLoss')\n",
    "group by S.adsh, S.cik, name, lei, sic, S.fy, N.ddate, uom\n",
    "\"\"\")\n",
    "display(qres.fetchall())\n",
    "\n",
    "qres = engine.execute(\"\"\"\n",
    "create table sec_dera.t_i as\n",
    "select V_USD.*, V_USD.income as income_usd\n",
    "from sec_dera.fy_income_usd_by_lei as V_USD\n",
    "UNION ALL\n",
    "select V_XYZ.*, coalesce(FX.to_usd, FX_1mo.to_usd, FX_2mo.to_usd, FX_3mo.to_usd, FX_avg.to_usd, FX_avg_py.to_usd, FX_avg_1231.to_usd) * V_XYZ.income as income_usd\n",
    "from sec_dera.fy_income_xyz_by_lei as V_XYZ\n",
    "     left join sec_dera.closing_fx FX on V_XYZ.uom=FX.base and V_XYZ.ddate=FX.ddate\n",
    "     left join sec_dera.closing_fx FX_1mo on V_XYZ.uom=FX_1mo.base and date_diff('month', FX_1mo.ddate, V_XYZ.ddate)=1\n",
    "     left join sec_dera.closing_fx FX_2mo on V_XYZ.uom=FX_2mo.base and date_diff('month', FX_2mo.ddate, V_XYZ.ddate)=2\n",
    "     left join sec_dera.closing_fx FX_3mo on V_XYZ.uom=FX_3mo.base and date_diff('month', FX_3mo.ddate, V_XYZ.ddate)=3\n",
    "     left join sec_dera.average_fx FX_avg on V_XYZ.uom=FX_avg.base and V_XYZ.ddate=FX_avg.ddate\n",
    "     left join sec_dera.average_fx FX_avg_py on V_XYZ.uom=FX_avg_py.base and V_XYZ.ddate=date_add('year', 1, FX_avg_py.ddate)\n",
    "     left join sec_dera.average_fx FX_avg_1231 on V_XYZ.uom=FX_avg_1231.base and DATE(cast (year(V_XYZ.ddate)-1 as varchar)||'-12-31')=FX_avg_1231.ddate\n",
    "\"\"\")\n",
    "display(qres.fetchall())"
   ]
  },
  {
   "cell_type": "code",
   "execution_count": 14,
   "id": "adb025fa-9ee6-4b2d-9eeb-8cb6fb5f5f92",
   "metadata": {},
   "outputs": [
    {
     "data": {
      "text/plain": [
       "[(True,)]"
      ]
     },
     "metadata": {},
     "output_type": "display_data"
    },
    {
     "data": {
      "text/plain": [
       "14657"
      ]
     },
     "execution_count": 14,
     "metadata": {},
     "output_type": "execute_result"
    }
   ],
   "source": [
    "qres = engine.execute(\"\"\"\n",
    "create or replace view sec_dera.financials_by_lei as\n",
    "select R.name, R.lei,\n",
    "       F.tname,\n",
    "       R.fy, R.ddate, R.sic, revenue_usd, cash_usd, debt_usd, assets_usd, market_cap_usd, income_usd\n",
    "from sec_dera.t_r as R\n",
    "     left join sec_dera.t_c as C on R.cik=C.cik and R.adsh=C.adsh\n",
    "     left join sec_dera.t_d as D on R.cik=D.cik and R.adsh=D.adsh\n",
    "     left join sec_dera.t_a as A on R.cik=A.cik and R.adsh=A.adsh\n",
    "     left join sec_dera.t_f as F on R.cik=F.cik and R.adsh=F.adsh\n",
    "     left join sec_dera.t_i as I on R.cik=I.cik and R.adsh=I.adsh\n",
    "where tname is null or tname not like '%-%'\n",
    "\"\"\")\n",
    "display(qres.fetchall())\n",
    "\n",
    "qres = engine.execute(\"\"\"\n",
    "select * from sec_dera.financials_by_lei\n",
    "\"\"\")\n",
    "l = qres.fetchall()\n",
    "len(l)"
   ]
  },
  {
   "cell_type": "code",
   "execution_count": 15,
   "id": "b55b602d-5824-4814-a7d9-b14971969865",
   "metadata": {},
   "outputs": [
    {
     "name": "stdout",
     "output_type": "stream",
     "text": [
      "157\n"
     ]
    },
    {
     "data": {
      "text/plain": [
       "[('ELLOMAY CAPITAL LTD.', '254900FHSYEEYLHR7Y05', None, '2020-01-01 00:00:00.000', '2020-12-31 00:00:00.000', 4911, 11841313.188075509, 82066623.12668817, None, 564960163.0257214, None, -7572547.4073664835),\n",
       " ('ENERGY CO OF MINAS GERAIS', None, None, '2019-01-01 00:00:00.000', '2019-12-31 00:00:00.000', 4911, 5941683047.833006, 125432930.82467471, None, 11683515866.329681, None, 732004118.6932509),\n",
       " ('AZURE POWER GLOBAL LTD', '54930085G5UQETD7JX48', None, '2019-01-01 00:00:00.000', '2019-03-31 00:00:00.000', 4911, 143228333.60323888, 152059256.44881436, 994878492.53904, 1570865334.4129555, None, 1991286.5240023136),\n",
       " ('EDENOR', '254900JU7TV6VS9GRW29', None, '2019-01-01 00:00:00.000', '2019-12-31 00:00:00.000', 4911, 1501816563.7001169, 6839906.495241276, None, 1994867406.9126732, None, 202607096.34329605),\n",
       " ('CENTRAL PUERTO S.A.', '2549005JLIWQ6B7VNR38', None, '2020-01-01 00:00:00.000', '2020-12-31 00:00:00.000', 4911, 452859893.04812837, 3311919.1919191917, None, 1882229447.4153297, None, 82684943.55317885),\n",
       " ('ENERGY CO OF PARANA', '2549001AS1I9A71VG663', None, '2020-01-01 00:00:00.000', '2020-12-31 00:00:00.000', 4911, 3219985138.4628677, 556921933.7279129, None, 8084790944.830864, None, 675638311.6602584),\n",
       " ('AZURE POWER GLOBAL LTD', '54930085G5UQETD7JX48', None, '2020-01-01 00:00:00.000', '2020-03-31 00:00:00.000', 4911, 172758379.81164613, 130548700.03979309, 1185084088.8314102, 1765193876.0180397, None, -31157303.10385993),\n",
       " ('KOREA ELECTRIC POWER CORP', '988400QG33WS7JEIV602', None, '2019-01-01 00:00:00.000', '2019-12-31 00:00:00.000', 4911, 50585664190.70651, 1563421143.5481086, None, 170666602176.54172, None, -1955031093.4531007),\n",
       " ('CENTRAL PUERTO S.A.', '2549005JLIWQ6B7VNR38', None, '2019-01-01 00:00:00.000', '2019-12-31 00:00:00.000', 4911, 600447219.9031558, 24943529.804641843, None, 1983569460.6779096, None, 144612706.6288195),\n",
       " ('EDENOR', '254900JU7TV6VS9GRW29', None, '2020-01-01 00:00:00.000', '2020-12-31 00:00:00.000', 4911, 1085157456.9221628, 51836007.13012478, None, 1768223410.5763516, None, 210314913.8443256),\n",
       " ('HUANENG POWER INTERNATIONAL INC', '529900WU0SMVKMPG4V21', None, '2019-01-01 00:00:00.000', '2019-12-31 00:00:00.000', 4911, 24677803228.138638, 1764687831.0957572, None, 60733907055.69968, None, 157164295.5453848),\n",
       " ('TRANSALTA CORP', 'GJZNVO2UY6DNFNIYH321', None, '2019-01-01 00:00:00.000', '2019-12-31 00:00:00.000', 4911, 1800124035.7568765, 315232628.33237165, 250038532.4485478, 7292534866.628199, None, 134990127.94768226),\n",
       " ('FORTIS INC.', '549300MQYQ9Y065XPR71', None, '2020-01-01 00:00:00.000', '2020-12-31 00:00:00.000', 4911, 6951411643.770094, 193721488.44977653, 17981866516.223637, 43164104018.80342, None, 1080639146.4126089),\n",
       " ('ENEL GENERACION CHILE S.A.', None, None, '2019-01-01 00:00:00.000', '2019-12-31 00:00:00.000', 4911, 1995511810.5083206, 18013708.36338382, None, 4790980549.990651, None, 268886479.9529877),\n",
       " ('HUANENG POWER INTERNATIONAL INC', '529900WU0SMVKMPG4V21', None, '2020-01-01 00:00:00.000', '2020-12-31 00:00:00.000', 4911, 18879191633.015144, 1477153691.676821, None, 50126998052.72947, None, 290860928.17809325),\n",
       " ('ENEL CHILE S.A.', '549300YM5CWCAUVOPB53', None, '2020-01-01 00:00:00.000', '2020-12-31 00:00:00.000', 4911, 3584477553.9770727, 467031455.095295, None, 11118182128.138405, None, -73685681.1308812),\n",
       " ('ENEL CHILE S.A.', '549300YM5CWCAUVOPB53', None, '2019-01-01 00:00:00.000', '2019-12-31 00:00:00.000', 4911, 3505324041.7234287, 314774821.70045674, None, 10494949066.431604, None, 422166864.33207786),\n",
       " ('EMERA INC', 'NQZVQT2P5IUF2PGA1Q48', None, '2020-01-01 00:00:00.000', '2020-12-31 00:00:00.000', 4911, 4283656688.371364, 171159548.027915, 9599716650.529287, 24299987832.290443, None, 765549978.452129),\n",
       " ('EMERA INC', 'NQZVQT2P5IUF2PGA1Q48', None, '2019-01-01 00:00:00.000', '2019-12-31 00:00:00.000', 4911, 4687071999.365263, 170271638.66128102, 10491647501.1156, 24422475307.44374, None, 544562447.9707637),\n",
       " ('HYDRO ONE INC', '5493007QZDXTP1W2VL44', None, '2020-01-01 00:00:00.000', '2020-12-31 00:00:00.000', 4911, 5640485105.465381, 553934537.2539794, 12524210927.96989, 23443412094.205288, None, 1400396302.0465775),\n",
       " ('HYDRO ONE LTD', '5493007QZDXTP1W2VL44', None, '2019-01-01 00:00:00.000', '2019-12-31 00:00:00.000', 4911, 4970091074.437392, 23009680.900173113, 10332880702.904406, 20755499161.319485, None, 615125469.3979611),\n",
       " ('HYDRO ONE INC', '5493007QZDXTP1W2VL44', None, '2019-01-01 00:00:00.000', '2019-12-31 00:00:00.000', 4911, 4940945478.6305065, 5368925.543373726, 10332880702.904406, 20645052692.998653, None, 734775810.0788614),\n",
       " ('PAMPA ENERGY INC.', None, None, '2019-01-01 00:00:00.000', '2019-12-31 00:00:00.000', 4911, 2836000000.0, 225000000.0, None, 5684000000.0, None, 800000000.0),\n",
       " ('IDACORP INC', 'N134NUJDWN8UEFA8B673', 'ida', '2020-01-01 00:00:00.000', '2020-12-31 00:00:00.000', 4911, 1350729000.0, 275116000.0, 2000414000.0, 7095244000.0, 4376761183.0, 237968000.0),\n",
       " ('BLACK HILLS POWER INC', '549300WSKCZZU2LB2X28', None, '2019-01-01 00:00:00.000', '2019-12-31 00:00:00.000', 4911, 291219000.0, 6000.0, 340176000.0, 1260357000.0, None, None),\n",
       " ('CALPINE CORP', '43R4VPJBXTU2O15HEF41', None, '2019-01-01 00:00:00.000', '2019-12-31 00:00:00.000', 4911, 10072000000.0, 1131000000.0, 11857000000.0, 16649000000.0, None, 790000000.0),\n",
       " ('EDISON INTERNATIONAL', '549300I7ROF15MAEVP56', 'eix', '2020-01-01 00:00:00.000', '2020-12-31 00:00:00.000', 4911, 13578000000.0, 87000000.0, 23824000000.0, 69372000000.0, 20500000000.0, 871000000.0),\n",
       " ('ENTERGY CORP', '4XM3TW50JULSLG8BNC79', 'etr', '2019-01-01 00:00:00.000', '2019-12-31 00:00:00.000', 4911, 10878673000.0, 425722000.0, 19059950000.0, 51723912000.0, 20500000000.0, 1258244000.0),\n",
       " ('WISCONSIN ELECTRIC POWER CO', 'AENKIFMULUAWOUU8Q584', None, '2020-01-01 00:00:00.000', '2020-12-31 00:00:00.000', 4911, 3367000000.0, 7200000.0, 2761200000.0, 13605200000.0, None, None),\n",
       " ('NEXTERA ENERGY INC', 'UMI46YPGBLUE4VGNNT48', 'nee', '2019-01-01 00:00:00.000', '2019-12-31 00:00:00.000', 4911, 19204000000.0, 600000000.0, 37543000000.0, 117691000000.0, 97905404884.0, 3769000000.0),\n",
       " ('CENTERPOINT ENERGY INC', '21TPXMRRHFKOBHDC8J74', 'cnp', '2019-01-01 00:00:00.000', '2019-12-31 00:00:00.000', 4911, 12301000000.0, 241000000.0, 14244000000.0, 35439000000.0, 14295717409.0, 791000000.0),\n",
       " ('PUGET ENERGY INC', 'SYBSJ96YIDMIUY7WDR33', None, '2020-01-01 00:00:00.000', '2020-12-31 00:00:00.000', 4911, 3326450000.0, 52307000.0, 5892440000.0, 15042965000.0, None, 182717000.0),\n",
       " ('SUMMER ENERGY HOLDINGS INC', '254900B27CF40NWYFV43', None, '2019-01-01 00:00:00.000', '2019-12-31 00:00:00.000', 4911, 166315793.0, 814360.0, 10265289.0, 51497772.0, 33420316.0, -10733089.0),\n",
       " ('ATLANTICA SUSTAINABLE INFRASTRUCTURE PLC', '549300ITBBGKJ651R879', None, '2020-01-01 00:00:00.000', '2020-12-31 00:00:00.000', 4911, 1013260000.0, 868501000.0, None, 9938354000.0, None, 16874000.0),\n",
       " ('ENEL AMERICAS S.A.', '549300LKH11TFCJLZK20', None, '2019-01-01 00:00:00.000', '2019-12-31 00:00:00.000', 4911, 13053376000.0, 1938997000.0, None, 29776384000.0, None, 2169763000.0),\n",
       " ('ALGONQUIN POWER & UTILITIES CORP.', '549300K5VIUTJXQL7X75', None, '2020-01-01 00:00:00.000', '2020-12-31 00:00:00.000', 4911, 1677058000.0, 101614000.0, 7452598000.0, 13223906000.0, None, 782463000.0),\n",
       " ('OGE ENERGY CORP.', 'CE5OG6JPOZMDSA0LAQ19', 'oge', '2020-01-01 00:00:00.000', '2020-12-31 00:00:00.000', 4911, 2122300000.0, 1100000.0, 3494400000.0, 10718800000.0, 6077156282.0, -173700000.0),\n",
       " ('FIRSTENERGY CORP', '549300SVYJS666PQJH88', 'fe', '2020-01-01 00:00:00.000', '2020-12-31 00:00:00.000', 4911, 10790000000.0, 1734000000.0, 22131000000.0, 44464000000.0, 20967401361.0, 1079000000.0),\n",
       " ('PAMPA ENERGY INC.', None, None, '2020-01-01 00:00:00.000', '2020-12-31 00:00:00.000', 4911, 1071000000.0, 141000000.0, None, 4890000000.0, None, -468000000.0),\n",
       " ('HYDRO ONE LTD', '5493007QZDXTP1W2VL44', None, '2020-01-01 00:00:00.000', '2020-12-31 00:00:00.000', 4911, 5671605023.288638, 588944444.805144, 12859528042.515488, 23568669763.443897, None, 1397284310.2642517),\n",
       " ('TRANSALTA CORP', 'GJZNVO2UY6DNFNIYH321', None, '2020-01-01 00:00:00.000', '2020-12-31 00:00:00.000', 4911, 1634573683.6665883, 546932555.7437466, 567938500.2744453, 7583145975.582216, None, -196833480.23210227),\n",
       " ('FORTIS INC.', '549300MQYQ9Y065XPR71', None, '2019-01-01 00:00:00.000', '2019-12-31 00:00:00.000', 4911, 6736467578.207348, 283786064.4354684, 16491038301.15407, 40960299959.7615, None, 1420464300.90402),\n",
       " ('ENERGY CO OF MINAS GERAIS', None, None, '2020-01-01 00:00:00.000', '2020-12-31 00:00:00.000', 4911, 4359614636.88599, 290318399.7926297, None, 9346005961.89571, None, 495096556.78921676),\n",
       " ('BRAZILIAN ELECTRIC POWER CO', None, None, '2020-01-01 00:00:00.000', '2020-12-31 00:00:00.000', 4911, 5025361904.350456, 49528146.19605133, None, 30926936363.243618, None, 1103782434.0087268),\n",
       " ('BRAZILIAN ELECTRIC POWER CO', None, None, '2019-01-01 00:00:00.000', '2019-12-31 00:00:00.000', 4911, 6488235280.351961, 78467424.8806515, None, 41530168257.979965, None, 2514238275.7652345),\n",
       " ('CPFL ENERGY INC', None, None, '2019-01-01 00:00:00.000', '2019-12-31 00:00:00.000', 4911, 7004697650.472713, 453328418.9834316, None, 10315054993.915565, None, 643147290.0870541),\n",
       " ('ENERGY CO OF PARANA', '2549001AS1I9A71VG663', None, '2019-01-01 00:00:00.000', '2019-12-31 00:00:00.000', 4911, 3801430777.871384, 688413133.0150707, None, 8965775063.184498, None, 482745717.49508566),\n",
       " ('ELLOMAY CAPITAL LTD.', '254900FHSYEEYLHR7Y05', None, '2019-01-01 00:00:00.000', '2019-12-31 00:00:00.000', 4911, 21349883.163498838, 50045394.44513218, None, 348753737.128121, None, 11001014.160083875),\n",
       " ('KOREA ELECTRIC POWER CORP', '988400QG33WS7JEIV602', None, '2020-01-01 00:00:00.000', '2020-12-31 00:00:00.000', 4911, 53240659007.35294, 1865426470.5882354, None, 186711499080.88235, None, 1923225183.8235295),\n",
       " ('OGLETHORPE POWER CORP', '3EERXCUSWMS9GV5D9M98', None, '2020-01-01 00:00:00.000', '2020-12-31 00:00:00.000', 4911, 1377618000.0, 405511000.0, 11794978000.0, 14240156000.0, None, 55895000.0),\n",
       " ('TUCSON ELECTRIC POWER CO', 'YLF139GXSRKPBBTNZL03', None, '2019-01-01 00:00:00.000', '2019-12-31 00:00:00.000', 4911, 1418338000.0, 9762000.0, 1522087000.0, 5489157000.0, None, None),\n",
       " ('OGE ENERGY CORP.', 'CE5OG6JPOZMDSA0LAQ19', 'oge', '2019-01-01 00:00:00.000', '2019-12-31 00:00:00.000', 4911, 2231600000.0, 0.0, 3195200000.0, 11024300000.0, 8519482559.0, 433600000.0),\n",
       " ('KENON HOLDINGS LTD.', '254900N5LVBX92GMVN72', None, '2020-01-01 00:00:00.000', '2020-12-31 00:00:00.000', 4911, 386470000.0, 286184000.0, None, 2482333000.0, None, 504225000.0),\n",
       " ('CLEARWAY ENERGY, INC.', '549300C841GHSUPKR373', 'cwen', '2019-01-01 00:00:00.000', '2019-12-31 00:00:00.000', 4911, 1032000000.0, 155000000.0, 4956000000.0, 9700000000.0, 1788899961.0, -11000000.0),\n",
       " ('OCEAN POWER TECHNOLOGIES, INC.', '529900PIW1SG4NP5E125', None, '2019-01-01 00:00:00.000', '2019-04-30 00:00:00.000', 4911, 632000.0, 16660000.0, None, 18366000.0, None, -12246000.0),\n",
       " ('ONCOR ELECTRIC DELIVERY CO LLC', '549300SP2X2BS1KERD24', None, '2019-01-01 00:00:00.000', '2019-12-31 00:00:00.000', 4911, 4347000000.0, 4000000.0, 8017000000.0, 27036000000.0, None, 651000000.0),\n",
       " ('SOUTHERN CO', '549300FC3G3YU2FBZD92', 'so', '2020-01-01 00:00:00.000', '2020-12-31 00:00:00.000', 4911, 21097000000.0, 1065000000.0, 45073000000.0, 122935000000.0, 54800000000.0, 3103000000.0),\n",
       " ('SOUTHERN CO', '549300FC3G3YU2FBZD92', 'soje', '2020-01-01 00:00:00.000', '2020-12-31 00:00:00.000', 4911, 21097000000.0, 1065000000.0, 45073000000.0, 122935000000.0, 54800000000.0, 3103000000.0),\n",
       " ('SOUTHERN CO', '549300FC3G3YU2FBZD92', 'sojc', '2020-01-01 00:00:00.000', '2020-12-31 00:00:00.000', 4911, 21097000000.0, 1065000000.0, 45073000000.0, 122935000000.0, 54800000000.0, 3103000000.0),\n",
       " ('SOUTHERN CO', '549300FC3G3YU2FBZD92', 'sojd', '2020-01-01 00:00:00.000', '2020-12-31 00:00:00.000', 4911, 21097000000.0, 1065000000.0, 45073000000.0, 122935000000.0, 54800000000.0, 3103000000.0),\n",
       " ('SOUTHERN CO', '549300FC3G3YU2FBZD92', 'soln', '2020-01-01 00:00:00.000', '2020-12-31 00:00:00.000', 4911, 21097000000.0, 1065000000.0, 45073000000.0, 122935000000.0, 54800000000.0, 3103000000.0),\n",
       " ('ITC HOLDINGS CORP.', '549300HTO5U9D3SLE207', None, '2019-01-01 00:00:00.000', '2019-12-31 00:00:00.000', 4911, 1327000000.0, 4000000.0, 5807000000.0, 10058000000.0, None, 428000000.0),\n",
       " ('OTTER TAIL CORP', '549300HHVBQRQUVKKD91', 'ottr', '2019-01-01 00:00:00.000', '2019-12-31 00:00:00.000', 4911, 919503000.0, 21199000.0, 695764000.0, 2273595000.0, 2040017347.0, 86847000.0),\n",
       " ('PUGET ENERGY INC', 'SYBSJ96YIDMIUY7WDR33', None, '2019-01-01 00:00:00.000', '2019-12-31 00:00:00.000', 4911, 3401130000.0, 45259000.0, 5920325000.0, 14659863000.0, None, 210708000.0),\n",
       " ('IDACORP INC', 'N134NUJDWN8UEFA8B673', 'ida', '2019-01-01 00:00:00.000', '2019-12-31 00:00:00.000', 4911, 1346383000.0, 217254000.0, 1836659000.0, 6641201000.0, 5017481695.0, 233328000.0),\n",
       " ('PORTLAND GENERAL ELECTRIC CO', 'GJOUP9M7C39GLSK9R870', 'por', '2019-01-01 00:00:00.000', '2019-12-31 00:00:00.000', 4911, 2123000000.0, 30000000.0, 3039000000.0, 8394000000.0, 4823580272.0, 214000000.0),\n",
       " ('BLACK HILLS CORP', '3MGELCRSTNSAMJ962671', 'bkh', '2019-01-01 00:00:00.000', '2019-12-31 00:00:00.000', 4911, 1734900000.0, 9777000.0, 3140096000.0, 7558457000.0, 4727278183.0, 213322000.0),\n",
       " ('NEXTERA ENERGY PARTNERS, LP', '5493008F4ZOQFNG3WN54', 'nep', '2020-01-01 00:00:00.000', '2020-12-31 00:00:00.000', 4911, 917000000.0, 108000000.0, 3388000000.0, 12562000000.0, 3270074217.0, -55000000.0),\n",
       " ('OLD DOMINION ELECTRIC COOPERATIVE', 'SW4VC32Z0ZKLJKPONQ50', None, '2020-01-01 00:00:00.000', '2020-12-31 00:00:00.000', 4911, 807704000.0, 9288000.0, 1374800000.0, 2067644000.0, None, 12166000.0),\n",
       " ('CLEARWAY ENERGY, INC.', '549300C841GHSUPKR373', 'cwen', '2020-01-01 00:00:00.000', '2020-12-31 00:00:00.000', 4911, 1199000000.0, 268000000.0, 7043000000.0, 10592000000.0, 1786941297.0, 25000000.0),\n",
       " ('NRG ENERGY, INC.', '5E2UPK5SW04M13XY7I38', 'nrg', '2019-01-01 00:00:00.000', '2019-12-31 00:00:00.000', 4911, 9821000000.0, 345000000.0, 6042000000.0, 12531000000.0, 7893678070.0, 4441000000.0),\n",
       " ('VISTRA CORP.', '549300KP43CPCUJOOG15', 'vst', '2020-01-01 00:00:00.000', '2020-12-31 00:00:00.000', 4911, 11443000000.0, 406000000.0, 9235000000.0, 25208000000.0, 9084469142.0, 636000000.0),\n",
       " ('CLECO CORPORATE HOLDINGS LLC', '5493002H80P81B3HXL31', None, '2019-01-01 00:00:00.000', '2019-12-31 00:00:00.000', 4911, 1639605000.0, 116292000.0, 400000000.0, 7476298000.0, None, 152665000.0),\n",
       " ('PPL CORP', '9N3UAJSNOUXFKQLF3V18', 'ppl', '2020-01-01 00:00:00.000', '2020-12-31 00:00:00.000', 4911, 7607000000.0, 708000000.0, 23127000000.0, 48116000000.0, 19865342074.0, 1469000000.0),\n",
       " ('CLECO CORPORATE HOLDINGS LLC', '5493002H80P81B3HXL31', None, '2020-01-01 00:00:00.000', '2020-12-31 00:00:00.000', 4911, 1498146000.0, 84976000.0, 3165387000.0, 7725569000.0, None, 122300000.0),\n",
       " ('TENNESSEE VALLEY AUTHORITY', '549300HE1ISW43LNKM54', None, '2019-01-01 00:00:00.000', '2019-09-30 00:00:00.000', 4911, 11318000000.0, 299000000.0, 26059000000.0, 50467000000.0, None, 1417000000.0),\n",
       " ('TRI-STATE GENERATION & TRANSMISSION ASSOCIATION, INC.', '549300VDHNFNPADSSV98', None, '2020-01-01 00:00:00.000', '2020-12-31 00:00:00.000', 4911, 1352295000.0, 127187000.0, 3287768000.0, 5046736000.0, None, 30711000.0),\n",
       " ('IPALCO ENTERPRISES, INC.', '5493000YFVK2DZX0JV43', None, '2020-01-01 00:00:00.000', '2020-12-31 00:00:00.000', 4911, 1352985000.0, 20502000.0, 2651185000.0, 4969919000.0, None, 109967000.0),\n",
       " ('PNM RESOURCES INC', '5493003JOBJGLZSDDQ28', 'pnm', '2020-01-01 00:00:00.000', '2020-12-31 00:00:00.000', 4911, 1523012000.0, 47928000.0, 2719632000.0, 7939854000.0, 3061885307.0, 187316000.0),\n",
       " ('PINNACLE WEST CAPITAL CORP', 'TWSEY0NEDUDCKS27AH81', 'pnw', '2019-01-01 00:00:00.000', '2019-12-31 00:00:00.000', 4911, 3471209000.0, 10283000.0, 6194392000.0, 18479247000.0, 10536165750.0, 557813000.0),\n",
       " ('EVERSOURCE ENERGY', 'SJ7XXD41SQU3ZNWUJ746', 'es', '2020-01-01 00:00:00.000', '2020-12-31 00:00:00.000', 4911, 8904430000.0, 106599000.0, 15125876000.0, 46099598000.0, 28496151703.0, 1212686000.0),\n",
       " ('PATTERN ENERGY GROUP INC.', '549300YTEUCT3H1Y2T51', None, '2019-01-01 00:00:00.000', '2019-12-31 00:00:00.000', 4911, 541000000.0, 156000000.0, 3401000000.0, 7173000000.0, 2000000000.0, -31000000.0),\n",
       " ('AVANGRID, INC.', '549300OX0Q38NLSKPB49', 'agr', '2019-01-01 00:00:00.000', '2019-12-31 00:00:00.000', 4911, 6338000000.0, 178000000.0, 8168000000.0, 34416000000.0, 2836000000.0, 700000000.0),\n",
       " ('ENEL AMERICAS S.A.', '549300LKH11TFCJLZK20', None, '2020-01-01 00:00:00.000', '2020-12-31 00:00:00.000', 4911, 11238976000.0, 1506993000.0, None, 26933558000.0, None, 1181252000.0),\n",
       " ('ITC HOLDINGS CORP.', '549300HTO5U9D3SLE207', None, '2020-01-01 00:00:00.000', '2020-12-31 00:00:00.000', 4911, 1298000000.0, 4000000.0, 7119000000.0, 10825000000.0, None, 407000000.0),\n",
       " ('DTE ENERGY CO', '549300IX8SD6XXD71I78', 'dtb', '2020-01-01 00:00:00.000', '2020-12-31 00:00:00.000', 4911, 12177000000.0, 514000000.0, 19603000000.0, 45496000000.0, 20500000000.0, 1371000000.0),\n",
       " ('DTE ENERGY CO', '549300IX8SD6XXD71I78', 'dty', '2020-01-01 00:00:00.000', '2020-12-31 00:00:00.000', 4911, 12177000000.0, 514000000.0, 19603000000.0, 45496000000.0, 20500000000.0, 1371000000.0),\n",
       " ('DTE ENERGY CO', '549300IX8SD6XXD71I78', 'dte', '2020-01-01 00:00:00.000', '2020-12-31 00:00:00.000', 4911, 12177000000.0, 514000000.0, 19603000000.0, 45496000000.0, 20500000000.0, 1371000000.0),\n",
       " ('DTE ENERGY CO', '549300IX8SD6XXD71I78', 'dtp', '2020-01-01 00:00:00.000', '2020-12-31 00:00:00.000', 4911, 12177000000.0, 514000000.0, 19603000000.0, 45496000000.0, 20500000000.0, 1371000000.0),\n",
       " ('DTE ENERGY CO', '549300IX8SD6XXD71I78', 'dtw', '2020-01-01 00:00:00.000', '2020-12-31 00:00:00.000', 4911, 12177000000.0, 514000000.0, 19603000000.0, 45496000000.0, 20500000000.0, 1371000000.0),\n",
       " ('TUCSON ELECTRIC POWER CO', 'YLF139GXSRKPBBTNZL03', None, '2020-01-01 00:00:00.000', '2020-12-31 00:00:00.000', 4911, 1424741000.0, 60960000.0, 1814059000.0, 6090127000.0, None, None),\n",
       " ('PINNACLE WEST CAPITAL CORP', 'TWSEY0NEDUDCKS27AH81', 'pnw', '2020-01-01 00:00:00.000', '2020-12-31 00:00:00.000', 4911, 3586982000.0, 59968000.0, 7612841000.0, 20020421000.0, 8231813171.0, 570052000.0),\n",
       " ('VETANOVA INC.', None, 'vtna', '2020-01-01 00:00:00.000', '2020-12-31 00:00:00.000', 4911, 13125.0, None, None, 78913.0, 1524341.0, -6867799.0),\n",
       " ('NEXTERA ENERGY INC', 'UMI46YPGBLUE4VGNNT48', 'nee', '2020-01-01 00:00:00.000', '2020-12-31 00:00:00.000', 4911, 17997000000.0, 1105000000.0, 41944000000.0, 127684000000.0, 117405158883.0, 2919000000.0),\n",
       " ('ONCOR ELECTRIC DELIVERY CO LLC', '549300SP2X2BS1KERD24', None, '2020-01-01 00:00:00.000', '2020-12-31 00:00:00.000', 4911, 4511000000.0, 27000000.0, 9229000000.0, 29172000000.0, None, 713000000.0),\n",
       " ('TRI-STATE GENERATION & TRANSMISSION ASSOCIATION, INC.', '549300VDHNFNPADSSV98', None, '2019-01-01 00:00:00.000', '2019-12-31 00:00:00.000', 4911, 1385472000.0, 83070000.0, 3144906000.0, 5085818000.0, None, 49663000.0),\n",
       " ('PORTLAND GENERAL ELECTRIC CO', 'GJOUP9M7C39GLSK9R870', 'por', '2020-01-01 00:00:00.000', '2020-12-31 00:00:00.000', 4911, 2151000000.0, None, 3808000000.0, 9069000000.0, 3725882304.0, 155000000.0),\n",
       " ('ORMAT TECHNOLOGIES, INC.', '5493000TSHHWY24VHM09', 'ora', '2020-01-01 00:00:00.000', '2020-12-31 00:00:00.000', 4911, 705342000.0, 448252000.0, 1474174000.0, 3888987000.0, 2544589505.0, 101806000.0),\n",
       " ('EVERSOURCE ENERGY', 'SJ7XXD41SQU3ZNWUJ746', 'es', '2019-01-01 00:00:00.000', '2019-12-31 00:00:00.000', 4911, 8526470000.0, 15432000.0, 13770828000.0, 41123915000.0, 24486439602.0, 916572000.0),\n",
       " ('ALTERNUS ENERGY INC.', '254900ZKBK8Y5Z906E28', None, '2019-01-01 00:00:00.000', '2019-12-31 00:00:00.000', 4911, 2585568.0, 1076995.0, 36815082.0, 45613562.0, 17000000.0, -3028918.0),\n",
       " ('IPALCO ENTERPRISES, INC.', '5493000YFVK2DZX0JV43', None, '2019-01-01 00:00:00.000', '2019-12-31 00:00:00.000', 4911, 1481643000.0, 48152000.0, 2651629000.0, 4928669000.0, None, 132393000.0),\n",
       " ('KENON HOLDINGS LTD.', '254900N5LVBX92GMVN72', None, '2019-01-01 00:00:00.000', '2019-12-31 00:00:00.000', 4911, 373473000.0, 147153000.0, None, 1508374000.0, None, 2442000.0),\n",
       " ('ALGONQUIN POWER & UTILITIES CORP.', '549300K5VIUTJXQL7X75', None, '2019-01-01 00:00:00.000', '2019-12-31 00:00:00.000', 4911, 1624921000.0, 62485000.0, 6500799000.0, 10911470000.0, None, 530884000.0),\n",
       " ('TAMPA ELECTRIC CO', 'WS423EPRKJIIJUITXD73', None, '2020-01-01 00:00:00.000', '2020-12-31 00:00:00.000', 4911, 2272000000.0, 10000000.0, 2872000000.0, 11048000000.0, None, 424000000.0),\n",
       " ('ORMAT TECHNOLOGIES, INC.', '5493000TSHHWY24VHM09', 'ora', '2019-01-01 00:00:00.000', '2019-12-31 00:00:00.000', 4911, 746044000.0, 71173000.0, 1167912000.0, 3250494000.0, 2527613074.0, 93543000.0),\n",
       " ('CLEARWAY ENERGY LLC', '549300C841GHSUPKR373', None, '2019-01-01 00:00:00.000', '2019-12-31 00:00:00.000', 4911, 1032000000.0, 152000000.0, 6857000000.0, 9605000000.0, None, -30000000.0),\n",
       " ('BROOKFIELD RENEWABLE CORP', '5493004Z55BVGPEXTB75', None, '2020-01-01 00:00:00.000', '2020-12-31 00:00:00.000', 4911, 3087000000.0, 355000000.0, None, 39473000000.0, None, -2819000000.0),\n",
       " ('WISCONSIN ELECTRIC POWER CO', 'AENKIFMULUAWOUU8Q584', None, '2019-01-01 00:00:00.000', '2019-12-31 00:00:00.000', 4911, 3496700000.0, 19100000.0, 2759200000.0, 13360800000.0, None, None),\n",
       " ('AMERICAN ELECTRIC POWER CO INC', '1B4S6S7G0TW5EE83BO58', 'aeppz', '2019-01-01 00:00:00.000', '2019-12-31 00:00:00.000', 4911, 15561400000.0, 246800000.0, 30172000000.0, 75892300000.0, 43491855142.0, 1919800000.0),\n",
       " ('AMERICAN ELECTRIC POWER CO INC', '1B4S6S7G0TW5EE83BO58', 'aep', '2019-01-01 00:00:00.000', '2019-12-31 00:00:00.000', 4911, 15561400000.0, 246800000.0, 30172000000.0, 75892300000.0, 43491855142.0, 1919800000.0),\n",
       " ('AMERICAN ELECTRIC POWER CO INC', '1B4S6S7G0TW5EE83BO58', 'aeppl', '2019-01-01 00:00:00.000', '2019-12-31 00:00:00.000', 4911, 15561400000.0, 246800000.0, 30172000000.0, 75892300000.0, 43491855142.0, 1919800000.0),\n",
       " ('TERRAFORM POWER, INC.', '5493000S2OLR3UT5BE13', None, '2019-01-01 00:00:00.000', '2019-12-31 00:00:00.000', 4911, 941240000.0, 237480000.0, 6512188000.0, 10058636000.0, 1100000000.0, -194602000.0),\n",
       " ('OCEAN POWER TECHNOLOGIES, INC.', '529900PIW1SG4NP5E125', None, '2020-01-01 00:00:00.000', '2020-04-30 00:00:00.000', 4911, 1700000.0, 10002000.0, 1078000.0, 13538000.0, None, -10352000.0),\n",
       " ('TAMPA ELECTRIC CO', 'WS423EPRKJIIJUITXD73', None, '2019-01-01 00:00:00.000', '2019-12-31 00:00:00.000', 4911, 2404000000.0, 14000000.0, 2869000000.0, 10007000000.0, None, 370000000.0),\n",
       " ('VISTRA ENERGY CORP.', '549300KP43CPCUJOOG15', 'vst', '2019-01-01 00:00:00.000', '2019-12-31 00:00:00.000', 4911, 11809000000.0, 300000000.0, 10102000000.0, 26616000000.0, 8654325784.0, 928000000.0),\n",
       " ('OTTER TAIL CORP', '549300HHVBQRQUVKKD91', 'ottr', '2020-01-01 00:00:00.000', '2020-12-31 00:00:00.000', 4911, 890107000.0, 1163000.0, 845516000.0, 2578354000.0, 1546518975.0, 95851000.0),\n",
       " ('EDISON INTERNATIONAL', '549300I7ROF15MAEVP56', 'eix', '2019-01-01 00:00:00.000', '2019-12-31 00:00:00.000', 4911, 12347000000.0, 68000000.0, 20137000000.0, 64382000000.0, 22000000000.0, 1405000000.0),\n",
       " ('DOMINION ENERGY, INC', 'ILUL7B6Z54MRYCF6H308', 'dcue', '2020-01-01 00:00:00.000', '2020-12-31 00:00:00.000', 4911, 14172000000.0, 172000000.0, 33957000000.0, 95905000000.0, 68000000000.0, -401000000.0),\n",
       " ('DOMINION ENERGY, INC', 'ILUL7B6Z54MRYCF6H308', 'd', '2020-01-01 00:00:00.000', '2020-12-31 00:00:00.000', 4911, 14172000000.0, 172000000.0, 33957000000.0, 95905000000.0, 68000000000.0, -401000000.0),\n",
       " ('SKY SOLAR HOLDINGS, LTD.', '529900QQZXTF6RKEI142', None, '2019-01-01 00:00:00.000', '2019-12-31 00:00:00.000', 4911, 48948000.0, 11739000.0, None, 405354000.0, None, -42012000.0),\n",
       " ('PPL CORP', '9N3UAJSNOUXFKQLF3V18', 'ppl', '2019-01-01 00:00:00.000', '2019-12-31 00:00:00.000', 4911, 7769000000.0, 815000000.0, 21893000000.0, 45680000000.0, 22384264788.0, 1746000000.0),\n",
       " ('TENNESSEE VALLEY AUTHORITY', '549300HE1ISW43LNKM54', None, '2020-01-01 00:00:00.000', '2020-09-30 00:00:00.000', 4911, 10249000000.0, 500000000.0, 26630000000.0, 52825000000.0, None, 1352000000.0),\n",
       " ('AVANGRID, INC.', '549300OX0Q38NLSKPB49', 'agr', '2020-01-01 00:00:00.000', '2020-12-31 00:00:00.000', 4911, 6320000000.0, 1463000000.0, 12166000000.0, 37823000000.0, 2374000000.0, 581000000.0),\n",
       " ('OLD DOMINION ELECTRIC COOPERATIVE', 'SW4VC32Z0ZKLJKPONQ50', None, '2019-01-01 00:00:00.000', '2019-12-31 00:00:00.000', 4911, 932682000.0, 3469000.0, 1300100000.0, 2169244000.0, None, 17024000.0),\n",
       " ('PNM RESOURCES INC', '5493003JOBJGLZSDDQ28', 'pnm', '2019-01-01 00:00:00.000', '2019-12-31 00:00:00.000', 4911, 1457603000.0, 3833000.0, 2517449000.0, 7298774000.0, 4055165998.0, 92131000.0),\n",
       " ('BROOKFIELD RENEWABLE PARTNERS L.P.', 'VA8DFMRI2GY8Y7V79H93', None, '2019-01-01 00:00:00.000', '2019-12-31 00:00:00.000', 4911, 2980000000.0, 115000000.0, None, 35691000000.0, None, 273000000.0),\n",
       " ('BLACK HILLS CORP', '3MGELCRSTNSAMJ962671', 'bkh', '2020-01-01 00:00:00.000', '2020-12-31 00:00:00.000', 4911, 1696941000.0, 6356000.0, 3528100000.0, 8088786000.0, 3528768075.0, 242763000.0),\n",
       " ('SOUTHERN CO', '549300FC3G3YU2FBZD92', 'sojd', '2019-01-01 00:00:00.000', '2019-12-31 00:00:00.000', 4911, 21419000000.0, 1975000000.0, 41798000000.0, 118700000000.0, 57800000000.0, 4744000000.0),\n",
       " ('SOUTHERN CO', '549300FC3G3YU2FBZD92', 'soln', '2019-01-01 00:00:00.000', '2019-12-31 00:00:00.000', 4911, 21419000000.0, 1975000000.0, 41798000000.0, 118700000000.0, 57800000000.0, 4744000000.0),\n",
       " ('SOUTHERN CO', '549300FC3G3YU2FBZD92', 'so', '2019-01-01 00:00:00.000', '2019-12-31 00:00:00.000', 4911, 21419000000.0, 1975000000.0, 41798000000.0, 118700000000.0, 57800000000.0, 4744000000.0),\n",
       " ('SOUTHERN CO', '549300FC3G3YU2FBZD92', 'soje', '2019-01-01 00:00:00.000', '2019-12-31 00:00:00.000', 4911, 21419000000.0, 1975000000.0, 41798000000.0, 118700000000.0, 57800000000.0, 4744000000.0),\n",
       " ('SOUTHERN CO', '549300FC3G3YU2FBZD92', 'sojc', '2019-01-01 00:00:00.000', '2019-12-31 00:00:00.000', 4911, 21419000000.0, 1975000000.0, 41798000000.0, 118700000000.0, 57800000000.0, 4744000000.0),\n",
       " ('CLEARWAY ENERGY LLC', '549300C841GHSUPKR373', None, '2020-01-01 00:00:00.000', '2020-12-31 00:00:00.000', 4911, 1199000000.0, 268000000.0, 7043000000.0, 10488000000.0, None, 61000000.0),\n",
       " ('FIRSTENERGY CORP', '549300SVYJS666PQJH88', 'fe', '2019-01-01 00:00:00.000', '2019-12-31 00:00:00.000', 4911, 11035000000.0, 627000000.0, 19618000000.0, 42301000000.0, 22724895037.0, 912000000.0),\n",
       " ('AMERICAN ELECTRIC POWER CO INC', '1B4S6S7G0TW5EE83BO58', 'aeppl', '2020-01-01 00:00:00.000', '2020-12-31 00:00:00.000', 4911, 14918500000.0, 392700000.0, 37457000000.0, 80757200000.0, 39549558010.0, 2196700000.0),\n",
       " ('AMERICAN ELECTRIC POWER CO INC', '1B4S6S7G0TW5EE83BO58', 'aeppz', '2020-01-01 00:00:00.000', '2020-12-31 00:00:00.000', 4911, 14918500000.0, 392700000.0, 37457000000.0, 80757200000.0, 39549558010.0, 2196700000.0),\n",
       " ('AMERICAN ELECTRIC POWER CO INC', '1B4S6S7G0TW5EE83BO58', 'aep', '2020-01-01 00:00:00.000', '2020-12-31 00:00:00.000', 4911, 14918500000.0, 392700000.0, 37457000000.0, 80757200000.0, 39549558010.0, 2196700000.0),\n",
       " ('CENTERPOINT ENERGY INC', '21TPXMRRHFKOBHDC8J74', 'cnp', '2020-01-01 00:00:00.000', '2020-12-31 00:00:00.000', 4911, 7418000000.0, 147000000.0, 11521000000.0, 33471000000.0, 10142624694.0, -773000000.0),\n",
       " ('DTE ENERGY CO', '549300IX8SD6XXD71I78', 'dtw', '2019-01-01 00:00:00.000', '2019-12-31 00:00:00.000', 4911, 12669000000.0, 93000000.0, 16755000000.0, 41882000000.0, 23100000000.0, 1172000000.0),\n",
       " ('DTE ENERGY CO', '549300IX8SD6XXD71I78', 'dtp', '2019-01-01 00:00:00.000', '2019-12-31 00:00:00.000', 4911, 12669000000.0, 93000000.0, 16755000000.0, 41882000000.0, 23100000000.0, 1172000000.0),\n",
       " ('DTE ENERGY CO', '549300IX8SD6XXD71I78', 'dte', '2019-01-01 00:00:00.000', '2019-12-31 00:00:00.000', 4911, 12669000000.0, 93000000.0, 16755000000.0, 41882000000.0, 23100000000.0, 1172000000.0),\n",
       " ('DTE ENERGY CO', '549300IX8SD6XXD71I78', 'dtb', '2019-01-01 00:00:00.000', '2019-12-31 00:00:00.000', 4911, 12669000000.0, 93000000.0, 16755000000.0, 41882000000.0, 23100000000.0, 1172000000.0),\n",
       " ('DTE ENERGY CO', '549300IX8SD6XXD71I78', 'dty', '2019-01-01 00:00:00.000', '2019-12-31 00:00:00.000', 4911, 12669000000.0, 93000000.0, 16755000000.0, 41882000000.0, 23100000000.0, 1172000000.0),\n",
       " ('NRG ENERGY, INC.', '5E2UPK5SW04M13XY7I38', 'nrg', '2020-01-01 00:00:00.000', '2020-12-31 00:00:00.000', 4911, 9093000000.0, 3905000000.0, 8859000000.0, 14902000000.0, 6941658699.0, 510000000.0),\n",
       " ('DOMINION ENERGY, INC', 'ILUL7B6Z54MRYCF6H308', 'dcue', '2019-01-01 00:00:00.000', '2019-12-31 00:00:00.000', 4911, 16572000000.0, 166000000.0, 33824000000.0, 103823000000.0, 62000000000.0, 1376000000.0),\n",
       " ('DOMINION ENERGY, INC', 'ILUL7B6Z54MRYCF6H308', 'd', '2019-01-01 00:00:00.000', '2019-12-31 00:00:00.000', 4911, 16572000000.0, 166000000.0, 33824000000.0, 103823000000.0, 62000000000.0, 1376000000.0),\n",
       " ('BROOKFIELD RENEWABLE PARTNERS L.P.', 'VA8DFMRI2GY8Y7V79H93', None, '2020-01-01 00:00:00.000', '2020-12-31 00:00:00.000', 4911, 3810000000.0, 431000000.0, None, 49722000000.0, None, -45000000.0),\n",
       " ('CHUGACH ELECTRIC ASSOCIATION INC', None, None, '2019-01-01 00:00:00.000', '2019-12-31 00:00:00.000', 4911, 212516561.0, 7271820.0, 507388664.0, 834585271.0, None, 5119627.0),\n",
       " ('OGLETHORPE POWER CORP', '3EERXCUSWMS9GV5D9M98', None, '2019-01-01 00:00:00.000', '2019-12-31 00:00:00.000', 4911, 1430292000.0, 448612000.0, 10850101000.0, 12990113000.0, None, 54461000.0),\n",
       " ('HAWAIIAN ELECTRIC INDUSTRIES INC', 'JJ8FWOCWCV22X7GUPJ23', 'he', '2019-01-01 00:00:00.000', '2019-12-31 00:00:00.000', 4911, 2874601000.0, 196813000.0, 1964365000.0, 13745251000.0, 4745752027.0, 219772000.0),\n",
       " ('ENTERGY CORP', '4XM3TW50JULSLG8BNC79', 'etr', '2020-01-01 00:00:00.000', '2020-12-31 00:00:00.000', 4911, 10113636000.0, 1759099000.0, 24813818000.0, 58239212000.0, 18800000000.0, 1406653000.0),\n",
       " ('NEXTERA ENERGY PARTNERS, LP', '5493008F4ZOQFNG3WN54', 'nep', '2019-01-01 00:00:00.000', '2019-12-31 00:00:00.000', 4911, 855000000.0, 128000000.0, 4144000000.0, 12256000000.0, 2625980436.0, -88000000.0),\n",
       " ('HAWAIIAN ELECTRIC INDUSTRIES INC', 'JJ8FWOCWCV22X7GUPJ23', 'he', '2020-01-01 00:00:00.000', '2020-12-31 00:00:00.000', 4911, 2579775000.0, 341421000.0, 2119129000.0, 15004007000.0, 3937071331.0, 199714000.0),\n",
       " ('OCEAN POWER TECHNOLOGIES, INC.', '529900PIW1SG4NP5E125', None, '2021-01-01 00:00:00.000', '2021-04-30 00:00:00.000', 4911, 1206000.0, 83400000.0, 819000.0, 86377000.0, None, -14760000.0),\n",
       " ('ATLANTICA YIELD PLC', '549300ITBBGKJ651R879', None, '2019-01-01 00:00:00.000', '2019-12-31 00:00:00.000', 4911, 1011452000.0, 562795000.0, None, 9659815000.0, None, 74608000.0),\n",
       " ('EL PASO ELECTRIC CO', 'OZ8GM8L4AHPKSWZMW205', None, '2019-01-01 00:00:00.000', '2019-12-31 00:00:00.000', 4911, 861994000.0, 10818000.0, 1499751000.0, 3813200000.0, 2636107949.0, 123037000.0),\n",
       " ('OKLAHOMA GAS & ELECTRIC CO', '549300VJ8YXGPO8EV472', None, '2019-01-01 00:00:00.000', '2019-12-31 00:00:00.000', 4911, 2231600000.0, 0.0, 3195200000.0, 10076600000.0, None, 350200000.0)]"
      ]
     },
     "metadata": {},
     "output_type": "display_data"
    }
   ],
   "source": [
    "y = [x for x in l if x[5] == 4911]\n",
    "print(len(y))\n",
    "display(y)"
   ]
  },
  {
   "cell_type": "raw",
   "id": "01738587-c8db-4e3f-8946-e5e7b0572841",
   "metadata": {},
   "source": [
    "engine.execute(\"select * from sec_dera.sub where cik=1174169 and form='40-F'\").fetchall()"
   ]
  },
  {
   "cell_type": "raw",
   "id": "f6039398-97d0-4e57-a52d-c99f41da8717",
   "metadata": {},
   "source": [
    "engine.execute(\"select * from sec_dera.num as R where (R.adsh='0001174169-20-000018' or R.adsh='0001174169-21-000012') and tag='RevenueFromContractWithCustomerExcludingAssessedTax'\").fetchall()"
   ]
  },
  {
   "cell_type": "raw",
   "id": "d6e96d70-95bb-4d04-81a0-853fa1431117",
   "metadata": {},
   "source": [
    "engine.execute(\"select * from sec_dera.t_r where adsh='0001004315-21-000067' or adsh='0001004315-20-000053'\").fetchall()"
   ]
  },
  {
   "cell_type": "code",
   "execution_count": 16,
   "id": "77cb9245-858d-4d88-9202-677cb901b449",
   "metadata": {},
   "outputs": [
    {
     "name": "stdout",
     "output_type": "stream",
     "text": [
      "92\n"
     ]
    },
    {
     "data": {
      "text/plain": [
       "[('2NUNNB7D43COUIRE5295', 'AES Corp.', 'AES CORP', '2020-01-01', 9660000000.0),\n",
       " ('549300T12EZ1F6PWWU29', 'Alcoa Corp.', 'ALCOA CORP', '2020-01-01', 9286000000.0),\n",
       " ('549300K5VIUTJXQL7X75', 'Algonquin Power & Utilities Corp.', 'ALGONQUIN POWER & UTILITIES CORP.', '2020-01-01', 1677058000.0),\n",
       " ('549300NNLSIMY6Z8OT86', 'Allete, Inc.', 'ALLETE INC', '2020-01-01', 1169100000.0),\n",
       " ('5493009ML300G373MZ12', 'Alliant Energy', 'ALLIANT ENERGY CORP', '2020-01-01', 3416000000.0),\n",
       " ('XRZQ5S7HYJFPHJ78L959', 'Ameren Corp.', 'AMEREN CORP', '2020-01-01', 5794000000.0),\n",
       " ('1B4S6S7G0TW5EE83BO58', 'American Electric Power Co., Inc.', 'AMERICAN ELECTRIC POWER CO INC', '2020-01-01', 14918500000.0),\n",
       " ('529900L26LIS2V8PWM23', 'American States Water', 'AMERICAN STATES WATER CO', '2020-01-01', 488243000.0),\n",
       " ('2138004PVNAV1E9SZP35', 'Antin Infrastructure Partners', None, None, None),\n",
       " ('549300GW1DWMX7FLDM29', 'ArcLight Capital Partners LLC', None, None, None),\n",
       " ('549300OX0Q38NLSKPB49', 'Avangrid, Inc.', 'AVANGRID, INC.', '2020-01-01', 6320000000.0),\n",
       " ('Q0IK63NITJD6RJ47SW96', 'Avista Corp.', 'AVISTA CORP', '2020-01-01', 1321891000.0),\n",
       " ('CT4UIJ3TUKGYYHMENQ17', 'Balfour Beatty Infrastructure Partners, L.P.', None, None, None),\n",
       " ('5493002CLOJ5KYT5GB16', 'Basin Electric Power Coop.', None, None, None),\n",
       " ('5493000C01ZX7D35SD85', 'Berkshire Hathaway, Inc.', 'BERKSHIRE HATHAWAY INC', '2020-01-01', 245510000000.0),\n",
       " ('COQ1W8HBTZOC1ADPR143', 'Big Rivers Electric Corp.', None, None, None),\n",
       " ('3MGELCRSTNSAMJ962671', 'Black Hills Corp.', 'BLACK HILLS CORP', '2020-01-01', 1696941000.0),\n",
       " ('C6J3FGIWG6MBDGTE8F80', 'Brookfield Asset Management', 'BROOKFIELD ASSET MANAGEMENT INC.', '2020-01-01', 62752000000.0),\n",
       " ('549300VR7GQZV6W7OR57', 'Buckeye Power, Inc.', None, None, None),\n",
       " ('549300IA9XFBAGNIBW29', 'CMS Energy Corp.', 'CMS ENERGY CORP', '2020-01-01', 6680000000.0),\n",
       " ('8YQ2GSDWYZXO2EDN3511', 'California Independent System Operator Corp.', 'PG&E CORP', '2020-01-01', 18469000000.0),\n",
       " ('21TPXMRRHFKOBHDC8J74', 'CenterPoint Energy, Inc.', 'CENTERPOINT ENERGY INC', '2020-01-01', 7418000000.0),\n",
       " ('5493008ORX814MK1WM19', 'Citizens Corp.', None, None, None),\n",
       " ('549300I9GWXX4SYOE358', 'City of Holyoke', None, None, None),\n",
       " ('5493002H80P81B3HXL31', 'Cleco Corp.', 'CLECO CORPORATE HOLDINGS LLC', '2020-01-01', 1498146000.0),\n",
       " ('54930033SBW53OO8T749', 'Consolidated Edison, Inc.', 'CONSOLIDATED EDISON INC', '2020-01-01', 12246000000.0),\n",
       " ('549300SPFPI3X8V86Z21', 'Corning Natural Gas Holding Corp.', 'CORNING NATURAL GAS HOLDING CORP', '2020-01-01', 32385885.0),\n",
       " ('549300IX8SD6XXD71I78', 'DTE Energy', 'DTE ENERGY CO', '2020-01-01', 12177000000.0),\n",
       " ('ILUL7B6Z54MRYCF6H308', 'Dominion Energy', 'DOMINION ENERGY, INC', '2020-01-01', 14172000000.0),\n",
       " ('I1BZKREC126H0VB1BL91', 'Duke Energy Corp.', 'DUKE ENERGY CORP', '2020-01-01', 23868000000.0),\n",
       " ('549300I7ROF15MAEVP56', 'Edison International', 'EDISON INTERNATIONAL', '2020-01-01', 13578000000.0),\n",
       " ('NQZVQT2P5IUF2PGA1Q48', 'Emera Inc.', 'EMERA INC', '2020-01-01', 4283656688.371364),\n",
       " ('549300SULPFDEWWFVD15', 'Energir Inc.', None, None, None),\n",
       " ('4XM3TW50JULSLG8BNC79', 'Entergy Corp.', 'ENTERGY CORP', '2020-01-01', 10113636000.0),\n",
       " ('549300PGTHDQY6PSUI61', 'Evergy, Inc.', 'EVERGY, INC.', '2020-01-01', 4913400000.0),\n",
       " ('SJ7XXD41SQU3ZNWUJ746', 'Eversource Energy', 'EVERSOURCE ENERGY', '2020-01-01', 8904430000.0),\n",
       " ('3SOUA6IRML7435B56G12', 'Exelon Corp.', 'EXELON CORP', '2020-01-01', 33039000000.0),\n",
       " ('549300SVYJS666PQJH88', 'FirstEnergy Corp.', 'FIRSTENERGY CORP', '2020-01-01', 10790000000.0),\n",
       " ('549300MQYQ9Y065XPR71', 'Fortis, Inc.', 'FORTIS INC.', '2020-01-01', 6951411643.770094),\n",
       " ('549300IRDTHJQ1PVET45', 'Freeport-McMoRan, Inc.', 'FREEPORT-MCMORAN INC', '2020-01-01', 14198000000.0),\n",
       " ('549300ZCZ76HYCS0H445', 'Frontier Communications Corp.', 'FRONTIER COMMUNICATIONS CORP', '2020-01-01', 7155000000.0),\n",
       " ('5493007UJR2NMSZPGP02', 'Golden Spread Electric Coop., Inc', None, None, None),\n",
       " ('JJ8FWOCWCV22X7GUPJ23', 'Hawaiian Electric Industries, Inc.', 'HAWAIIAN ELECTRIC INDUSTRIES INC', '2020-01-01', 2579775000.0),\n",
       " ('UASVRYNXNK17ULIGK870', 'Hess Corp.', 'HESS CORP', '2020-01-01', 4804000000.0),\n",
       " ('N134NUJDWN8UEFA8B673', 'IDACORP, Inc.', 'IDACORP INC', '2020-01-01', 1350729000.0),\n",
       " ('549300FIA0OYFDEISW66', 'ISO New England Inc.', None, None, None),\n",
       " ('5QK37QC7NWOJ8D7WVQ45', 'Iberdrola, S.A.', None, None, None),\n",
       " ('549300NMCKSMDPKQ0502', 'Invenergy LLC', None, None, None),\n",
       " ('0T6SBMK3JTBI1JR36794', 'MDU Resources Group', 'MDU RESOURCES GROUP INC', '2020-01-01', 5532750000.0),\n",
       " ('549300QIEIVG0JUPV270', 'Midcontinent Independent System Operator, Inc', None, None, None),\n",
       " ('549300O4B5CVWMKUES27', 'Midwest Energy Inc.', 'MIDWEST ENERGY EMISSIONS CORP.', '2020-01-01', 8158448.0),\n",
       " ('549300XB5UQO7U766C18', 'Milliken & Co.', None, None, None),\n",
       " ('5E2UPK5SW04M13XY7I38', 'NRG Energy Inc.', 'NRG ENERGY, INC.', '2020-01-01', 9093000000.0),\n",
       " ('8R95QZMKZLJX5Q2XR704', 'National Grid plc', 'NATIONAL GRID PLC', '2020-01-01', 17981021141.975307),\n",
       " ('5493003TZVX6QJ0PBO15', 'New Hampshire Electric Coop., Inc.', None, None, None),\n",
       " ('5493004A26ERKLO7Y203', 'New York Independent System Operator', None, None, None),\n",
       " ('549300D8GOWWH0SJB189', 'NiSource Inc.', 'NISOURCE INC.', '2020-01-01', 4473200000.0),\n",
       " ('3BPWMBHR1R9SHUN7J795', 'NorthWestern Corp.', 'NORTHWESTERN CORP', '2020-01-01', 1206800000.0),\n",
       " ('CE5OG6JPOZMDSA0LAQ19', 'OGE Energy Corp.', 'OGE ENERGY CORP.', '2020-01-01', 2122300000.0),\n",
       " ('3EERXCUSWMS9GV5D9M98', 'Oglethorpe Power Corp.', 'OGLETHORPE POWER CORP', '2020-01-01', 1377618000.0),\n",
       " ('549300MA7EMERVYDHS24', 'Ohio Valley Electric Corp.', None, None, None),\n",
       " ('SW4VC32Z0ZKLJKPONQ50', 'Old Dominion Electric Coop.', 'OLD DOMINION ELECTRIC COOPERATIVE', '2020-01-01', 807704000.0),\n",
       " ('5299004YRCHMOU9FKK67', 'Omya AG', None, None, None),\n",
       " ('549300HHVBQRQUVKKD91', 'Otter Tail Corp.', 'OTTER TAIL CORP', '2020-01-01', 890107000.0),\n",
       " ('8YQ2GSDWYZXO2EDN3511', 'PG&E Corp.', 'PG&E CORP', '2020-01-01', 18469000000.0),\n",
       " ('549300M3VK6MP6R72034', 'PJM Interconnection, LLC', None, None, None),\n",
       " ('5493003JOBJGLZSDDQ28', 'PNM Resources, Inc.', 'PNM RESOURCES INC', '2020-01-01', 1523012000.0),\n",
       " ('9N3UAJSNOUXFKQLF3V18', 'PPL Corp.', 'PPL CORP', '2020-01-01', 7607000000.0),\n",
       " ('TWSEY0NEDUDCKS27AH81', 'Pinnacle West Capital Corp.', 'PINNACLE WEST CAPITAL CORP', '2020-01-01', 3586982000.0),\n",
       " ('GJOUP9M7C39GLSK9R870', 'Portland General Electric Co.', 'PORTLAND GENERAL ELECTRIC CO', '2020-01-01', 2151000000.0),\n",
       " ('XC5Z0IVHFCJDWCPZL176', 'Prairie Power, Inc.', None, None, None),\n",
       " ('PUSS41EMO3E6XXNV3U28', 'Public Service Enterprise Group', 'PUBLIC SERVICE ENTERPRISE GROUP INC', '2020-01-01', 9603000000.0),\n",
       " ('549300NIHMHEL3T1QQ97', 'Rayburn Country Electric Coop., Inc.', None, None, None),\n",
       " ('PBBKGKLRK5S5C0Y4T545', 'Sempra Energy', 'SEMPRA ENERGY', '2020-01-01', 11370000000.0),\n",
       " ('549300FC3G3YU2FBZD92', 'Southern Co.', 'SOUTHERN CO', '2020-01-01', 21097000000.0),\n",
       " ('DBBJWDBO6IRU2GBUJI29', 'Southern Maryland Electric Coop.', None, None, None),\n",
       " ('549300NXXWJMFXIKNU79', 'Southwest Power Pool, Inc.', None, None, None),\n",
       " ('549300X6CK46NKF0S683', 'Startrans IO, LLC', None, None, None),\n",
       " ('549300UGKOFV2IWJJG27', 'TC Energy Corp.', 'TC ENERGY CORP', '2020-01-01', 10113195294.613033),\n",
       " ('549300VDHNFNPADSSV98', 'Tri-State Generation & Transmission Association, Inc.', 'TRI-STATE GENERATION & TRANSMISSION ASSOCIATION, INC.', '2020-01-01', 1352295000.0),\n",
       " ('DX6GCWD4Q1JO9CRE5I40', 'UGI Corp.', 'UGI CORP', '2020-01-01', 6559000000.0),\n",
       " ('8945004QAHNC2OHL6926', 'United Power, Inc.', None, None, None),\n",
       " ('549300N8FFURNHL5YM93', 'Valley Electric Association, Inc.', None, None, None),\n",
       " ('549300GNSLQRYVBRRM43', 'Vermont Electric Coop., Inc.', None, None, None),\n",
       " ('54930086XT4IMGTLYZ86', 'Vermont Electric Power Co., Inc.', None, None, None),\n",
       " ('549300FODXCTQ8DGT594', 'Verso Corp.', 'VERSO CORP', '2020-01-01', 1359000000.0),\n",
       " ('549300KP43CPCUJOOG15', 'Vistra Corp.', 'VISTRA CORP.', '2020-01-01', 11443000000.0),\n",
       " ('549300IGLYTZUK3PVP70', 'WEC Energy Group', 'WEC ENERGY GROUP, INC.', '2020-01-01', 7241700000.0),\n",
       " ('VR27ZYPWHGW7Z1BM8Y69', 'Wabash Valley Power Assn, Inc', None, None, None),\n",
       " ('549300ROWOIV5X5MB591', 'Wolverine Power Supply Coop.', None, None, None),\n",
       " ('LGJNMI9GH8XIDG5RCM61', 'Xcel Energy, Inc.', 'XCEL ENERGY INC', '2020-01-01', 11526000000.0),\n",
       " ('549300467K0TD2Z50713', 'York Haven Power Co.', None, None, None)]"
      ]
     },
     "metadata": {},
     "output_type": "display_data"
    }
   ],
   "source": [
    "l = engine.execute(\"\"\"\n",
    "select A.lei, A.parent_name, R.name, date_format(R.fy, '%Y-%m-%d'), R.revenue_usd\n",
    "from (select coalesce(G.ultimate_parent_issuer_lei,U.parent_lei) as lei, U.parent_name\n",
    "      from rmi_20211120.utility_information as U left join gleif_mdt.gleif_direct_issuer_ultimate_issuer as G on U.parent_lei=G.direct_issuer_lei\n",
    "      group by coalesce(G.ultimate_parent_issuer_lei,U.parent_lei), U.parent_name) as A\n",
    "     left join sec_dera.t_r as R on A.lei=R.lei\n",
    "where A.lei is not null\n",
    "      and (R.lei is null or year(R.fy)=2020)\n",
    "order by A.parent_name\n",
    "\"\"\").fetchall()\n",
    "\n",
    "print(len(l))\n",
    "display(l)"
   ]
  },
  {
   "cell_type": "code",
   "execution_count": 17,
   "id": "53ac74c4-d86d-40c9-b9ff-fc9165f7eb8e",
   "metadata": {
    "tags": []
   },
   "outputs": [
    {
     "ename": "SyntaxError",
     "evalue": "invalid syntax (<ipython-input-17-8c726f94684c>, line 1)",
     "output_type": "error",
     "traceback": [
      "\u001b[0;36m  File \u001b[0;32m\"<ipython-input-17-8c726f94684c>\"\u001b[0;36m, line \u001b[0;32m1\u001b[0m\n\u001b[0;31m    stop!\u001b[0m\n\u001b[0m        ^\u001b[0m\n\u001b[0;31mSyntaxError\u001b[0m\u001b[0;31m:\u001b[0m invalid syntax\n"
     ]
    }
   ],
   "source": [
    "stop!"
   ]
  },
  {
   "cell_type": "code",
   "execution_count": null,
   "id": "5e948dd8-4163-4e45-b009-e21c47302b36",
   "metadata": {},
   "outputs": [],
   "source": [
    "engine.execute(\"select count (*) from (select distinct(lei) from sec_dera.sub)\").fetchall()"
   ]
  },
  {
   "cell_type": "code",
   "execution_count": null,
   "id": "78185bbe-9151-4278-b985-f9a5022d5785",
   "metadata": {},
   "outputs": [],
   "source": [
    "qres = engine.execute(\"\"\"\n",
    "explain analyze\n",
    "select R.name, R.lei, R.tname, R.fy, R.sic, revenue, cash -- , debt --, assets, market_cap\n",
    "from sec_dera.fy_revenue_by_lei as R\n",
    "     join sec_dera.cash_by_lei as C on R.name=C.name and R.fy=C.fy\n",
    "     -- join sec_dera.debt_by_lei as D on R.name=D.name and R.fy=D.fy\n",
    "     -- join sec_dera.assets_by_lei as A on R.name=A.name and R.fy=A.fy\n",
    "     -- join sec_dera.float_by_lei as F on R.name=F.name and R.fy=F.fy\n",
    "\"\"\")\n",
    "l = qres.fetchall()"
   ]
  },
  {
   "cell_type": "code",
   "execution_count": null,
   "id": "f0375b49-82a3-49af-a93f-7f1227c8e800",
   "metadata": {},
   "outputs": [],
   "source": [
    "qres = engine.execute(\"\"\"\n",
    "explain analyze\n",
    "select R.name, R.lei, R.tname, R.fy, R.sic, revenue,\n",
    "    -- cash,\n",
    "    debt,\n",
    "    -- assets,\n",
    "    market_cap\n",
    "from sec_dera.fy_revenue_by_lei as R\n",
    "     -- join sec_dera.cash_by_lei as C on R.name=C.name and R.fy=C.fy\n",
    "     join sec_dera.debt_by_lei as D on R.name=D.name and R.fy=D.fy\n",
    "     -- join sec_dera.assets_by_lei as A on R.name=A.name and R.fy=A.fy\n",
    "     join sec_dera.float_by_lei as F on R.name=F.name and R.fy=F.fy\n",
    "\"\"\")\n",
    "l = qres.fetchall()"
   ]
  }
 ],
 "metadata": {
  "kernelspec": {
   "display_name": "Python 3",
   "language": "python",
   "name": "python3"
  },
  "language_info": {
   "codemirror_mode": {
    "name": "ipython",
    "version": 3
   },
   "file_extension": ".py",
   "mimetype": "text/x-python",
   "name": "python",
   "nbconvert_exporter": "python",
   "pygments_lexer": "ipython3",
   "version": "3.8.3"
  }
 },
 "nbformat": 4,
 "nbformat_minor": 5
}
